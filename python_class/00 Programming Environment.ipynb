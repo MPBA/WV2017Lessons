{
 "cells": [
  {
   "cell_type": "markdown",
   "metadata": {},
   "source": [
    "# Programming Environment\n",
    "\n",
    "Your \"programming environment\" is the computer you do your work on, and all the software that is installed on your computer that helps you write and run programs. Some systems are better for programming than others, but the best system to learn on is probably the one you are using right now. This section will help you get a system set up that will let you start writing programs quickly."
   ]
  },
  {
   "cell_type": "markdown",
   "metadata": {},
   "source": [
    "<a name='overview'></a>Overview\n",
    "===\n",
    "Our goal is to help you get Python up and running on your computer, so that you can write and run your own programs. To do this, we want to:\n",
    "\n",
    "- Find out if Python is already installed on your computer.\n",
    "- Install Python, if it is not already installed.\n",
    "\n",
    "----\n"
   ]
  },
  {
   "cell_type": "markdown",
   "metadata": {},
   "source": [
    "# Disclaimer\n",
    "\n",
    "If you already have a working Python installation, please feel free to skip this notebook."
   ]
  },
  {
   "cell_type": "markdown",
   "metadata": {},
   "source": [
    "# Anaconda Python Distribution\n",
    "\n",
    "We use **Python 3.5** included in the [**Anaconda**](https://store.continuum.io/cshop/anaconda/) distribution by \n",
    "[**Continuum Analytics**](http://www.continuum.io/).\n",
    "\n",
    "Anaconda is a completely free enterprise-ready Python distribution for large-scale data processing, predictive analytics, and scientific computing. \n",
    "\n",
    "Apart from that, Anaconda ships with easy-to-use installers for almost every platform, that wuold drastically reduce the \n",
    "burden of setting up the environment (exp. on [Windows](http://continuum.io/downloads#34))"
   ]
  },
  {
   "cell_type": "markdown",
   "metadata": {},
   "source": [
    "## Quick Start Guide\n",
    "\n",
    "If you've installed **Anaconda** but you don't know what do then, please take a look at the [Quick Start Guide](https://store.continuum.io/static/img/Anaconda-Quickstart.pdf)"
   ]
  },
  {
   "cell_type": "markdown",
   "metadata": {},
   "source": [
    "## Standard or System Python Distributions\n",
    "\n",
    "If you would like to install more \"classical\" Python distributions (e.g., those available on the \n",
    "[`python.org`](https://www.python.org/downloads/) web site), please take a look at this notebook:\n",
    "\n",
    "\n",
    "[Programming Environment](http://nbviewer.ipython.org/urls/raw.github.com/ehmatthes/intro_programming/master/notebooks/programming_environment.ipynb)"
   ]
  }
 ],
 "metadata": {
  "anaconda-cloud": {},
  "kernelspec": {
   "display_name": "Python [default]",
   "language": "python",
   "name": "python3"
  },
  "language_info": {
   "codemirror_mode": {
    "name": "ipython",
    "version": 3
   },
   "file_extension": ".py",
   "mimetype": "text/x-python",
   "name": "python",
   "nbconvert_exporter": "python",
   "pygments_lexer": "ipython3",
   "version": "3.5.3"
  }
 },
 "nbformat": 4,
 "nbformat_minor": 1
}
