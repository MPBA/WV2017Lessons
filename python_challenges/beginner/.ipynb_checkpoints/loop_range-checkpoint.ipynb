{
 "cells": [
  {
   "cell_type": "markdown",
   "metadata": {},
   "source": [
    "## LOOPS AND RANGE\n",
    "\n",
    "There are two types of loop in Python:\n",
    "    - the for loop \n",
    "    - the while loop\n",
    "\n",
    "This simple for loop example would write \"hello world\" 5 times:\n",
    "```python\n",
    ">>> for counter in range(5):\n",
    "...     print(\"hello world\")\n",
    "hello world\n",
    "hello world\n",
    "hello world\n",
    "hello world\n",
    "hello world\n",
    "```\n",
    "\n",
    "This simple while loop example would write \"hello world\" 5 times:\n",
    "\n",
    "```python\n",
    ">>> i = 0\n",
    ">>> while (i<5):\n",
    "...     print(\"hello world\")\n",
    "...     i +=1\n",
    "hello world\n",
    "hello world\n",
    "hello world\n",
    "hello world\n",
    "hello world\n",
    "```\n",
    "\n",
    "The for loop is used to repeat a series of statements a given number of times. The first line of the for statement is \n",
    "used to state how many times the code should be repeated. A stepper variable is used to count through each iteration of \n",
    "the loop.\n",
    "\n",
    "\n",
    "The range function\n",
    "The range() function is one of Python's built in functions. It is is used to indicate how many times the loop will be \n",
    "repeated.\n",
    "\n",
    "The structure of the range function is range(start, upto, step) in which the arguments of range are used as follows:\n",
    "\n",
    "    - start and step are both optional.\n",
    "    - upto must always be there, it means \"up to but not including\" the value.\n",
    "    - start, upto, and step must all be integers\n",
    "\n",
    "Examples: of the use of range:\n",
    "    - range(10) produces the range object: [0,1,2,3,4,5,6,7,8,9]\n",
    "    - range1, 7) produces the range object: [1,2,3,4,5,6]\n",
    "    - range(0, 30, 5) produces range object: [0,5,10,15,20,25]\n",
    "    - range(5, -1, -1) produces range object: [5,4,3,2,1,0]"
   ]
  },
  {
   "cell_type": "markdown",
   "metadata": {},
   "source": [
    "## EXERCISE 1\n",
    "Given a message and the number of times they want that message displayed, write a program that print the message \n",
    "(with the iteration number by side) that number of times. Write it with forloop and with a whileloop.\n",
    "Hint: read the enumerate built-in function in python3 docs."
   ]
  },
  {
   "cell_type": "code",
   "execution_count": null,
   "metadata": {
    "collapsed": true
   },
   "outputs": [],
   "source": []
  },
  {
   "cell_type": "markdown",
   "metadata": {},
   "source": [
    "## EXERCISE 2\n",
    "Write a program that will calculate the sum of a range of n numbers. For example for n=5, result must be 15\n",
    "\n",
    "Hint: read the range built-in function in python3 docs."
   ]
  },
  {
   "cell_type": "markdown",
   "metadata": {},
   "source": []
  }
 ],
 "metadata": {
  "anaconda-cloud": {},
  "kernelspec": {
   "display_name": "Python [default]",
   "language": "python",
   "name": "python3"
  },
  "language_info": {
   "codemirror_mode": {
    "name": "ipython",
    "version": 3
   },
   "file_extension": ".py",
   "mimetype": "text/x-python",
   "name": "python",
   "nbconvert_exporter": "python",
   "pygments_lexer": "ipython3",
   "version": "3.5.2"
  }
 },
 "nbformat": 4,
 "nbformat_minor": 1
}
