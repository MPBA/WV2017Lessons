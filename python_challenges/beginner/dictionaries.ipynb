{
 "cells": [
  {
   "cell_type": "markdown",
   "metadata": {},
   "source": [
    "## DICTIONARIES\n",
    "A dictionary is like a list, but more general. In a list, the indices have to be integers; in a dictionary they can be \n",
    "(almost) any type. You can think of a dictionary as a mapping between a set of indices (which are called keys) and a set\n",
    "of values. Each key maps to a value. The association of a key and a value is called a key-value pair or sometimes an \n",
    "item.\n",
    "As an example, we’ll build a dictionary that maps from English to Spanish words, so the keys and the values are all \n",
    "strings.\n",
    "The function dict creates a new dictionary with no items. Because dict is the name of a built-in function, you should \n",
    "avoid using it as a variable name.\n",
    "```python\n",
    ">>> eng2sp = dict()\n",
    ">>> print(eng2sp)\n",
    "{}\n",
    "```\n",
    "The squiggly-brackets, {}, represent an empty dictionary. To add items to the dictionary, you can use square brackets:\n",
    "```python\n",
    ">>> eng2sp['one'] = 'uno'\n",
    "```\n",
    "This line creates an item that maps from the key ’one’ to the value 'uno'. If we print the dictionary again, we see a \n",
    "key-value pair with a colon between the key and value:\n",
    "```python\n",
    ">>> print(eng2sp)\n",
    "{'one': 'uno'}\n",
    "```\n",
    "This output format is also an input format. For example, you can create a new dictionary with three items:\n",
    "```python\n",
    ">>> eng2sp = {'one': 'uno', 'two': 'dos', 'three': 'tres'} \n",
    "```\n",
    "But if you print eng2sp, you might be surprised:\n",
    "```python\n",
    "print(eng2sp)\n",
    "{'one': 'uno', 'three': 'tres', 'two': 'dos'}\n",
    "```\n",
    "The order of the key-value pairs is not the same. In fact, if you type the same example on your computer, you might get\n",
    "a different result. In general, the order of items in a dictionary is unpredictable.\n",
    "\n",
    "But that’s not a problem because the elements of a dictionary are never indexed with integer indices. Instead, you use \n",
    "the keys to look up the corresponding values:\n",
    "```python\n",
    ">>> print(eng2sp['two'])\n",
    "dos\n",
    "```\n",
    "The key ’two’ always maps to the value 'dos' so the order of the items doesn’t matter. If the key isn’t in the \n",
    "dictionary, you get an exception:\n",
    "```python\n",
    ">>> print(eng2sp['four'])\n",
    "Traceback (most recent call last):\n",
    "  File \"<stdin>\", line 1, in <module>\n",
    "KeyError: 'four'\n",
    "```"
   ]
  },
  {
   "cell_type": "markdown",
   "metadata": {},
   "source": [
    "## EXERCISE 1\n",
    "Given the following dictionary:\n",
    "```python\n",
    "inventory = {\n",
    "    'gold' : 500,\n",
    "    'pouch' : ['flint', 'twine', 'gemstone'],\n",
    "    'backpack' : ['xylophone','dagger', 'bedroll','bread loaf']\n",
    "}\n",
    "```\n",
    "Try to do the followings:\n",
    "\n",
    "- Add a key to inventory called 'pocket'.\n",
    "- Set the value of 'pocket' to be a list consisting of the strings 'seashell', 'strange berry', and 'lint'.\n",
    "- sort() the items in the list stored under the 'backpack' key.\n",
    "- Then .remove('dagger') from the list of items stored under the 'backpack' key.\n",
    "- Add 50 to the number stored under the 'gold' key."
   ]
  },
  {
   "cell_type": "code",
   "execution_count": null,
   "metadata": {
    "collapsed": true
   },
   "outputs": [],
   "source": []
  },
  {
   "cell_type": "markdown",
   "metadata": {},
   "source": [
    "## EXERCISE 2\n",
    "Create 2 new dictionaries called 'prices' and 'stock' using {} format with this values:\n",
    "\n",
    "    --prices--\n",
    "    \"banana\": 4,\n",
    "    \"apple\": 2,\n",
    "    \"orange\": 1.5,\n",
    "    \"pear\": 3\n",
    "\n",
    "    --stock--\n",
    "    \"banana\": 6,\n",
    "    \"apple\": 7,\n",
    "    \"orange\": 1,\n",
    "    \"pear\": 3\n",
    "\n",
    "-  Loop through each key in prices. For each key, print out the key along with its price and stock information. \n",
    "   Print the answer in the following format:\n",
    "        apple\n",
    "        price: 2\n",
    "        stock: 0\n",
    "\n",
    "- Let's determine how much money you would make if you sold all of your food:\n",
    "    - Create a variable called total and set it to zero.\n",
    "    - Loop through the prices dictionaries. For each key in prices, multiply the number in prices by the number in \n",
    "      stock. Print that value into the console and then add it to total.\n",
    "    - Finally, outside your loop, print total."
   ]
  },
  {
   "cell_type": "code",
   "execution_count": null,
   "metadata": {
    "collapsed": true
   },
   "outputs": [],
   "source": []
  }
 ],
 "metadata": {
  "kernelspec": {
   "display_name": "Python [default]",
   "language": "python",
   "name": "python3"
  },
  "language_info": {
   "codemirror_mode": {
    "name": "ipython",
    "version": 3
   },
   "file_extension": ".py",
   "mimetype": "text/x-python",
   "name": "python",
   "nbconvert_exporter": "python",
   "pygments_lexer": "ipython3",
   "version": "3.5.2"
  }
 },
 "nbformat": 4,
 "nbformat_minor": 1
}
