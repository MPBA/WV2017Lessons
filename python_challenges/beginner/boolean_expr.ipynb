{
 "cells": [
  {
   "cell_type": "markdown",
   "metadata": {},
   "source": [
    "## BOOLEAN EXPRESSIONS\n",
    "A Boolean expression is an expression that is either true or false. The following \n",
    "examples use the operator ==, which compares two operands and produces True if \n",
    "they are equal and False otherwise:\n",
    "```python\n",
    ">>> 5 == 5\n",
    "True\n",
    ">>> 5 == 6\n",
    "False\n",
    ">>> 6 < 7\n",
    "True\n",
    ">>> 8 <= 2\n",
    "False\n",
    "```\n",
    "The == operator is one of the relational operators; the others are:\n",
    "    x!=y    # x is not equal to y\n",
    "    x>y     # x is greater than y\n",
    "    x<y     # x is less than y\n",
    "    x>=y    # x is greater than or equal to y \n",
    "    x<=y    # x is less than or equal to y\n",
    "\n",
    "HINT:\n",
    "    - in python u have the elif statement that is an abbreviation of \"else if\""
   ]
  },
  {
   "cell_type": "markdown",
   "metadata": {},
   "source": [
    "## EXERCISE 1\n",
    "Given vars a and b float, print \"a > b\" if a greater than b else print \"a <= b\" if b is greater than or equal to a."
   ]
  },
  {
   "cell_type": "code",
   "execution_count": null,
   "metadata": {
    "collapsed": true
   },
   "outputs": [],
   "source": []
  },
  {
   "cell_type": "markdown",
   "metadata": {},
   "source": [
    "## EXERCISE 2\n",
    "Given two strings ***'banana', 'watermelon'*** check which word has the major number of characters.\n",
    "\n",
    "Hint: len(str) is a python function that return the string length"
   ]
  },
  {
   "cell_type": "code",
   "execution_count": null,
   "metadata": {
    "collapsed": true
   },
   "outputs": [],
   "source": []
  }
 ],
 "metadata": {
  "anaconda-cloud": {},
  "kernelspec": {
   "display_name": "Python [default]",
   "language": "python",
   "name": "python3"
  },
  "language_info": {
   "codemirror_mode": {
    "name": "ipython",
    "version": 3
   },
   "file_extension": ".py",
   "mimetype": "text/x-python",
   "name": "python",
   "nbconvert_exporter": "python",
   "pygments_lexer": "ipython3",
   "version": "3.5.2"
  }
 },
 "nbformat": 4,
 "nbformat_minor": 1
}
