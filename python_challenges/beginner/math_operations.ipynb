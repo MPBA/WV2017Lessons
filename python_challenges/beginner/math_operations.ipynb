{
 "cells": [
  {
   "cell_type": "markdown",
   "metadata": {},
   "source": [
    "## MATH OPERATIONS\n",
    "Python arithmetic operators:\n",
    " + Addition\n",
    " - Subtraction\n",
    " * Product\n",
    " / Division\n",
    " % Modulus\n",
    " ** Exponent\n",
    " // Floor division\n",
    "\n",
    "```python\n",
    ">>> 4/2\n",
    "2.0\n",
    ">>> 23**2  # Syntax for 23^2 \n",
    "529\n",
    "```"
   ]
  },
  {
   "cell_type": "markdown",
   "metadata": {},
   "source": [
    "## EXERCISE 1"
   ]
  },
  {
   "cell_type": "markdown",
   "metadata": {},
   "source": [
    "If you run a 10 kilometer race in 43 minutes 30 seconds, what is your average time per mile?\n",
    "What is your average speed in miles per hour? \n",
    "Hints: \n",
    "  - there are 1.61 kilometers in a mile;\n",
    "  - convert time in seconds ... and then reconvert to the unit you need;\n",
    "  - speed = distance/time"
   ]
  },
  {
   "cell_type": "code",
   "execution_count": null,
   "metadata": {
    "collapsed": true
   },
   "outputs": [],
   "source": []
  },
  {
   "cell_type": "markdown",
   "metadata": {},
   "source": [
    "## EXERCISE 2"
   ]
  },
  {
   "cell_type": "markdown",
   "metadata": {},
   "source": [
    "Use Python to calculate the area of a circle r = 12.3. \n",
    "\n",
    "**Hints**: \n",
    "\n",
    "from math import pi"
   ]
  },
  {
   "cell_type": "code",
   "execution_count": null,
   "metadata": {
    "collapsed": true
   },
   "outputs": [],
   "source": []
  }
 ],
 "metadata": {
  "anaconda-cloud": {},
  "kernelspec": {
   "display_name": "Python [default]",
   "language": "python",
   "name": "python3"
  },
  "language_info": {
   "codemirror_mode": {
    "name": "ipython",
    "version": 3
   },
   "file_extension": ".py",
   "mimetype": "text/x-python",
   "name": "python",
   "nbconvert_exporter": "python",
   "pygments_lexer": "ipython3",
   "version": "3.5.2"
  }
 },
 "nbformat": 4,
 "nbformat_minor": 1
}
