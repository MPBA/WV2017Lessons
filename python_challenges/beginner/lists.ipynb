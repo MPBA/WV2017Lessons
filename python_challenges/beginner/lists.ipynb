{
 "cells": [
  {
   "cell_type": "markdown",
   "metadata": {},
   "source": [
    "## LISTS\n",
    "Like a string, a list is a sequence of values. In a string, the values are characters; in a list, they can be any type. \n",
    "The values in a list are called elements or sometimes items.\n",
    "\n",
    "There are several ways to create a new list; the simplest is to enclose the elements in square brackets ([ and ]):\n",
    "    [10, 20, 30, 40]\n",
    "    ['crunchy frog', 'ram bladder', 'lark vomit']\n",
    "\n",
    "The first example is a list of four integers. The second is a list of three strings. The elements of a list don't have \n",
    "to be the same type. The following list contains a string, a float, an integer, and (lo!) another list:\n",
    "['spam', 2.0, 5, [10, 20]]\n",
    "\n",
    "A list within another list is nested.\n",
    "\n",
    "A list that contains no elements is called an empty list; you can create one with empty brackets, [].\n",
    "\n",
    "As you might expect, you can assign list values to variables:\n",
    "```python\n",
    ">>> cheeses = ['Cheddar', 'Edam', 'Gouda']\n",
    ">>> numbers = [17, 123]\n",
    ">>> empty = []\n",
    ">>> print(cheeses, numbers, empty)\n",
    "['Cheddar', 'Edam', 'Gouda'] [17, 123] []\n",
    "```\n",
    "List Slices\n",
    "The slice operator also works on lists:\n",
    "\n",
    "```python\n",
    ">>> t = ['a', 'b', 'c', 'd', 'e', 'f']\n",
    ">>> t[1:3]\n",
    "['b', 'c']\n",
    ">>> t[:4]\n",
    "['a', 'b', 'c', 'd']\n",
    ">>> t[3:]\n",
    "['d', 'e', 'f']\n",
    "```\n",
    "\n",
    "If you omit the first index, the slice starts at the beginning. If you omit the second, the slice goes to the end. So \n",
    "if you omit both, the slice is a copy of the whole list.\n",
    "\n",
    "```python\n",
    ">>> t[:]\n",
    "['a', 'b', 'c', 'd', 'e', 'f']\n",
    "```\n",
    "Since lists are mutable, it is often useful to make a copy before performing operations that fold, spindle or mutilate \n",
    "lists. A slice operator on the left side of an assignment can update multiple elements:\n",
    "```python\n",
    ">>> t = ['a', 'b', 'c', 'd', 'e', 'f']\n",
    ">>> t[1:3] = ['x', 'y']\n",
    ">>> print(t)\n",
    "['a', 'x', 'y', 'd', 'e', 'f']\n",
    "```"
   ]
  },
  {
   "cell_type": "markdown",
   "metadata": {},
   "source": [
    "## EXERCISE 1\n",
    "From the list ['physics', 'chemistry', 'math', 'Science', 2006, 1999, 1997, 2000], remove the last two elements, \n",
    "than capitalize all the string elements of the list."
   ]
  },
  {
   "cell_type": "code",
   "execution_count": null,
   "metadata": {
    "collapsed": true
   },
   "outputs": [],
   "source": []
  },
  {
   "cell_type": "markdown",
   "metadata": {},
   "source": [
    "## EXERCISE 2\n",
    "Write a program to get the largest number from a list."
   ]
  },
  {
   "cell_type": "code",
   "execution_count": null,
   "metadata": {
    "collapsed": true
   },
   "outputs": [],
   "source": []
  },
  {
   "cell_type": "markdown",
   "metadata": {},
   "source": [
    "## EXERCISE 3\n",
    "Write a Python program to count the number of strings where the string length is 2 or more and the first and last \n",
    "character are same from a given list of strings. \n",
    "Sample List : ['abc', 'xyz', 'aba', '1221']\n",
    "Expected Result : 2"
   ]
  },
  {
   "cell_type": "code",
   "execution_count": null,
   "metadata": {
    "collapsed": true
   },
   "outputs": [],
   "source": []
  },
  {
   "cell_type": "markdown",
   "metadata": {},
   "source": [
    "## EXERCISE 4\n",
    "Given a list of numbers print the cumulative sum; that is, a new list where the ith \n",
    "element is the sum of the first i+1 elements from the original list. For example, the cumulative sum of [1, 2, 3] \n",
    "is [1, 3, 6]. \n",
    "\n",
    "Hint: .append method on a list add an element in it.\n"
   ]
  },
  {
   "cell_type": "code",
   "execution_count": null,
   "metadata": {
    "collapsed": true
   },
   "outputs": [],
   "source": []
  }
 ],
 "metadata": {
  "anaconda-cloud": {},
  "kernelspec": {
   "display_name": "Python [default]",
   "language": "python",
   "name": "python3"
  },
  "language_info": {
   "codemirror_mode": {
    "name": "ipython",
    "version": 3
   },
   "file_extension": ".py",
   "mimetype": "text/x-python",
   "name": "python",
   "nbconvert_exporter": "python",
   "pygments_lexer": "ipython3",
   "version": "3.5.2"
  }
 },
 "nbformat": 4,
 "nbformat_minor": 1
}
