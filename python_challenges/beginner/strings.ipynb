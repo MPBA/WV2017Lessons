{
 "cells": [
  {
   "cell_type": "markdown",
   "metadata": {},
   "source": [
    "## STRINGS\n",
    "A string is a sequence of characters. You can access the characters one at a time with the bracket operator:\n",
    "```python\n",
    ">>> fruit = 'banana'\n",
    ">>> letter = fruit[1]\n",
    "```\n",
    "The second statement selects character number 1 from fruit and assigns it to letter. The expression in brackets is \n",
    "called an index. The index indicates which character inthe sequence you want (hence the name). But you might not get \n",
    "what you expect:\n",
    "```python\n",
    ">>> print(letter)\n",
    "a\n",
    "```\n",
    "For most people, the first letter of 'banana' is b, not a. But for computer scientists, the index is an offset from \n",
    "the beginning of the string, and the offset of the first letter is zero.\n",
    "```python\n",
    ">>> letter = fruit[0]\n",
    ">>> print(letter)\n",
    "b\n",
    "```\n",
    "So b is the 0th letter (“zero-eth”) of 'banana', a is the 1th letter (“one-eth”), and n is the 2th (“two-eth”) letter.\n",
    "You can use any expression, including variables and operators, as an index, but the value of the index has to be an \n",
    "integer. Otherwise you get:\n",
    "```python\n",
    ">>> letter = fruit[1.5]\n",
    "Traceback (most recent call last):\n",
    "  File \"<stdin>\", line 1, in <module>\n",
    "TypeError: string indices must be integers\n",
    "```\n",
    "\n",
    "String length\n",
    "len is a built-in function that returns the number of characters in a string:\n",
    "```python\n",
    ">>> fruit = 'banana'\n",
    ">>> len(fruit)\n",
    "6\n",
    "```\n",
    "\n",
    "Strings Are Immutable\n",
    "It is tempting to use the [] operator on the left side of an assignment, with the intention of changing a character \n",
    "in a string.\n",
    "For example:\n",
    "\n",
    "```python\n",
    ">>> greeting = 'Hello, world!'\n",
    ">>> greeting[0] = 'J'\n",
    "Traceback (most recent call last):\n",
    "  File \"<stdin>\", line 1, in <module>\n",
    "TypeError: 'str' object does not support item assignment\n",
    "```\n",
    "\n",
    "String Slices\n",
    "A segment of a string is called a slice. Selecting a slice is similar to selecting a character:\n",
    "\n",
    "```python\n",
    ">>> s = 'Monty Python'\n",
    ">>> print(s[0:5])\n",
    "Monty\n",
    ">>> print(s[6:12])\n",
    "Python\n",
    "```\n",
    "\n",
    "The operator [n:m] returns the part of the string from the “n-eth” character to the “m-eth” character, including the \n",
    "first but excluding the last.\n",
    "\n",
    "String Methods\n",
    "A method is similar to a function—it takes arguments and returns a value—but the syntax is different. For example, \n",
    "the method upper takes a string and returns a new string with all uppercase letters:\n",
    "Instead of the function syntax upper(word), it uses the method syntax word.upper().\n",
    "\n",
    "```python\n",
    ">>> word = 'banana'\n",
    ">>> new_word = word.upper()\n",
    ">>> print(new_word)\n",
    "BANANA\n",
    "```\n",
    "\n",
    "This form of dot notation specifies the name of the method, upper, and the name of the string to apply the method to, \n",
    "word. The empty parentheses indicate that this method takes no argument.\n",
    "A method call is called an invocation; in this case, we would say that we are invoking upper on the word.\n",
    "As it turns out, there is a string method named find that is remarkably similar to the function we wrote:\n",
    "\n",
    "```python\n",
    ">>> word = 'banana'\n",
    ">>> index = word.find('a')\n",
    ">>> print(index)\n",
    "1\n",
    "```\n",
    "\n",
    "In this example, we invoke find on word and pass the letter we are looking for as a parameter. Actually, the find method\n",
    "is more general than our function; it can find substrings, not just characters:\n",
    "\n",
    "```python\n",
    ">>> word.find('na')\n",
    "2\n",
    "```"
   ]
  },
  {
   "cell_type": "markdown",
   "metadata": {},
   "source": [
    "## EXERCISE 1\n",
    "The word 'in' is a boolean operator that takes two strings and returns True if the first appears as a substring in \n",
    "the second: use this operator to check if 'an' or 'seed' is present in 'banana'."
   ]
  },
  {
   "cell_type": "code",
   "execution_count": null,
   "metadata": {
    "collapsed": true
   },
   "outputs": [],
   "source": []
  },
  {
   "cell_type": "markdown",
   "metadata": {},
   "source": [
    "## EXERCISE 2\n",
    "There is a string method called count. Read the documentation of this method and write an invocation that counts the \n",
    "number of 'a' in 'banana'."
   ]
  },
  {
   "cell_type": "code",
   "execution_count": null,
   "metadata": {
    "collapsed": true
   },
   "outputs": [],
   "source": []
  },
  {
   "cell_type": "markdown",
   "metadata": {},
   "source": [
    "## EXERCISE 3\n",
    "Using the replace method change all the 'a' in 'banana' with $ char."
   ]
  },
  {
   "cell_type": "code",
   "execution_count": null,
   "metadata": {
    "collapsed": true
   },
   "outputs": [],
   "source": []
  },
  {
   "cell_type": "markdown",
   "metadata": {},
   "source": [
    "## EXERCISE 4\n",
    "Given the string 'How old are you?' transform it to obtain 'How old is she?', and then print only the 'old' word of \n",
    "the sentece using slicing."
   ]
  },
  {
   "cell_type": "code",
   "execution_count": null,
   "metadata": {
    "collapsed": true
   },
   "outputs": [],
   "source": []
  },
  {
   "cell_type": "markdown",
   "metadata": {},
   "source": [
    "## EXERCISE 5\n",
    "Write a program that given a string displays the letters backward, one per line. \n",
    "Hint: use iteration statement."
   ]
  },
  {
   "cell_type": "code",
   "execution_count": null,
   "metadata": {
    "collapsed": true
   },
   "outputs": [],
   "source": []
  }
 ],
 "metadata": {
  "kernelspec": {
   "display_name": "Python [default]",
   "language": "python",
   "name": "python3"
  },
  "language_info": {
   "codemirror_mode": {
    "name": "ipython",
    "version": 3
   },
   "file_extension": ".py",
   "mimetype": "text/x-python",
   "name": "python",
   "nbconvert_exporter": "python",
   "pygments_lexer": "ipython3",
   "version": "3.5.2"
  }
 },
 "nbformat": 4,
 "nbformat_minor": 1
}
