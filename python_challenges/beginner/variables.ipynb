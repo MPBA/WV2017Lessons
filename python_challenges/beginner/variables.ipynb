{
 "cells": [
  {
   "cell_type": "markdown",
   "metadata": {},
   "source": [
    "## VARIABLES\n",
    "Types\n",
    "Python has many native datatypes. Here are the important ones:\n",
    "\n",
    "    1) Booleans are either True or False.\n",
    "    2) Numbers can be integers (1 and 2), floats (1.1 and 1.2), fractions (1/2 and 2/3), or even complex numbers.\n",
    "    3) Strings are sequences of Unicode characters, e.g. an html document.\n",
    "    4) Bytes and byte arrays, e.g. a jpeg image file.\n",
    "    5) Lists are ordered sequences of values.\n",
    "    6) Tuples are ordered, immutable sequences of values.\n",
    "    7) Sets are unordered bags of values.\n",
    "    8) Dictionaries are unordered bags of key-value pairs.\n",
    "\n",
    "Var assignment\n",
    "An assignment statement creates new variables and gives them values:\n",
    "```python\n",
    ">>> message = 'And now for something completely different'\n",
    ">>> n = 17\n",
    ">>> pi = 3.1415926535897932\n",
    "```\n",
    "This example makes three assignments. The first assigns a string to a new variable named message; the second gives the \n",
    "integer 17 to n; the third assigns the (approximate) value of π to pi.\n",
    "\n",
    "The type of a variable is the type of the value it refers to.\n",
    "\n",
    "```python\n",
    ">>> type(message)\n",
    "<class 'str'>\n",
    ">>> type(n)\n",
    "<class 'int'>\n",
    ">>> type(pi)\n",
    "<class 'float'>\n",
    "```\n",
    "Multiple assignment\n",
    "The left and right side must have the same number of elements. For example, the following script has several examples \n",
    "of multiple assignment.\n",
    "\n",
    "```python\n",
    ">>> x1,y1 = 2,3 # point one\n",
    ">>> x2,y2 = 6,8 # point two\n",
    ">>> m,b = float(y1-y2)/(x1-x2), y1-float(y1-y2)/(x1-x2)*x1\n",
    ">>> print(\"y=\",m,\"*x+\",b)\n",
    "y= 1.25 *x+ 0.5\n",
    "```"
   ]
  },
  {
   "cell_type": "markdown",
   "metadata": {},
   "source": [
    "## EXERCISE 1"
   ]
  },
  {
   "cell_type": "markdown",
   "metadata": {},
   "source": [
    "Assign 3 variables (a, b, c) with float numbers. Figure out the sum, the product, the difference and the quotient of the variables putting each operation in a new var."
   ]
  },
  {
   "cell_type": "code",
   "execution_count": null,
   "metadata": {
    "collapsed": true
   },
   "outputs": [],
   "source": []
  },
  {
   "cell_type": "markdown",
   "metadata": {},
   "source": [
    "## EXERCISE 2"
   ]
  },
  {
   "cell_type": "markdown",
   "metadata": {},
   "source": [
    "Assing 2 string vars (try the multiple assignment) one with \"py\" and one with \"thon\" than concatenate the strings and \n",
    "print the result."
   ]
  },
  {
   "cell_type": "code",
   "execution_count": null,
   "metadata": {
    "collapsed": true
   },
   "outputs": [],
   "source": []
  },
  {
   "cell_type": "markdown",
   "metadata": {},
   "source": [
    "## EXERCISE 3"
   ]
  },
  {
   "cell_type": "markdown",
   "metadata": {},
   "source": [
    "Given a string '125343.43' in var 'a' convert it into float number, than multiply 'a' with b (b=12)."
   ]
  },
  {
   "cell_type": "code",
   "execution_count": null,
   "metadata": {
    "collapsed": true
   },
   "outputs": [],
   "source": []
  }
 ],
 "metadata": {
  "kernelspec": {
   "display_name": "Python [default]",
   "language": "python",
   "name": "python3"
  },
  "language_info": {
   "codemirror_mode": {
    "name": "ipython",
    "version": 3
   },
   "file_extension": ".py",
   "mimetype": "text/x-python",
   "name": "python",
   "nbconvert_exporter": "python",
   "pygments_lexer": "ipython3",
   "version": "3.5.2"
  }
 },
 "nbformat": 4,
 "nbformat_minor": 1
}
