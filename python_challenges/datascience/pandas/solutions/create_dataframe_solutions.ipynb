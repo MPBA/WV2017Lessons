{
 "cells": [
  {
   "cell_type": "markdown",
   "metadata": {},
   "source": [
    "# StarWars"
   ]
  },
  {
   "cell_type": "markdown",
   "metadata": {},
   "source": [
    "### Introduction:\n",
    "\n",
    "This time you will create the data.\n",
    "```\n",
    "raw_data = {\"name\": ['Dart Vather', 'Leia Princess','Luke Skywalker','Yoda'],\n",
    "            \"class\": ['Empire','Rebels','Rebels','Rebels'],\n",
    "            \"gender\": ['M', 'F', 'M', 'J'],\n",
    "            \"hp\": [45, 39, 44, 45],\n",
    "            \"like\": ['yes', 'no','yes','no']                        \n",
    "            }\n",
    "````\n",
    "\n",
    "### Step 1. Import the necessary libraries"
   ]
  },
  {
   "cell_type": "code",
   "execution_count": 2,
   "metadata": {
    "collapsed": false
   },
   "outputs": [],
   "source": [
    "import pandas as pd"
   ]
  },
  {
   "cell_type": "markdown",
   "metadata": {},
   "source": [
    "### Step 2. Create a data dictionary"
   ]
  },
  {
   "cell_type": "code",
   "execution_count": 3,
   "metadata": {
    "collapsed": true
   },
   "outputs": [],
   "source": [
    "characters = {\"name\": ['Dart Vather', 'Leia Princess','Luke Skywalker','Yoda'],\n",
    "            \"class\": ['Empire','Rebels','Rebels','Rebels'],\n",
    "            \"gender\": ['M', 'F', 'M', 'J'],\n",
    "            \"hp\": [45, 39, 44, 45],\n",
    "            \"like\": ['yes', 'no','yes','no']                        \n",
    "            }"
   ]
  },
  {
   "cell_type": "markdown",
   "metadata": {},
   "source": [
    "### Step 3. Create a DataFrame object starting from the data dictionary, and print its head"
   ]
  },
  {
   "cell_type": "code",
   "execution_count": 5,
   "metadata": {
    "collapsed": false
   },
   "outputs": [
    {
     "data": {
      "text/html": [
       "<div>\n",
       "<table border=\"1\" class=\"dataframe\">\n",
       "  <thead>\n",
       "    <tr style=\"text-align: right;\">\n",
       "      <th></th>\n",
       "      <th>class</th>\n",
       "      <th>gender</th>\n",
       "      <th>hp</th>\n",
       "      <th>like</th>\n",
       "      <th>name</th>\n",
       "    </tr>\n",
       "  </thead>\n",
       "  <tbody>\n",
       "    <tr>\n",
       "      <th>0</th>\n",
       "      <td>Empire</td>\n",
       "      <td>M</td>\n",
       "      <td>45</td>\n",
       "      <td>yes</td>\n",
       "      <td>Dart Vather</td>\n",
       "    </tr>\n",
       "    <tr>\n",
       "      <th>1</th>\n",
       "      <td>Rebels</td>\n",
       "      <td>F</td>\n",
       "      <td>39</td>\n",
       "      <td>no</td>\n",
       "      <td>Leia Princess</td>\n",
       "    </tr>\n",
       "    <tr>\n",
       "      <th>2</th>\n",
       "      <td>Rebels</td>\n",
       "      <td>M</td>\n",
       "      <td>44</td>\n",
       "      <td>yes</td>\n",
       "      <td>Luke Skywalker</td>\n",
       "    </tr>\n",
       "    <tr>\n",
       "      <th>3</th>\n",
       "      <td>Rebels</td>\n",
       "      <td>J</td>\n",
       "      <td>45</td>\n",
       "      <td>no</td>\n",
       "      <td>Yoda</td>\n",
       "    </tr>\n",
       "  </tbody>\n",
       "</table>\n",
       "</div>"
      ],
      "text/plain": [
       "    class gender  hp like            name\n",
       "0  Empire      M  45  yes     Dart Vather\n",
       "1  Rebels      F  39   no   Leia Princess\n",
       "2  Rebels      M  44  yes  Luke Skywalker\n",
       "3  Rebels      J  45   no            Yoda"
      ]
     },
     "execution_count": 5,
     "metadata": {},
     "output_type": "execute_result"
    }
   ],
   "source": [
    "characters_df = pd.DataFrame(characters)\n",
    "characters_df.head()"
   ]
  },
  {
   "cell_type": "markdown",
   "metadata": {},
   "source": [
    "### Step 4. Ops...it seems the DataFrame columns are in alphabetical order. Place  the order of the columns as name, class, hp, like, gender"
   ]
  },
  {
   "cell_type": "code",
   "execution_count": 7,
   "metadata": {
    "collapsed": false
   },
   "outputs": [
    {
     "data": {
      "text/html": [
       "<div>\n",
       "<table border=\"1\" class=\"dataframe\">\n",
       "  <thead>\n",
       "    <tr style=\"text-align: right;\">\n",
       "      <th></th>\n",
       "      <th>name</th>\n",
       "      <th>class</th>\n",
       "      <th>hp</th>\n",
       "      <th>like</th>\n",
       "      <th>gender</th>\n",
       "    </tr>\n",
       "  </thead>\n",
       "  <tbody>\n",
       "    <tr>\n",
       "      <th>0</th>\n",
       "      <td>Dart Vather</td>\n",
       "      <td>Empire</td>\n",
       "      <td>45</td>\n",
       "      <td>yes</td>\n",
       "      <td>M</td>\n",
       "    </tr>\n",
       "    <tr>\n",
       "      <th>1</th>\n",
       "      <td>Leia Princess</td>\n",
       "      <td>Rebels</td>\n",
       "      <td>39</td>\n",
       "      <td>no</td>\n",
       "      <td>F</td>\n",
       "    </tr>\n",
       "    <tr>\n",
       "      <th>2</th>\n",
       "      <td>Luke Skywalker</td>\n",
       "      <td>Rebels</td>\n",
       "      <td>44</td>\n",
       "      <td>yes</td>\n",
       "      <td>M</td>\n",
       "    </tr>\n",
       "    <tr>\n",
       "      <th>3</th>\n",
       "      <td>Yoda</td>\n",
       "      <td>Rebels</td>\n",
       "      <td>45</td>\n",
       "      <td>no</td>\n",
       "      <td>J</td>\n",
       "    </tr>\n",
       "  </tbody>\n",
       "</table>\n",
       "</div>"
      ],
      "text/plain": [
       "             name   class  hp like gender\n",
       "0     Dart Vather  Empire  45  yes      M\n",
       "1   Leia Princess  Rebels  39   no      F\n",
       "2  Luke Skywalker  Rebels  44  yes      M\n",
       "3            Yoda  Rebels  45   no      J"
      ]
     },
     "execution_count": 7,
     "metadata": {},
     "output_type": "execute_result"
    }
   ],
   "source": [
    "characters_df = characters_df[['name', 'class', 'hp', 'like','gender']]\n",
    "characters_df"
   ]
  },
  {
   "cell_type": "markdown",
   "metadata": {},
   "source": [
    "### Step 5. Add another column called actor, and insert what you have in mind."
   ]
  },
  {
   "cell_type": "code",
   "execution_count": 10,
   "metadata": {
    "collapsed": false
   },
   "outputs": [
    {
     "data": {
      "text/html": [
       "<div>\n",
       "<table border=\"1\" class=\"dataframe\">\n",
       "  <thead>\n",
       "    <tr style=\"text-align: right;\">\n",
       "      <th></th>\n",
       "      <th>name</th>\n",
       "      <th>class</th>\n",
       "      <th>hp</th>\n",
       "      <th>like</th>\n",
       "      <th>gender</th>\n",
       "      <th>actor</th>\n",
       "    </tr>\n",
       "  </thead>\n",
       "  <tbody>\n",
       "    <tr>\n",
       "      <th>0</th>\n",
       "      <td>Dart Vather</td>\n",
       "      <td>Empire</td>\n",
       "      <td>45</td>\n",
       "      <td>yes</td>\n",
       "      <td>M</td>\n",
       "      <td>a</td>\n",
       "    </tr>\n",
       "    <tr>\n",
       "      <th>1</th>\n",
       "      <td>Leia Princess</td>\n",
       "      <td>Rebels</td>\n",
       "      <td>39</td>\n",
       "      <td>no</td>\n",
       "      <td>F</td>\n",
       "      <td>b</td>\n",
       "    </tr>\n",
       "    <tr>\n",
       "      <th>2</th>\n",
       "      <td>Luke Skywalker</td>\n",
       "      <td>Rebels</td>\n",
       "      <td>44</td>\n",
       "      <td>yes</td>\n",
       "      <td>M</td>\n",
       "      <td>c</td>\n",
       "    </tr>\n",
       "    <tr>\n",
       "      <th>3</th>\n",
       "      <td>Yoda</td>\n",
       "      <td>Rebels</td>\n",
       "      <td>45</td>\n",
       "      <td>no</td>\n",
       "      <td>J</td>\n",
       "      <td>d</td>\n",
       "    </tr>\n",
       "  </tbody>\n",
       "</table>\n",
       "</div>"
      ],
      "text/plain": [
       "             name   class  hp like gender actor\n",
       "0     Dart Vather  Empire  45  yes      M     a\n",
       "1   Leia Princess  Rebels  39   no      F     b\n",
       "2  Luke Skywalker  Rebels  44  yes      M     c\n",
       "3            Yoda  Rebels  45   no      J     d"
      ]
     },
     "execution_count": 10,
     "metadata": {},
     "output_type": "execute_result"
    }
   ],
   "source": [
    "characters_df['actor'] = ['a', 'b', 'c', 'd']\n",
    "characters_df"
   ]
  },
  {
   "cell_type": "markdown",
   "metadata": {},
   "source": [
    "### Step 6. Present the type of each column"
   ]
  },
  {
   "cell_type": "code",
   "execution_count": 11,
   "metadata": {
    "collapsed": false
   },
   "outputs": [
    {
     "data": {
      "text/plain": [
       "name      object\n",
       "class     object\n",
       "hp         int64\n",
       "like      object\n",
       "gender    object\n",
       "actor     object\n",
       "dtype: object"
      ]
     },
     "execution_count": 11,
     "metadata": {},
     "output_type": "execute_result"
    }
   ],
   "source": [
    "characters_df.dtypes"
   ]
  }
 ],
 "metadata": {
  "anaconda-cloud": {},
  "kernelspec": {
   "display_name": "Python [conda root]",
   "language": "python",
   "name": "conda-root-py"
  },
  "language_info": {
   "codemirror_mode": {
    "name": "ipython",
    "version": 3
   },
   "file_extension": ".py",
   "mimetype": "text/x-python",
   "name": "python",
   "nbconvert_exporter": "python",
   "pygments_lexer": "ipython3",
   "version": "3.5.2"
  }
 },
 "nbformat": 4,
 "nbformat_minor": 0
}
