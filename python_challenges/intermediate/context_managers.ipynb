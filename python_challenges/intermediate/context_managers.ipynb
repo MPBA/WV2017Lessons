{
 "cells": [
  {
   "cell_type": "markdown",
   "metadata": {},
   "source": [
    "## CONTEXT MANAGERS\n",
    "\n",
    "Let's take our decorators challenge from earlier, and say\n",
    "we want to implement a lock.  Say we're running lots\n",
    "of my_programs in parallel, and you want to restrict\n",
    "some functions to only being called once at a time.\n",
    "\n",
    "Let's say we use a tempfile to hold the lock:\n",
    "```python\n",
    "def hold_lock():\n",
    "    filename = tempfile.NamedTemporaryFile(delete=False).name\n",
    "    with open(filename, 'w') as f:\n",
    "        f.write('locked')\n",
    "    return filename\n",
    "\n",
    "\n",
    "def release_lock(lock_name):\n",
    "    os.remove(lock_name)\n",
    "```\n",
    "\n",
    "Incidentally, you've seen in the Python docs that you're meant\n",
    "to use \"with open\" -- that's actually already a context manager.\n",
    "Building our own might take away some of the air of mystery from it...\n",
    "\n",
    "So we want to run \"hold_lock\" before each function starts, and\n",
    "\"release_lock\" at the end.\n",
    "\n",
    "So you could use a decorator, but what if the function\n",
    "raises an exception?  now you have to have a try/except\n",
    "and it gets yucky...\n",
    "\n",
    "You might want to try this to get a feel for the ugliness.\n",
    "\n",
    "But a context manager would be much nicer!\n",
    "\n",
    "Find out how to write a context manager that calls hold_lock\n",
    "before a function runs, and calls release_lock at the end,\n",
    "even if the function raises an exception.\n",
    "\n",
    "For bonus points:  make it so that the user can also write\n",
    "to the lock file, for debugging purposes, when they're\n",
    "\"inside\" the context manager...\n",
    "\n",
    "```python\n",
    "from datetime import datetime\n",
    "\n",
    "def my_program():\n",
    "    main_screen_turn_on()\n",
    "    if somebody_set_us_up_the_bomb():\n",
    "        take_off_every_zig()\n",
    "\n",
    "def main_screen_turn_on():\n",
    "    print('\\n'.join(['*' * 80] * 25))\n",
    "\n",
    "\n",
    "\n",
    "def somebody_set_us_up_the_bomb():\n",
    "    if datetime.now().microsecond % 7 == 0:\n",
    "        return True\n",
    "    return False\n",
    "\n",
    "\n",
    "def take_off_every_zig():\n",
    "    for i in range(1, 10001):\n",
    "        if datetime.now().microsecond % 42 == 0:\n",
    "            raise Exception('all your base!')\n",
    "        print('Go {}! '.format(i), end='')\n",
    "```"
   ]
  },
  {
   "cell_type": "code",
   "execution_count": null,
   "metadata": {
    "collapsed": true
   },
   "outputs": [],
   "source": []
  }
 ],
 "metadata": {
  "anaconda-cloud": {},
  "kernelspec": {
   "display_name": "Python [default]",
   "language": "python",
   "name": "python3"
  },
  "language_info": {
   "codemirror_mode": {
    "name": "ipython",
    "version": 3
   },
   "file_extension": ".py",
   "mimetype": "text/x-python",
   "name": "python",
   "nbconvert_exporter": "python",
   "pygments_lexer": "ipython3",
   "version": "3.5.2"
  }
 },
 "nbformat": 4,
 "nbformat_minor": 1
}
