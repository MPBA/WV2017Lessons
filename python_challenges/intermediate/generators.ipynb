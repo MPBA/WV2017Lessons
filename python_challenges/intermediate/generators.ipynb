{
 "cells": [
  {
   "cell_type": "markdown",
   "metadata": {},
   "source": [
    "## GENERATORS\n",
    "\n",
    "Imagine you wanted to reimplement \"head\" and \"grep\" in python.  Here's a first cut:\n",
    "\n",
    "```python\n",
    "def head(max_lines, filenames):\n",
    "    for fn in filenames:\n",
    "        with open(fn) as f:\n",
    "            for ix, line in enumerate(f):\n",
    "                if ix >= max_lines:\n",
    "                    return\n",
    "                print(line, end='')\n",
    "\n",
    "\n",
    "def grep(needle, filenames):\n",
    "    for fn in filenames:\n",
    "        with open(fn) as f:\n",
    "            for line in f:\n",
    "                if needle in line:\n",
    "                    print(line, end='')\n",
    "\n",
    "```\n",
    "\n",
    "There's a lot of duplicated code there!  Now we could build a helper function like this:\n",
    "\n",
    "```python\n",
    "def getlines(filenames):\n",
    "    for fn in filenames:\n",
    "        with open(fn) as f:\n",
    "            return f.readlines()\n",
    "```\n",
    "but then head would be inefficient, because getlines always reads every single line in the file.\n",
    "\n",
    "Find out how to use a generator to make a version of getlines that is \"lazy\"\n",
    "\n",
    "More info here: http://anandology.com/python-practice-book/iterators.html"
   ]
  },
  {
   "cell_type": "code",
   "execution_count": null,
   "metadata": {
    "collapsed": true
   },
   "outputs": [],
   "source": []
  }
 ],
 "metadata": {
  "anaconda-cloud": {},
  "kernelspec": {
   "display_name": "Python [default]",
   "language": "python",
   "name": "python3"
  },
  "language_info": {
   "codemirror_mode": {
    "name": "ipython",
    "version": 3
   },
   "file_extension": ".py",
   "mimetype": "text/x-python",
   "name": "python",
   "nbconvert_exporter": "python",
   "pygments_lexer": "ipython3",
   "version": "3.5.2"
  }
 },
 "nbformat": 4,
 "nbformat_minor": 1
}
