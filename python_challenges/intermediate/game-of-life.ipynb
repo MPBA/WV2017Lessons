{
 "cells": [
  {
   "cell_type": "markdown",
   "metadata": {},
   "source": [
    "## Conway's Game of Life Challenge\n",
    "\n",
    "https://en.wikipedia.org/wiki/Conway%27s_Game_of_Life\n",
    "\n",
    "## Rules\n",
    "\n",
    "> Any live cell with fewer than two live neighbours dies, as if caused by under-population.\n",
    "> Any live cell with two or three live neighbours lives on to the next generation.\n",
    "> Any live cell with more than three live neighbours dies, as if by overcrowding.\n",
    "> Any dead cell with exactly three live neighbours becomes a live cell, as if by reproduction.\n",
    "\n",
    "\n",
    "## Hints: (spoilers?)\n",
    "\n",
    "* Start by thinking of a way to represent the state of the world, or grid.  What kind of data structure will be simple and easy to work with?\n",
    "\n",
    "* Next, make a way to print out the board, so you can see it\n",
    "\n",
    "* Then think about how to do a \"step\", a transition from one moment in time to another.  You'll need to look at each cell, figure out where the neighbouring cells are, whether they're live or dead, and decide one whether it will be alive or dead in the new board.\n",
    "\n",
    "\n",
    "## Challenges\n",
    "\n",
    "The first challenge is obviously to get it working.  But then:\n",
    "\n",
    "* If you used a class-based, Object-Oriented approach, try again with a pure-functional approach, with simple data structures\n",
    "* Or, vice versa!\n",
    "* If you're printing out board states to the terminal, are you starting with a random board state?  or a fixed one?\n",
    "* How about using a gui instead?  Look into Tk or Pygame?  \n",
    "* Or even a web app?"
   ]
  },
  {
   "cell_type": "code",
   "execution_count": null,
   "metadata": {
    "collapsed": true
   },
   "outputs": [],
   "source": []
  }
 ],
 "metadata": {
  "anaconda-cloud": {},
  "kernelspec": {
   "display_name": "Python [default]",
   "language": "python",
   "name": "python3"
  },
  "language_info": {
   "codemirror_mode": {
    "name": "ipython",
    "version": 3
   },
   "file_extension": ".py",
   "mimetype": "text/x-python",
   "name": "python",
   "nbconvert_exporter": "python",
   "pygments_lexer": "ipython3",
   "version": "3.5.2"
  }
 },
 "nbformat": 4,
 "nbformat_minor": 1
}
