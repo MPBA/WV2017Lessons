{
 "cells": [
  {
   "cell_type": "markdown",
   "metadata": {},
   "source": [
    "## DECORATORS\n",
    "\n",
    "Challenge: use decorators to trace time taken for function calls\n",
    "\n",
    "Check out my_program, which relies on 3 different functions.  But\n",
    "which one takes the most time?\n",
    "\n",
    "We could add a start_time = time.time() to the beginning of each one,\n",
    "and a print(time.time() - start_time) at the end, but that would be\n",
    "very repetitive.  Figure out how to use a decorator to apply this\n",
    "print pattern to all the functions, without duplicating code.\n",
    "\n",
    "For bonus points: the little time printout should include the name\n",
    "of the function\n",
    "\n",
    "```python\n",
    "from datetime import datetime\n",
    "\n",
    "def my_program():\n",
    "    main_screen_turn_on()\n",
    "    if somebody_set_us_up_the_bomb():\n",
    "        take_off_every_zig()\n",
    "\n",
    "def main_screen_turn_on():\n",
    "    print('\\n'.join(['*' * 80] * 25))\n",
    "\n",
    "\n",
    "\n",
    "def somebody_set_us_up_the_bomb():\n",
    "    if datetime.now().microsecond % 7 == 0:\n",
    "        return True\n",
    "    return False\n",
    "\n",
    "\n",
    "def take_off_every_zig():\n",
    "    for i in range(1, 10001):\n",
    "        print('Go {}! '.format(i), end='')\n",
    "\n",
    "```\n",
    "\n",
    "Your decorator might end up looking something like this:\n",
    "\n",
    "@time_this_function\n",
    "def main_screen_turn_on():\n",
    "    ...\n",
    "\n",
    "You'll need to find out what a decorator is and how to\n",
    "create it in PYthon!  Google for a guide, or try this\n",
    "one: http://thecodeship.com/patterns/guide-to-python-function-decorators/\n",
    "\n",
    "\n",
    "For bonus bonus points:\n",
    "\n",
    "- now make a new decorator that will retry a function up to n times, until\n",
    "it gets a certain value:\n",
    "```python\n",
    "    @repeat(times=5, until_value=True)\n",
    "    def somebody_set_us_up_the_bomb():\n",
    "    ...\n",
    "```\n",
    "If you like, please take a look at the functools module in the standard\n",
    "library; in particular at functools.wraps function, which is a very useful\n",
    "decorator to help you building your own decorators."
   ]
  },
  {
   "cell_type": "code",
   "execution_count": null,
   "metadata": {
    "collapsed": true
   },
   "outputs": [],
   "source": []
  }
 ],
 "metadata": {
  "kernelspec": {
   "display_name": "Python [default]",
   "language": "python",
   "name": "python3"
  },
  "language_info": {
   "codemirror_mode": {
    "name": "ipython",
    "version": 3
   },
   "file_extension": ".py",
   "mimetype": "text/x-python",
   "name": "python",
   "nbconvert_exporter": "python",
   "pygments_lexer": "ipython3",
   "version": "3.5.2"
  }
 },
 "nbformat": 4,
 "nbformat_minor": 1
}
