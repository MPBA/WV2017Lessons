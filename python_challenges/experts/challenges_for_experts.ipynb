{
 "cells": [
  {
   "cell_type": "markdown",
   "metadata": {},
   "source": [
    "## ADVANCED CHALLENGE"
   ]
  },
  {
   "cell_type": "markdown",
   "metadata": {},
   "source": [
    "## EXERCISE 1\n",
    "write a decorator that mimics lru_cache memorization behavior for a callable with only 1 positional hashable argument"
   ]
  },
  {
   "cell_type": "code",
   "execution_count": null,
   "metadata": {
    "collapsed": true
   },
   "outputs": [],
   "source": []
  },
  {
   "cell_type": "markdown",
   "metadata": {},
   "source": [
    "## EXERCISE 2\n",
    "Using default_dict, create a smart_dict callable that allows you to create arbitrarily nested dictionaries like this:\n",
    "```python\n",
    "x = smart_dict()\n",
    "x['a']['b']['c']['d'] # should create nested dicts for missing values\n",
    "# so that\n",
    "print(json.dumps(x))\n",
    "# prints\n",
    "{\"a\": {\"b\": {\"c\": {\"d\": {}}}}}\n",
    "```"
   ]
  },
  {
   "cell_type": "code",
   "execution_count": null,
   "metadata": {
    "collapsed": true
   },
   "outputs": [],
   "source": []
  },
  {
   "cell_type": "markdown",
   "metadata": {},
   "source": [
    "## EXERCISE 3\n",
    "Swap dict keys with dict values (less lines = better score)"
   ]
  },
  {
   "cell_type": "code",
   "execution_count": null,
   "metadata": {
    "collapsed": true
   },
   "outputs": [],
   "source": []
  },
  {
   "cell_type": "markdown",
   "metadata": {},
   "source": [
    "## EXERCISE 4\n",
    "Write a callable count_values that receives a Counter object as parameter and returns another Counter that counts the occurrences of values (counts) of the parameter\n",
    "\n",
    "eg:\n",
    "```python\n",
    "count_values(Counter(a=1, b=1, c=2, d=3))\n",
    "# returns\n",
    "Counter({1: 2, 2: 1, 3: 1})\n",
    "```"
   ]
  },
  {
   "cell_type": "code",
   "execution_count": null,
   "metadata": {
    "collapsed": true
   },
   "outputs": [],
   "source": []
  },
  {
   "cell_type": "markdown",
   "metadata": {},
   "source": [
    "## EXERCISE 5\n",
    "Using the appropriate functions from itertools (and using no for/while loops nor comprehensions), implement a callable that receives an arbitrary number of iterables (of integers) as positional arguments and, returns the total count of elements that are greater than 50 in all the iterators\n",
    "\n",
    "eg:\n",
    "```python\n",
    "count_m50([1,2,53], [51,51,1,1,1], [54], [1], [999])\n",
    "# returns\n",
    "5\n",
    "```"
   ]
  },
  {
   "cell_type": "code",
   "execution_count": null,
   "metadata": {
    "collapsed": false
   },
   "outputs": [],
   "source": []
  }
 ],
 "metadata": {
  "anaconda-cloud": {},
  "kernelspec": {
   "display_name": "Python [default]",
   "language": "python",
   "name": "python3"
  },
  "language_info": {
   "codemirror_mode": {
    "name": "ipython",
    "version": 3
   },
   "file_extension": ".py",
   "mimetype": "text/x-python",
   "name": "python",
   "nbconvert_exporter": "python",
   "pygments_lexer": "ipython3",
   "version": "3.5.2"
  }
 },
 "nbformat": 4,
 "nbformat_minor": 1
}
