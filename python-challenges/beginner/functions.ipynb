{
 "cells": [
  {
   "cell_type": "markdown",
   "metadata": {},
   "source": [
    "## FUNCTIONS\n",
    "When you define a function, you specify the name and the sequence of statements. Later, you can “call” the function \n",
    "by name. We have already seen one example of a function call:\n",
    "```python\n",
    ">>> type(32)\n",
    "<class 'int'>\n",
    "```\n",
    "The name of the function is type. The expression in parentheses is called the argument of the function. The result, \n",
    "for this function, is the type of the argument. It is common to say that a function “takes” an argument and “returns” \n",
    "a result. The result is called the return value.\n",
    "\n",
    "WRITE FUNCTIONS\n",
    "A function definition specifies the name of a new function and the sequence of statements that execute when the function\n",
    "is called.\n",
    "\n",
    "Here is an example:\n",
    "```python\n",
    ">>> def print_lyrics():\n",
    "...     print(\"I'm a lumberjack, and I'm okay.\")\n",
    "...     print(\"I sleep all night and I work all day.\")\n",
    "...\n",
    "```\n",
    "The value of print_lyrics is a function object, which has type 'function'. The syntax for calling the new function is \n",
    "the same as for built-in functions:\n",
    "```python\n",
    ">>> print_lyrics()\n",
    "I'm a lumberjack, and I'm okay.\n",
    "I sleep all night and I work all day.\n",
    "```\n",
    "Parameters and Arguments\n",
    "Some of the built-in functions we have seen require arguments. For example, when you call math.sin you pass a number as\n",
    "an argument. Some functions take more than one argument: math.pow takes two, the base and the exponent.\n",
    "Inside the function, the arguments are assigned to variables called parameters. Here is an example of a user-defined \n",
    "function that takes an argument:\n",
    "```python\n",
    ">>> def print_twice(a, b): \n",
    "...     print(a)\n",
    "...     print(b)\n",
    "...     c = a + b\n",
    "...     print(c)\n",
    "...\n",
    "```\n",
    "Note taht when you create a variable inside a function (see example above), it is local, which means that it only exists inside the function."
   ]
  },
  {
   "cell_type": "markdown",
   "metadata": {},
   "source": [
    "## EXERCISE 1\n",
    "Write a Python function to find the Max of three numbers."
   ]
  },
  {
   "cell_type": "code",
   "execution_count": null,
   "metadata": {
    "collapsed": true
   },
   "outputs": [],
   "source": []
  },
  {
   "cell_type": "markdown",
   "metadata": {},
   "source": [
    "## EXERCISE 2\n",
    "Write a Python function to sum all the numbers in a given list.\n",
    "\n",
    "Sample List : (8, 2, 3, 0, 7)\n",
    "\n",
    "Expected Output : 20"
   ]
  },
  {
   "cell_type": "code",
   "execution_count": null,
   "metadata": {
    "collapsed": true
   },
   "outputs": [],
   "source": []
  },
  {
   "cell_type": "markdown",
   "metadata": {},
   "source": [
    "\n",
    "Es.3\n",
    "- Write a Python function that accepts a string and calculate the number of upper case letters and lower case letters.\n",
    "Sample String : 'The quick Brow Fox'\n",
    "Expected Output : \n",
    "No. of Upper case characters : 3\n",
    "No. of Lower case Characters : 12\n"
   ]
  },
  {
   "cell_type": "code",
   "execution_count": null,
   "metadata": {
    "collapsed": true
   },
   "outputs": [],
   "source": []
  },
  {
   "cell_type": "markdown",
   "metadata": {},
   "source": [
    "\n",
    "Es.4\n",
    "- Write a function named right_justify that takes a string named s as a parameter and prints the string with enough l\n",
    "eading spaces so that the last letter of the string is in column 70 of the display.\n",
    "    [] right_justify('allen')\n",
    "    []                                                                 allen\n"
   ]
  },
  {
   "cell_type": "code",
   "execution_count": null,
   "metadata": {
    "collapsed": true
   },
   "outputs": [],
   "source": []
  },
  {
   "cell_type": "markdown",
   "metadata": {},
   "source": [
    "\n",
    "Es.5\n",
    "- Write a Python function to check whether a number is perfect or not.\n",
    "According to Wikipedia : In number theory, a perfect number is a positive integer that is equal to the sum of its proper\n",
    "positive divisors, that is, the sum of its positive divisors excluding the number itself (also known as its aliquot \n",
    "sum). Equivalently, a perfect number is a number that is half the sum of all of its positive divisors \n",
    "(including itself).\n",
    "Example : The first perfect number is 6, because 1, 2, and 3 are its proper positive divisors, and 1 + 2 + 3 = 6. \n",
    "Equivalently, the number 6 is equal to half the sum of all its positive divisors: ( 1 + 2 + 3 + 6 ) / 2 = 6. \n",
    "The next perfect number is 28 = 1 + 2 + 4 + 7 + 14. This is followed by the perfect numbers 496 and 8128."
   ]
  }
 ],
 "metadata": {
  "kernelspec": {
   "display_name": "Python [default]",
   "language": "python",
   "name": "python3"
  },
  "language_info": {
   "codemirror_mode": {
    "name": "ipython",
    "version": 3
   },
   "file_extension": ".py",
   "mimetype": "text/x-python",
   "name": "python",
   "nbconvert_exporter": "python",
   "pygments_lexer": "ipython3",
   "version": "3.5.2"
  }
 },
 "nbformat": 4,
 "nbformat_minor": 1
}
