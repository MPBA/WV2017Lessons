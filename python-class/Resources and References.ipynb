{
 "cells": [
  {
   "cell_type": "markdown",
   "metadata": {},
   "source": [
    "# References"
   ]
  },
  {
   "cell_type": "markdown",
   "metadata": {},
   "source": [
    "Some of the notebooks included in this collection have been borrowed or adapted from the ones available in the [**Introduction to Python**](https://github.com/ehmatthes/intro_programming) project by [Eric Matthes](mailto:ehmatthes@gmail.com)."
   ]
  },
  {
   "cell_type": "markdown",
   "metadata": {},
   "source": [
    "Documentation\n",
    "---\n",
    "\n",
    "For information related to Python programming, always refer to the [official Python documentation](https://docs.python.org/3/) (v3.5.1)."
   ]
  },
  {
   "cell_type": "markdown",
   "metadata": {},
   "source": [
    "    \n",
    "#### Exploring the Python Community\n",
    "\n",
    "As I have said earlier, the Python community is incredibly rich and diverse. Here are a couple resources to look at, if you want to do some exploring.\n",
    "\n",
    "- [The Python website](http://python.org/)\n",
    "\n",
    "    The main Python website is probably not of too much interest to you at this point, but it is a great resource to know about as you start to learn more.\n",
    "    \n",
    "<!-- -->\n",
    "\n",
    "- [PyCon](https://us.pycon.org/)\n",
    "\n",
    "    The Python Conference (PyCon) is an incredible event, and the community is entirely welcoming to new programmers. They happen all over the world, throughout the year. If you can make your way to one of these conferences, you will learn a great deal and meet some really interesting people.\n",
    "    \n",
    "\n",
    "- [PyCon Italia](http://pycon.it)\n",
    "\n",
    "    PyCon Italia is the Italian Python conference where professionals, researchers and lovers of the most beautiful programming language, gather together.\n",
    "\n",
    "<!-- -->\n",
    "    \n",
    "- [PyLadies](http://www.pyladies.com/)\n",
    "\n",
    "    Women and minorities are still under-represented in most technology fields, and the programming world is no different in this regard. That said, the Python community may well be the most welcoming and supportive programming community for women and minorities. There are a number of groups dedicated to bringing women and minorities together around programming in Python, and there are a number of explicit Codes of Conduct for Python-related events.\n",
    "\n",
    "    PyLadies is one of the most visible of these organizations. They are a great resource, so go see what they do and what they have to offer.\n",
    "\n",
    "<!-- -->\n",
    "    \n",
    "- [Python User Groups](https://wiki.python.org/moin/LocalUserGroups)\n",
    "\n",
    "    Wherever there are a number of Python programmers, they will find a way to get together. Python user groups are regular meetings of Python users from a local area. Go take a look at the list of user groups, and see if there is one near you."
   ]
  },
  {
   "cell_type": "markdown",
   "metadata": {},
   "source": [
    "---"
   ]
  },
  {
   "cell_type": "markdown",
   "metadata": {},
   "source": [
    "Resources\n",
    "===\n",
    "\n"
   ]
  },
  {
   "cell_type": "markdown",
   "metadata": {},
   "source": [
    "A preliminary list of tutorials, talks, and challenges is provided below. This page will be updated frequently.\n"
   ]
  },
  {
   "cell_type": "markdown",
   "metadata": {},
   "source": [
    "Tutorials\n",
    "--\n",
    "\n",
    "- Google Python class - YouTube videos\n",
    "\n",
    "    [Part 1(1)](https://www.youtube.com/watch?v=tKTZoB2Vjuk) - Introduction to Python and strings\n",
    "    \n",
    "    [Part 1(2)](https://www.youtube.com/watch?v=EPYupizJYQI) - Working with lists, tuples and sorting\n",
    "    \n",
    "    [Part 1(3)](https://www.youtube.com/watch?v=haycL41dAhg) - Working with dictionaries and files\n",
    "    \n",
    "    [Part 2(1)](https://www.youtube.com/watch?v=kWyoYtvJpe4) - Regular expressions\n",
    "    \n",
    "    [Part 2(2)](https://www.youtube.com/watch?v=uKZ8GBKmeDM) - Using modules, system commands\n",
    "    \n",
    "    [Part 2(3)](https://www.youtube.com/watch?v=Nn2KQmVF5Og) - Exceptions, parsing URLs\n",
    "    \n",
    "    [Part 2(4)](https://www.youtube.com/watch?v=IcteAbMC1Ok) - List comprehensions\n",
    "\n",
    "\n",
    "- [Guide for beginners who are non-programmers](https://wiki.python.org/moin/BeginnersGuide/NonProgrammers)\n",
    "\n",
    "    Python's wiki page lists several resources for beginners.\n",
    "\n",
    "\n",
    "- [Python Tutor](http://pythontutor.com/)\n",
    "\n",
    "    Python Tutor visually helps understand how code executes on a computer."
   ]
  },
  {
   "cell_type": "markdown",
   "metadata": {},
   "source": [
    "---"
   ]
  },
  {
   "cell_type": "markdown",
   "metadata": {},
   "source": [
    "Talks\n",
    "--\n",
    "\n",
    "Pyvideos - Videos related to Python programming in different events including [Pycon](http://www.pycon.org/), [Scipy](https://conference.scipy.org/).\n",
    "\n",
    "Example: [Fast Python, Slow Python at Pycon 2014](http://pyvideo.org/video/2627/fast-python-slow-python)"
   ]
  },
  {
   "cell_type": "markdown",
   "metadata": {},
   "source": [
    "---"
   ]
  },
  {
   "cell_type": "markdown",
   "metadata": {},
   "source": [
    "Challenges\n",
    "--\n",
    "\n",
    "If you are equipped with basics of Python, taking up challenges is a great way to implement the skills.\n",
    "\n",
    "- [Google Python class exercises](https://developers.google.com/edu/python/exercises/basic)\n",
    "\n",
    "    Four exercises are provided as part of the Python class by Google. \n",
    "    \n",
    "    Level - Basic/intermediate\n",
    "    \n",
    "\n",
    "- [Project Euler](https://projecteuler.net/)\n",
    "\n",
    "    Project Euler is a project of mathematical/programming challenges aimed at designing efficient solutions. Project Euler is a good place to challenge your mathematical and programming skills. Most of the problems can be solved within few seconds provided you have an efficient solution.\n",
    "\n",
    "    Level - Advanced | Requires knowledge of mathematics.\n",
    "\n",
    "\n",
    "- [Python Challenge](http://www.pythonchallenge.com/)\n",
    "\n",
    "    Level - Intermediate/Advanced\n",
    "\n",
    "\n",
    "\n"
   ]
  }
 ],
 "metadata": {
  "kernelspec": {
   "display_name": "Python 3",
   "language": "python",
   "name": "python3"
  },
  "language_info": {
   "codemirror_mode": {
    "name": "ipython",
    "version": 3
   },
   "file_extension": ".py",
   "mimetype": "text/x-python",
   "name": "python",
   "nbconvert_exporter": "python",
   "pygments_lexer": "ipython3",
   "version": "3.5.1"
  }
 },
 "nbformat": 4,
 "nbformat_minor": 0
}
