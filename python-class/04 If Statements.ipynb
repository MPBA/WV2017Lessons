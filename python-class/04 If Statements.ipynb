{
 "cells": [
  {
   "cell_type": "markdown",
   "metadata": {
    "nbpresent": {
     "id": "58662126-6659-4424-b866-0d0f0893bed2"
    },
    "slideshow": {
     "slide_type": "slide"
    }
   },
   "source": [
    "# If Statements"
   ]
  },
  {
   "cell_type": "markdown",
   "metadata": {
    "nbpresent": {
     "id": "3bced373-f575-483f-a8da-fda8c2b7cc6e"
    },
    "slideshow": {
     "slide_type": "fragment"
    }
   },
   "source": [
    "By allowing you to respond selectively to different situations and conditions, if statements open up whole new possibilities for your programs. In this section, you will learn how to test for certain conditions, and then respond in appropriate ways to those conditions."
   ]
  },
  {
   "cell_type": "markdown",
   "metadata": {
    "nbpresent": {
     "id": "390e6b80-598e-4c7e-9d65-98d196bbca21"
    },
    "slideshow": {
     "slide_type": "skip"
    }
   },
   "source": [
    "# <a name=\"top\"></a>Contents\n",
    "\n",
    "- [What is an *if* statement?](#what)\n",
    "    - [Example](#example)\n",
    "- [Logical tests](#logical_tests)\n",
    "    - [Equality](#equality)\n",
    "    - [Inequality](#inequality)\n",
    "    - [Other inequalities](#other_inequalities)\n",
    "    - [Checking if an item is in a list](#in_list)\n",
    "    - [Exercises](#exercises_logical_tests)\n",
    "- [The if-elif...else chain](#if-elif-else)\n",
    "    - [Simple if statements](#simple_if)\n",
    "    - [if-else statements](#if-else)\n",
    "    - [if-elif...else chains](#if-elif-else_chains)\n",
    "    - [Exercises](#exercises_if-elif-else)\n",
    "- [More than one passing test](#more_than_one)\n",
    "- [True and False values](#true_false)\n",
    "- [Overall Challenges](#overall_challenges)"
   ]
  },
  {
   "cell_type": "markdown",
   "metadata": {
    "nbpresent": {
     "id": "96206061-f770-4596-bfcd-6b3ea9d19d05"
    },
    "slideshow": {
     "slide_type": "slide"
    }
   },
   "source": [
    "<a name='what'></a>What is an *if* statement?\n",
    "===\n",
    "An *if* statement tests for a condition, and then responds to that condition. If the condition is true, then whatever action is listed next gets carried out. You can test for multiple conditions at the same time, and respond appropriately to each condition."
   ]
  },
  {
   "cell_type": "markdown",
   "metadata": {
    "nbpresent": {
     "id": "48caa5c8-8be6-4e54-a57c-cc9d59d57dd9"
    },
    "slideshow": {
     "slide_type": "subslide"
    }
   },
   "source": [
    "<a name='example'></a>Example\n",
    "---\n",
    "Here is an example that shows a number of the desserts I like. It lists those desserts, but lets you know which one is my favorite."
   ]
  },
  {
   "cell_type": "code",
   "execution_count": 1,
   "metadata": {
    "collapsed": false,
    "nbpresent": {
     "id": "bf493c46-7d83-40fe-999a-b0e2d87302f2"
    },
    "slideshow": {
     "slide_type": "-"
    }
   },
   "outputs": [
    {
     "name": "stdout",
     "output_type": "stream",
     "text": [
      "I like ice cream.\n",
      "I like chocolate.\n",
      "Apple Crisp is my favorite dessert!\n",
      "I like cookies.\n"
     ]
    }
   ],
   "source": [
    "# A list of desserts I like.\n",
    "desserts = ['ice cream', 'chocolate', 'apple crisp', 'cookies']\n",
    "favorite_dessert = 'apple crisp'\n",
    "\n",
    "# Print the desserts out, but let everyone know my favorite dessert.\n",
    "for dessert in desserts:\n",
    "    if dessert == favorite_dessert:\n",
    "        # This dessert is my favorite, let's let everyone know!\n",
    "        print(\"%s is my favorite dessert!\" % dessert.title())\n",
    "    else:\n",
    "        # I like these desserts, but they are not my favorite.\n",
    "        print(\"I like %s.\" % dessert)"
   ]
  },
  {
   "cell_type": "markdown",
   "metadata": {
    "nbpresent": {
     "id": "544b5823-d09c-4f69-bc9f-b377d853e5b9"
    },
    "slideshow": {
     "slide_type": "subslide"
    }
   },
   "source": [
    "#### What happens in this program?\n",
    "\n",
    "- The program starts out with a list of desserts, and one dessert is identified as a favorite.\n",
    "- The for loop runs through all the desserts.\n",
    "- Inside the for loop, each item in the list is tested.\n",
    "    - If the current value of *dessert* is equal to the value of *favorite_dessert*, a message is printed that this is my favorite.\n",
    "    - If the current value of *dessert* is not equal to the value of *favorite_dessert*, a message is printed that I just like the dessert.\n",
    "    \n",
    "You can test as many conditions as you want in an if statement, as you will see in a little bit."
   ]
  },
  {
   "cell_type": "markdown",
   "metadata": {
    "nbpresent": {
     "id": "c614df8b-7b72-477a-b97b-8c5a2a7cb25a"
    },
    "slideshow": {
     "slide_type": "skip"
    }
   },
   "source": [
    "[top](#top)"
   ]
  },
  {
   "cell_type": "markdown",
   "metadata": {
    "nbpresent": {
     "id": "30248548-1b34-43e0-92a1-8997425022ea"
    },
    "slideshow": {
     "slide_type": "slide"
    }
   },
   "source": [
    "<a name='logical_tests'></a>Logical Tests\n",
    "===\n",
    "Every if statement evaluates to *True* or *False*. *True* and *False* are Python keywords, which have special meanings attached to them. You can test for the following conditions in your if statements:\n",
    "\n",
    "- [equality](#equality) (==)\n",
    "- [inequality](#inequality) (!=)\n",
    "- [other inequalities](#other_inequalities)\n",
    "    - greater than (>)\n",
    "    - greater than or equal to (>=)\n",
    "    - less than (<)\n",
    "    - less than or equal to (<=)\n",
    "- [You can test if an item is **in** a list.](#in_list)"
   ]
  },
  {
   "cell_type": "markdown",
   "metadata": {
    "nbpresent": {
     "id": "8406cbd5-9d41-4689-a71a-4232a69c736a"
    },
    "slideshow": {
     "slide_type": "subslide"
    }
   },
   "source": [
    "### Whitespace\n",
    "Remember [learning about](04_lists_tuples.html#pep8) PEP 8? There is a [section of PEP 8](http://www.python.org/dev/peps/pep-0008/#other-recommendations) that tells us it's a good idea to put a single space on either side of all of these comparison operators. If you're not sure what this means, just follow the style of the examples you see below."
   ]
  },
  {
   "cell_type": "markdown",
   "metadata": {
    "nbpresent": {
     "id": "abc98348-0479-4fa9-9a68-35838b9bcf02"
    },
    "slideshow": {
     "slide_type": "slide"
    }
   },
   "source": [
    "<a name='equality'></a>Equality\n",
    "---"
   ]
  },
  {
   "cell_type": "markdown",
   "metadata": {
    "nbpresent": {
     "id": "fd243615-6756-4677-9a57-b3269d56d961"
    },
    "slideshow": {
     "slide_type": "fragment"
    }
   },
   "source": [
    "Two items are *equal* if they have the same value. You can test for equality between numbers, strings, and a number of other objects which you will learn about later. Some of these results may be surprising, so take a careful look at the examples below."
   ]
  },
  {
   "cell_type": "markdown",
   "metadata": {
    "nbpresent": {
     "id": "babab640-9516-4906-9eaa-8ea65d2c31b2"
    },
    "slideshow": {
     "slide_type": "fragment"
    }
   },
   "source": [
    "In Python, as in many programming languages, two equals signs tests for equality."
   ]
  },
  {
   "cell_type": "markdown",
   "metadata": {
    "nbpresent": {
     "id": "448d26cc-87b2-4be3-a48a-ad21cb21f49b"
    },
    "slideshow": {
     "slide_type": "fragment"
    }
   },
   "source": [
    "**Watch out!** Be careful of accidentally using one equals sign, which can really throw things off because that one equals sign actually sets your item to the value you are testing for!"
   ]
  },
  {
   "cell_type": "markdown",
   "metadata": {
    "nbpresent": {
     "id": "9252ee16-8741-4228-a5a5-2425201e8122"
    },
    "slideshow": {
     "slide_type": "subslide"
    }
   },
   "source": [
    "# Examples"
   ]
  },
  {
   "cell_type": "code",
   "execution_count": 2,
   "metadata": {
    "collapsed": false,
    "nbpresent": {
     "id": "9d7e54f0-8b9f-484a-be5b-b182c9525e2d"
    },
    "slideshow": {
     "slide_type": "subslide"
    }
   },
   "outputs": [
    {
     "data": {
      "text/plain": [
       "True"
      ]
     },
     "execution_count": 2,
     "metadata": {},
     "output_type": "execute_result"
    }
   ],
   "source": [
    "5 == 5"
   ]
  },
  {
   "cell_type": "code",
   "execution_count": 4,
   "metadata": {
    "collapsed": false,
    "nbpresent": {
     "id": "cc64b440-47fd-4609-9e49-c2775f82b0c9"
    },
    "slideshow": {
     "slide_type": "fragment"
    }
   },
   "outputs": [
    {
     "data": {
      "text/plain": [
       "False"
      ]
     },
     "execution_count": 4,
     "metadata": {},
     "output_type": "execute_result"
    }
   ],
   "source": [
    "3 == 5 "
   ]
  },
  {
   "cell_type": "code",
   "execution_count": 24,
   "metadata": {
    "collapsed": false,
    "nbpresent": {
     "id": "794fcb1a-d820-4825-adb9-0ea108bfe226"
    },
    "slideshow": {
     "slide_type": "fragment"
    }
   },
   "outputs": [
    {
     "data": {
      "text/plain": [
       "True"
      ]
     },
     "execution_count": 24,
     "metadata": {},
     "output_type": "execute_result"
    }
   ],
   "source": [
    "5 == 5.0"
   ]
  },
  {
   "cell_type": "code",
   "execution_count": 8,
   "metadata": {
    "collapsed": false,
    "nbpresent": {
     "id": "f7e39530-4509-4ff4-9543-7965952989e6"
    },
    "slideshow": {
     "slide_type": "fragment"
    }
   },
   "outputs": [
    {
     "data": {
      "text/plain": [
       "True"
      ]
     },
     "execution_count": 8,
     "metadata": {},
     "output_type": "execute_result"
    }
   ],
   "source": [
    "'eric' == 'eric'"
   ]
  },
  {
   "cell_type": "code",
   "execution_count": 9,
   "metadata": {
    "collapsed": false,
    "nbpresent": {
     "id": "a8d53fae-65b9-4a47-b902-f8c23cefeb8f"
    },
    "slideshow": {
     "slide_type": "fragment"
    }
   },
   "outputs": [
    {
     "data": {
      "text/plain": [
       "False"
      ]
     },
     "execution_count": 9,
     "metadata": {},
     "output_type": "execute_result"
    }
   ],
   "source": [
    "'Eric' == 'eric'"
   ]
  },
  {
   "cell_type": "code",
   "execution_count": 10,
   "metadata": {
    "collapsed": false,
    "nbpresent": {
     "id": "edf2ee78-f1f8-4bfb-8920-d20bb6310eee"
    },
    "slideshow": {
     "slide_type": "fragment"
    }
   },
   "outputs": [
    {
     "data": {
      "text/plain": [
       "True"
      ]
     },
     "execution_count": 10,
     "metadata": {},
     "output_type": "execute_result"
    }
   ],
   "source": [
    "'Eric'.lower() == 'eric'.lower()"
   ]
  },
  {
   "cell_type": "code",
   "execution_count": 11,
   "metadata": {
    "collapsed": false,
    "nbpresent": {
     "id": "da88690b-9458-4ed8-992d-31473cdf5f42"
    },
    "slideshow": {
     "slide_type": "fragment"
    }
   },
   "outputs": [
    {
     "data": {
      "text/plain": [
       "False"
      ]
     },
     "execution_count": 11,
     "metadata": {},
     "output_type": "execute_result"
    }
   ],
   "source": [
    "'5' == 5"
   ]
  },
  {
   "cell_type": "code",
   "execution_count": 12,
   "metadata": {
    "collapsed": false,
    "nbpresent": {
     "id": "b00c5df5-9351-4251-9156-59d32085f36e"
    },
    "slideshow": {
     "slide_type": "fragment"
    }
   },
   "outputs": [
    {
     "data": {
      "text/plain": [
       "True"
      ]
     },
     "execution_count": 12,
     "metadata": {},
     "output_type": "execute_result"
    }
   ],
   "source": [
    "'5' == str(5)"
   ]
  },
  {
   "cell_type": "markdown",
   "metadata": {
    "nbpresent": {
     "id": "acc5a0d0-8362-4f79-8466-2526932690c3"
    },
    "slideshow": {
     "slide_type": "skip"
    }
   },
   "source": [
    "[top](#top)"
   ]
  },
  {
   "cell_type": "markdown",
   "metadata": {
    "nbpresent": {
     "id": "60af5f55-c9a6-4fe3-923e-701c551d8e95"
    },
    "slideshow": {
     "slide_type": "subslide"
    }
   },
   "source": [
    "<a name='inequality'></a>Inequality\n",
    "---"
   ]
  },
  {
   "cell_type": "markdown",
   "metadata": {
    "nbpresent": {
     "id": "d1cf2c09-e755-4fb6-bab8-e097d9e8ba1b"
    },
    "slideshow": {
     "slide_type": "fragment"
    }
   },
   "source": [
    "Two items are *inequal* if they do not have the same value. In Python, we test for inequality using the exclamation point and one equals sign.\n",
    "\n",
    "Sometimes you want to test for equality and if that fails, assume inequality. Sometimes it makes more sense to test for inequality directly."
   ]
  },
  {
   "cell_type": "code",
   "execution_count": 13,
   "metadata": {
    "collapsed": false,
    "nbpresent": {
     "id": "3ffe7605-6110-466d-84fc-4a928fabdabb"
    },
    "slideshow": {
     "slide_type": "subslide"
    }
   },
   "outputs": [
    {
     "data": {
      "text/plain": [
       "True"
      ]
     },
     "execution_count": 13,
     "metadata": {},
     "output_type": "execute_result"
    }
   ],
   "source": [
    "3 != 5"
   ]
  },
  {
   "cell_type": "code",
   "execution_count": 14,
   "metadata": {
    "collapsed": false,
    "nbpresent": {
     "id": "9c547768-ebd7-44e8-a611-961851474271"
    },
    "slideshow": {
     "slide_type": "fragment"
    }
   },
   "outputs": [
    {
     "data": {
      "text/plain": [
       "False"
      ]
     },
     "execution_count": 14,
     "metadata": {},
     "output_type": "execute_result"
    }
   ],
   "source": [
    "5 != 5"
   ]
  },
  {
   "cell_type": "code",
   "execution_count": 18,
   "metadata": {
    "collapsed": false,
    "nbpresent": {
     "id": "08dfca68-a0f2-460a-9c49-31bc2f796aa1"
    },
    "slideshow": {
     "slide_type": "fragment"
    }
   },
   "outputs": [
    {
     "data": {
      "text/plain": [
       "True"
      ]
     },
     "execution_count": 18,
     "metadata": {},
     "output_type": "execute_result"
    }
   ],
   "source": [
    "'Eric' != 'eric'"
   ]
  },
  {
   "cell_type": "markdown",
   "metadata": {
    "nbpresent": {
     "id": "119ee9d3-65cd-4b47-a1fc-93c70bce43ac"
    },
    "slideshow": {
     "slide_type": "skip"
    }
   },
   "source": [
    "[top](#top)"
   ]
  },
  {
   "cell_type": "markdown",
   "metadata": {
    "nbpresent": {
     "id": "190c715c-7a2d-48de-98a4-a741268fdb31"
    },
    "slideshow": {
     "slide_type": "slide"
    }
   },
   "source": [
    "<a name='other_inequalities'></a>Other Inequalities\n",
    "---"
   ]
  },
  {
   "cell_type": "markdown",
   "metadata": {
    "nbpresent": {
     "id": "c30e0e11-f16e-4c4a-bf0d-73a72f7bc27c"
    },
    "slideshow": {
     "slide_type": "subslide"
    }
   },
   "source": [
    "### greater than"
   ]
  },
  {
   "cell_type": "code",
   "execution_count": 16,
   "metadata": {
    "collapsed": false,
    "nbpresent": {
     "id": "6d7c723d-c4a6-41dc-94c9-ef435f13ffb4"
    },
    "slideshow": {
     "slide_type": "-"
    }
   },
   "outputs": [
    {
     "data": {
      "text/plain": [
       "True"
      ]
     },
     "execution_count": 16,
     "metadata": {},
     "output_type": "execute_result"
    }
   ],
   "source": [
    "5 > 3"
   ]
  },
  {
   "cell_type": "markdown",
   "metadata": {
    "nbpresent": {
     "id": "c2635f72-ddae-43c6-96d2-6fa2fce9fa35"
    },
    "slideshow": {
     "slide_type": "subslide"
    }
   },
   "source": [
    "### greater than or equal to"
   ]
  },
  {
   "cell_type": "code",
   "execution_count": 19,
   "metadata": {
    "collapsed": false,
    "nbpresent": {
     "id": "af750a89-1749-4e47-98fa-c1ebd066cc0a"
    },
    "slideshow": {
     "slide_type": "-"
    }
   },
   "outputs": [
    {
     "data": {
      "text/plain": [
       "True"
      ]
     },
     "execution_count": 19,
     "metadata": {},
     "output_type": "execute_result"
    }
   ],
   "source": [
    "5 >= 3"
   ]
  },
  {
   "cell_type": "code",
   "execution_count": 20,
   "metadata": {
    "collapsed": false,
    "nbpresent": {
     "id": "7f2d189b-3002-4683-a320-858bc2cd87b1"
    },
    "slideshow": {
     "slide_type": "fragment"
    }
   },
   "outputs": [
    {
     "data": {
      "text/plain": [
       "True"
      ]
     },
     "execution_count": 20,
     "metadata": {},
     "output_type": "execute_result"
    }
   ],
   "source": [
    "3 >= 3"
   ]
  },
  {
   "cell_type": "markdown",
   "metadata": {
    "nbpresent": {
     "id": "211545f3-80e5-4379-b90f-b9fd6836355d"
    },
    "slideshow": {
     "slide_type": "subslide"
    }
   },
   "source": [
    "### less than"
   ]
  },
  {
   "cell_type": "code",
   "execution_count": 21,
   "metadata": {
    "collapsed": false,
    "nbpresent": {
     "id": "d96a4248-31d6-4767-9f28-069407bae3ca"
    }
   },
   "outputs": [
    {
     "data": {
      "text/plain": [
       "True"
      ]
     },
     "execution_count": 21,
     "metadata": {},
     "output_type": "execute_result"
    }
   ],
   "source": [
    "3 < 5"
   ]
  },
  {
   "cell_type": "markdown",
   "metadata": {
    "nbpresent": {
     "id": "0531558b-6fce-42ac-9d2e-1fa54b2bbfd9"
    },
    "slideshow": {
     "slide_type": "subslide"
    }
   },
   "source": [
    "### less than or equal to"
   ]
  },
  {
   "cell_type": "code",
   "execution_count": 22,
   "metadata": {
    "collapsed": false,
    "nbpresent": {
     "id": "74600583-8992-48c5-aec5-570f034d126e"
    }
   },
   "outputs": [
    {
     "data": {
      "text/plain": [
       "True"
      ]
     },
     "execution_count": 22,
     "metadata": {},
     "output_type": "execute_result"
    }
   ],
   "source": [
    "3 <= 5"
   ]
  },
  {
   "cell_type": "code",
   "execution_count": 23,
   "metadata": {
    "collapsed": false,
    "nbpresent": {
     "id": "427c4347-d6f1-4523-b09a-7c9121170e28"
    },
    "slideshow": {
     "slide_type": "fragment"
    }
   },
   "outputs": [
    {
     "data": {
      "text/plain": [
       "True"
      ]
     },
     "execution_count": 23,
     "metadata": {},
     "output_type": "execute_result"
    }
   ],
   "source": [
    "3 <= 3"
   ]
  },
  {
   "cell_type": "markdown",
   "metadata": {
    "nbpresent": {
     "id": "55ac5fe1-ee8d-4de1-8e88-c00987d4a804"
    },
    "slideshow": {
     "slide_type": "skip"
    }
   },
   "source": [
    "[top](#top)"
   ]
  },
  {
   "cell_type": "markdown",
   "metadata": {
    "nbpresent": {
     "id": "faca2334-79a5-4a66-a1b7-00b3258be804"
    },
    "slideshow": {
     "slide_type": "slide"
    }
   },
   "source": [
    "<a name='in_list'></a>Checking if an item is **in** a list\n",
    "---\n",
    "You can check if an item is in a list using the **in** keyword."
   ]
  },
  {
   "cell_type": "code",
   "execution_count": 25,
   "metadata": {
    "collapsed": false,
    "nbpresent": {
     "id": "f12b9350-cf54-455c-9c2a-3bfa25f8c1e9"
    },
    "slideshow": {
     "slide_type": "fragment"
    }
   },
   "outputs": [
    {
     "data": {
      "text/plain": [
       "True"
      ]
     },
     "execution_count": 25,
     "metadata": {},
     "output_type": "execute_result"
    }
   ],
   "source": [
    "vowels = ['a', 'e', 'i', 'o', 'u']\n",
    "'a' in vowels"
   ]
  },
  {
   "cell_type": "code",
   "execution_count": 26,
   "metadata": {
    "collapsed": false,
    "nbpresent": {
     "id": "b0cf0553-9a55-4e7b-8d6d-6655fa80bdb8"
    },
    "slideshow": {
     "slide_type": "fragment"
    }
   },
   "outputs": [
    {
     "data": {
      "text/plain": [
       "False"
      ]
     },
     "execution_count": 26,
     "metadata": {},
     "output_type": "execute_result"
    }
   ],
   "source": [
    "vowels = ['a', 'e', 'i', 'o', 'u']\n",
    "'b' in vowels"
   ]
  },
  {
   "cell_type": "markdown",
   "metadata": {
    "nbpresent": {
     "id": "880adccd-dc92-4fc4-8947-c4e56d2c1e61"
    },
    "slideshow": {
     "slide_type": "skip"
    }
   },
   "source": [
    "<a name='exercises_logical_tests'></a>Exercises\n",
    "---\n",
    "#### True and False\n",
    "- Write a program that consists of at least ten lines, each of which has a logical statement on it. The output of your program should be 5 **True**s and 5 **False**s.\n",
    "- Note: You will probably need to write `print(5 > 3)`, not just `5 > 3`."
   ]
  },
  {
   "cell_type": "code",
   "execution_count": null,
   "metadata": {
    "collapsed": false,
    "nbpresent": {
     "id": "d711a85b-6141-4f79-bda0-0171df0c6855"
    },
    "slideshow": {
     "slide_type": "skip"
    }
   },
   "outputs": [],
   "source": [
    "# Ex 5.1 : True and False\n",
    "\n",
    "# put your code here"
   ]
  },
  {
   "cell_type": "markdown",
   "metadata": {
    "nbpresent": {
     "id": "5fc10984-8c78-4bf1-8487-3df5c3c7ff77"
    },
    "slideshow": {
     "slide_type": "skip"
    }
   },
   "source": [
    "[top](#top)"
   ]
  },
  {
   "cell_type": "markdown",
   "metadata": {
    "nbpresent": {
     "id": "86805c98-ecda-42ac-a174-bdaa657d282b"
    },
    "slideshow": {
     "slide_type": "slide"
    }
   },
   "source": [
    "<a name='if-elif-else'></a>The if-elif...else chain\n",
    "===\n",
    "You can test whatever series of conditions you want to, and you can test your conditions in any combination you want."
   ]
  },
  {
   "cell_type": "markdown",
   "metadata": {
    "nbpresent": {
     "id": "3b74a0c1-3162-4137-aeb6-80cd526ba522"
    },
    "slideshow": {
     "slide_type": "subslide"
    }
   },
   "source": [
    "<a name='simple_if'></a>Simple if statements\n",
    "---\n",
    "The simplest test has a single **if** statement, and a single statement to execute if the condition is **True**."
   ]
  },
  {
   "cell_type": "code",
   "execution_count": 27,
   "metadata": {
    "collapsed": false,
    "nbpresent": {
     "id": "4bfdbc63-78e9-4f05-8501-c80d1c8fb499"
    },
    "slideshow": {
     "slide_type": "fragment"
    }
   },
   "outputs": [
    {
     "name": "stdout",
     "output_type": "stream",
     "text": [
      "Wow, we have a lot of dogs here!\n"
     ]
    }
   ],
   "source": [
    "dogs = ['willie', 'hootz', 'peso', 'juno']\n",
    "\n",
    "if len(dogs) > 3:\n",
    "    print(\"Wow, we have a lot of dogs here!\")"
   ]
  },
  {
   "cell_type": "markdown",
   "metadata": {
    "nbpresent": {
     "id": "e5cb81e4-fd77-4c15-8bda-9d97c0fad59e"
    },
    "slideshow": {
     "slide_type": "subslide"
    }
   },
   "source": [
    "In this situation, nothing happens if the test does not pass."
   ]
  },
  {
   "cell_type": "code",
   "execution_count": 28,
   "metadata": {
    "collapsed": false,
    "nbpresent": {
     "id": "14e88711-1336-4e89-bf02-3026623a9dfc"
    },
    "slideshow": {
     "slide_type": "fragment"
    }
   },
   "outputs": [],
   "source": [
    "dogs = ['willie', 'hootz']\n",
    "\n",
    "if len(dogs) > 3:\n",
    "    print(\"Wow, we have a lot of dogs here!\")"
   ]
  },
  {
   "cell_type": "markdown",
   "metadata": {
    "nbpresent": {
     "id": "578e6478-36dc-4198-97a4-709aa125f8d0"
    },
    "slideshow": {
     "slide_type": "fragment"
    }
   },
   "source": [
    "Notice that there are no errors. The condition `len(dogs) > 3` evaluates to False, and the program moves on to any lines after the **if** block."
   ]
  },
  {
   "cell_type": "markdown",
   "metadata": {
    "nbpresent": {
     "id": "209f5ade-6f90-4a41-a754-f750967480da"
    },
    "slideshow": {
     "slide_type": "subslide"
    }
   },
   "source": [
    "<a name='if-else'></a>if-else statements\n",
    "---\n",
    "Many times you will want to respond in two possible ways to a test. If the test evaluates to **True**, you will want to do one thing. If the test evaluates to **False**, you will want to do something else. The **if-else** structure lets you do that easily. Here's what it looks like:"
   ]
  },
  {
   "cell_type": "code",
   "execution_count": 30,
   "metadata": {
    "collapsed": false,
    "nbpresent": {
     "id": "c442ed8c-f572-4fe0-beae-95e574e8e7fc"
    },
    "slideshow": {
     "slide_type": "fragment"
    }
   },
   "outputs": [
    {
     "name": "stdout",
     "output_type": "stream",
     "text": [
      "Wow, we have a lot of dogs here!\n"
     ]
    }
   ],
   "source": [
    "dogs = ['willie', 'hootz', 'peso', 'juno']\n",
    "\n",
    "if len(dogs) > 3:\n",
    "    print(\"Wow, we have a lot of dogs here!\")\n",
    "else:\n",
    "    print(\"Okay, this is a reasonable number of dogs.\")"
   ]
  },
  {
   "cell_type": "markdown",
   "metadata": {
    "nbpresent": {
     "id": "2485080a-c869-419b-9de4-262081a3b27d"
    },
    "slideshow": {
     "slide_type": "subslide"
    }
   },
   "source": [
    "Our results have not changed in this case, because if the test evaluates to **True** only the statements under the **if** statement are executed. The statements under **else** area only executed if the test fails:"
   ]
  },
  {
   "cell_type": "code",
   "execution_count": 31,
   "metadata": {
    "collapsed": false,
    "nbpresent": {
     "id": "845baf72-8a6c-43cd-92cd-8bc29e138187"
    },
    "slideshow": {
     "slide_type": "fragment"
    }
   },
   "outputs": [
    {
     "name": "stdout",
     "output_type": "stream",
     "text": [
      "Okay, this is a reasonable number of dogs.\n"
     ]
    }
   ],
   "source": [
    "dogs = ['willie', 'hootz']\n",
    "\n",
    "if len(dogs) > 3:\n",
    "    print(\"Wow, we have a lot of dogs here!\")\n",
    "else:\n",
    "    print(\"Okay, this is a reasonable number of dogs.\")"
   ]
  },
  {
   "cell_type": "markdown",
   "metadata": {
    "nbpresent": {
     "id": "35702fdd-294a-4f22-b333-557fd8b7051a"
    },
    "slideshow": {
     "slide_type": "fragment"
    }
   },
   "source": [
    "The test evaluated to **False**, so only the statement under `else` is run."
   ]
  },
  {
   "cell_type": "markdown",
   "metadata": {
    "nbpresent": {
     "id": "c29cb007-be59-4575-b263-672141d814ca"
    },
    "slideshow": {
     "slide_type": "subslide"
    }
   },
   "source": [
    "<a name='if-elif-else_chains'></a>if-elif...else chains\n",
    "---\n",
    "Many times, you will want to test a series of conditions, rather than just an either-or situation. You can do this with a series of if-elif-else statements\n",
    "\n",
    "There is no limit to how many conditions you can test. You always need one if statement to start the chain, and you can never have more than one else statement. But you can have as many elif statements as you want."
   ]
  },
  {
   "cell_type": "code",
   "execution_count": 32,
   "metadata": {
    "collapsed": false,
    "nbpresent": {
     "id": "16e70b81-d8bb-4167-8ef2-b40fe277be14"
    },
    "slideshow": {
     "slide_type": "fragment"
    }
   },
   "outputs": [
    {
     "name": "stdout",
     "output_type": "stream",
     "text": [
      "Holy mackerel, we might as well start a dog hostel!\n"
     ]
    }
   ],
   "source": [
    "dogs = ['willie', 'hootz', 'peso', 'monty', 'juno', 'turkey']\n",
    "\n",
    "if len(dogs) >= 5:\n",
    "    print(\"Holy mackerel, we might as well start a dog hostel!\")\n",
    "elif len(dogs) >= 3:\n",
    "    print(\"Wow, we have a lot of dogs here!\")\n",
    "else:\n",
    "    print(\"Okay, this is a reasonable number of dogs.\")"
   ]
  },
  {
   "cell_type": "markdown",
   "metadata": {
    "nbpresent": {
     "id": "38534597-341b-4739-a332-36697d791ffd"
    },
    "slideshow": {
     "slide_type": "subslide"
    }
   },
   "source": [
    "It is important to note that in situations like this, only the first test is evaluated. In an if-elif-else chain, once a test passes the rest of the conditions are ignored."
   ]
  },
  {
   "cell_type": "code",
   "execution_count": 33,
   "metadata": {
    "collapsed": false,
    "nbpresent": {
     "id": "590a6aaa-8a24-4e89-beb2-9cfe51af975c"
    },
    "slideshow": {
     "slide_type": "fragment"
    }
   },
   "outputs": [
    {
     "name": "stdout",
     "output_type": "stream",
     "text": [
      "Wow, we have a lot of dogs here!\n"
     ]
    }
   ],
   "source": [
    "dogs = ['willie', 'hootz', 'peso', 'monty']\n",
    "\n",
    "if len(dogs) >= 5:\n",
    "    print(\"Holy mackerel, we might as well start a dog hostel!\")\n",
    "elif len(dogs) >= 3:\n",
    "    print(\"Wow, we have a lot of dogs here!\")\n",
    "else:\n",
    "    print(\"Okay, this is a reasonable number of dogs.\")"
   ]
  },
  {
   "cell_type": "markdown",
   "metadata": {
    "nbpresent": {
     "id": "9db248a9-f146-4566-8902-9b57b975a657"
    },
    "slideshow": {
     "slide_type": "subslide"
    }
   },
   "source": [
    "The first test failed, so Python evaluated the second test. That test passed, so the statement corresponding to `len(dogs) >= 3` is executed."
   ]
  },
  {
   "cell_type": "code",
   "execution_count": 34,
   "metadata": {
    "collapsed": false,
    "nbpresent": {
     "id": "210eb580-085a-40d9-bc62-ab7928bbab58"
    },
    "slideshow": {
     "slide_type": "fragment"
    }
   },
   "outputs": [
    {
     "name": "stdout",
     "output_type": "stream",
     "text": [
      "Okay, this is a reasonable number of dogs.\n"
     ]
    }
   ],
   "source": [
    "dogs = ['willie', 'hootz']\n",
    "\n",
    "if len(dogs) >= 5:\n",
    "    print(\"Holy mackerel, we might as well start a dog hostel!\")\n",
    "elif len(dogs) >= 3:\n",
    "    print(\"Wow, we have a lot of dogs here!\")\n",
    "else:\n",
    "    print(\"Okay, this is a reasonable number of dogs.\")"
   ]
  },
  {
   "cell_type": "markdown",
   "metadata": {
    "nbpresent": {
     "id": "b4adb205-cf2b-4ef0-9a86-d34b56ca3406"
    },
    "slideshow": {
     "slide_type": "subslide"
    }
   },
   "source": [
    "In this situation, the first two tests fail, so the statement in the else clause is executed. Note that this statement would be executed even if there are no dogs at all:"
   ]
  },
  {
   "cell_type": "code",
   "execution_count": 35,
   "metadata": {
    "collapsed": false,
    "nbpresent": {
     "id": "d0c29537-049f-474f-a25c-9e7bebc7868f"
    },
    "slideshow": {
     "slide_type": "fragment"
    }
   },
   "outputs": [
    {
     "name": "stdout",
     "output_type": "stream",
     "text": [
      "Okay, this is a reasonable number of dogs.\n"
     ]
    }
   ],
   "source": [
    "dogs = []\n",
    "\n",
    "if len(dogs) >= 5:\n",
    "    print(\"Holy mackerel, we might as well start a dog hostel!\")\n",
    "elif len(dogs) >= 3:\n",
    "    print(\"Wow, we have a lot of dogs here!\")\n",
    "else:\n",
    "    print(\"Okay, this is a reasonable number of dogs.\")"
   ]
  },
  {
   "cell_type": "markdown",
   "metadata": {
    "nbpresent": {
     "id": "959239b3-cb1a-4a33-ac97-e9d28686d0f9"
    },
    "slideshow": {
     "slide_type": "subslide"
    }
   },
   "source": [
    "Note that you don't have to take any action at all when you start a series of if statements. You could simply do nothing in the situation that there are no dogs by replacing the `else` clause with another `elif` clause:"
   ]
  },
  {
   "cell_type": "code",
   "execution_count": 36,
   "metadata": {
    "collapsed": false,
    "nbpresent": {
     "id": "32be07d1-307c-4255-ac0d-8a4a6ccffe65"
    },
    "slideshow": {
     "slide_type": "fragment"
    }
   },
   "outputs": [],
   "source": [
    "###highlight=[8]\n",
    "dogs = []\n",
    "\n",
    "if len(dogs) >= 5:\n",
    "    print(\"Holy mackerel, we might as well start a dog hostel!\")\n",
    "elif len(dogs) >= 3:\n",
    "    print(\"Wow, we have a lot of dogs here!\")\n",
    "elif len(dogs) >= 1:\n",
    "    print(\"Okay, this is a reasonable number of dogs.\")"
   ]
  },
  {
   "cell_type": "markdown",
   "metadata": {
    "nbpresent": {
     "id": "4f986473-47a7-44d8-bbe9-535d8dc1606c"
    },
    "slideshow": {
     "slide_type": "subslide"
    }
   },
   "source": [
    "In this case, we only print a message if there is at least one dog present. Of course, you could add a new `else` clause to respond to the situation in which there are no dogs at all:"
   ]
  },
  {
   "cell_type": "code",
   "execution_count": 37,
   "metadata": {
    "collapsed": false,
    "nbpresent": {
     "id": "56d6508d-08dd-4829-8ac7-69d93cd6001e"
    },
    "slideshow": {
     "slide_type": "fragment"
    }
   },
   "outputs": [
    {
     "name": "stdout",
     "output_type": "stream",
     "text": [
      "I wish we had a dog here.\n"
     ]
    }
   ],
   "source": [
    "###highlight=[10,11]\n",
    "dogs = []\n",
    "\n",
    "if len(dogs) >= 5:\n",
    "    print(\"Holy mackerel, we might as well start a dog hostel!\")\n",
    "elif len(dogs) >= 3:\n",
    "    print(\"Wow, we have a lot of dogs here!\")\n",
    "elif len(dogs) >= 1:\n",
    "    print(\"Okay, this is a reasonable number of dogs.\")\n",
    "else:\n",
    "    print(\"I wish we had a dog here.\")"
   ]
  },
  {
   "cell_type": "markdown",
   "metadata": {
    "nbpresent": {
     "id": "78801662-daa9-4284-b376-92d063460154"
    },
    "slideshow": {
     "slide_type": "fragment"
    }
   },
   "source": [
    "As you can see, the if-elif-else chain lets you respond in very specific ways to any given situation."
   ]
  },
  {
   "cell_type": "markdown",
   "metadata": {
    "nbpresent": {
     "id": "140defa8-56dd-4876-a1e3-d10fe6af9886"
    },
    "slideshow": {
     "slide_type": "skip"
    }
   },
   "source": [
    "<a name='exercises_if-elif-else'></a>Exercises\n",
    "---\n",
    "#### Three is a Crowd\n",
    "- Make a list of names that includes at least four people.\n",
    "- Write an if test that prints a message about the room being crowded, if there are more than three people in your list.\n",
    "- Modify your list so that there are only two people in it. Use one of the methods for removing people from the list, don't just redefine the list.\n",
    "- Run your if test again. There should be no output this time, because there are less than three people in the list.\n",
    "- **Bonus:** Store your if test in a function called something like `crowd_test`.\n",
    "\n",
    "#### Three is a Crowd - Part 2\n",
    "- Save your program from *Three is a Crowd* under a new name.\n",
    "- Add an `else` statement to your if tests. If the `else` statement is run, have it print a message that the room is not very crowded.\n",
    "\n",
    "#### Six is a Mob\n",
    "- Save your program from *Three is a Crowd - Part 2* under a new name.\n",
    "- Add some names to your list, so that there are at least six people in the list.\n",
    "- Modify your tests so that\n",
    "    - If there are more than 5 people, a message is printed about there being a mob in the room.\n",
    "    - If there are 3-5 people, a message is printed about the room being crowded.\n",
    "    - If there are 1 or 2 people, a message is printed about the room not being crowded.\n",
    "    - If there are no people in the room, a message is printed abou the room being empty."
   ]
  },
  {
   "cell_type": "code",
   "execution_count": null,
   "metadata": {
    "collapsed": false,
    "nbpresent": {
     "id": "e3f71e79-7a78-432f-b408-03c0c0f651b3"
    },
    "slideshow": {
     "slide_type": "skip"
    }
   },
   "outputs": [],
   "source": [
    "# Ex 5.2 : Three is a Crowd\n",
    "\n",
    "# put your code here"
   ]
  },
  {
   "cell_type": "code",
   "execution_count": null,
   "metadata": {
    "collapsed": false,
    "nbpresent": {
     "id": "5602d0d7-6889-4cd6-a5b6-e4bbd9e6c876"
    },
    "slideshow": {
     "slide_type": "skip"
    }
   },
   "outputs": [],
   "source": [
    "# Ex 5.3 : Three is a Crowd - Part 2\n",
    "\n",
    "# put your code here"
   ]
  },
  {
   "cell_type": "code",
   "execution_count": null,
   "metadata": {
    "collapsed": false,
    "nbpresent": {
     "id": "144f2dd0-f8c3-4fda-8289-9af05bdaddd2"
    },
    "slideshow": {
     "slide_type": "skip"
    }
   },
   "outputs": [],
   "source": [
    "# Ex 5.4 : Six is a Mob\n",
    "\n",
    "# put your code here"
   ]
  },
  {
   "cell_type": "markdown",
   "metadata": {
    "nbpresent": {
     "id": "a4bf56bd-6e31-431b-91bd-14be85aff1c4"
    },
    "slideshow": {
     "slide_type": "skip"
    }
   },
   "source": [
    "[top](#top)"
   ]
  },
  {
   "cell_type": "markdown",
   "metadata": {
    "nbpresent": {
     "id": "fd3054f1-f57f-42cd-b0ac-e8581813f076"
    },
    "slideshow": {
     "slide_type": "slide"
    }
   },
   "source": [
    "<a name='more_than_one'></a>More than one passing test\n",
    "===\n",
    "In all of the examples we have seen so far, only one test can pass. As soon as the first test passes, the rest of the tests are ignored. This is really good, because it allows our code to run more efficiently. Many times only one condition can be true, so testing every condition after one passes would be meaningless.\n",
    "\n",
    "There are situations in which you want to run a series of tests, where every single test runs. These are situations where any or all of the tests could pass, and you want to respond to each passing test. Consider the following example, where we want to greet each dog that is present:"
   ]
  },
  {
   "cell_type": "code",
   "execution_count": 38,
   "metadata": {
    "collapsed": false,
    "nbpresent": {
     "id": "ecac6db0-a231-4f2e-b1db-78ed9055f78d"
    },
    "slideshow": {
     "slide_type": "subslide"
    }
   },
   "outputs": [
    {
     "name": "stdout",
     "output_type": "stream",
     "text": [
      "Hello, Willie!\n",
      "Hello, Hootz!\n"
     ]
    }
   ],
   "source": [
    "dogs = ['willie', 'hootz']\n",
    "\n",
    "if 'willie' in dogs:\n",
    "    print(\"Hello, Willie!\")\n",
    "if 'hootz' in dogs:\n",
    "    print(\"Hello, Hootz!\")\n",
    "if 'peso' in dogs:\n",
    "    print(\"Hello, Peso!\")\n",
    "if 'monty' in dogs:\n",
    "    print(\"Hello, Monty!\")"
   ]
  },
  {
   "cell_type": "markdown",
   "metadata": {
    "nbpresent": {
     "id": "b0cf1466-a31d-4c9b-b10b-73409ac71e9a"
    },
    "slideshow": {
     "slide_type": "subslide"
    }
   },
   "source": [
    "If we had done this using an if-elif-else chain, only the first dog that is present would be greeted:"
   ]
  },
  {
   "cell_type": "code",
   "execution_count": 41,
   "metadata": {
    "collapsed": false,
    "nbpresent": {
     "id": "e66ec32b-60bf-48b1-835b-2a726f652afd"
    },
    "slideshow": {
     "slide_type": "fragment"
    }
   },
   "outputs": [
    {
     "name": "stdout",
     "output_type": "stream",
     "text": [
      "Hello, Willie!\n"
     ]
    }
   ],
   "source": [
    "###highlight=[6,7,8,9,10,11]\n",
    "dogs = ['willie', 'hootz']\n",
    "\n",
    "if 'willie' in dogs:\n",
    "    print(\"Hello, Willie!\")\n",
    "elif 'hootz' in dogs:\n",
    "    print(\"Hello, Hootz!\")\n",
    "elif 'peso' in dogs:\n",
    "    print(\"Hello, Peso!\")\n",
    "elif 'monty' in dogs:\n",
    "    print(\"Hello, Monty!\")"
   ]
  },
  {
   "cell_type": "markdown",
   "metadata": {
    "nbpresent": {
     "id": "dd4913ee-d96b-4c92-8eab-fc2c1f34508e"
    },
    "slideshow": {
     "slide_type": "subslide"
    }
   },
   "source": [
    "Of course, this could be written much more cleanly using lists and for loops. See if you can follow this code."
   ]
  },
  {
   "cell_type": "code",
   "execution_count": 43,
   "metadata": {
    "collapsed": false,
    "nbpresent": {
     "id": "bda7d921-5353-4923-b58b-ec7abd00c93b"
    },
    "slideshow": {
     "slide_type": "fragment"
    }
   },
   "outputs": [
    {
     "name": "stdout",
     "output_type": "stream",
     "text": [
      "Hello, Willie!\n",
      "Hello, Hootz!\n"
     ]
    }
   ],
   "source": [
    "dogs_we_know = ['willie', 'hootz', 'peso', 'monty', 'juno', 'turkey']\n",
    "dogs_present = ['willie', 'hootz']\n",
    "\n",
    "# Go through all the dogs that are present, and greet the dogs we know.\n",
    "for dog in dogs_present:\n",
    "    if dog in dogs_we_know:\n",
    "        print(\"Hello, %s!\" % dog.title())"
   ]
  },
  {
   "cell_type": "markdown",
   "metadata": {
    "nbpresent": {
     "id": "2891893e-1864-4de5-b51e-46065d59d875"
    },
    "slideshow": {
     "slide_type": "fragment"
    }
   },
   "source": [
    "This is the kind of code you should be aiming to write. It is fine to come up with code that is less efficient at first. When you notice yourself writing the same kind of code repeatedly in one program, look to see if you can use a loop or a function to make your code more efficient."
   ]
  },
  {
   "cell_type": "markdown",
   "metadata": {
    "nbpresent": {
     "id": "704e6a09-d535-4729-917e-9f76aca9e8a3"
    }
   },
   "source": [
    "# ADD LOGICAL OPERATORS"
   ]
  },
  {
   "cell_type": "markdown",
   "metadata": {
    "nbpresent": {
     "id": "d15fe72b-c3b2-45d9-842c-2eb90371b545"
    },
    "slideshow": {
     "slide_type": "skip"
    }
   },
   "source": [
    "[top](#top)"
   ]
  },
  {
   "cell_type": "markdown",
   "metadata": {
    "nbpresent": {
     "id": "ee0e3d65-34fe-4cb8-9910-a22cf9ef8f07"
    },
    "slideshow": {
     "slide_type": "slide"
    }
   },
   "source": [
    "<a name=\"true_false\"></a>True and False values\n",
    "===\n",
    "Every value can be evaluated as True or False. The general rule is that any non-zero or non-empty value will evaluate to True. If you are ever unsure, you can open a Python terminal and write two lines to find out if the value you are considering is True or False."
   ]
  },
  {
   "cell_type": "markdown",
   "metadata": {
    "nbpresent": {
     "id": "07df584e-4ab7-4d50-9b9b-dd8a9598728f"
    },
    "slideshow": {
     "slide_type": "fragment"
    }
   },
   "source": [
    "Take a look at the following examples, keep them in mind, and test any value you are curious about."
   ]
  },
  {
   "cell_type": "markdown",
   "metadata": {
    "nbpresent": {
     "id": "bc94f19d-11f3-4155-9037-a5ddb80330a8"
    },
    "slideshow": {
     "slide_type": "subslide"
    }
   },
   "source": [
    "I am using a slightly longer test just to make sure something gets printed each time."
   ]
  },
  {
   "cell_type": "code",
   "execution_count": 60,
   "metadata": {
    "collapsed": false,
    "nbpresent": {
     "id": "8401b785-45cb-4720-a6f0-d648b9070a09"
    },
    "slideshow": {
     "slide_type": "fragment"
    }
   },
   "outputs": [
    {
     "name": "stdout",
     "output_type": "stream",
     "text": [
      "This evaluates to False.\n"
     ]
    }
   ],
   "source": [
    "if 0:\n",
    "    print(\"This evaluates to True.\")\n",
    "else:\n",
    "    print(\"This evaluates to False.\")"
   ]
  },
  {
   "cell_type": "code",
   "execution_count": 61,
   "metadata": {
    "collapsed": false,
    "nbpresent": {
     "id": "647111ef-791a-49bd-82fc-e5ce4243213d"
    },
    "slideshow": {
     "slide_type": "fragment"
    }
   },
   "outputs": [
    {
     "name": "stdout",
     "output_type": "stream",
     "text": [
      "This evaluates to True.\n"
     ]
    }
   ],
   "source": [
    "if 1:\n",
    "    print(\"This evaluates to True.\")\n",
    "else:\n",
    "    print(\"This evaluates to False.\")"
   ]
  },
  {
   "cell_type": "code",
   "execution_count": 62,
   "metadata": {
    "collapsed": false,
    "nbpresent": {
     "id": "f618786c-b3c1-403b-b676-cdd739f6cc9e"
    },
    "slideshow": {
     "slide_type": "subslide"
    }
   },
   "outputs": [
    {
     "name": "stdout",
     "output_type": "stream",
     "text": [
      "This evaluates to True.\n"
     ]
    }
   ],
   "source": [
    "# Arbitrary non-zero numbers evaluate to True.\n",
    "if 1253756:\n",
    "    print(\"This evaluates to True.\")\n",
    "else:\n",
    "    print(\"This evaluates to False.\")"
   ]
  },
  {
   "cell_type": "code",
   "execution_count": 63,
   "metadata": {
    "collapsed": false,
    "nbpresent": {
     "id": "f7af450d-7b1b-4d12-bd21-4889b3f55460"
    },
    "slideshow": {
     "slide_type": "fragment"
    }
   },
   "outputs": [
    {
     "name": "stdout",
     "output_type": "stream",
     "text": [
      "This evaluates to True.\n"
     ]
    }
   ],
   "source": [
    "# Negative numbers are not zero, so they evaluate to True.\n",
    "if -1:\n",
    "    print(\"This evaluates to True.\")\n",
    "else:\n",
    "    print(\"This evaluates to False.\")"
   ]
  },
  {
   "cell_type": "code",
   "execution_count": 64,
   "metadata": {
    "collapsed": false,
    "nbpresent": {
     "id": "21d2c91d-987a-4436-ad1f-e4a421504973"
    },
    "slideshow": {
     "slide_type": "subslide"
    }
   },
   "outputs": [
    {
     "name": "stdout",
     "output_type": "stream",
     "text": [
      "This evaluates to False.\n"
     ]
    }
   ],
   "source": [
    "# An empty string evaluates to False.\n",
    "if '':\n",
    "    print(\"This evaluates to True.\")\n",
    "else:\n",
    "    print(\"This evaluates to False.\")"
   ]
  },
  {
   "cell_type": "code",
   "execution_count": 66,
   "metadata": {
    "collapsed": false,
    "nbpresent": {
     "id": "c52131bd-69ae-4eae-9bec-42c186542841"
    },
    "slideshow": {
     "slide_type": "fragment"
    }
   },
   "outputs": [
    {
     "name": "stdout",
     "output_type": "stream",
     "text": [
      "This evaluates to True.\n"
     ]
    }
   ],
   "source": [
    "# Any other string, including a space, evaluates to True.\n",
    "if ' ':\n",
    "    print(\"This evaluates to True.\")\n",
    "else:\n",
    "    print(\"This evaluates to False.\")"
   ]
  },
  {
   "cell_type": "code",
   "execution_count": 67,
   "metadata": {
    "collapsed": false,
    "nbpresent": {
     "id": "47ef3c36-e894-4ebf-8d08-cb2697366ce3"
    },
    "slideshow": {
     "slide_type": "subslide"
    }
   },
   "outputs": [
    {
     "name": "stdout",
     "output_type": "stream",
     "text": [
      "This evaluates to True.\n"
     ]
    }
   ],
   "source": [
    "# Any other string, including a space, evaluates to True.\n",
    "if 'hello':\n",
    "    print(\"This evaluates to True.\")\n",
    "else:\n",
    "    print(\"This evaluates to False.\")"
   ]
  },
  {
   "cell_type": "code",
   "execution_count": 68,
   "metadata": {
    "collapsed": false,
    "nbpresent": {
     "id": "731d5b70-2fbc-42ed-9ce2-9edc6232488d"
    },
    "slideshow": {
     "slide_type": "fragment"
    }
   },
   "outputs": [
    {
     "name": "stdout",
     "output_type": "stream",
     "text": [
      "This evaluates to False.\n"
     ]
    }
   ],
   "source": [
    "# None is a special object in Python. It evaluates to False.\n",
    "if None:\n",
    "    print(\"This evaluates to True.\")\n",
    "else:\n",
    "    print(\"This evaluates to False.\")"
   ]
  },
  {
   "cell_type": "markdown",
   "metadata": {
    "nbpresent": {
     "id": "4799e655-c8f1-4f91-8a1e-a6bbd44394a4"
    },
    "slideshow": {
     "slide_type": "skip"
    }
   },
   "source": [
    "[top](#top)"
   ]
  },
  {
   "cell_type": "markdown",
   "metadata": {
    "nbpresent": {
     "id": "1ca4fca7-dcf3-4227-a6e9-5996e3f51714"
    },
    "slideshow": {
     "slide_type": "skip"
    }
   },
   "source": [
    "<a name='overall_challenges'></a>Overall Challenges\n",
    "===\n",
    "#### Alien Points\n",
    "- Make a list of ten aliens, each of which is one color: 'red', 'green', or 'blue'.\n",
    "    - You can shorten this to 'r', 'g', and 'b' if you want, but if you choose this option you have to include a comment explaining what r, g, and b stand for.\n",
    "- Red aliens are worth 5 points, green aliens are worth 10 points, and blue aliens are worth 20 points.\n",
    "- Use a for loop to determine the number of points a player would earn for destroying all of the aliens in your list.\n",
    "- [hint](#hint_alien_points)"
   ]
  },
  {
   "cell_type": "code",
   "execution_count": null,
   "metadata": {
    "collapsed": false,
    "nbpresent": {
     "id": "84e49571-cefe-4d02-b714-954aaaedc459"
    },
    "slideshow": {
     "slide_type": "skip"
    }
   },
   "outputs": [],
   "source": [
    "# Overall Challenge: Alien Points\n",
    "\n",
    "# Put your code here"
   ]
  },
  {
   "cell_type": "markdown",
   "metadata": {
    "nbpresent": {
     "id": "bd7ceee2-131e-49a6-94db-efde84e7a978"
    },
    "slideshow": {
     "slide_type": "skip"
    }
   },
   "source": [
    "[top](#top)"
   ]
  },
  {
   "cell_type": "markdown",
   "metadata": {
    "nbpresent": {
     "id": "0b2bdabe-2917-426b-a9cc-2bd949cc138e"
    },
    "slideshow": {
     "slide_type": "skip"
    }
   },
   "source": [
    "Hints\n",
    "===\n",
    "These are placed at the bottom, so you can have a chance to solve exercises without seeing any hints.\n",
    "\n",
    "####<a name='hint_alien_invaders'></a> Alien Invaders\n",
    "- After you define your list of aliens, set a variable called `current_score` or `current_points` equal to 0.\n",
    "- Inside your for loop, write a series of if tests to determine how many points to add to the current score.\n",
    "- To keep a running total, use the syntax `current_score = current_score + points`, where *points* is the number of points for the current alien."
   ]
  }
 ],
 "metadata": {
  "anaconda-cloud": {},
  "kernelspec": {
   "display_name": "Python [default]",
   "language": "python",
   "name": "python3"
  },
  "language_info": {
   "codemirror_mode": {
    "name": "ipython",
    "version": 3
   },
   "file_extension": ".py",
   "mimetype": "text/x-python",
   "name": "python",
   "nbconvert_exporter": "python",
   "pygments_lexer": "ipython3",
   "version": "3.5.2"
  },
  "nbpresent": {
   "slides": {
    "01e91e8d-c2d2-4bce-afa3-36c9132955d3": {
     "id": "01e91e8d-c2d2-4bce-afa3-36c9132955d3",
     "prev": "75d09b30-75b5-4dff-805b-329f7e317e27",
     "regions": {
      "c50b037c-4fa7-48cf-a6df-0622d027586c": {
       "attrs": {
        "height": 0.8,
        "width": 0.8,
        "x": 0.1,
        "y": 0.1
       },
       "content": {
        "cell": "84e49571-cefe-4d02-b714-954aaaedc459",
        "part": "whole"
       },
       "id": "c50b037c-4fa7-48cf-a6df-0622d027586c"
      }
     }
    },
    "02280a09-c95b-42a7-8140-f7dba72f0b8d": {
     "id": "02280a09-c95b-42a7-8140-f7dba72f0b8d",
     "prev": "960247ac-a26c-44d8-8263-c7063ba18d77",
     "regions": {
      "756a3aaf-b228-4fa6-9601-d5c4f5b82880": {
       "attrs": {
        "height": 0.8,
        "width": 0.8,
        "x": 0.1,
        "y": 0.1
       },
       "content": {
        "cell": "9d7e54f0-8b9f-484a-be5b-b182c9525e2d",
        "part": "whole"
       },
       "id": "756a3aaf-b228-4fa6-9601-d5c4f5b82880"
      }
     }
    },
    "04d28e31-ecce-4922-890f-e99677efb3bb": {
     "id": "04d28e31-ecce-4922-890f-e99677efb3bb",
     "prev": "28c92453-2024-4734-807c-de1b90720656",
     "regions": {
      "fc67e3b2-247a-40e2-a69d-0642476a995c": {
       "attrs": {
        "height": 0.8,
        "width": 0.8,
        "x": 0.1,
        "y": 0.1
       },
       "content": {
        "cell": "86805c98-ecda-42ac-a174-bdaa657d282b",
        "part": "whole"
       },
       "id": "fc67e3b2-247a-40e2-a69d-0642476a995c"
      }
     }
    },
    "08332c1d-5ea1-49c4-9e9a-b8907b049135": {
     "id": "08332c1d-5ea1-49c4-9e9a-b8907b049135",
     "prev": "9864b6c6-6542-4d9d-b8f3-2f22379817c2",
     "regions": {
      "947fa938-ee8f-4bdb-91f9-fb5d7d56b944": {
       "attrs": {
        "height": 0.8,
        "width": 0.8,
        "x": 0.1,
        "y": 0.1
       },
       "content": {
        "cell": "c52131bd-69ae-4eae-9bec-42c186542841",
        "part": "whole"
       },
       "id": "947fa938-ee8f-4bdb-91f9-fb5d7d56b944"
      }
     }
    },
    "09fbc5d4-87b0-466b-9b09-b0ed15ae5bbd": {
     "id": "09fbc5d4-87b0-466b-9b09-b0ed15ae5bbd",
     "prev": "131bb195-f95b-48be-a7f4-15fe5c5452cd",
     "regions": {
      "ac3fcc7d-52c1-44ae-9aac-92ddab3edb81": {
       "attrs": {
        "height": 0.8,
        "width": 0.8,
        "x": 0.1,
        "y": 0.1
       },
       "content": {
        "cell": "880adccd-dc92-4fc4-8947-c4e56d2c1e61",
        "part": "whole"
       },
       "id": "ac3fcc7d-52c1-44ae-9aac-92ddab3edb81"
      }
     }
    },
    "0a24f03f-7130-4748-bd22-4ae1bfa9dbc3": {
     "id": "0a24f03f-7130-4748-bd22-4ae1bfa9dbc3",
     "prev": "cfce37fc-e472-42b4-bde4-6b583c183584",
     "regions": {
      "e8254303-6f1e-46fb-9fc5-cf4c9532b02b": {
       "attrs": {
        "height": 0.8,
        "width": 0.8,
        "x": 0.1,
        "y": 0.1
       },
       "content": {
        "cell": "119ee9d3-65cd-4b47-a1fc-93c70bce43ac",
        "part": "whole"
       },
       "id": "e8254303-6f1e-46fb-9fc5-cf4c9532b02b"
      }
     }
    },
    "0bd85b36-5d77-4878-8b97-4ca546ac6a96": {
     "id": "0bd85b36-5d77-4878-8b97-4ca546ac6a96",
     "prev": "cc2359df-2638-4f91-9d31-1549266969a8",
     "regions": {
      "f4e3d310-c0b0-4801-a0fc-7e60be54071d": {
       "attrs": {
        "height": 0.8,
        "width": 0.8,
        "x": 0.1,
        "y": 0.1
       },
       "content": {
        "cell": "faca2334-79a5-4a66-a1b7-00b3258be804",
        "part": "whole"
       },
       "id": "f4e3d310-c0b0-4801-a0fc-7e60be54071d"
      }
     }
    },
    "0e0b0584-cee1-4861-945e-4c386046ff94": {
     "id": "0e0b0584-cee1-4861-945e-4c386046ff94",
     "prev": "c3913ee7-fe16-4eff-99aa-f4ed6f87c36b",
     "regions": {
      "78e2d21a-858d-400c-a53c-5730ccb0bfb0": {
       "attrs": {
        "height": 0.8,
        "width": 0.8,
        "x": 0.1,
        "y": 0.1
       },
       "content": {
        "cell": "b4adb205-cf2b-4ef0-9a86-d34b56ca3406",
        "part": "whole"
       },
       "id": "78e2d21a-858d-400c-a53c-5730ccb0bfb0"
      }
     }
    },
    "0eef294e-4989-4b37-a0d1-6eb17a3dae8b": {
     "id": "0eef294e-4989-4b37-a0d1-6eb17a3dae8b",
     "prev": "96591e7c-5244-4b33-b921-a299a1aba5a6",
     "regions": {
      "5d0c45be-593a-4d47-ac03-bbf0b01bc833": {
       "attrs": {
        "height": 0.8,
        "width": 0.8,
        "x": 0.1,
        "y": 0.1
       },
       "content": {
        "cell": "209f5ade-6f90-4a41-a754-f750967480da",
        "part": "whole"
       },
       "id": "5d0c45be-593a-4d47-ac03-bbf0b01bc833"
      }
     }
    },
    "0f6bdc60-690c-4244-b603-3de1063aebc1": {
     "id": "0f6bdc60-690c-4244-b603-3de1063aebc1",
     "prev": "f97e982c-fec3-4eb8-b0dd-44054c53ec99",
     "regions": {
      "7b980416-dd1c-43f4-ba31-7d2e334cc7ee": {
       "attrs": {
        "height": 0.8,
        "width": 0.8,
        "x": 0.1,
        "y": 0.1
       },
       "content": {
        "cell": "3ffe7605-6110-466d-84fc-4a928fabdabb",
        "part": "whole"
       },
       "id": "7b980416-dd1c-43f4-ba31-7d2e334cc7ee"
      }
     }
    },
    "1069d1ce-ded8-4652-a5a1-1b2ddca2098b": {
     "id": "1069d1ce-ded8-4652-a5a1-1b2ddca2098b",
     "prev": "aed97452-b864-4ea3-8d36-987420ed1cc9",
     "regions": {
      "1946d10f-d6d1-4a79-87f3-6a56e7b0c859": {
       "attrs": {
        "height": 0.8,
        "width": 0.8,
        "x": 0.1,
        "y": 0.1
       },
       "content": {
        "cell": "dd4913ee-d96b-4c92-8eab-fc2c1f34508e",
        "part": "whole"
       },
       "id": "1946d10f-d6d1-4a79-87f3-6a56e7b0c859"
      }
     }
    },
    "131bb195-f95b-48be-a7f4-15fe5c5452cd": {
     "id": "131bb195-f95b-48be-a7f4-15fe5c5452cd",
     "prev": "15ff7baa-104a-43dd-ab1a-1f1c5d8c6531",
     "regions": {
      "baed894e-e17b-4846-815b-0a2bf95d66b6": {
       "attrs": {
        "height": 0.8,
        "width": 0.8,
        "x": 0.1,
        "y": 0.1
       },
       "content": {
        "cell": "b0cf0553-9a55-4e7b-8d6d-6655fa80bdb8",
        "part": "whole"
       },
       "id": "baed894e-e17b-4846-815b-0a2bf95d66b6"
      }
     }
    },
    "13508701-13de-411e-aebe-f614c2c7ffcf": {
     "id": "13508701-13de-411e-aebe-f614c2c7ffcf",
     "prev": "1c6998ee-27d1-43f8-b00a-0d377375ccf5",
     "regions": {
      "a4c5976a-6c97-45ee-8a4b-6fe5bf5a74f5": {
       "attrs": {
        "height": 0.8,
        "width": 0.8,
        "x": 0.1,
        "y": 0.1
       },
       "content": {
        "cell": "f7e39530-4509-4ff4-9543-7965952989e6",
        "part": "whole"
       },
       "id": "a4c5976a-6c97-45ee-8a4b-6fe5bf5a74f5"
      }
     }
    },
    "14eb287c-d3ba-4c23-a4e9-275681f0f39c": {
     "id": "14eb287c-d3ba-4c23-a4e9-275681f0f39c",
     "prev": "87cba587-58b0-4f8c-8340-00fc487e2132",
     "regions": {
      "70f1e30f-a03b-4dec-8ed5-8d74242cc1e3": {
       "attrs": {
        "height": 0.8,
        "width": 0.8,
        "x": 0.1,
        "y": 0.1
       },
       "content": {
        "cell": "d15fe72b-c3b2-45d9-842c-2eb90371b545",
        "part": "whole"
       },
       "id": "70f1e30f-a03b-4dec-8ed5-8d74242cc1e3"
      }
     }
    },
    "15ff7baa-104a-43dd-ab1a-1f1c5d8c6531": {
     "id": "15ff7baa-104a-43dd-ab1a-1f1c5d8c6531",
     "prev": "0bd85b36-5d77-4878-8b97-4ca546ac6a96",
     "regions": {
      "d1609fcb-aea5-417c-89a0-effe53fc1422": {
       "attrs": {
        "height": 0.8,
        "width": 0.8,
        "x": 0.1,
        "y": 0.1
       },
       "content": {
        "cell": "f12b9350-cf54-455c-9c2a-3bfa25f8c1e9",
        "part": "whole"
       },
       "id": "d1609fcb-aea5-417c-89a0-effe53fc1422"
      }
     }
    },
    "192ee6b8-d5a1-419f-ad84-86c27d15cba4": {
     "id": "192ee6b8-d5a1-419f-ad84-86c27d15cba4",
     "prev": "c546a1f1-079f-4672-8d35-fda89e8fee21",
     "regions": {
      "ffc1e106-8cae-4a16-80b3-174f3094ce26": {
       "attrs": {
        "height": 0.8,
        "width": 0.8,
        "x": 0.1,
        "y": 0.1
       },
       "content": {
        "cell": "acc5a0d0-8362-4f79-8466-2526932690c3",
        "part": "whole"
       },
       "id": "ffc1e106-8cae-4a16-80b3-174f3094ce26"
      }
     }
    },
    "1c6998ee-27d1-43f8-b00a-0d377375ccf5": {
     "id": "1c6998ee-27d1-43f8-b00a-0d377375ccf5",
     "prev": "7a4eedd9-6d0c-4fe9-a40c-63d27f2ec4b7",
     "regions": {
      "aa65112a-c888-4db9-8b34-a57937fd6b1e": {
       "attrs": {
        "height": 0.8,
        "width": 0.8,
        "x": 0.1,
        "y": 0.1
       },
       "content": {
        "cell": "794fcb1a-d820-4825-adb9-0ea108bfe226",
        "part": "whole"
       },
       "id": "aa65112a-c888-4db9-8b34-a57937fd6b1e"
      }
     }
    },
    "1d59bcb8-d911-4621-8190-87c572864f0c": {
     "id": "1d59bcb8-d911-4621-8190-87c572864f0c",
     "prev": "2da64b0c-759b-4926-a79a-f4c1d71f3a76",
     "regions": {
      "22f70d36-6bb7-4a07-bbdf-0de1bb9a7969": {
       "attrs": {
        "height": 0.8,
        "width": 0.8,
        "x": 0.1,
        "y": 0.1
       },
       "content": {
        "cell": "14e88711-1336-4e89-bf02-3026623a9dfc",
        "part": "whole"
       },
       "id": "22f70d36-6bb7-4a07-bbdf-0de1bb9a7969"
      }
     }
    },
    "1d6c005b-ac40-43f9-9b13-ee1c24162a3a": {
     "id": "1d6c005b-ac40-43f9-9b13-ee1c24162a3a",
     "prev": "1dd61828-2f95-4255-9711-dfe8812ee478",
     "regions": {
      "7b051ba7-0e95-4089-b899-283ac2aa652a": {
       "attrs": {
        "height": 0.8,
        "width": 0.8,
        "x": 0.1,
        "y": 0.1
       },
       "content": {
        "cell": "647111ef-791a-49bd-82fc-e5ce4243213d",
        "part": "whole"
       },
       "id": "7b051ba7-0e95-4089-b899-283ac2aa652a"
      }
     }
    },
    "1dc1ff0e-271e-4817-897f-2afcfedbf71b": {
     "id": "1dc1ff0e-271e-4817-897f-2afcfedbf71b",
     "prev": "9aa415ec-c536-4ad6-a130-7cb1b873799b",
     "regions": {
      "cec03004-3183-4e48-a1c3-13bdf9cd76e0": {
       "attrs": {
        "height": 0.8,
        "width": 0.8,
        "x": 0.1,
        "y": 0.1
       },
       "content": {
        "cell": "30248548-1b34-43e0-92a1-8997425022ea",
        "part": "whole"
       },
       "id": "cec03004-3183-4e48-a1c3-13bdf9cd76e0"
      }
     }
    },
    "1dd61828-2f95-4255-9711-dfe8812ee478": {
     "id": "1dd61828-2f95-4255-9711-dfe8812ee478",
     "prev": "45e2fc1e-52bb-4f4d-aecc-01541e5aba59",
     "regions": {
      "caf2c488-d4d5-4ce3-b8c7-a4685ba3b901": {
       "attrs": {
        "height": 0.8,
        "width": 0.8,
        "x": 0.1,
        "y": 0.1
       },
       "content": {
        "cell": "8401b785-45cb-4720-a6f0-d648b9070a09",
        "part": "whole"
       },
       "id": "caf2c488-d4d5-4ce3-b8c7-a4685ba3b901"
      }
     }
    },
    "24a65481-0526-44d0-8383-f61c5275c8f4": {
     "id": "24a65481-0526-44d0-8383-f61c5275c8f4",
     "prev": "94364cd2-8c4d-48e4-8bcf-bc1479642c1c",
     "regions": {
      "779bbb5d-f0ff-4a65-ba8a-01b05c78999c": {
       "attrs": {
        "height": 0.8,
        "width": 0.8,
        "x": 0.1,
        "y": 0.1
       },
       "content": {
        "cell": "74600583-8992-48c5-aec5-570f034d126e",
        "part": "whole"
       },
       "id": "779bbb5d-f0ff-4a65-ba8a-01b05c78999c"
      }
     }
    },
    "26ecda62-58c0-4189-91a6-af7df2b0001d": {
     "id": "26ecda62-58c0-4189-91a6-af7df2b0001d",
     "prev": "d52d8286-d9da-4dde-9747-8f36390d8ed7",
     "regions": {
      "6ba3cb34-aaae-4853-8dcc-e68d8a12451c": {
       "attrs": {
        "height": 0.8,
        "width": 0.8,
        "x": 0.1,
        "y": 0.1
       },
       "content": {
        "cell": "bf493c46-7d83-40fe-999a-b0e2d87302f2",
        "part": "whole"
       },
       "id": "6ba3cb34-aaae-4853-8dcc-e68d8a12451c"
      }
     }
    },
    "27e82683-4e4f-427e-88b1-8530d5e62c89": {
     "id": "27e82683-4e4f-427e-88b1-8530d5e62c89",
     "prev": "c3c93a2b-57ef-4a83-90d4-0765a5b1f44b",
     "regions": {
      "50c8f07a-7a57-41c6-9cc6-24824ca97676": {
       "attrs": {
        "height": 0.8,
        "width": 0.8,
        "x": 0.1,
        "y": 0.1
       },
       "content": {
        "cell": "9db248a9-f146-4566-8902-9b57b975a657",
        "part": "whole"
       },
       "id": "50c8f07a-7a57-41c6-9cc6-24824ca97676"
      }
     }
    },
    "28c92453-2024-4734-807c-de1b90720656": {
     "id": "28c92453-2024-4734-807c-de1b90720656",
     "prev": "f476a32e-982f-4565-bb9b-bf17e7b1d78e",
     "regions": {
      "7e18f677-f3cc-4d28-b809-41485e2a64ac": {
       "attrs": {
        "height": 0.8,
        "width": 0.8,
        "x": 0.1,
        "y": 0.1
       },
       "content": {
        "cell": "5fc10984-8c78-4bf1-8487-3df5c3c7ff77",
        "part": "whole"
       },
       "id": "7e18f677-f3cc-4d28-b809-41485e2a64ac"
      }
     }
    },
    "2b8b6aaa-8327-47fa-92ad-3861314b9419": {
     "id": "2b8b6aaa-8327-47fa-92ad-3861314b9419",
     "prev": "01e91e8d-c2d2-4bce-afa3-36c9132955d3",
     "regions": {
      "639b4f1d-63ba-4a2d-877f-ee7766caa4d7": {
       "attrs": {
        "height": 0.8,
        "width": 0.8,
        "x": 0.1,
        "y": 0.1
       },
       "content": {
        "cell": "bd7ceee2-131e-49a6-94db-efde84e7a978",
        "part": "whole"
       },
       "id": "639b4f1d-63ba-4a2d-877f-ee7766caa4d7"
      }
     }
    },
    "2da64b0c-759b-4926-a79a-f4c1d71f3a76": {
     "id": "2da64b0c-759b-4926-a79a-f4c1d71f3a76",
     "prev": "7bc73239-4996-4435-b598-358030337e56",
     "regions": {
      "925b2d66-a0f7-4855-b459-00a3ac9ca1ff": {
       "attrs": {
        "height": 0.8,
        "width": 0.8,
        "x": 0.1,
        "y": 0.1
       },
       "content": {
        "cell": "e5cb81e4-fd77-4c15-8bda-9d97c0fad59e",
        "part": "whole"
       },
       "id": "925b2d66-a0f7-4855-b459-00a3ac9ca1ff"
      }
     }
    },
    "2ee6ea55-2ef4-4082-bebc-aa64049a7235": {
     "id": "2ee6ea55-2ef4-4082-bebc-aa64049a7235",
     "prev": "5885cd56-310c-4fb1-b995-25403ce77cb5",
     "regions": {
      "f1a2dbb8-94ca-40cd-afe1-3f6974780f36": {
       "attrs": {
        "height": 0.8,
        "width": 0.8,
        "x": 0.1,
        "y": 0.1
       },
       "content": {
        "cell": "abc98348-0479-4fa9-9a68-35838b9bcf02",
        "part": "whole"
       },
       "id": "f1a2dbb8-94ca-40cd-afe1-3f6974780f36"
      }
     }
    },
    "342abbda-d2e5-4a60-bdab-3178f98951a8": {
     "id": "342abbda-d2e5-4a60-bdab-3178f98951a8",
     "prev": "3c4b9d61-e8a6-49ef-b390-d445bd72c803",
     "regions": {
      "f8e7d720-45e3-43d9-a46f-4ec3eca4809e": {
       "attrs": {
        "height": 0.8,
        "width": 0.8,
        "x": 0.1,
        "y": 0.1
       },
       "content": {
        "cell": "35702fdd-294a-4f22-b333-557fd8b7051a",
        "part": "whole"
       },
       "id": "f8e7d720-45e3-43d9-a46f-4ec3eca4809e"
      }
     }
    },
    "3c4b9d61-e8a6-49ef-b390-d445bd72c803": {
     "id": "3c4b9d61-e8a6-49ef-b390-d445bd72c803",
     "prev": "d0caf9c8-62c2-4d99-9565-088ea4ca8de0",
     "regions": {
      "9aabf54f-7f87-4e7a-86e6-ccc3f0933c28": {
       "attrs": {
        "height": 0.8,
        "width": 0.8,
        "x": 0.1,
        "y": 0.1
       },
       "content": {
        "cell": "845baf72-8a6c-43cd-92cd-8bc29e138187",
        "part": "whole"
       },
       "id": "9aabf54f-7f87-4e7a-86e6-ccc3f0933c28"
      }
     }
    },
    "3e8bb4d5-d518-4f27-a03b-09b7cf6844f9": {
     "id": "3e8bb4d5-d518-4f27-a03b-09b7cf6844f9",
     "prev": "26ecda62-58c0-4189-91a6-af7df2b0001d",
     "regions": {
      "1b5be1f5-2e58-452e-b270-0cb90cb42117": {
       "attrs": {
        "height": 0.8,
        "width": 0.8,
        "x": 0.1,
        "y": 0.1
       },
       "content": {
        "cell": "544b5823-d09c-4f69-bc9f-b377d853e5b9",
        "part": "whole"
       },
       "id": "1b5be1f5-2e58-452e-b270-0cb90cb42117"
      }
     }
    },
    "3fd08362-9081-4d29-b418-1124ab463b7d": {
     "id": "3fd08362-9081-4d29-b418-1124ab463b7d",
     "prev": "08332c1d-5ea1-49c4-9e9a-b8907b049135",
     "regions": {
      "1f75c1f7-6cdd-4365-9fff-d69aa1322640": {
       "attrs": {
        "height": 0.8,
        "width": 0.8,
        "x": 0.1,
        "y": 0.1
       },
       "content": {
        "cell": "47ef3c36-e894-4ebf-8d08-cb2697366ce3",
        "part": "whole"
       },
       "id": "1f75c1f7-6cdd-4365-9fff-d69aa1322640"
      }
     }
    },
    "411ffee3-459c-4b4f-9f87-343a81254da6": {
     "id": "411ffee3-459c-4b4f-9f87-343a81254da6",
     "prev": "9f52ebf6-f6ec-44e3-a54b-3ae5c6377839",
     "regions": {
      "b8fd0d5b-7661-4724-8289-9014690b2b41": {
       "attrs": {
        "height": 0.8,
        "width": 0.8,
        "x": 0.1,
        "y": 0.1
       },
       "content": {
        "cell": "32be07d1-307c-4255-ac0d-8a4a6ccffe65",
        "part": "whole"
       },
       "id": "b8fd0d5b-7661-4724-8289-9014690b2b41"
      }
     }
    },
    "45e2fc1e-52bb-4f4d-aecc-01541e5aba59": {
     "id": "45e2fc1e-52bb-4f4d-aecc-01541e5aba59",
     "prev": "6c8bd1e8-7451-4237-a643-c6963ba57311",
     "regions": {
      "34398c66-4a4a-44eb-9509-8c626948d804": {
       "attrs": {
        "height": 0.8,
        "width": 0.8,
        "x": 0.1,
        "y": 0.1
       },
       "content": {
        "cell": "bc94f19d-11f3-4155-9037-a5ddb80330a8",
        "part": "whole"
       },
       "id": "34398c66-4a4a-44eb-9509-8c626948d804"
      }
     }
    },
    "4fa4787e-0285-4057-8d1a-ce9407366319": {
     "id": "4fa4787e-0285-4057-8d1a-ce9407366319",
     "prev": "2ee6ea55-2ef4-4082-bebc-aa64049a7235",
     "regions": {
      "41784fe6-30db-468b-91e6-f3365c9d32c3": {
       "attrs": {
        "height": 0.8,
        "width": 0.8,
        "x": 0.1,
        "y": 0.1
       },
       "content": {
        "cell": "fd243615-6756-4677-9a57-b3269d56d961",
        "part": "whole"
       },
       "id": "41784fe6-30db-468b-91e6-f3365c9d32c3"
      }
     }
    },
    "504732eb-98f1-45d7-a8ad-b4e45083a77c": {
     "id": "504732eb-98f1-45d7-a8ad-b4e45083a77c",
     "prev": "ce4bb11e-1c32-4551-a83f-54d9eaf73154",
     "regions": {
      "a4811450-58c2-4a33-8621-8f80b923e14c": {
       "attrs": {
        "height": 0.8,
        "width": 0.8,
        "x": 0.1,
        "y": 0.1
       },
       "content": {
        "cell": "7f2d189b-3002-4683-a320-858bc2cd87b1",
        "part": "whole"
       },
       "id": "a4811450-58c2-4a33-8621-8f80b923e14c"
      }
     }
    },
    "507a87fe-6137-4f8a-9eeb-0f6d328a08e1": {
     "id": "507a87fe-6137-4f8a-9eeb-0f6d328a08e1",
     "prev": "90afce5b-1964-4fc9-9f62-a345b38e4b3a",
     "regions": {
      "7fd62172-9f6e-4836-92f3-f7ae85cb5ec3": {
       "attrs": {
        "height": 0.8,
        "width": 0.8,
        "x": 0.1,
        "y": 0.1
       },
       "content": {
        "cell": "2891893e-1864-4de5-b51e-46065d59d875",
        "part": "whole"
       },
       "id": "7fd62172-9f6e-4836-92f3-f7ae85cb5ec3"
      }
     }
    },
    "5545edc1-d768-4de8-bfd9-5b29a9d08411": {
     "id": "5545edc1-d768-4de8-bfd9-5b29a9d08411",
     "prev": null,
     "regions": {
      "1ee2c4b1-4f53-43b9-85b1-7d82c758c218": {
       "attrs": {
        "height": 0.8,
        "width": 0.8,
        "x": 0.1,
        "y": 0.1
       },
       "content": {
        "cell": "3bced373-f575-483f-a8da-fda8c2b7cc6e",
        "part": "whole"
       },
       "id": "1ee2c4b1-4f53-43b9-85b1-7d82c758c218"
      }
     }
    },
    "5728ab5d-c47a-4923-b81d-00f0782cc8b3": {
     "id": "5728ab5d-c47a-4923-b81d-00f0782cc8b3",
     "prev": "c3c634cd-9661-46c4-be89-1b57de8103e7",
     "regions": {
      "53609ac8-6b98-4482-8803-0bc7674fc557": {
       "attrs": {
        "height": 0.8,
        "width": 0.8,
        "x": 0.1,
        "y": 0.1
       },
       "content": {
        "cell": "a4bf56bd-6e31-431b-91bd-14be85aff1c4",
        "part": "whole"
       },
       "id": "53609ac8-6b98-4482-8803-0bc7674fc557"
      }
     }
    },
    "5885cd56-310c-4fb1-b995-25403ce77cb5": {
     "id": "5885cd56-310c-4fb1-b995-25403ce77cb5",
     "prev": "1dc1ff0e-271e-4817-897f-2afcfedbf71b",
     "regions": {
      "e4bd1925-9b6f-49f2-a616-0cb1151c3239": {
       "attrs": {
        "height": 0.8,
        "width": 0.8,
        "x": 0.1,
        "y": 0.1
       },
       "content": {
        "cell": "8406cbd5-9d41-4689-a71a-4232a69c736a",
        "part": "whole"
       },
       "id": "e4bd1925-9b6f-49f2-a616-0cb1151c3239"
      }
     }
    },
    "5c5bdf26-384c-4c6d-afcd-cd8eef465a73": {
     "id": "5c5bdf26-384c-4c6d-afcd-cd8eef465a73",
     "prev": "4fa4787e-0285-4057-8d1a-ce9407366319",
     "regions": {
      "69716c7e-a19f-4972-b487-cc9c888aa32d": {
       "attrs": {
        "height": 0.8,
        "width": 0.8,
        "x": 0.1,
        "y": 0.1
       },
       "content": {
        "cell": "babab640-9516-4906-9eaa-8ea65d2c31b2",
        "part": "whole"
       },
       "id": "69716c7e-a19f-4972-b487-cc9c888aa32d"
      }
     }
    },
    "5f6d971d-4795-4613-a752-d14a2f40d676": {
     "id": "5f6d971d-4795-4613-a752-d14a2f40d676",
     "prev": "9b911ab8-edff-4d25-a1ed-52ddcaba8ff2",
     "regions": {
      "d6a8a70a-2c95-46dc-8dfd-5a60fcb97215": {
       "attrs": {
        "height": 0.8,
        "width": 0.8,
        "x": 0.1,
        "y": 0.1
       },
       "content": {
        "cell": "38534597-341b-4739-a332-36697d791ffd",
        "part": "whole"
       },
       "id": "d6a8a70a-2c95-46dc-8dfd-5a60fcb97215"
      }
     }
    },
    "605b7ac8-540c-4d6a-b0c8-d055319fb400": {
     "id": "605b7ac8-540c-4d6a-b0c8-d055319fb400",
     "prev": "7c4b089a-ec74-4992-aa2a-47eda7b85d55",
     "regions": {
      "5d7a2c17-a331-49f1-bfa0-d384e8aac1f1": {
       "attrs": {
        "height": 0.8,
        "width": 0.8,
        "x": 0.1,
        "y": 0.1
       },
       "content": {
        "cell": "b0cf1466-a31d-4c9b-b10b-73409ac71e9a",
        "part": "whole"
       },
       "id": "5d7a2c17-a331-49f1-bfa0-d384e8aac1f1"
      }
     }
    },
    "61bff80f-ebda-46e4-aadf-e89f54352975": {
     "id": "61bff80f-ebda-46e4-aadf-e89f54352975",
     "prev": "192ee6b8-d5a1-419f-ad84-86c27d15cba4",
     "regions": {
      "523d3fab-1885-416b-8294-06893221a7a4": {
       "attrs": {
        "height": 0.8,
        "width": 0.8,
        "x": 0.1,
        "y": 0.1
       },
       "content": {
        "cell": "60af5f55-c9a6-4fe3-923e-701c551d8e95",
        "part": "whole"
       },
       "id": "523d3fab-1885-416b-8294-06893221a7a4"
      }
     }
    },
    "62016bcd-9a0f-4f59-a2aa-c8678789c923": {
     "id": "62016bcd-9a0f-4f59-a2aa-c8678789c923",
     "prev": "342abbda-d2e5-4a60-bdab-3178f98951a8",
     "regions": {
      "e8c8f279-9480-4439-bea3-6938dd64f200": {
       "attrs": {
        "height": 0.8,
        "width": 0.8,
        "x": 0.1,
        "y": 0.1
       },
       "content": {
        "cell": "c29cb007-be59-4575-b263-672141d814ca",
        "part": "whole"
       },
       "id": "e8c8f279-9480-4439-bea3-6938dd64f200"
      }
     }
    },
    "627cc3ee-1594-44f3-8d36-ba03b93cabd7": {
     "id": "627cc3ee-1594-44f3-8d36-ba03b93cabd7",
     "prev": "f970a7af-413e-4976-8cfa-ab1773d5fff8",
     "regions": {
      "85b3a0f8-3193-48df-aec5-60ed2f039d79": {
       "attrs": {
        "height": 0.8,
        "width": 0.8,
        "x": 0.1,
        "y": 0.1
       },
       "content": {
        "cell": "140defa8-56dd-4876-a1e3-d10fe6af9886",
        "part": "whole"
       },
       "id": "85b3a0f8-3193-48df-aec5-60ed2f039d79"
      }
     }
    },
    "62b31107-bc21-4d3c-9689-2c2168d56f21": {
     "id": "62b31107-bc21-4d3c-9689-2c2168d56f21",
     "prev": "5728ab5d-c47a-4923-b81d-00f0782cc8b3",
     "regions": {
      "d0d2523c-7a9e-4973-8941-6521f7895f3e": {
       "attrs": {
        "height": 0.8,
        "width": 0.8,
        "x": 0.1,
        "y": 0.1
       },
       "content": {
        "cell": "fd3054f1-f57f-42cd-b0ac-e8581813f076",
        "part": "whole"
       },
       "id": "d0d2523c-7a9e-4973-8941-6521f7895f3e"
      }
     }
    },
    "62c1ab11-1139-45fe-92b4-8baf5fbcaf77": {
     "id": "62c1ab11-1139-45fe-92b4-8baf5fbcaf77",
     "prev": "411ffee3-459c-4b4f-9f87-343a81254da6",
     "regions": {
      "63d67f53-3a88-4069-a7f2-dc1195d3b84c": {
       "attrs": {
        "height": 0.8,
        "width": 0.8,
        "x": 0.1,
        "y": 0.1
       },
       "content": {
        "cell": "4f986473-47a7-44d8-bbe9-535d8dc1606c",
        "part": "whole"
       },
       "id": "63d67f53-3a88-4069-a7f2-dc1195d3b84c"
      }
     }
    },
    "641c9837-3411-4252-8fd7-f79c3f4f041a": {
     "id": "641c9837-3411-4252-8fd7-f79c3f4f041a",
     "prev": "5c5bdf26-384c-4c6d-afcd-cd8eef465a73",
     "regions": {
      "50bd2d5e-d835-410a-ae8a-eae72e2dc45d": {
       "attrs": {
        "height": 0.8,
        "width": 0.8,
        "x": 0.1,
        "y": 0.1
       },
       "content": {
        "cell": "448d26cc-87b2-4be3-a48a-ad21cb21f49b",
        "part": "whole"
       },
       "id": "50bd2d5e-d835-410a-ae8a-eae72e2dc45d"
      }
     }
    },
    "6569f814-db4b-4a4a-8b9a-8505762ecc9b": {
     "id": "6569f814-db4b-4a4a-8b9a-8505762ecc9b",
     "prev": "1d6c005b-ac40-43f9-9b13-ee1c24162a3a",
     "regions": {
      "ac480edb-4e5f-467f-b6be-ec6ff7ee5f61": {
       "attrs": {
        "height": 0.8,
        "width": 0.8,
        "x": 0.1,
        "y": 0.1
       },
       "content": {
        "cell": "f618786c-b3c1-403b-b676-cdd739f6cc9e",
        "part": "whole"
       },
       "id": "ac480edb-4e5f-467f-b6be-ec6ff7ee5f61"
      }
     }
    },
    "665960fc-6b9d-49a7-a521-ab53bb55eee1": {
     "id": "665960fc-6b9d-49a7-a521-ab53bb55eee1",
     "prev": "504732eb-98f1-45d7-a8ad-b4e45083a77c",
     "regions": {
      "071c1764-78cc-4024-8c76-8b2e6f6cebdc": {
       "attrs": {
        "height": 0.8,
        "width": 0.8,
        "x": 0.1,
        "y": 0.1
       },
       "content": {
        "cell": "211545f3-80e5-4379-b90f-b9fd6836355d",
        "part": "whole"
       },
       "id": "071c1764-78cc-4024-8c76-8b2e6f6cebdc"
      }
     }
    },
    "6c8bd1e8-7451-4237-a643-c6963ba57311": {
     "id": "6c8bd1e8-7451-4237-a643-c6963ba57311",
     "prev": "c5596d99-5ef3-4f19-bb47-3dcafb1c4c9b",
     "regions": {
      "1191bd1c-1e17-4a12-8f91-b713d51622e4": {
       "attrs": {
        "height": 0.8,
        "width": 0.8,
        "x": 0.1,
        "y": 0.1
       },
       "content": {
        "cell": "07df584e-4ab7-4d50-9b9b-dd8a9598728f",
        "part": "whole"
       },
       "id": "1191bd1c-1e17-4a12-8f91-b713d51622e4"
      }
     }
    },
    "744c250b-02d2-4766-b74e-acb5a09ea909": {
     "id": "744c250b-02d2-4766-b74e-acb5a09ea909",
     "prev": "0eef294e-4989-4b37-a0d1-6eb17a3dae8b",
     "regions": {
      "d6aced25-f843-41ad-86e6-fb5d5fc09821": {
       "attrs": {
        "height": 0.8,
        "width": 0.8,
        "x": 0.1,
        "y": 0.1
       },
       "content": {
        "cell": "c442ed8c-f572-4fe0-beae-95e574e8e7fc",
        "part": "whole"
       },
       "id": "d6aced25-f843-41ad-86e6-fb5d5fc09821"
      }
     }
    },
    "7458145c-bfb4-41de-a5b4-7b044cc01a64": {
     "id": "7458145c-bfb4-41de-a5b4-7b044cc01a64",
     "prev": "2b8b6aaa-8327-47fa-92ad-3861314b9419",
     "regions": {
      "e772c143-5f0b-40fc-8afb-ca686fd8436e": {
       "attrs": {
        "height": 0.8,
        "width": 0.8,
        "x": 0.1,
        "y": 0.1
       },
       "content": {
        "cell": "0b2bdabe-2917-426b-a9cc-2bd949cc138e",
        "part": "whole"
       },
       "id": "e772c143-5f0b-40fc-8afb-ca686fd8436e"
      }
     }
    },
    "75d09b30-75b5-4dff-805b-329f7e317e27": {
     "id": "75d09b30-75b5-4dff-805b-329f7e317e27",
     "prev": "bb347586-c8e5-4e78-bfe9-e074f5f199df",
     "regions": {
      "59042009-e7a2-4c35-a8cb-a59251ef1047": {
       "attrs": {
        "height": 0.8,
        "width": 0.8,
        "x": 0.1,
        "y": 0.1
       },
       "content": {
        "cell": "1ca4fca7-dcf3-4227-a6e9-5996e3f51714",
        "part": "whole"
       },
       "id": "59042009-e7a2-4c35-a8cb-a59251ef1047"
      }
     }
    },
    "7a4eedd9-6d0c-4fe9-a40c-63d27f2ec4b7": {
     "id": "7a4eedd9-6d0c-4fe9-a40c-63d27f2ec4b7",
     "prev": "02280a09-c95b-42a7-8140-f7dba72f0b8d",
     "regions": {
      "bc4a24fb-d86d-42c2-b51e-debe3e7c96d2": {
       "attrs": {
        "height": 0.8,
        "width": 0.8,
        "x": 0.1,
        "y": 0.1
       },
       "content": {
        "cell": "cc64b440-47fd-4609-9e49-c2775f82b0c9",
        "part": "whole"
       },
       "id": "bc4a24fb-d86d-42c2-b51e-debe3e7c96d2"
      }
     }
    },
    "7bc73239-4996-4435-b598-358030337e56": {
     "id": "7bc73239-4996-4435-b598-358030337e56",
     "prev": "de990e13-6806-411c-866e-f01519fdbb40",
     "regions": {
      "8371c784-40e5-4631-8b19-360cb5685d3d": {
       "attrs": {
        "height": 0.8,
        "width": 0.8,
        "x": 0.1,
        "y": 0.1
       },
       "content": {
        "cell": "4bfdbc63-78e9-4f05-8501-c80d1c8fb499",
        "part": "whole"
       },
       "id": "8371c784-40e5-4631-8b19-360cb5685d3d"
      }
     }
    },
    "7c4b089a-ec74-4992-aa2a-47eda7b85d55": {
     "id": "7c4b089a-ec74-4992-aa2a-47eda7b85d55",
     "prev": "62b31107-bc21-4d3c-9689-2c2168d56f21",
     "regions": {
      "50b9b0cc-f5e3-45d1-a0c5-440666f3557b": {
       "attrs": {
        "height": 0.8,
        "width": 0.8,
        "x": 0.1,
        "y": 0.1
       },
       "content": {
        "cell": "ecac6db0-a231-4f2e-b1db-78ed9055f78d",
        "part": "whole"
       },
       "id": "50b9b0cc-f5e3-45d1-a0c5-440666f3557b"
      }
     }
    },
    "7fb690bd-607d-4b84-80b3-9530c53c033e": {
     "id": "7fb690bd-607d-4b84-80b3-9530c53c033e",
     "prev": "0f6bdc60-690c-4244-b603-3de1063aebc1",
     "regions": {
      "4a45502b-1997-4710-8509-9b7489ae8eef": {
       "attrs": {
        "height": 0.8,
        "width": 0.8,
        "x": 0.1,
        "y": 0.1
       },
       "content": {
        "cell": "9c547768-ebd7-44e8-a611-961851474271",
        "part": "whole"
       },
       "id": "4a45502b-1997-4710-8509-9b7489ae8eef"
      }
     }
    },
    "80dae38a-e0f5-46b7-94bb-83ddad3a9d95": {
     "id": "80dae38a-e0f5-46b7-94bb-83ddad3a9d95",
     "prev": "0a24f03f-7130-4748-bd22-4ae1bfa9dbc3",
     "regions": {
      "47baf5d8-4a80-4d12-9ffd-46cf38bdab9d": {
       "attrs": {
        "height": 0.8,
        "width": 0.8,
        "x": 0.1,
        "y": 0.1
       },
       "content": {
        "cell": "190c715c-7a2d-48de-98a4-a741268fdb31",
        "part": "whole"
       },
       "id": "47baf5d8-4a80-4d12-9ffd-46cf38bdab9d"
      }
     }
    },
    "829f2649-c291-4b47-844c-98509d2abde0": {
     "id": "829f2649-c291-4b47-844c-98509d2abde0",
     "prev": "d67d8739-d94a-4133-b893-4e20e8e02b09",
     "regions": {
      "072cffb4-70d9-4c74-b402-b3762a337fd0": {
       "attrs": {
        "height": 0.8,
        "width": 0.8,
        "x": 0.1,
        "y": 0.1
       },
       "content": {
        "cell": "da88690b-9458-4ed8-992d-31473cdf5f42",
        "part": "whole"
       },
       "id": "072cffb4-70d9-4c74-b402-b3762a337fd0"
      }
     }
    },
    "87cba587-58b0-4f8c-8340-00fc487e2132": {
     "id": "87cba587-58b0-4f8c-8340-00fc487e2132",
     "prev": "507a87fe-6137-4f8a-9eeb-0f6d328a08e1",
     "regions": {
      "5de6a942-58d6-49a7-afcf-a2656c89b0ed": {
       "attrs": {
        "height": 0.8,
        "width": 0.8,
        "x": 0.1,
        "y": 0.1
       },
       "content": {
        "cell": "704e6a09-d535-4729-917e-9f76aca9e8a3",
        "part": "whole"
       },
       "id": "5de6a942-58d6-49a7-afcf-a2656c89b0ed"
      }
     }
    },
    "8c6b8b9b-aeb1-4db7-99ec-e350dbc6b2e1": {
     "id": "8c6b8b9b-aeb1-4db7-99ec-e350dbc6b2e1",
     "prev": "6569f814-db4b-4a4a-8b9a-8505762ecc9b",
     "regions": {
      "246a0438-f8e2-43d7-9c7e-6d451bd91e2f": {
       "attrs": {
        "height": 0.8,
        "width": 0.8,
        "x": 0.1,
        "y": 0.1
       },
       "content": {
        "cell": "f7af450d-7b1b-4d12-bd21-4889b3f55460",
        "part": "whole"
       },
       "id": "246a0438-f8e2-43d7-9c7e-6d451bd91e2f"
      }
     }
    },
    "90afce5b-1964-4fc9-9f62-a345b38e4b3a": {
     "id": "90afce5b-1964-4fc9-9f62-a345b38e4b3a",
     "prev": "1069d1ce-ded8-4652-a5a1-1b2ddca2098b",
     "regions": {
      "63250d83-d2f9-4d84-9e71-e30b09b647ef": {
       "attrs": {
        "height": 0.8,
        "width": 0.8,
        "x": 0.1,
        "y": 0.1
       },
       "content": {
        "cell": "bda7d921-5353-4923-b58b-ec7abd00c93b",
        "part": "whole"
       },
       "id": "63250d83-d2f9-4d84-9e71-e30b09b647ef"
      }
     }
    },
    "94364cd2-8c4d-48e4-8bcf-bc1479642c1c": {
     "id": "94364cd2-8c4d-48e4-8bcf-bc1479642c1c",
     "prev": "a042ff54-d045-4d35-bc35-084f5bc781f4",
     "regions": {
      "c5ec0189-dd8b-4f37-9f13-9739731b78a8": {
       "attrs": {
        "height": 0.8,
        "width": 0.8,
        "x": 0.1,
        "y": 0.1
       },
       "content": {
        "cell": "0531558b-6fce-42ac-9d2e-1fa54b2bbfd9",
        "part": "whole"
       },
       "id": "c5ec0189-dd8b-4f37-9f13-9739731b78a8"
      }
     }
    },
    "960247ac-a26c-44d8-8263-c7063ba18d77": {
     "id": "960247ac-a26c-44d8-8263-c7063ba18d77",
     "prev": "641c9837-3411-4252-8fd7-f79c3f4f041a",
     "regions": {
      "8182bfa4-97cd-40c7-8e8f-0647e96d59e1": {
       "attrs": {
        "height": 0.8,
        "width": 0.8,
        "x": 0.1,
        "y": 0.1
       },
       "content": {
        "cell": "9252ee16-8741-4228-a5a5-2425201e8122",
        "part": "whole"
       },
       "id": "8182bfa4-97cd-40c7-8e8f-0647e96d59e1"
      }
     }
    },
    "96591e7c-5244-4b33-b921-a299a1aba5a6": {
     "id": "96591e7c-5244-4b33-b921-a299a1aba5a6",
     "prev": "1d59bcb8-d911-4621-8190-87c572864f0c",
     "regions": {
      "03ce4a6b-cdfd-4c7d-bade-acb27de18f71": {
       "attrs": {
        "height": 0.8,
        "width": 0.8,
        "x": 0.1,
        "y": 0.1
       },
       "content": {
        "cell": "578e6478-36dc-4198-97a4-709aa125f8d0",
        "part": "whole"
       },
       "id": "03ce4a6b-cdfd-4c7d-bade-acb27de18f71"
      }
     }
    },
    "9864b6c6-6542-4d9d-b8f3-2f22379817c2": {
     "id": "9864b6c6-6542-4d9d-b8f3-2f22379817c2",
     "prev": "8c6b8b9b-aeb1-4db7-99ec-e350dbc6b2e1",
     "regions": {
      "b46dc424-11d1-4535-941b-4e1e029dd2ae": {
       "attrs": {
        "height": 0.8,
        "width": 0.8,
        "x": 0.1,
        "y": 0.1
       },
       "content": {
        "cell": "21d2c91d-987a-4436-ad1f-e4a421504973",
        "part": "whole"
       },
       "id": "b46dc424-11d1-4535-941b-4e1e029dd2ae"
      }
     }
    },
    "9aa415ec-c536-4ad6-a130-7cb1b873799b": {
     "id": "9aa415ec-c536-4ad6-a130-7cb1b873799b",
     "prev": "3e8bb4d5-d518-4f27-a03b-09b7cf6844f9",
     "regions": {
      "d5f36aa3-f05c-4442-9732-48c9ba351eb1": {
       "attrs": {
        "height": 0.8,
        "width": 0.8,
        "x": 0.1,
        "y": 0.1
       },
       "content": {
        "cell": "c614df8b-7b72-477a-b97b-8c5a2a7cb25a",
        "part": "whole"
       },
       "id": "d5f36aa3-f05c-4442-9732-48c9ba351eb1"
      }
     }
    },
    "9b0c700f-37a7-464b-9eae-2628d962693c": {
     "id": "9b0c700f-37a7-464b-9eae-2628d962693c",
     "prev": "a57f6394-05d3-4969-b39b-1ea694c7cfde",
     "regions": {
      "8f8d96a6-5cf4-4dda-aa72-0ec81874d6c8": {
       "attrs": {
        "height": 0.8,
        "width": 0.8,
        "x": 0.1,
        "y": 0.1
       },
       "content": {
        "cell": "c2635f72-ddae-43c6-96d2-6fa2fce9fa35",
        "part": "whole"
       },
       "id": "8f8d96a6-5cf4-4dda-aa72-0ec81874d6c8"
      }
     }
    },
    "9b911ab8-edff-4d25-a1ed-52ddcaba8ff2": {
     "id": "9b911ab8-edff-4d25-a1ed-52ddcaba8ff2",
     "prev": "62016bcd-9a0f-4f59-a2aa-c8678789c923",
     "regions": {
      "21e17595-50e6-4a48-ae9d-024dbd1cbd43": {
       "attrs": {
        "height": 0.8,
        "width": 0.8,
        "x": 0.1,
        "y": 0.1
       },
       "content": {
        "cell": "16e70b81-d8bb-4167-8ef2-b40fe277be14",
        "part": "whole"
       },
       "id": "21e17595-50e6-4a48-ae9d-024dbd1cbd43"
      }
     }
    },
    "9f52ebf6-f6ec-44e3-a54b-3ae5c6377839": {
     "id": "9f52ebf6-f6ec-44e3-a54b-3ae5c6377839",
     "prev": "b6f5103b-1158-4802-bf96-b734ab7700fb",
     "regions": {
      "f38f5c14-a5f8-44a8-8f0b-ff9c8420eb90": {
       "attrs": {
        "height": 0.8,
        "width": 0.8,
        "x": 0.1,
        "y": 0.1
       },
       "content": {
        "cell": "959239b3-cb1a-4a33-ac97-e9d28686d0f9",
        "part": "whole"
       },
       "id": "f38f5c14-a5f8-44a8-8f0b-ff9c8420eb90"
      }
     }
    },
    "a042ff54-d045-4d35-bc35-084f5bc781f4": {
     "id": "a042ff54-d045-4d35-bc35-084f5bc781f4",
     "prev": "665960fc-6b9d-49a7-a521-ab53bb55eee1",
     "regions": {
      "74f26b1c-f781-4f5e-bc92-02c51a8923a8": {
       "attrs": {
        "height": 0.8,
        "width": 0.8,
        "x": 0.1,
        "y": 0.1
       },
       "content": {
        "cell": "d96a4248-31d6-4767-9f28-069407bae3ca",
        "part": "whole"
       },
       "id": "74f26b1c-f781-4f5e-bc92-02c51a8923a8"
      }
     }
    },
    "a57f6394-05d3-4969-b39b-1ea694c7cfde": {
     "id": "a57f6394-05d3-4969-b39b-1ea694c7cfde",
     "prev": "c445b4d8-75b7-4ab3-9e68-0e0907071cf0",
     "regions": {
      "c68d855b-cf99-440c-94b8-1d093d66942f": {
       "attrs": {
        "height": 0.8,
        "width": 0.8,
        "x": 0.1,
        "y": 0.1
       },
       "content": {
        "cell": "6d7c723d-c4a6-41dc-94c9-ef435f13ffb4",
        "part": "whole"
       },
       "id": "c68d855b-cf99-440c-94b8-1d093d66942f"
      }
     }
    },
    "a9bbd054-0729-4bca-a8be-bce89d4e2d95": {
     "id": "a9bbd054-0729-4bca-a8be-bce89d4e2d95",
     "prev": "d5001e41-931c-4069-9b7a-cc564885a970",
     "regions": {
      "cf245ffe-2321-4ff7-a38a-f6a85b3287ee": {
       "attrs": {
        "height": 0.8,
        "width": 0.8,
        "x": 0.1,
        "y": 0.1
       },
       "content": {
        "cell": "5602d0d7-6889-4cd6-a5b6-e4bbd9e6c876",
        "part": "whole"
       },
       "id": "cf245ffe-2321-4ff7-a38a-f6a85b3287ee"
      }
     }
    },
    "aed97452-b864-4ea3-8d36-987420ed1cc9": {
     "id": "aed97452-b864-4ea3-8d36-987420ed1cc9",
     "prev": "605b7ac8-540c-4d6a-b0c8-d055319fb400",
     "regions": {
      "ec2f946f-0da2-42e5-8b01-19b427787846": {
       "attrs": {
        "height": 0.8,
        "width": 0.8,
        "x": 0.1,
        "y": 0.1
       },
       "content": {
        "cell": "e66ec32b-60bf-48b1-835b-2a726f652afd",
        "part": "whole"
       },
       "id": "ec2f946f-0da2-42e5-8b01-19b427787846"
      }
     }
    },
    "b6f5103b-1158-4802-bf96-b734ab7700fb": {
     "id": "b6f5103b-1158-4802-bf96-b734ab7700fb",
     "prev": "0e0b0584-cee1-4861-945e-4c386046ff94",
     "regions": {
      "6515977f-14b7-4e04-9057-62c93bfaf470": {
       "attrs": {
        "height": 0.8,
        "width": 0.8,
        "x": 0.1,
        "y": 0.1
       },
       "content": {
        "cell": "d0c29537-049f-474f-a25c-9e7bebc7868f",
        "part": "whole"
       },
       "id": "6515977f-14b7-4e04-9057-62c93bfaf470"
      }
     }
    },
    "bb347586-c8e5-4e78-bfe9-e074f5f199df": {
     "id": "bb347586-c8e5-4e78-bfe9-e074f5f199df",
     "prev": "d400d173-6139-4e43-91c3-f87940f82c42",
     "regions": {
      "bfdb7406-a6ae-448b-b223-1e7c6bf2687f": {
       "attrs": {
        "height": 0.8,
        "width": 0.8,
        "x": 0.1,
        "y": 0.1
       },
       "content": {
        "cell": "4799e655-c8f1-4f91-8a1e-a6bbd44394a4",
        "part": "whole"
       },
       "id": "bfdb7406-a6ae-448b-b223-1e7c6bf2687f"
      }
     }
    },
    "c3913ee7-fe16-4eff-99aa-f4ed6f87c36b": {
     "id": "c3913ee7-fe16-4eff-99aa-f4ed6f87c36b",
     "prev": "27e82683-4e4f-427e-88b1-8530d5e62c89",
     "regions": {
      "9d5596d8-7ad3-4770-a286-14078e41780d": {
       "attrs": {
        "height": 0.8,
        "width": 0.8,
        "x": 0.1,
        "y": 0.1
       },
       "content": {
        "cell": "210eb580-085a-40d9-bc62-ab7928bbab58",
        "part": "whole"
       },
       "id": "9d5596d8-7ad3-4770-a286-14078e41780d"
      }
     }
    },
    "c3c634cd-9661-46c4-be89-1b57de8103e7": {
     "id": "c3c634cd-9661-46c4-be89-1b57de8103e7",
     "prev": "a9bbd054-0729-4bca-a8be-bce89d4e2d95",
     "regions": {
      "e60b53a4-389f-48ed-9a68-12a21e3dd0d7": {
       "attrs": {
        "height": 0.8,
        "width": 0.8,
        "x": 0.1,
        "y": 0.1
       },
       "content": {
        "cell": "144f2dd0-f8c3-4fda-8289-9af05bdaddd2",
        "part": "whole"
       },
       "id": "e60b53a4-389f-48ed-9a68-12a21e3dd0d7"
      }
     }
    },
    "c3c93a2b-57ef-4a83-90d4-0765a5b1f44b": {
     "id": "c3c93a2b-57ef-4a83-90d4-0765a5b1f44b",
     "prev": "5f6d971d-4795-4613-a752-d14a2f40d676",
     "regions": {
      "a01de532-d6ca-4f66-bcd2-22c23128832c": {
       "attrs": {
        "height": 0.8,
        "width": 0.8,
        "x": 0.1,
        "y": 0.1
       },
       "content": {
        "cell": "590a6aaa-8a24-4e89-beb2-9cfe51af975c",
        "part": "whole"
       },
       "id": "a01de532-d6ca-4f66-bcd2-22c23128832c"
      }
     }
    },
    "c445b4d8-75b7-4ab3-9e68-0e0907071cf0": {
     "id": "c445b4d8-75b7-4ab3-9e68-0e0907071cf0",
     "prev": "80dae38a-e0f5-46b7-94bb-83ddad3a9d95",
     "regions": {
      "51cc715f-904b-499a-b4dc-34490b9e04f8": {
       "attrs": {
        "height": 0.8,
        "width": 0.8,
        "x": 0.1,
        "y": 0.1
       },
       "content": {
        "cell": "c30e0e11-f16e-4c4a-bf0d-73a72f7bc27c",
        "part": "whole"
       },
       "id": "51cc715f-904b-499a-b4dc-34490b9e04f8"
      }
     }
    },
    "c546a1f1-079f-4672-8d35-fda89e8fee21": {
     "id": "c546a1f1-079f-4672-8d35-fda89e8fee21",
     "prev": "829f2649-c291-4b47-844c-98509d2abde0",
     "regions": {
      "7b55fd34-d537-40d4-b731-41a518888db5": {
       "attrs": {
        "height": 0.8,
        "width": 0.8,
        "x": 0.1,
        "y": 0.1
       },
       "content": {
        "cell": "b00c5df5-9351-4251-9156-59d32085f36e",
        "part": "whole"
       },
       "id": "7b55fd34-d537-40d4-b731-41a518888db5"
      }
     }
    },
    "c5596d99-5ef3-4f19-bb47-3dcafb1c4c9b": {
     "id": "c5596d99-5ef3-4f19-bb47-3dcafb1c4c9b",
     "prev": "14eb287c-d3ba-4c23-a4e9-275681f0f39c",
     "regions": {
      "f2930cac-5e74-4912-a8b3-f057cf401155": {
       "attrs": {
        "height": 0.8,
        "width": 0.8,
        "x": 0.1,
        "y": 0.1
       },
       "content": {
        "cell": "ee0e3d65-34fe-4cb8-9910-a22cf9ef8f07",
        "part": "whole"
       },
       "id": "f2930cac-5e74-4912-a8b3-f057cf401155"
      }
     }
    },
    "caa6e945-915c-452d-9a37-6a7ba763ade5": {
     "id": "caa6e945-915c-452d-9a37-6a7ba763ade5",
     "prev": "13508701-13de-411e-aebe-f614c2c7ffcf",
     "regions": {
      "d809322b-c987-4c32-af20-82060a078105": {
       "attrs": {
        "height": 0.8,
        "width": 0.8,
        "x": 0.1,
        "y": 0.1
       },
       "content": {
        "cell": "a8d53fae-65b9-4a47-b902-f8c23cefeb8f",
        "part": "whole"
       },
       "id": "d809322b-c987-4c32-af20-82060a078105"
      }
     }
    },
    "cc2359df-2638-4f91-9d31-1549266969a8": {
     "id": "cc2359df-2638-4f91-9d31-1549266969a8",
     "prev": "dea0b8f6-f48d-4b08-854f-948a8d21ea67",
     "regions": {
      "17e751ff-153c-42a2-b4a5-18348dec9536": {
       "attrs": {
        "height": 0.8,
        "width": 0.8,
        "x": 0.1,
        "y": 0.1
       },
       "content": {
        "cell": "55ac5fe1-ee8d-4de1-8e88-c00987d4a804",
        "part": "whole"
       },
       "id": "17e751ff-153c-42a2-b4a5-18348dec9536"
      }
     }
    },
    "ce4bb11e-1c32-4551-a83f-54d9eaf73154": {
     "id": "ce4bb11e-1c32-4551-a83f-54d9eaf73154",
     "prev": "9b0c700f-37a7-464b-9eae-2628d962693c",
     "regions": {
      "7ebd888f-58d3-4907-95f6-6bb57af74d47": {
       "attrs": {
        "height": 0.8,
        "width": 0.8,
        "x": 0.1,
        "y": 0.1
       },
       "content": {
        "cell": "af750a89-1749-4e47-98fa-c1ebd066cc0a",
        "part": "whole"
       },
       "id": "7ebd888f-58d3-4907-95f6-6bb57af74d47"
      }
     }
    },
    "cfce37fc-e472-42b4-bde4-6b583c183584": {
     "id": "cfce37fc-e472-42b4-bde4-6b583c183584",
     "prev": "7fb690bd-607d-4b84-80b3-9530c53c033e",
     "regions": {
      "09d6c6ec-230b-4cf6-b045-5cadeb4a55a7": {
       "attrs": {
        "height": 0.8,
        "width": 0.8,
        "x": 0.1,
        "y": 0.1
       },
       "content": {
        "cell": "08dfca68-a0f2-460a-9c49-31bc2f796aa1",
        "part": "whole"
       },
       "id": "09d6c6ec-230b-4cf6-b045-5cadeb4a55a7"
      }
     }
    },
    "d0caf9c8-62c2-4d99-9565-088ea4ca8de0": {
     "id": "d0caf9c8-62c2-4d99-9565-088ea4ca8de0",
     "prev": "744c250b-02d2-4766-b74e-acb5a09ea909",
     "regions": {
      "dcb79e77-0450-45eb-8f97-7586f9e97f19": {
       "attrs": {
        "height": 0.8,
        "width": 0.8,
        "x": 0.1,
        "y": 0.1
       },
       "content": {
        "cell": "2485080a-c869-419b-9de4-262081a3b27d",
        "part": "whole"
       },
       "id": "dcb79e77-0450-45eb-8f97-7586f9e97f19"
      }
     }
    },
    "d400d173-6139-4e43-91c3-f87940f82c42": {
     "id": "d400d173-6139-4e43-91c3-f87940f82c42",
     "prev": "3fd08362-9081-4d29-b418-1124ab463b7d",
     "regions": {
      "1a551abe-fe01-4c00-9cf7-ceb139f32a1b": {
       "attrs": {
        "height": 0.8,
        "width": 0.8,
        "x": 0.1,
        "y": 0.1
       },
       "content": {
        "cell": "731d5b70-2fbc-42ed-9ce2-9edc6232488d",
        "part": "whole"
       },
       "id": "1a551abe-fe01-4c00-9cf7-ceb139f32a1b"
      }
     }
    },
    "d5001e41-931c-4069-9b7a-cc564885a970": {
     "id": "d5001e41-931c-4069-9b7a-cc564885a970",
     "prev": "627cc3ee-1594-44f3-8d36-ba03b93cabd7",
     "regions": {
      "0854fea3-2a21-4f09-a506-7a6acc250a7b": {
       "attrs": {
        "height": 0.8,
        "width": 0.8,
        "x": 0.1,
        "y": 0.1
       },
       "content": {
        "cell": "e3f71e79-7a78-432f-b408-03c0c0f651b3",
        "part": "whole"
       },
       "id": "0854fea3-2a21-4f09-a506-7a6acc250a7b"
      }
     }
    },
    "d52d8286-d9da-4dde-9747-8f36390d8ed7": {
     "id": "d52d8286-d9da-4dde-9747-8f36390d8ed7",
     "prev": "ddb5e752-3b67-4cec-93b3-e65a8f0dae1a",
     "regions": {
      "2c8ce9fb-4e7f-4d34-9c2e-ced665f56a66": {
       "attrs": {
        "height": 0.8,
        "width": 0.8,
        "x": 0.1,
        "y": 0.1
       },
       "content": {
        "cell": "48caa5c8-8be6-4e54-a57c-cc9d59d57dd9",
        "part": "whole"
       },
       "id": "2c8ce9fb-4e7f-4d34-9c2e-ced665f56a66"
      }
     }
    },
    "d67d8739-d94a-4133-b893-4e20e8e02b09": {
     "id": "d67d8739-d94a-4133-b893-4e20e8e02b09",
     "prev": "caa6e945-915c-452d-9a37-6a7ba763ade5",
     "regions": {
      "d89b1f19-a56b-42ad-bcc3-8a54f565b89a": {
       "attrs": {
        "height": 0.8,
        "width": 0.8,
        "x": 0.1,
        "y": 0.1
       },
       "content": {
        "cell": "edf2ee78-f1f8-4bfb-8920-d20bb6310eee",
        "part": "whole"
       },
       "id": "d89b1f19-a56b-42ad-bcc3-8a54f565b89a"
      }
     }
    },
    "d92359ba-87f5-4201-9341-b3a07eab1a7f": {
     "id": "d92359ba-87f5-4201-9341-b3a07eab1a7f",
     "prev": "62c1ab11-1139-45fe-92b4-8baf5fbcaf77",
     "regions": {
      "e5ac8cd5-2fa4-49cb-a977-14090e186c59": {
       "attrs": {
        "height": 0.8,
        "width": 0.8,
        "x": 0.1,
        "y": 0.1
       },
       "content": {
        "cell": "56d6508d-08dd-4829-8ac7-69d93cd6001e",
        "part": "whole"
       },
       "id": "e5ac8cd5-2fa4-49cb-a977-14090e186c59"
      }
     }
    },
    "ddb5e752-3b67-4cec-93b3-e65a8f0dae1a": {
     "id": "ddb5e752-3b67-4cec-93b3-e65a8f0dae1a",
     "prev": "ec648cb1-51e9-4a3a-b61c-369edef2212d",
     "regions": {
      "ba3adf80-be31-449a-a159-4f4923b1ae26": {
       "attrs": {
        "height": 0.8,
        "width": 0.8,
        "x": 0.1,
        "y": 0.1
       },
       "content": {
        "cell": "96206061-f770-4596-bfcd-6b3ea9d19d05",
        "part": "whole"
       },
       "id": "ba3adf80-be31-449a-a159-4f4923b1ae26"
      }
     }
    },
    "de990e13-6806-411c-866e-f01519fdbb40": {
     "id": "de990e13-6806-411c-866e-f01519fdbb40",
     "prev": "04d28e31-ecce-4922-890f-e99677efb3bb",
     "regions": {
      "35b82e60-cbc2-47e1-bfd9-4ad2ac1eb457": {
       "attrs": {
        "height": 0.8,
        "width": 0.8,
        "x": 0.1,
        "y": 0.1
       },
       "content": {
        "cell": "3b74a0c1-3162-4137-aeb6-80cd526ba522",
        "part": "whole"
       },
       "id": "35b82e60-cbc2-47e1-bfd9-4ad2ac1eb457"
      }
     }
    },
    "dea0b8f6-f48d-4b08-854f-948a8d21ea67": {
     "id": "dea0b8f6-f48d-4b08-854f-948a8d21ea67",
     "prev": "24a65481-0526-44d0-8383-f61c5275c8f4",
     "regions": {
      "484521b9-654e-4c74-837a-8ab267bda0b4": {
       "attrs": {
        "height": 0.8,
        "width": 0.8,
        "x": 0.1,
        "y": 0.1
       },
       "content": {
        "cell": "427c4347-d6f1-4523-b09a-7c9121170e28",
        "part": "whole"
       },
       "id": "484521b9-654e-4c74-837a-8ab267bda0b4"
      }
     }
    },
    "ec648cb1-51e9-4a3a-b61c-369edef2212d": {
     "id": "ec648cb1-51e9-4a3a-b61c-369edef2212d",
     "prev": "5545edc1-d768-4de8-bfd9-5b29a9d08411",
     "regions": {
      "cc2230f1-1728-4bdd-b426-9f7fb970b0d1": {
       "attrs": {
        "height": 0.8,
        "width": 0.8,
        "x": 0.1,
        "y": 0.1
       },
       "content": {
        "cell": "390e6b80-598e-4c7e-9d65-98d196bbca21",
        "part": "whole"
       },
       "id": "cc2230f1-1728-4bdd-b426-9f7fb970b0d1"
      }
     }
    },
    "f476a32e-982f-4565-bb9b-bf17e7b1d78e": {
     "id": "f476a32e-982f-4565-bb9b-bf17e7b1d78e",
     "prev": "09fbc5d4-87b0-466b-9b09-b0ed15ae5bbd",
     "regions": {
      "ef372fe0-5194-46ca-86ca-792144c147c3": {
       "attrs": {
        "height": 0.8,
        "width": 0.8,
        "x": 0.1,
        "y": 0.1
       },
       "content": {
        "cell": "d711a85b-6141-4f79-bda0-0171df0c6855",
        "part": "whole"
       },
       "id": "ef372fe0-5194-46ca-86ca-792144c147c3"
      }
     }
    },
    "f970a7af-413e-4976-8cfa-ab1773d5fff8": {
     "id": "f970a7af-413e-4976-8cfa-ab1773d5fff8",
     "prev": "d92359ba-87f5-4201-9341-b3a07eab1a7f",
     "regions": {
      "8ba3881c-b56a-450b-84ae-1ccbec353048": {
       "attrs": {
        "height": 0.8,
        "width": 0.8,
        "x": 0.1,
        "y": 0.1
       },
       "content": {
        "cell": "78801662-daa9-4284-b376-92d063460154",
        "part": "whole"
       },
       "id": "8ba3881c-b56a-450b-84ae-1ccbec353048"
      }
     }
    },
    "f97e982c-fec3-4eb8-b0dd-44054c53ec99": {
     "id": "f97e982c-fec3-4eb8-b0dd-44054c53ec99",
     "prev": "61bff80f-ebda-46e4-aadf-e89f54352975",
     "regions": {
      "ae5fd839-0463-4ce2-a99b-69e9f522a617": {
       "attrs": {
        "height": 0.8,
        "width": 0.8,
        "x": 0.1,
        "y": 0.1
       },
       "content": {
        "cell": "d1cf2c09-e755-4fb6-bab8-e097d9e8ba1b",
        "part": "whole"
       },
       "id": "ae5fd839-0463-4ce2-a99b-69e9f522a617"
      }
     }
    }
   },
   "themes": {}
  }
 },
 "nbformat": 4,
 "nbformat_minor": 0
}
