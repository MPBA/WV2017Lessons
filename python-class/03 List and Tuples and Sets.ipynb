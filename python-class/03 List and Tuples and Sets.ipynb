{
 "cells": [
  {
   "cell_type": "markdown",
   "metadata": {
    "nbpresent": {
     "id": "e0306176-3c68-4074-9465-3130807937de"
    },
    "slideshow": {
     "slide_type": "slide"
    }
   },
   "source": [
    "# Lists Tuples and Sets"
   ]
  },
  {
   "cell_type": "markdown",
   "metadata": {
    "nbpresent": {
     "id": "320d120a-3d7d-4e54-97f3-50b52a993f98"
    },
    "slideshow": {
     "slide_type": "subslide"
    }
   },
   "source": [
    "In this notebook, you will learn to store more than one valuable in a single variable. \n",
    "\n",
    "This by itself is one of the most powerful ideas in programming, and it introduces a number of other central concepts such as loops. \n",
    "\n",
    "If this section ends up making sense to you, you will be able to start writing some interesting programs, and you can be more confident that you will be able to develop overall competence as a programmer."
   ]
  },
  {
   "cell_type": "markdown",
   "metadata": {
    "nbpresent": {
     "id": "7f74d571-e865-4c91-9965-370d4674e63c"
    },
    "slideshow": {
     "slide_type": "skip"
    }
   },
   "source": [
    "<a name=\"top\"></a> Contents\n",
    "===\n",
    "- [Lists](#lists)\n",
    "    - [Introducing Lists](#introducing)\n",
    "        - [Example](#example)\n",
    "        - [Naming and defining a list](#naming)\n",
    "        - [Accessing one item in a list](#accessing_one_item)\n",
    "        - [Exercises](#exercises_list_introduction)\n",
    "    - [Lists and Looping](#looping)\n",
    "        - [Accessing all elements in a list](#accessing_all_elements)\n",
    "        - [Enumerating a list](#enumerating_list)\n",
    "        - [Exercises](#exercises_list_loop)\n",
    "    - [Common List Operations](#common_operations)\n",
    "        - [Modifying elements in a list](#modifying_elements)\n",
    "        - [Finding an element in a list](#finding_elements)\n",
    "        - [Testing whether an element is in a list](#testing_elements)\n",
    "        - [Adding items to a list](#adding_items)\n",
    "        - [Creating an empty list](#empty_list)\n",
    "        - [Sorting a list](#sorting_list)\n",
    "        - [Finding the length of a list](#length)\n",
    "        - [Exercises](#exercises_common_operations)\n",
    "    - [Removing Items from a List](#removing_items)\n",
    "        - [Removing items by position](#removing_by_position)\n",
    "        - [Removing items by value](#removing_by_value)\n",
    "        - [Popping items](#popping)\n",
    "        - [Exercises](#exercises_removing_items)\n",
    "    - [Want to see what functions are?](#functions)\n",
    "    - [Slicing a List](#slicing)\n",
    "        - [Copying a list](#copying)\n",
    "        - [Exercises](#exercises_slicing)\n",
    "    - [Numerical Lists](#numerical_lists)\n",
    "        - [The *range()* function](#range_function)\n",
    "        - [The *min()*, *max()*, *sum()* functions](#min_max_sum)\n",
    "        - [Exercises](#exercises_numerical)\n",
    "    - [List Comprehensions](#comprehensions)\n",
    "        - [Numerical comprehensions](#comprehensions_numerical)\n",
    "        - [Non-numerical comprehensions](#comprehensions_non_numerical)\n",
    "        - [Exercises](#exercises_comprehensions)\n",
    "    - [Strings as Lists](#strings_as_lists)\n",
    "        - [Strings as a list of characters](#list_of_characters)\n",
    "        - [Slicing strings](#slicing_strings)\n",
    "        - [Finding substrings](#finding_substrings)\n",
    "        - [Replacing substrings](#replacing_substrings)\n",
    "        - [Counting substrings](#counting_substrings)\n",
    "        - [Splitting strings](#splitting_strings)\n",
    "        - [Other string methods](#other_string_methods)\n",
    "        - [Exercises](#exercises_strings_as_lists)\n",
    "        - [Challenges](#challenges_strings_as_lists)\n",
    "    - [Tuples](#tuples)\n",
    "        - [Defining tuples, and accessing elements](#defining_tuples)\n",
    "        - [Using tuples to make strings](#tuples_strings)\n",
    "        - [Exercises](#exercises_tuples)\n",
    "    - [Sets](#sets)\n",
    "        - [Basic Operatoins on Sets](#set_operations)\n",
    "        - [Exercises](#exercise_set)\n",
    "    - [Overall Challenges](#challenges_overall)"
   ]
  },
  {
   "cell_type": "markdown",
   "metadata": {
    "nbpresent": {
     "id": "fc3c0dd6-e7f1-48ff-9efd-be4a5a5e4e87"
    },
    "slideshow": {
     "slide_type": "slide"
    }
   },
   "source": [
    "<a name='lists'></a>Lists\n",
    "==="
   ]
  },
  {
   "cell_type": "markdown",
   "metadata": {
    "nbpresent": {
     "id": "23543300-83df-43e2-bcd9-24b181ed37ea"
    },
    "slideshow": {
     "slide_type": "subslide"
    }
   },
   "source": [
    "<a name='introducing'></a>Introducing Lists\n",
    "===\n",
    "<a name='example'></a>Example\n",
    "---\n",
    "A list is a collection of items, that is stored in a variable. The items should be related in some way, but there are no restrictions on what can be stored in a list. Here is a simple example of a list, and how we can quickly access each item in the list."
   ]
  },
  {
   "cell_type": "code",
   "execution_count": 3,
   "metadata": {
    "nbpresent": {
     "id": "d11be398-57d2-46cd-b6d6-6b4d7577fffe"
    },
    "slideshow": {
     "slide_type": "fragment"
    }
   },
   "outputs": [
    {
     "name": "stdout",
     "output_type": "stream",
     "text": [
      "Hello, Bernice!\n",
      "Hello, Aaron!\n",
      "Hello, Cody!\n"
     ]
    }
   ],
   "source": [
    "students = ['bernice', 'aaron', 'cody']\n",
    "\n",
    "for student in students:\n",
    "    print(\"Hello, \" + student.title() + \"!\")"
   ]
  },
  {
   "cell_type": "markdown",
   "metadata": {
    "nbpresent": {
     "id": "5d1bbb86-4596-44a3-b500-c70e1bd88fc6"
    },
    "slideshow": {
     "slide_type": "subslide"
    }
   },
   "source": [
    "<a name='naming'></a>Naming and defining a list\n",
    "---\n",
    "Since lists are collection of objects, it is good practice to give them a plural name. If each item in your list is a car, call the list 'cars'. If each item is a dog, call your list 'dogs'. This gives you a straightforward way to refer to the entire list ('dogs'), and to a single item in the list ('dog')."
   ]
  },
  {
   "cell_type": "markdown",
   "metadata": {
    "nbpresent": {
     "id": "c0c5198e-5c2c-41a5-8aeb-9cce6d2bf22a"
    },
    "slideshow": {
     "slide_type": "fragment"
    }
   },
   "source": [
    "In Python, square brackets designate a list. To define a list, you give the name of the list, the equals sign, and the values you want to include in your list within square brackets."
   ]
  },
  {
   "cell_type": "code",
   "execution_count": null,
   "metadata": {
    "nbpresent": {
     "id": "f4fd41a4-dc05-4bcc-b278-37d97180d78a"
    },
    "slideshow": {
     "slide_type": "fragment"
    }
   },
   "outputs": [],
   "source": [
    "dogs = ['border collie', \n",
    "        'australian cattle dog', \n",
    "        'labrador retriever']"
   ]
  },
  {
   "cell_type": "markdown",
   "metadata": {
    "nbpresent": {
     "id": "7247f634-9435-4224-b4c6-367ea0cf9431"
    },
    "slideshow": {
     "slide_type": "subslide"
    }
   },
   "source": [
    "<a name='accessing_one_item'></a>Accessing one item in a list\n",
    "---\n",
    "Items in a list are identified by their position in the list, starting with zero. This will almost certainly trip you up at some point. Programmers even joke about how often we all make \"off-by-one\" errors, so don't feel bad when you make this kind of error."
   ]
  },
  {
   "cell_type": "markdown",
   "metadata": {
    "nbpresent": {
     "id": "5ae7ac09-fefc-4f3c-97a2-776f8d597d66"
    },
    "slideshow": {
     "slide_type": "fragment"
    }
   },
   "source": [
    "To access the first element in a list, you give the name of the list, followed by a zero in parentheses."
   ]
  },
  {
   "cell_type": "code",
   "execution_count": 18,
   "metadata": {
    "nbpresent": {
     "id": "89c5b344-2b06-4677-8e25-cff539a32d50"
    },
    "slideshow": {
     "slide_type": "fragment"
    }
   },
   "outputs": [
    {
     "name": "stdout",
     "output_type": "stream",
     "text": [
      "Border Collie\n"
     ]
    }
   ],
   "source": [
    "dogs = ['border collie', \n",
    "        'australian cattle dog', \n",
    "        'labrador retriever']\n",
    "\n",
    "dog = dogs[0]\n",
    "print(dog.title())"
   ]
  },
  {
   "cell_type": "markdown",
   "metadata": {
    "nbpresent": {
     "id": "7418b6aa-be87-4a26-a12d-7af0bc68bb9c"
    },
    "slideshow": {
     "slide_type": "fragment"
    }
   },
   "source": [
    "The number in parentheses is called the **index** of the item. \n",
    "\n",
    "Because lists start at zero, the index of an item is always one less than its position in the list. \n",
    "Because of that, **Python** is said to be a [*zero-indexed*](http://en.wikipedia.org/wiki/Zero-based_numbering) \n",
    "language (as many others, like `C`, or `Java`)"
   ]
  },
  {
   "cell_type": "markdown",
   "metadata": {
    "nbpresent": {
     "id": "7a6dc2d2-4e71-45b9-9ccb-c1b22be637d3"
    },
    "slideshow": {
     "slide_type": "subslide"
    }
   },
   "source": [
    "So to get the second item in the list, we need to use an index of 1, and so on.."
   ]
  },
  {
   "cell_type": "code",
   "execution_count": 7,
   "metadata": {
    "nbpresent": {
     "id": "8328734e-8cbe-4b98-b43a-b8835f489769"
    },
    "slideshow": {
     "slide_type": "fragment"
    }
   },
   "outputs": [
    {
     "name": "stdout",
     "output_type": "stream",
     "text": [
      "Australian Cattle Dog\n"
     ]
    }
   ],
   "source": [
    "dog = dogs[1]\n",
    "print(dog.title())"
   ]
  },
  {
   "cell_type": "markdown",
   "metadata": {
    "nbpresent": {
     "id": "8453208d-a137-4a9e-ae08-59ec4cc95a76"
    },
    "slideshow": {
     "slide_type": "subslide"
    }
   },
   "source": [
    "### Accessing the last items in a list\n",
    "You can probably see that to get the last item in this list, we would use an index of 2. This works, but it would only work because our list has exactly three items. To get the last item in a list, no matter how long the list is, you can use an index of -1."
   ]
  },
  {
   "cell_type": "code",
   "execution_count": 8,
   "metadata": {
    "nbpresent": {
     "id": "1f25140d-7480-4998-a0eb-55a9a872b923"
    },
    "slideshow": {
     "slide_type": "fragment"
    }
   },
   "outputs": [
    {
     "name": "stdout",
     "output_type": "stream",
     "text": [
      "Labrador Retriever\n"
     ]
    }
   ],
   "source": [
    "dog = dogs[-1]\n",
    "print(dog.title())"
   ]
  },
  {
   "cell_type": "markdown",
   "metadata": {
    "nbpresent": {
     "id": "cc2576c2-1e28-485d-9afd-cccd782c7b10"
    },
    "slideshow": {
     "slide_type": "subslide"
    }
   },
   "source": [
    "This syntax also works for the second to last item, the third to last, and so forth."
   ]
  },
  {
   "cell_type": "code",
   "execution_count": 32,
   "metadata": {
    "nbpresent": {
     "id": "cb15698f-e08d-43c6-a723-919daa6fc147"
    },
    "slideshow": {
     "slide_type": "fragment"
    }
   },
   "outputs": [
    {
     "name": "stdout",
     "output_type": "stream",
     "text": [
      "Australian Cattle Dog\n"
     ]
    }
   ],
   "source": [
    "dog = dogs[-2]\n",
    "print(dog.title())"
   ]
  },
  {
   "cell_type": "markdown",
   "metadata": {
    "nbpresent": {
     "id": "c01d2ea4-7240-4fd6-9064-49b9fd394461"
    },
    "slideshow": {
     "slide_type": "subslide"
    }
   },
   "source": [
    "You can't use a negative number larger than the length of the list, however."
   ]
  },
  {
   "cell_type": "code",
   "execution_count": 33,
   "metadata": {
    "nbpresent": {
     "id": "21d1157b-8e69-43e8-bf0c-a478543f83b4"
    },
    "slideshow": {
     "slide_type": "fragment"
    }
   },
   "outputs": [
    {
     "ename": "IndexError",
     "evalue": "list index out of range",
     "output_type": "error",
     "traceback": [
      "\u001b[0;31m---------------------------------------------------------------------------\u001b[0m\n\u001b[0;31mIndexError\u001b[0m                                Traceback (most recent call last)",
      "\u001b[0;32m<ipython-input-33-32c58df001ad>\u001b[0m in \u001b[0;36m<module>\u001b[0;34m()\u001b[0m\n\u001b[1;32m      1\u001b[0m \u001b[0mdogs\u001b[0m \u001b[0;34m=\u001b[0m \u001b[0;34m[\u001b[0m\u001b[0;34m'border collie'\u001b[0m\u001b[0;34m,\u001b[0m \u001b[0;34m'australian cattle dog'\u001b[0m\u001b[0;34m,\u001b[0m \u001b[0;34m'labrador retriever'\u001b[0m\u001b[0;34m]\u001b[0m\u001b[0;34m\u001b[0m\u001b[0m\n\u001b[1;32m      2\u001b[0m \u001b[0;34m\u001b[0m\u001b[0m\n\u001b[0;32m----> 3\u001b[0;31m \u001b[0mdog\u001b[0m \u001b[0;34m=\u001b[0m \u001b[0mdogs\u001b[0m\u001b[0;34m[\u001b[0m\u001b[0;34m-\u001b[0m\u001b[0;36m4\u001b[0m\u001b[0;34m]\u001b[0m\u001b[0;34m\u001b[0m\u001b[0m\n\u001b[0m\u001b[1;32m      4\u001b[0m \u001b[0mprint\u001b[0m\u001b[0;34m(\u001b[0m\u001b[0mdog\u001b[0m\u001b[0;34m.\u001b[0m\u001b[0mtitle\u001b[0m\u001b[0;34m(\u001b[0m\u001b[0;34m)\u001b[0m\u001b[0;34m)\u001b[0m\u001b[0;34m\u001b[0m\u001b[0m\n",
      "\u001b[0;31mIndexError\u001b[0m: list index out of range"
     ]
    }
   ],
   "source": [
    "dog = dogs[-4]\n",
    "print(dog.title())"
   ]
  },
  {
   "cell_type": "markdown",
   "metadata": {
    "nbpresent": {
     "id": "2aae26d7-9527-4a43-b56a-85eda6f3e17c"
    },
    "slideshow": {
     "slide_type": "skip"
    }
   },
   "source": [
    "[top](#top)"
   ]
  },
  {
   "cell_type": "markdown",
   "metadata": {
    "nbpresent": {
     "id": "18b2d476-8a02-4857-8c24-2dcc3ab00524"
    },
    "slideshow": {
     "slide_type": "slide"
    }
   },
   "source": [
    "<a name='exercises_list_introduction'></a>Exercises\n",
    "---\n",
    "#### First List\n",
    "- Store the values 'python', 'c', and 'java' in a list. Print each of these values out, using their position in the list.\n",
    "\n",
    "#### First Neat List\n",
    "- Store the values 'python', 'c', and 'java' in a list. Print a statement about each of these values, using their position in the list.\n",
    "- Your statement could simply be, 'A nice programming language is *value*.'\n",
    "\n",
    "#### Your First List\n",
    "- Think of something you can store in a list. Make a list with three or four items, and then print a message that includes at least one item from your list. Your sentence could be as simple as, \"One item in my list is a ____.\""
   ]
  },
  {
   "cell_type": "code",
   "execution_count": null,
   "metadata": {
    "nbpresent": {
     "id": "fdc66a94-b520-4855-9793-1eb329aaaea0"
    },
    "slideshow": {
     "slide_type": "skip"
    }
   },
   "outputs": [],
   "source": [
    "# Ex 3.1 : First List\n",
    "\n",
    "# put your code here"
   ]
  },
  {
   "cell_type": "code",
   "execution_count": null,
   "metadata": {
    "nbpresent": {
     "id": "91acc474-051a-4987-bad9-83f3d3a2c48a"
    },
    "slideshow": {
     "slide_type": "skip"
    }
   },
   "outputs": [],
   "source": [
    "# Ex 3.2 : First Neat List\n",
    "\n",
    "# put your code here"
   ]
  },
  {
   "cell_type": "code",
   "execution_count": null,
   "metadata": {
    "nbpresent": {
     "id": "0a458355-66d1-42e7-84bb-ae21909f50ae"
    },
    "slideshow": {
     "slide_type": "skip"
    }
   },
   "outputs": [],
   "source": [
    "# Ex 3.3 : Your First List\n",
    "\n",
    "# put your code here"
   ]
  },
  {
   "cell_type": "markdown",
   "metadata": {
    "nbpresent": {
     "id": "e45cca9b-364e-4c0f-8cc6-d149da7f017a"
    },
    "slideshow": {
     "slide_type": "skip"
    }
   },
   "source": [
    "[top](#top)"
   ]
  },
  {
   "cell_type": "markdown",
   "metadata": {
    "nbpresent": {
     "id": "e735a834-287f-4e81-9d1a-b64e7ee0e8ac"
    },
    "slideshow": {
     "slide_type": "slide"
    }
   },
   "source": [
    "<a name='looping'></a>Lists and Looping\n",
    "==="
   ]
  },
  {
   "cell_type": "markdown",
   "metadata": {
    "nbpresent": {
     "id": "9d5c5584-a349-429b-a372-c32c027e8f95"
    },
    "slideshow": {
     "slide_type": "subslide"
    }
   },
   "source": [
    "<a name='accessing_all_elements'></a>Accessing all elements in a list\n",
    "---\n",
    "This is one of the most important concepts related to lists. You can have a list with a million items in it, and in three lines of code you can write a sentence for each of those million items. If you want to understand lists, and become a competent programmer, make sure you take the time to understand this section.\n",
    "\n",
    "We use a loop to access all the elements in a list. A loop is a block of code that repeats itself until it runs out of items to work with, or until a certain condition is met. In this case, our loop will run once for every item in our list. With a list that is three items long, our loop will run three times."
   ]
  },
  {
   "cell_type": "markdown",
   "metadata": {
    "nbpresent": {
     "id": "dc6b380f-7c15-46ee-9c52-9f4416e7cb30"
    },
    "slideshow": {
     "slide_type": "subslide"
    }
   },
   "source": [
    "Let's take a look at how we access all the items in a list, and then try to understand how it works."
   ]
  },
  {
   "cell_type": "code",
   "execution_count": 15,
   "metadata": {
    "nbpresent": {
     "id": "7641d574-8767-41e0-a3fe-fe59d4561e48"
    },
    "slideshow": {
     "slide_type": "fragment"
    }
   },
   "outputs": [
    {
     "name": "stdout",
     "output_type": "stream",
     "text": [
      "border collie\n",
      "australian cattle dog\n",
      "labrador retriever\n"
     ]
    }
   ],
   "source": [
    "dogs = ['border collie', 'australian cattle dog', 'labrador retriever']\n",
    "\n",
    "for dog in dogs:\n",
    "    print(dog)"
   ]
  },
  {
   "cell_type": "markdown",
   "metadata": {
    "nbpresent": {
     "id": "8c4faeff-edc0-4ac7-99e0-a220e02de7c5"
    },
    "slideshow": {
     "slide_type": "subslide"
    }
   },
   "source": [
    "We have already seen how to create a list, so we are really just trying to understand how the last two lines work. These last two lines make up a loop, and the language here can help us see what is happening:\n",
    "\n",
    "    for dog in dogs:\n",
    "\n",
    "- The keyword \"for\" tells Python to get ready to use a loop.\n",
    "- The variable \"dog\", with no \"s\" on it, is a temporary placeholder variable. This is the variable that Python will place each item in the list into, one at a time.\n",
    "- The first time through the loop, the value of \"dog\" will be 'border collie'.\n",
    "- The second time through the loop, the value of \"dog\" will be 'australian cattle dog'.\n",
    "- The third time through, \"dog\" will be 'labrador retriever'.\n",
    "- After this, there are no more items in the list, and the loop will end."
   ]
  },
  {
   "cell_type": "markdown",
   "metadata": {
    "nbpresent": {
     "id": "33db553d-9e78-418c-b0b9-e449579b3596"
    },
    "slideshow": {
     "slide_type": "subslide"
    }
   },
   "source": [
    "### Doing more with each item\n",
    "\n",
    "We can do whatever we want with the value of \"dog\" inside the loop. In this case, we just print the name of the dog.\n",
    "\n",
    "    print(dog)\n",
    "\n",
    "We are not limited to just printing the word dog. We can do whatever we want with this value, and this action will be carried out for every item in the list."
   ]
  },
  {
   "cell_type": "markdown",
   "metadata": {
    "nbpresent": {
     "id": "c1b2b0e6-f8ef-49c4-9415-90172cfb9654"
    },
    "slideshow": {
     "slide_type": "subslide"
    }
   },
   "source": [
    "Let's say something about each dog in our list."
   ]
  },
  {
   "cell_type": "code",
   "execution_count": 16,
   "metadata": {
    "nbpresent": {
     "id": "83e00813-dc2f-4270-a615-79b0a0d9bc47"
    },
    "slideshow": {
     "slide_type": "fragment"
    }
   },
   "outputs": [
    {
     "name": "stdout",
     "output_type": "stream",
     "text": [
      "I like border collies.\n",
      "I like australian cattle dogs.\n",
      "I like labrador retrievers.\n"
     ]
    }
   ],
   "source": [
    "dogs = ['border collie', 'australian cattle dog', 'labrador retriever']\n",
    "\n",
    "for dog in dogs:\n",
    "    print('I like ' + dog + 's.')"
   ]
  },
  {
   "cell_type": "markdown",
   "metadata": {
    "nbpresent": {
     "id": "c69a0b3a-36a6-4a40-b88c-5be882ed0ab9"
    },
    "slideshow": {
     "slide_type": "subslide"
    }
   },
   "source": [
    "### Inside and outside the loop\n",
    "\n",
    "Python uses indentation to decide what is inside the loop and what is outside the loop. Code that is inside the loop will be run for every item in the list. Code that is not indented, which comes after the loop, will be run once just like regular code."
   ]
  },
  {
   "cell_type": "code",
   "execution_count": 18,
   "metadata": {
    "nbpresent": {
     "id": "8f8ceed2-0be7-48a4-ba04-3b897e62d161"
    },
    "slideshow": {
     "slide_type": "fragment"
    }
   },
   "outputs": [
    {
     "name": "stdout",
     "output_type": "stream",
     "text": [
      "I like border collies.\n",
      "No, I really really like border collies!\n",
      "\n",
      "I like australian cattle dogs.\n",
      "No, I really really like australian cattle dogs!\n",
      "\n",
      "I like labrador retrievers.\n",
      "No, I really really like labrador retrievers!\n",
      "\n",
      "\n",
      "That's just how I feel about dogs.\n"
     ]
    }
   ],
   "source": [
    "dogs = ['border collie', 'australian cattle dog', 'labrador retriever']\n",
    "\n",
    "for dog in dogs:\n",
    "    print('I like ' + dog + 's.')\n",
    "    print('No, I really really like ' + dog +'s!\\n')\n",
    "    \n",
    "print(\"\\nThat's just how I feel about dogs.\")"
   ]
  },
  {
   "cell_type": "markdown",
   "metadata": {
    "nbpresent": {
     "id": "11b54b47-6622-400f-8e68-5017d3c24f35"
    },
    "slideshow": {
     "slide_type": "fragment"
    }
   },
   "source": [
    "Notice that the last line only runs once, after the loop is completed. Also notice the use of newlines (\"\\n\") to make the output easier to read."
   ]
  },
  {
   "cell_type": "markdown",
   "metadata": {
    "nbpresent": {
     "id": "de2b8e10-3fe1-49ae-8a7f-4d2f80ac4dfb"
    },
    "slideshow": {
     "slide_type": "skip"
    }
   },
   "source": [
    "[top](#top)"
   ]
  },
  {
   "cell_type": "markdown",
   "metadata": {
    "nbpresent": {
     "id": "fe5214ab-0f23-488c-a85e-9b5ec1e185b0"
    },
    "slideshow": {
     "slide_type": "subslide"
    }
   },
   "source": [
    "<a name='enumerating_list'></a>Enumerating a list\n",
    "---\n",
    "When you are looping through a list, you may want to know the index of the current item. You could always use the *list.index(value)* syntax, but there is a simpler way. The *enumerate()* function tracks the index of each item for you, as it loops through the list:"
   ]
  },
  {
   "cell_type": "code",
   "execution_count": 4,
   "metadata": {
    "nbpresent": {
     "id": "10591f83-b4ec-4f35-97d3-7ad4120b2a7d"
    },
    "slideshow": {
     "slide_type": "fragment"
    }
   },
   "outputs": [
    {
     "name": "stdout",
     "output_type": "stream",
     "text": [
      "Results for the dog show are as follows:\n",
      "\n",
      "Place: 0 Dog: Border Collie\n",
      "Place: 1 Dog: Australian Cattle Dog\n",
      "Place: 2 Dog: Labrador Retriever\n"
     ]
    }
   ],
   "source": [
    "dogs = ['border collie', 'australian cattle dog', 'labrador retriever']\n",
    "\n",
    "print(\"Results for the dog show are as follows:\\n\")\n",
    "for index, dog in enumerate(dogs):\n",
    "    place = str(index)\n",
    "    print(\"Place: \" + place + \" Dog: \" + dog.title())"
   ]
  },
  {
   "cell_type": "markdown",
   "metadata": {
    "nbpresent": {
     "id": "e3ae7ca7-f364-4f14-980f-2c193171353c"
    },
    "slideshow": {
     "slide_type": "subslide"
    }
   },
   "source": [
    "To enumerate a list, you need to add an *index* variable to hold the current index. So instead of\n",
    "\n",
    "    for dog in dogs:\n",
    "    \n",
    "You have\n",
    "\n",
    "    for index, dog in enumerate(dogs)\n",
    "    \n",
    "The value in the variable *index* is always an integer. If you want to print it in a string, you have to turn the integer into a string:\n",
    "\n",
    "    str(index)\n",
    "    "
   ]
  },
  {
   "cell_type": "markdown",
   "metadata": {
    "nbpresent": {
     "id": "a80a6630-7368-4daf-b424-d9627c8fe6f9"
    },
    "slideshow": {
     "slide_type": "subslide"
    }
   },
   "source": [
    "The index always starts at 0, so in this example the value of *place* should actually be the current index, plus one:"
   ]
  },
  {
   "cell_type": "code",
   "execution_count": 5,
   "metadata": {
    "nbpresent": {
     "id": "771f45c4-90e7-4c83-88d9-2af24bd52632"
    },
    "slideshow": {
     "slide_type": "fragment"
    }
   },
   "outputs": [
    {
     "name": "stdout",
     "output_type": "stream",
     "text": [
      "Results for the dog show are as follows:\n",
      "\n",
      "Place: 1 Dog: Border Collie\n",
      "Place: 2 Dog: Australian Cattle Dog\n",
      "Place: 3 Dog: Labrador Retriever\n"
     ]
    }
   ],
   "source": [
    "dogs = ['border collie', 'australian cattle dog', 'labrador retriever']\n",
    "\n",
    "print(\"Results for the dog show are as follows:\\n\")\n",
    "for index, dog in enumerate(dogs):\n",
    "    place = str(index + 1)\n",
    "    print(\"Place: \" + place + \" Dog: \" + dog.title())"
   ]
  },
  {
   "cell_type": "markdown",
   "metadata": {
    "nbpresent": {
     "id": "a101a84d-5214-479e-81f0-6e236760c2e7"
    },
    "slideshow": {
     "slide_type": "subslide"
    }
   },
   "source": [
    "### A common looping error\n",
    "One common looping error occurs when instead of using the single variable *dog* inside the loop, we accidentally use the variable that holds the entire list:"
   ]
  },
  {
   "cell_type": "code",
   "execution_count": 19,
   "metadata": {
    "nbpresent": {
     "id": "dd336a7a-f364-4a08-aa9b-854f4bf334fe"
    },
    "slideshow": {
     "slide_type": "fragment"
    }
   },
   "outputs": [
    {
     "name": "stdout",
     "output_type": "stream",
     "text": [
      "['border collie', 'australian cattle dog', 'labrador retriever']\n",
      "['border collie', 'australian cattle dog', 'labrador retriever']\n",
      "['border collie', 'australian cattle dog', 'labrador retriever']\n"
     ]
    }
   ],
   "source": [
    "dogs = ['border collie', 'australian cattle dog', 'labrador retriever']\n",
    "\n",
    "for dog in dogs:\n",
    "    print(dogs)"
   ]
  },
  {
   "cell_type": "markdown",
   "metadata": {
    "nbpresent": {
     "id": "f97854c5-20d2-4b2e-82f5-0be52881f052"
    },
    "slideshow": {
     "slide_type": "subslide"
    }
   },
   "source": [
    "In this example, instead of printing each dog in the list, we print the entire list every time we go through the loop. Python puts each individual item in the list into the variable *dog*, but we never use that variable. Sometimes you will just get an error if you try to do this:"
   ]
  },
  {
   "cell_type": "code",
   "execution_count": 20,
   "metadata": {
    "nbpresent": {
     "id": "3e4080f9-5bfb-4943-ac5f-76ee688337fc"
    },
    "slideshow": {
     "slide_type": "fragment"
    }
   },
   "outputs": [
    {
     "ename": "TypeError",
     "evalue": "Can't convert 'list' object to str implicitly",
     "output_type": "error",
     "traceback": [
      "\u001b[0;31m---------------------------------------------------------------------------\u001b[0m\n\u001b[0;31mTypeError\u001b[0m                                 Traceback (most recent call last)",
      "\u001b[0;32m<ipython-input-20-8e7acc74d7a9>\u001b[0m in \u001b[0;36m<module>\u001b[0;34m()\u001b[0m\n\u001b[1;32m      2\u001b[0m \u001b[0;34m\u001b[0m\u001b[0m\n\u001b[1;32m      3\u001b[0m \u001b[0;32mfor\u001b[0m \u001b[0mdog\u001b[0m \u001b[0;32min\u001b[0m \u001b[0mdogs\u001b[0m\u001b[0;34m:\u001b[0m\u001b[0;34m\u001b[0m\u001b[0m\n\u001b[0;32m----> 4\u001b[0;31m     \u001b[0mprint\u001b[0m\u001b[0;34m(\u001b[0m\u001b[0;34m'I like '\u001b[0m \u001b[0;34m+\u001b[0m \u001b[0mdogs\u001b[0m \u001b[0;34m+\u001b[0m \u001b[0;34m's.'\u001b[0m\u001b[0;34m)\u001b[0m\u001b[0;34m\u001b[0m\u001b[0m\n\u001b[0m",
      "\u001b[0;31mTypeError\u001b[0m: Can't convert 'list' object to str implicitly"
     ]
    }
   ],
   "source": [
    "dogs = ['border collie', 'australian cattle dog', 'labrador retriever']\n",
    "\n",
    "for dog in dogs:\n",
    "    print('I like ' + dogs + 's.')"
   ]
  },
  {
   "cell_type": "markdown",
   "metadata": {
    "nbpresent": {
     "id": "e8f9d0b7-a05d-419f-a7d8-ed3ebd758d89"
    },
    "slideshow": {
     "slide_type": "subslide"
    }
   },
   "source": [
    "## The FOR (iteration) loop\n",
    "\n",
    "The `for` loop statement is the most widely used iteration mechanisms in Python.\n",
    "\n",
    "* Almost every structure in Python can be iterated (*element by element*) by a `for` loop\n",
    "    - a list, a tuple, a dictionary, $\\ldots$ (more details will follows)\n",
    "\n",
    "* In Python, also `while` loops are permitted, but `for` is the one you would see (and use) most of the time!"
   ]
  },
  {
   "cell_type": "markdown",
   "metadata": {
    "nbpresent": {
     "id": "c7b02ad1-6750-42bc-b96f-4d34515ebf2c"
    },
    "slideshow": {
     "slide_type": "subslide"
    }
   },
   "source": [
    "### FOR Special keywords\n",
    "\n",
    "Python allows two **keywords** to be used within a `for` loop: **break** and **continue**.\n",
    "\n",
    "The two keywords have two **different** meanings:"
   ]
  },
  {
   "cell_type": "markdown",
   "metadata": {
    "nbpresent": {
     "id": "340779e1-5d2a-49d0-8fd7-403f523c975b"
    },
    "slideshow": {
     "slide_type": "fragment"
    }
   },
   "source": [
    "* **Break** used to *immediatly break the loop and exit!*\n",
    "* **Continue** used to *skip to the **next** iteration step!*"
   ]
  },
  {
   "cell_type": "markdown",
   "metadata": {
    "nbpresent": {
     "id": "ad1e2589-8e8e-4541-b68b-b31f3440ebab"
    },
    "slideshow": {
     "slide_type": "fragment"
    }
   },
   "source": [
    "**NOTE**: The two keywords are permitted with `while` loops as well!"
   ]
  },
  {
   "cell_type": "markdown",
   "metadata": {
    "nbpresent": {
     "id": "2353e1fd-4d2a-4d5d-8381-52060a1fa377"
    },
    "slideshow": {
     "slide_type": "subslide"
    }
   },
   "source": [
    "## Examples"
   ]
  },
  {
   "cell_type": "code",
   "execution_count": null,
   "metadata": {
    "nbpresent": {
     "id": "efd5211c-4981-4f3c-80ab-1365a18a4d44"
    },
    "slideshow": {
     "slide_type": "fragment"
    }
   },
   "outputs": [],
   "source": []
  },
  {
   "cell_type": "markdown",
   "metadata": {
    "nbpresent": {
     "id": "5b128f17-f3e5-4f70-b4a1-b1962272ffac"
    },
    "slideshow": {
     "slide_type": "slide"
    }
   },
   "source": [
    "<a name='exercises_list_loop'></a>Exercises\n",
    "---\n",
    "#### First List - Loop\n",
    "- Repeat *First List*, but this time use a loop to print out each value in the list.\n",
    "\n",
    "#### First Neat List - Loop\n",
    "- Repeat *First Neat List*, but this time use a loop to print out your statements. Make sure you are writing the same sentence for all values in your list. Loops are not effective when you are trying to generate different output for each value in your list.\n",
    "\n",
    "#### Your First List - Loop\n",
    "- Repeat *Your First List*, but this time use a loop to print out your message for each item in your list. Again, if you came up with different messages for each value in your list, decide on one message to repeat for each value in your list."
   ]
  },
  {
   "cell_type": "code",
   "execution_count": null,
   "metadata": {
    "nbpresent": {
     "id": "b0e8e55a-6198-4741-b259-7a0cc4a31676"
    },
    "slideshow": {
     "slide_type": "skip"
    }
   },
   "outputs": [],
   "source": [
    "# Ex 3.4 : First List - Loop\n",
    "\n",
    "# put your code here"
   ]
  },
  {
   "cell_type": "code",
   "execution_count": null,
   "metadata": {
    "nbpresent": {
     "id": "0dde1121-22fd-4809-89ae-b44b3afdf5ee"
    },
    "slideshow": {
     "slide_type": "skip"
    }
   },
   "outputs": [],
   "source": [
    "# Ex 3.5 : First Neat List - Loop\n",
    "\n",
    "# put your code here"
   ]
  },
  {
   "cell_type": "code",
   "execution_count": null,
   "metadata": {
    "nbpresent": {
     "id": "a3232952-ebe0-4627-bc51-507959a410a2"
    },
    "slideshow": {
     "slide_type": "skip"
    }
   },
   "outputs": [],
   "source": [
    "# Ex 3.6 : Your First List - Loop\n",
    "\n",
    "# put your code here"
   ]
  },
  {
   "cell_type": "markdown",
   "metadata": {
    "nbpresent": {
     "id": "9a3b1a7d-0cb7-4577-9fcb-43307c57e11d"
    },
    "slideshow": {
     "slide_type": "skip"
    }
   },
   "source": [
    "[top](#top)"
   ]
  },
  {
   "cell_type": "markdown",
   "metadata": {
    "nbpresent": {
     "id": "81f3f47a-26fb-4c3e-bdcb-b0e7c2c47d2a"
    },
    "slideshow": {
     "slide_type": "slide"
    }
   },
   "source": [
    "<a name='common_operations'></a>Common List Operations\n",
    "==="
   ]
  },
  {
   "cell_type": "markdown",
   "metadata": {
    "nbpresent": {
     "id": "40fd09ae-4219-424c-9931-acd5f9b4146f"
    },
    "slideshow": {
     "slide_type": "subslide"
    }
   },
   "source": [
    "<a name='modifying_elements'></a>Modifying elements in a list\n",
    "---\n",
    "You can change the value of any element in a list if you know the position of that item."
   ]
  },
  {
   "cell_type": "code",
   "execution_count": 2,
   "metadata": {
    "nbpresent": {
     "id": "d46969c7-dac3-4550-afa5-c163c887db96"
    },
    "slideshow": {
     "slide_type": "fragment"
    }
   },
   "outputs": [
    {
     "name": "stdout",
     "output_type": "stream",
     "text": [
      "['australian shepherd', 'australian cattle dog', 'labrador retriever']\n"
     ]
    }
   ],
   "source": [
    "dogs = ['border collie', 'australian cattle dog', 'labrador retriever']\n",
    "\n",
    "dogs[0] = 'australian shepherd'\n",
    "print(dogs)"
   ]
  },
  {
   "cell_type": "markdown",
   "metadata": {
    "nbpresent": {
     "id": "b0ccad3d-5460-4ee7-8b23-976b48b1f524"
    },
    "slideshow": {
     "slide_type": "subslide"
    }
   },
   "source": [
    "<a name='finding_elements'></a>Finding an element in a list\n",
    "---\n",
    "If you want to find out the position of an element in a list, you can use the index() function."
   ]
  },
  {
   "cell_type": "code",
   "execution_count": 11,
   "metadata": {
    "nbpresent": {
     "id": "bf3498a4-7027-4a24-a6fd-d820ea16090d"
    },
    "slideshow": {
     "slide_type": "fragment"
    }
   },
   "outputs": [
    {
     "name": "stdout",
     "output_type": "stream",
     "text": [
      "1\n"
     ]
    }
   ],
   "source": [
    "dogs = ['border collie', 'australian cattle dog', 'labrador retriever']\n",
    "\n",
    "print(dogs.index('australian cattle dog'))"
   ]
  },
  {
   "cell_type": "markdown",
   "metadata": {
    "nbpresent": {
     "id": "a2d103c4-f235-4d52-8c66-0275d799c76d"
    },
    "slideshow": {
     "slide_type": "subslide"
    }
   },
   "source": [
    "This method returns a ValueError if the requested item is not in the list."
   ]
  },
  {
   "cell_type": "code",
   "execution_count": 13,
   "metadata": {
    "nbpresent": {
     "id": "37be52e3-4145-4d71-b6e0-fbc28489f90a"
    },
    "slideshow": {
     "slide_type": "fragment"
    }
   },
   "outputs": [
    {
     "ename": "ValueError",
     "evalue": "'poodle' is not in list",
     "output_type": "error",
     "traceback": [
      "\u001b[0;31m---------------------------------------------------------------------------\u001b[0m\n\u001b[0;31mValueError\u001b[0m                                Traceback (most recent call last)",
      "\u001b[0;32m<ipython-input-13-a9e05e37e8df>\u001b[0m in \u001b[0;36m<module>\u001b[0;34m()\u001b[0m\n\u001b[1;32m      1\u001b[0m \u001b[0mdogs\u001b[0m \u001b[0;34m=\u001b[0m \u001b[0;34m[\u001b[0m\u001b[0;34m'border collie'\u001b[0m\u001b[0;34m,\u001b[0m \u001b[0;34m'australian cattle dog'\u001b[0m\u001b[0;34m,\u001b[0m \u001b[0;34m'labrador retriever'\u001b[0m\u001b[0;34m]\u001b[0m\u001b[0;34m\u001b[0m\u001b[0m\n\u001b[1;32m      2\u001b[0m \u001b[0;34m\u001b[0m\u001b[0m\n\u001b[0;32m----> 3\u001b[0;31m \u001b[0mprint\u001b[0m\u001b[0;34m(\u001b[0m\u001b[0mdogs\u001b[0m\u001b[0;34m.\u001b[0m\u001b[0mindex\u001b[0m\u001b[0;34m(\u001b[0m\u001b[0;34m'poodle'\u001b[0m\u001b[0;34m)\u001b[0m\u001b[0;34m)\u001b[0m\u001b[0;34m\u001b[0m\u001b[0m\n\u001b[0m",
      "\u001b[0;31mValueError\u001b[0m: 'poodle' is not in list"
     ]
    }
   ],
   "source": [
    "dogs = ['border collie', 'australian cattle dog', 'labrador retriever']\n",
    "\n",
    "print(dogs.index('poodle'))"
   ]
  },
  {
   "cell_type": "markdown",
   "metadata": {
    "nbpresent": {
     "id": "d87c1b55-dfe3-4572-a96e-c1fde6271872"
    },
    "slideshow": {
     "slide_type": "subslide"
    }
   },
   "source": [
    "<a name='testing_elements'></a>Testing whether an item is in a list\n",
    "---\n",
    "You can test whether an item is in a list using the \"in\" keyword. This will become more useful after learning how to use if-else statements."
   ]
  },
  {
   "cell_type": "code",
   "execution_count": 12,
   "metadata": {
    "nbpresent": {
     "id": "619d67bd-d949-45de-aec8-5bdc5b1634cb"
    },
    "slideshow": {
     "slide_type": "fragment"
    }
   },
   "outputs": [
    {
     "name": "stdout",
     "output_type": "stream",
     "text": [
      "True\n",
      "False\n"
     ]
    }
   ],
   "source": [
    "dogs = ['border collie', 'australian cattle dog', 'labrador retriever']\n",
    "\n",
    "print('australian cattle dog' in dogs)\n",
    "print('poodle' in dogs)"
   ]
  },
  {
   "cell_type": "markdown",
   "metadata": {
    "nbpresent": {
     "id": "ecdb5d6d-23d6-47bb-9575-740163ff99cf"
    },
    "slideshow": {
     "slide_type": "subslide"
    }
   },
   "source": [
    "<a name='adding_items'></a>Adding items to a list\n",
    "---\n",
    "### Appending items to the end of a list\n",
    "We can add an item to a list using the append() method. This method adds the new item to the end of the list."
   ]
  },
  {
   "cell_type": "code",
   "execution_count": 22,
   "metadata": {
    "nbpresent": {
     "id": "e487343a-6486-4b6f-b416-ad7a02f840f5"
    },
    "slideshow": {
     "slide_type": "fragment"
    }
   },
   "outputs": [
    {
     "name": "stdout",
     "output_type": "stream",
     "text": [
      "Border Collies are cool.\n",
      "Australian Cattle Dogs are cool.\n",
      "Labrador Retrievers are cool.\n",
      "Poodles are cool.\n"
     ]
    }
   ],
   "source": [
    "dogs = ['border collie', 'australian cattle dog', 'labrador retriever']\n",
    "dogs.append('poodle')\n",
    "\n",
    "for dog in dogs:\n",
    "    print(dog.title() + \"s are cool.\")"
   ]
  },
  {
   "cell_type": "markdown",
   "metadata": {
    "nbpresent": {
     "id": "815c6a52-16db-4aef-b964-078314766938"
    },
    "slideshow": {
     "slide_type": "subslide"
    }
   },
   "source": [
    "### Inserting items into a list\n",
    "We can also insert items anywhere we want in a list, using the **insert()** function. We specify the position we want the item to have, and everything from that point on is shifted one position to the right. In other words, the index of every item after the new item is increased by one."
   ]
  },
  {
   "cell_type": "code",
   "execution_count": 24,
   "metadata": {
    "nbpresent": {
     "id": "abf052fc-df76-4466-aa0b-1551722a7527"
    },
    "slideshow": {
     "slide_type": "fragment"
    }
   },
   "outputs": [
    {
     "name": "stdout",
     "output_type": "stream",
     "text": [
      "['border collie', 'poodle', 'australian cattle dog', 'labrador retriever']\n"
     ]
    }
   ],
   "source": [
    "dogs = ['border collie', 'australian cattle dog', 'labrador retriever']\n",
    "dogs.insert(1, 'poodle')\n",
    "\n",
    "print(dogs)"
   ]
  },
  {
   "cell_type": "markdown",
   "metadata": {
    "nbpresent": {
     "id": "a55b8b4d-d98b-4f5c-b649-18e660817d03"
    },
    "slideshow": {
     "slide_type": "fragment"
    }
   },
   "source": [
    "Note that you have to give the position of the new item first, and then the value of the new item. If you do it in the reverse order, you will get an error."
   ]
  },
  {
   "cell_type": "markdown",
   "metadata": {
    "nbpresent": {
     "id": "7c2522b0-fd0d-4700-9954-d9e02f7dc000"
    },
    "slideshow": {
     "slide_type": "subslide"
    }
   },
   "source": [
    "<a name='empty_list'></a>Creating an empty list\n",
    "---\n",
    "Now that we know how to add items to a list after it is created, we can use lists more dynamically. We are no longer stuck defining our entire list at once.\n",
    "\n",
    "A common approach with lists is to define an empty list, and then let your program add items to the list as necessary. This approach works, for example, when starting to build an interactive web site. Your list of users might start out empty, and then as people register for the site it will grow. This is a simplified approach to how web sites actually work, but the idea is realistic.\n",
    "\n",
    "Here is a brief example of how to start with an empty list, start to fill it up, and work with the items in the list. The only new thing here is the way we define an empty list, which is just an empty set of square brackets."
   ]
  },
  {
   "cell_type": "code",
   "execution_count": 25,
   "metadata": {
    "nbpresent": {
     "id": "c8008947-3abe-4664-a3fa-ba58c0d8d38f"
    },
    "slideshow": {
     "slide_type": "subslide"
    }
   },
   "outputs": [
    {
     "name": "stdout",
     "output_type": "stream",
     "text": [
      "Welcome, Bernice!\n",
      "Welcome, Cody!\n",
      "Welcome, Aaron!\n"
     ]
    }
   ],
   "source": [
    "# Create an empty list to hold our users.\n",
    "usernames = []\n",
    "\n",
    "# Add some users.\n",
    "usernames.append('bernice')\n",
    "usernames.append('cody')\n",
    "usernames.append('aaron')\n",
    "\n",
    "# Greet all of our users.\n",
    "for username in usernames:\n",
    "    print(\"Welcome, \" + username.title() + '!')"
   ]
  },
  {
   "cell_type": "markdown",
   "metadata": {
    "nbpresent": {
     "id": "524f98fa-2c2f-4d14-96ce-ee8742199809"
    },
    "slideshow": {
     "slide_type": "subslide"
    }
   },
   "source": [
    "If we don't change the order in our list, we can use the list to figure out who our oldest and newest users are."
   ]
  },
  {
   "cell_type": "code",
   "execution_count": 2,
   "metadata": {
    "nbpresent": {
     "id": "95eb1de3-9ef9-4168-abea-7bd45f07db24"
    },
    "slideshow": {
     "slide_type": "fragment"
    }
   },
   "outputs": [
    {
     "name": "stdout",
     "output_type": "stream",
     "text": [
      "Welcome, Bernice!\n",
      "Welcome, Cody!\n",
      "Welcome, Aaron!\n",
      "\n",
      "Thank you for being our very first user, Bernice!\n",
      "And a warm welcome to our newest user, Aaron!\n"
     ]
    }
   ],
   "source": [
    "# Create an empty list to hold our users.\n",
    "usernames = []\n",
    "\n",
    "# Add some users.\n",
    "usernames.append('bernice')\n",
    "usernames.append('cody')\n",
    "usernames.append('aaron')\n",
    "\n",
    "# Greet all of our users.\n",
    "for username in usernames:\n",
    "    print(\"Welcome, \" + username.title() + '!')\n",
    "\n",
    "# Recognize our first user, and welcome our newest user.\n",
    "print(\"\\nThank you for being our very first user, \" + usernames[0].title() + '!')\n",
    "print(\"And a warm welcome to our newest user, \" + usernames[-1].title() + '!')"
   ]
  },
  {
   "cell_type": "markdown",
   "metadata": {
    "nbpresent": {
     "id": "80d75a09-a08a-4710-ba09-08dc2f2b4f55"
    },
    "slideshow": {
     "slide_type": "fragment"
    }
   },
   "source": [
    "Note that the code welcoming our newest user will always work, because we have used the index -1. If we had used the index 2 we would always get the third user, even as our list of users grows and grows."
   ]
  },
  {
   "cell_type": "markdown",
   "metadata": {
    "nbpresent": {
     "id": "ee929cda-2c50-430a-9d94-642c77e9cd98"
    },
    "slideshow": {
     "slide_type": "subslide"
    }
   },
   "source": [
    "<a name='sorting_list'></a>Sorting a List\n",
    "---\n",
    "We can sort a list alphabetically, in either order."
   ]
  },
  {
   "cell_type": "code",
   "execution_count": 16,
   "metadata": {
    "nbpresent": {
     "id": "a193e959-6f96-4dd5-86a4-ad6c17b8c24f"
    },
    "slideshow": {
     "slide_type": "fragment"
    }
   },
   "outputs": [
    {
     "name": "stdout",
     "output_type": "stream",
     "text": [
      "Our students are currently in alphabetical order.\n",
      "Aaron\n",
      "Bernice\n",
      "Cody\n",
      "\n",
      "Our students are now in reverse alphabetical order.\n",
      "Cody\n",
      "Bernice\n",
      "Aaron\n"
     ]
    }
   ],
   "source": [
    "students = ['bernice', 'aaron', 'cody']\n",
    "\n",
    "# Put students in alphabetical order.\n",
    "students.sort()\n",
    "\n",
    "# Display the list in its current order.\n",
    "print(\"Our students are currently in alphabetical order.\")\n",
    "for student in students:\n",
    "    print(student.title())\n",
    "\n",
    "#Put students in reverse alphabetical order.\n",
    "students.sort(reverse=True)\n",
    "\n",
    "# Display the list in its current order.\n",
    "print(\"\\nOur students are now in reverse alphabetical order.\")\n",
    "for student in students:\n",
    "    print(student.title())"
   ]
  },
  {
   "cell_type": "markdown",
   "metadata": {
    "nbpresent": {
     "id": "ffcb8abb-c1c5-45b9-8676-217663570d22"
    },
    "slideshow": {
     "slide_type": "subslide"
    }
   },
   "source": [
    "### *sorted()* vs. *sort()*\n",
    "Whenever you consider sorting a list, keep in mind that you can not recover the original order. If you want to display a list in sorted order, but preserve the original order, you can use the *sorted()* function. The *sorted()* function also accepts the optional *reverse=True* argument."
   ]
  },
  {
   "cell_type": "code",
   "execution_count": 24,
   "metadata": {
    "nbpresent": {
     "id": "df3f77a6-a817-4757-825c-6d15fa210571"
    },
    "slideshow": {
     "slide_type": "fragment"
    }
   },
   "outputs": [
    {
     "name": "stdout",
     "output_type": "stream",
     "text": [
      "Here is the list in alphabetical order:\n",
      "Aaron\n",
      "Bernice\n",
      "Cody\n",
      "\n",
      "Here is the list in reverse alphabetical order:\n",
      "Cody\n",
      "Bernice\n",
      "Aaron\n",
      "\n",
      "Here is the list in its original order:\n",
      "Bernice\n",
      "Aaron\n",
      "Cody\n"
     ]
    }
   ],
   "source": [
    "students = ['bernice', 'aaron', 'cody']\n",
    "\n",
    "# Display students in alphabetical order, but keep the original order.\n",
    "print(\"Here is the list in alphabetical order:\")\n",
    "for student in sorted(students):\n",
    "    print(student.title())\n",
    "\n",
    "# Display students in reverse alphabetical order, but keep the original order.\n",
    "print(\"\\nHere is the list in reverse alphabetical order:\")\n",
    "for student in sorted(students, reverse=True):\n",
    "    print(student.title())\n",
    "\n",
    "print(\"\\nHere is the list in its original order:\")\n",
    "# Show that the list is still in its original order.\n",
    "for student in students:\n",
    "    print(student.title())"
   ]
  },
  {
   "cell_type": "markdown",
   "metadata": {
    "nbpresent": {
     "id": "dc0197d6-47d0-465f-b513-d12cc04cf99b"
    },
    "slideshow": {
     "slide_type": "subslide"
    }
   },
   "source": [
    "### Reversing a list\n",
    "We have seen three possible orders for a list:\n",
    "- The original order in which the list was created\n",
    "- Alphabetical order\n",
    "- Reverse alphabetical order\n",
    "\n",
    "There is one more order we can use, and that is the reverse of the original order of the list. The *reverse()* function gives us this order."
   ]
  },
  {
   "cell_type": "code",
   "execution_count": 17,
   "metadata": {
    "nbpresent": {
     "id": "8afbd72a-4c5e-4cda-bb68-171f5863ef46"
    },
    "slideshow": {
     "slide_type": "fragment"
    }
   },
   "outputs": [
    {
     "name": "stdout",
     "output_type": "stream",
     "text": [
      "['cody', 'aaron', 'bernice']\n"
     ]
    }
   ],
   "source": [
    "students = ['bernice', 'aaron', 'cody']\n",
    "students.reverse()\n",
    "\n",
    "print(students)"
   ]
  },
  {
   "cell_type": "markdown",
   "metadata": {
    "nbpresent": {
     "id": "54fc0ceb-a1fe-42c1-8bb5-150decc54a0c"
    },
    "slideshow": {
     "slide_type": "fragment"
    }
   },
   "source": [
    "Note that reverse is permanent, although you could follow up with another call to *reverse()* and get back the original order of the list."
   ]
  },
  {
   "cell_type": "markdown",
   "metadata": {
    "nbpresent": {
     "id": "78571a49-ab4b-41ae-beee-845440733d30"
    },
    "slideshow": {
     "slide_type": "subslide"
    }
   },
   "source": [
    "### Sorting a numerical list\n",
    "All of the sorting functions work for numerical lists as well."
   ]
  },
  {
   "cell_type": "code",
   "execution_count": 29,
   "metadata": {
    "nbpresent": {
     "id": "d072c717-b416-4d8f-9509-5f2ea134c172"
    },
    "slideshow": {
     "slide_type": "fragment"
    }
   },
   "outputs": [
    {
     "name": "stdout",
     "output_type": "stream",
     "text": [
      "[1, 2, 3, 4]\n",
      "[4, 3, 2, 1]\n"
     ]
    }
   ],
   "source": [
    "numbers = [1, 3, 4, 2]\n",
    "\n",
    "# sort() puts numbers in increasing order.\n",
    "numbers.sort()\n",
    "print(numbers)\n",
    "\n",
    "# sort(reverse=True) puts numbers in decreasing order.\n",
    "numbers.sort(reverse=True)\n",
    "print(numbers)\n"
   ]
  },
  {
   "cell_type": "code",
   "execution_count": 30,
   "metadata": {
    "nbpresent": {
     "id": "786ab7fd-5001-4c90-8b48-4d1536ba16d8"
    },
    "slideshow": {
     "slide_type": "subslide"
    }
   },
   "outputs": [
    {
     "name": "stdout",
     "output_type": "stream",
     "text": [
      "[1, 2, 3, 4]\n",
      "[1, 3, 4, 2]\n"
     ]
    }
   ],
   "source": [
    "numbers = [1, 3, 4, 2]\n",
    "\n",
    "# sorted() preserves the original order of the list:\n",
    "print(sorted(numbers))\n",
    "print(numbers)"
   ]
  },
  {
   "cell_type": "code",
   "execution_count": 31,
   "metadata": {
    "nbpresent": {
     "id": "d84092f7-9f63-4179-aecc-1c944ba7d11f"
    },
    "slideshow": {
     "slide_type": "fragment"
    }
   },
   "outputs": [
    {
     "name": "stdout",
     "output_type": "stream",
     "text": [
      "[2, 4, 3, 1]\n"
     ]
    }
   ],
   "source": [
    "numbers = [1, 3, 4, 2]\n",
    "\n",
    "# The reverse() function also works for numerical lists.\n",
    "numbers.reverse()\n",
    "print(numbers)"
   ]
  },
  {
   "cell_type": "markdown",
   "metadata": {
    "nbpresent": {
     "id": "c10d79b9-ca69-4c31-b3fc-fa9b7daa8993"
    },
    "slideshow": {
     "slide_type": "subslide"
    }
   },
   "source": [
    "<a name='length'></a>Finding the length of a list\n",
    "---\n",
    "You can find the length of a list using the *len()* function."
   ]
  },
  {
   "cell_type": "code",
   "execution_count": 38,
   "metadata": {
    "nbpresent": {
     "id": "6165616d-b235-4513-bc8d-369fc7d531ac"
    },
    "slideshow": {
     "slide_type": "fragment"
    }
   },
   "outputs": [
    {
     "name": "stdout",
     "output_type": "stream",
     "text": [
      "3\n"
     ]
    }
   ],
   "source": [
    "usernames = ['bernice', 'cody', 'aaron']\n",
    "user_count = len(usernames)\n",
    "\n",
    "print(user_count)"
   ]
  },
  {
   "cell_type": "markdown",
   "metadata": {
    "nbpresent": {
     "id": "e57bc61d-9b31-40f5-9d53-c4f6f54e5045"
    },
    "slideshow": {
     "slide_type": "subslide"
    }
   },
   "source": [
    "There are many situations where you might want to know how many items in a list. If you have a list that stores your users, you can find the length of your list at any time, and know how many users you have."
   ]
  },
  {
   "cell_type": "code",
   "execution_count": 42,
   "metadata": {
    "nbpresent": {
     "id": "06eda551-10b2-403a-9cc2-8c0b13f4c14f"
    },
    "slideshow": {
     "slide_type": "fragment"
    }
   },
   "outputs": [
    {
     "name": "stdout",
     "output_type": "stream",
     "text": [
      "We have 1 user!\n",
      "We have 3 users!\n"
     ]
    }
   ],
   "source": [
    "# Create an empty list to hold our users.\n",
    "usernames = []\n",
    "\n",
    "# Add some users, and report on how many users we have.\n",
    "usernames.append('bernice')\n",
    "user_count = len(usernames)\n",
    "\n",
    "print(\"We have \" + str(user_count) + \" user!\")\n",
    "\n",
    "usernames.append('cody')\n",
    "usernames.append('aaron')\n",
    "user_count = len(usernames)\n",
    "\n",
    "print(\"We have \" + str(user_count) + \" users!\")"
   ]
  },
  {
   "cell_type": "markdown",
   "metadata": {
    "nbpresent": {
     "id": "33cdbc18-03b8-4a4b-a8a4-02596147c4c4"
    },
    "slideshow": {
     "slide_type": "subslide"
    }
   },
   "source": [
    "On a technical note, the *len()* function returns an integer, which can't be printed directly with strings. We use the *str()* function to turn the integer into a string so that it prints nicely:"
   ]
  },
  {
   "cell_type": "code",
   "execution_count": 43,
   "metadata": {
    "nbpresent": {
     "id": "d79082a2-8f0f-40af-80de-7f67eb6420fd"
    },
    "slideshow": {
     "slide_type": "fragment"
    }
   },
   "outputs": [
    {
     "ename": "TypeError",
     "evalue": "Can't convert 'int' object to str implicitly",
     "output_type": "error",
     "traceback": [
      "\u001b[0;31m---------------------------------------------------------------------------\u001b[0m\n\u001b[0;31mTypeError\u001b[0m                                 Traceback (most recent call last)",
      "\u001b[0;32m<ipython-input-43-92e732ef190e>\u001b[0m in \u001b[0;36m<module>\u001b[0;34m()\u001b[0m\n\u001b[1;32m      2\u001b[0m \u001b[0muser_count\u001b[0m \u001b[0;34m=\u001b[0m \u001b[0mlen\u001b[0m\u001b[0;34m(\u001b[0m\u001b[0musernames\u001b[0m\u001b[0;34m)\u001b[0m\u001b[0;34m\u001b[0m\u001b[0m\n\u001b[1;32m      3\u001b[0m \u001b[0;34m\u001b[0m\u001b[0m\n\u001b[0;32m----> 4\u001b[0;31m \u001b[0mprint\u001b[0m\u001b[0;34m(\u001b[0m\u001b[0;34m\"This will cause an error: \"\u001b[0m \u001b[0;34m+\u001b[0m \u001b[0muser_count\u001b[0m\u001b[0;34m)\u001b[0m\u001b[0;34m\u001b[0m\u001b[0m\n\u001b[0m",
      "\u001b[0;31mTypeError\u001b[0m: Can't convert 'int' object to str implicitly"
     ]
    }
   ],
   "source": [
    "usernames = ['bernice', 'cody', 'aaron']\n",
    "user_count = len(usernames)\n",
    "\n",
    "print(\"This will cause an error: \" + user_count)"
   ]
  },
  {
   "cell_type": "code",
   "execution_count": 44,
   "metadata": {
    "nbpresent": {
     "id": "93476bfa-4d0e-40d4-af7f-26208e3b3754"
    },
    "slideshow": {
     "slide_type": "fragment"
    }
   },
   "outputs": [
    {
     "name": "stdout",
     "output_type": "stream",
     "text": [
      "This will work: 3\n"
     ]
    }
   ],
   "source": [
    "usernames = ['bernice', 'cody', 'aaron']\n",
    "user_count = len(usernames)\n",
    "\n",
    "print(\"This will work: \" + str(user_count))"
   ]
  },
  {
   "cell_type": "markdown",
   "metadata": {
    "nbpresent": {
     "id": "7a6a457b-7b30-4a3f-8db3-201f890fb5ba"
    },
    "slideshow": {
     "slide_type": "slide"
    }
   },
   "source": [
    "<a name='exercises_common_operations'></a>Exercises\n",
    "---\n",
    "#### Working List\n",
    "- Make a list that includes four careers, such as 'programmer' and 'truck driver'.\n",
    "- Use the *list.index()* function to find the index of one career in your list.\n",
    "- Use the *in* function to show that this career is in your list.\n",
    "- Use the *append()* function to add a new career to your list.\n",
    "- Use the *insert()* function to add a new career at the beginning of the list.\n",
    "- Use a loop to show all the careers in your list.\n",
    "\n",
    "#### Starting From Empty\n",
    "- Create the list you ended up with in *Working List*, but this time start your file with an empty list and fill it up using *append()* statements.\n",
    "- Print a statement that tells us what the first career you thought of was.\n",
    "- Print a statement that tells us what the last career you thought of was.\n",
    "\n",
    "#### Ordered Working List\n",
    "- Start with the list you created in *Working List*.\n",
    "- You are going to print out the list in a number of different orders.\n",
    "- Each time you print the list, use a for loop rather than printing the raw list.\n",
    "- Print a message each time telling us what order we should see the list in.\n",
    "    - Print the list in its original order.\n",
    "    - Print the list in alphabetical order.\n",
    "    - Print the list in its original order.\n",
    "    - Print the list in reverse alphabetical order.\n",
    "    - Print the list in its original order.\n",
    "    - Print the list in the reverse order from what it started.\n",
    "    - Print the list in its original order\n",
    "    - Permanently sort the list in alphabetical order, and then print it out.\n",
    "    - Permanently sort the list in reverse alphabetical order, and then print it out.\n",
    "\n",
    "#### Ordered Numbers\n",
    "- Make a list of 5 numbers, in a random order.\n",
    "- You are going to print out the list in a number of different orders.\n",
    "- Each time you print the list, use a for loop rather than printing the raw list.\n",
    "- Print a message each time telling us what order we should see the list in.\n",
    "    - Print the numbers in the original order.\n",
    "    - Print the numbers in increasing order.\n",
    "    - Print the numbers in the original order.\n",
    "    - Print the numbers in decreasing order.\n",
    "    - Print the numbers in their original order.\n",
    "    - Print the numbers in the reverse order from how they started.\n",
    "    - Print the numbers in the original order.\n",
    "    - Permanently sort the numbers in increasing order, and then print them out.\n",
    "    - Permanently sort the numbers in descreasing order, and then print them out.\n",
    "\n",
    "#### List Lengths\n",
    "- Copy two or three of the lists you made from the previous exercises, or make up two or three new lists.\n",
    "- Print out a series of statements that tell us how long each list is."
   ]
  },
  {
   "cell_type": "code",
   "execution_count": null,
   "metadata": {
    "nbpresent": {
     "id": "b9340b1e-143a-4319-965d-2aca72e1e21e"
    },
    "slideshow": {
     "slide_type": "skip"
    }
   },
   "outputs": [],
   "source": [
    "# Ex 3.7 : Working List\n",
    "\n",
    "# put your code here"
   ]
  },
  {
   "cell_type": "code",
   "execution_count": null,
   "metadata": {
    "nbpresent": {
     "id": "2c4fb7eb-4a23-4590-ba19-03600242e705"
    },
    "slideshow": {
     "slide_type": "skip"
    }
   },
   "outputs": [],
   "source": [
    "# Ex 3.8 : Starting From Empty\n",
    "\n",
    "# put your code here"
   ]
  },
  {
   "cell_type": "code",
   "execution_count": null,
   "metadata": {
    "nbpresent": {
     "id": "48dc18fe-aa8a-48cf-9a36-b22634cdb2d7"
    },
    "slideshow": {
     "slide_type": "skip"
    }
   },
   "outputs": [],
   "source": [
    "# Ex 3.9 : Ordered Working List\n",
    "\n",
    "# put your code here"
   ]
  },
  {
   "cell_type": "code",
   "execution_count": null,
   "metadata": {
    "nbpresent": {
     "id": "e0823947-c297-46e7-9750-51206e18b6a6"
    },
    "slideshow": {
     "slide_type": "skip"
    }
   },
   "outputs": [],
   "source": [
    "# Ex 3.10 : Ordered Numbers\n",
    "\n",
    "# put your code here"
   ]
  },
  {
   "cell_type": "code",
   "execution_count": null,
   "metadata": {
    "nbpresent": {
     "id": "68aa3759-cd87-49f3-83a0-79d146c6b06e"
    },
    "slideshow": {
     "slide_type": "skip"
    }
   },
   "outputs": [],
   "source": [
    "# Ex 3.11 : List Lengths\n",
    "\n",
    "# put your code here"
   ]
  },
  {
   "cell_type": "markdown",
   "metadata": {
    "nbpresent": {
     "id": "ff8dcb67-6d53-4749-9e42-8672f43bbd27"
    },
    "slideshow": {
     "slide_type": "skip"
    }
   },
   "source": [
    "[top](#top)"
   ]
  },
  {
   "cell_type": "markdown",
   "metadata": {
    "nbpresent": {
     "id": "87e920d6-46ba-46e3-8fed-60c96cc34eca"
    },
    "slideshow": {
     "slide_type": "slide"
    }
   },
   "source": [
    "<a name='removing_items'></a>Removing Items from a List\n",
    "===\n",
    "Hopefully you can see by now that lists are a dynamic structure. We can define an empty list and then fill it up as information comes into our program. To become really dynamic, we need some ways to remove items from a list when we no longer need them. You can remove items from a list through their position, or through their value."
   ]
  },
  {
   "cell_type": "markdown",
   "metadata": {
    "nbpresent": {
     "id": "eb8b9395-a45d-425c-b3dc-aa03521fd521"
    },
    "slideshow": {
     "slide_type": "subslide"
    }
   },
   "source": [
    "<a name='removing_by_position'></a>Removing items by position\n",
    "---\n",
    "If you know the position of an item in a list, you can remove that item using the *del* command. To use this approach, give the command *del* and the name of your list, with the index of the item you want to move in square brackets:"
   ]
  },
  {
   "cell_type": "code",
   "execution_count": 30,
   "metadata": {
    "nbpresent": {
     "id": "7c8ddf68-41c2-43bc-a5ae-4980649c676d"
    },
    "slideshow": {
     "slide_type": "fragment"
    }
   },
   "outputs": [
    {
     "name": "stdout",
     "output_type": "stream",
     "text": [
      "['australian cattle dog', 'labrador retriever']\n"
     ]
    }
   ],
   "source": [
    "dogs = ['border collie', 'australian cattle dog', 'labrador retriever']\n",
    "# Remove the first dog from the list.\n",
    "del dogs[0]\n",
    "\n",
    "print(dogs)"
   ]
  },
  {
   "cell_type": "markdown",
   "metadata": {
    "nbpresent": {
     "id": "5e81b1ff-bb38-4c13-b3b5-126e83203c77"
    },
    "slideshow": {
     "slide_type": "subslide"
    }
   },
   "source": [
    "<a name='removing_by_value'></a>Removing items by value\n",
    "---\n",
    "You can also remove an item from a list if you know its value. To do this, we use the *remove()* function. Give the name of the list, followed by the word remove with the value of the item you want to remove in parentheses. Python looks through your list, finds the first item with this value, and removes it."
   ]
  },
  {
   "cell_type": "code",
   "execution_count": 31,
   "metadata": {
    "nbpresent": {
     "id": "d388a8ea-f6a7-49ab-b7f9-007ecbfe23ff"
    },
    "slideshow": {
     "slide_type": "fragment"
    }
   },
   "outputs": [
    {
     "name": "stdout",
     "output_type": "stream",
     "text": [
      "['border collie', 'labrador retriever']\n"
     ]
    }
   ],
   "source": [
    "dogs = ['border collie', 'australian cattle dog', 'labrador retriever']\n",
    "# Remove australian cattle dog from the list.\n",
    "dogs.remove('australian cattle dog')\n",
    "\n",
    "print(dogs)"
   ]
  },
  {
   "cell_type": "markdown",
   "metadata": {
    "nbpresent": {
     "id": "765e1143-1e24-4056-819b-3e05b8385a9e"
    },
    "slideshow": {
     "slide_type": "subslide"
    }
   },
   "source": [
    "Be careful to note, however, that *only* the first item with this value is removed. If you have multiple items with the same value, you will have some items with this value left in your list."
   ]
  },
  {
   "cell_type": "code",
   "execution_count": 32,
   "metadata": {
    "nbpresent": {
     "id": "4c51dbcf-34ed-44db-889d-822c7fc7134a"
    },
    "slideshow": {
     "slide_type": "fragment"
    }
   },
   "outputs": [
    {
     "name": "stdout",
     "output_type": "stream",
     "text": [
      "['b', 'c', 'a', 'b', 'c']\n"
     ]
    }
   ],
   "source": [
    "letters = ['a', 'b', 'c', 'a', 'b', 'c']\n",
    "# Remove the letter a from the list.\n",
    "letters.remove('a')\n",
    "\n",
    "print(letters)"
   ]
  },
  {
   "cell_type": "markdown",
   "metadata": {
    "nbpresent": {
     "id": "8d2cb714-7a79-457f-aae3-33d5fdf11dbb"
    },
    "slideshow": {
     "slide_type": "subslide"
    }
   },
   "source": [
    "<a name='popping'></a>Popping items from a list\n",
    "---\n",
    "There is a cool concept in programming called \"popping\" items from a collection. Every programming language has some sort of data structure similar to Python's lists. All of these structures can be used as queues, and there are various ways of processing the items in a queue.\n",
    "\n",
    "One simple approach is to start with an empty list, and then add items to that list. When you want to work with the items in the list, you always take the last item from the list, do something with it, and then remove that item. The *pop()* function makes this easy. It removes the last item from the list, and gives it to us so we can work with it. "
   ]
  },
  {
   "cell_type": "markdown",
   "metadata": {
    "nbpresent": {
     "id": "3d207559-1bc4-46f7-9c93-3878aa0bba7c"
    },
    "slideshow": {
     "slide_type": "fragment"
    }
   },
   "source": [
    "This is easier to show with an example"
   ]
  },
  {
   "cell_type": "code",
   "execution_count": 35,
   "metadata": {
    "nbpresent": {
     "id": "295e68ef-8c01-4f56-b4be-cb07b4d1a23c"
    },
    "slideshow": {
     "slide_type": "subslide"
    }
   },
   "outputs": [
    {
     "name": "stdout",
     "output_type": "stream",
     "text": [
      "labrador retriever\n",
      "['border collie', 'australian cattle dog']\n"
     ]
    }
   ],
   "source": [
    "dogs = ['border collie', 'australian cattle dog', 'labrador retriever']\n",
    "last_dog = dogs.pop()\n",
    "\n",
    "print(last_dog)\n",
    "print(dogs)"
   ]
  },
  {
   "cell_type": "markdown",
   "metadata": {
    "nbpresent": {
     "id": "4cdaebcd-d41c-44a3-b64c-8d98eb7878c0"
    },
    "slideshow": {
     "slide_type": "subslide"
    }
   },
   "source": [
    "This is an example of a first-in, last-out approach. The first item in the list would be the last item processed if you kept using this approach. We will see a full implementation of this approach later on, when we learn about *while* loops.\n",
    "\n",
    "You can actually pop any item you want from a list, by giving the index of the item you want to pop. So we could do a first-in, first-out approach by popping the first iem in the list:"
   ]
  },
  {
   "cell_type": "code",
   "execution_count": 36,
   "metadata": {
    "nbpresent": {
     "id": "86fb331f-c978-448c-a9cf-ab032186f3da"
    },
    "slideshow": {
     "slide_type": "fragment"
    }
   },
   "outputs": [
    {
     "name": "stdout",
     "output_type": "stream",
     "text": [
      "border collie\n",
      "['australian cattle dog', 'labrador retriever']\n"
     ]
    }
   ],
   "source": [
    "dogs = ['border collie', 'australian cattle dog', 'labrador retriever']\n",
    "first_dog = dogs.pop(0)\n",
    "\n",
    "print(first_dog)\n",
    "print(dogs)"
   ]
  },
  {
   "cell_type": "markdown",
   "metadata": {
    "nbpresent": {
     "id": "a1f3a2fd-4b2c-442f-82fe-6fa682807ead"
    },
    "slideshow": {
     "slide_type": "slide"
    }
   },
   "source": [
    "<a name='exercises_removing_items'></a>Exercises\n",
    "---\n",
    "#### Famous People\n",
    "- Make a list that includes the names of four famous people.\n",
    "- Remove each person from the list, one at a time, using each of the four methods we have just seen:\n",
    "    - Pop the last item from the list, and pop any item except the last item.\n",
    "    - Remove one item by its position, and one item by its value.\n",
    "- Print out a message that there are no famous people left in your list, and print your list to prove that it is empty."
   ]
  },
  {
   "cell_type": "code",
   "execution_count": 25,
   "metadata": {
    "nbpresent": {
     "id": "0771af2e-9651-4a84-99f4-15ae1039b2f1"
    },
    "slideshow": {
     "slide_type": "skip"
    }
   },
   "outputs": [
    {
     "name": "stdout",
     "output_type": "stream",
     "text": [
      "['david bowie', 'robert plant', 'obama']\n",
      "['david bowie', 'robert plant']\n",
      "david bowie ['robert plant']\n",
      "there are no more famous people in the list\n",
      "[]\n"
     ]
    }
   ],
   "source": [
    "# Ex 3.12 : Famous People\n",
    "fpeople = ['david bowie', 'robert plant', 'obama', 'taylor swift']\n",
    "#Remove each person from the list, one at a time, using each of the four methods we have just seen\n",
    "fpeople.remove('taylor swift')\n",
    "print(fpeople)\n",
    "del fpeople[2]\n",
    "print(fpeople)\n",
    "bowie=fpeople.pop(0)\n",
    "print(bowie,fpeople)\n",
    "last=fpeople.pop()\n",
    "print('there are no more famous people in the list')\n",
    "print(fpeople)\n",
    "# put your code here"
   ]
  },
  {
   "cell_type": "code",
   "execution_count": 24,
   "metadata": {
    "nbpresent": {
     "id": "9490a82a-01bd-4daf-b59e-e88dfaa25c64"
    }
   },
   "outputs": [
    {
     "name": "stdout",
     "output_type": "stream",
     "text": [
      "['david bowie', 'robert plant', 'obama']\n",
      "['taylor swift']\n",
      "['david bowie', 'robert plant']\n"
     ]
    }
   ],
   "source": [
    "#Pop the last item from the list\n",
    "fpeople = ['david bowie', 'robert plant', 'obama', 'taylor swift']\n",
    "fpeople.pop()\n",
    "print(fpeople)\n",
    "# and pop any item except the last item.\n",
    "fpeople = ['david bowie', 'robert plant', 'obama', 'taylor swift']\n",
    "for _ in range(0,len(fpeople)-1):\n",
    "    fpeople.pop(0)\n",
    "print(fpeople)\n",
    "\n",
    "fpeople = ['david bowie', 'robert plant', 'obama', 'taylor swift']\n",
    "fpeople.remove('obama')\n",
    "del fpeople[2]\n",
    "print(fpeople)\n"
   ]
  },
  {
   "cell_type": "markdown",
   "metadata": {
    "nbpresent": {
     "id": "6f361e26-bbde-412d-897c-94120bc71542"
    },
    "slideshow": {
     "slide_type": "skip"
    }
   },
   "source": [
    "[top](#top)"
   ]
  },
  {
   "cell_type": "markdown",
   "metadata": {
    "nbpresent": {
     "id": "68fd6dbc-4f41-41fb-b393-37ab1c13dc7d"
    },
    "slideshow": {
     "slide_type": "skip"
    }
   },
   "source": [
    "<a name='functions'></a>Want to see what functions are?\n",
    "===\n",
    "At this point, you might have noticed we have a fair bit of repetetive code in some of our examples. This repetition will disappear once we learn how to use functions. If this repetition is bothering you already, you might want to go look at [Introducing Functions](http://nbviewer.ipython.org/urls/raw.github.com/ehmatthes/intro_programming/master/notebooks/introducing_functions.ipynb) before you do any more exercises in this section. "
   ]
  },
  {
   "cell_type": "markdown",
   "metadata": {
    "nbpresent": {
     "id": "79d6a3be-2b6a-4a32-9112-b53fee3059f0"
    },
    "slideshow": {
     "slide_type": "slide"
    }
   },
   "source": [
    "<a name='slicing'></a>Slicing a List\n",
    "===\n",
    "Since a list is a collection of items, we should be able to get any subset of those items. For example, if we want to get just the first three items from the list, we should be able to do so easily. The same should be true for any three items in the middle of the list, or the last three items, or any x items from anywhere in the list. These subsets of a list are called *slices*."
   ]
  },
  {
   "cell_type": "markdown",
   "metadata": {
    "nbpresent": {
     "id": "8448e163-d211-46f3-b45d-13a1f4df9466"
    },
    "slideshow": {
     "slide_type": "fragment"
    }
   },
   "source": [
    "To get a subset of a list, we give the position of the first item we want, and the position of the first item we do *not* want to include in the subset. So the slice *list[0:3]* will return a list containing items 0, 1, and 2, but not item 3. "
   ]
  },
  {
   "cell_type": "markdown",
   "metadata": {
    "nbpresent": {
     "id": "f88f7ec0-dded-45a8-8198-3b7ad0b9879c"
    },
    "slideshow": {
     "slide_type": "subslide"
    }
   },
   "source": [
    "Here is how you get a batch containing the first three items."
   ]
  },
  {
   "cell_type": "code",
   "execution_count": 5,
   "metadata": {
    "nbpresent": {
     "id": "6f31011b-cfb8-432f-a9ea-eb18a49e7196"
    },
    "slideshow": {
     "slide_type": "fragment"
    }
   },
   "outputs": [
    {
     "name": "stdout",
     "output_type": "stream",
     "text": [
      "Bernice\n",
      "Cody\n",
      "Aaron\n"
     ]
    }
   ],
   "source": [
    "usernames = ['bernice', 'cody', 'aaron', 'ever', 'dalia']\n",
    "\n",
    "# Grab the first three users in the list.\n",
    "first_batch = usernames[0:3]\n",
    "\n",
    "for user in first_batch:\n",
    "    print(user.title())"
   ]
  },
  {
   "cell_type": "markdown",
   "metadata": {
    "nbpresent": {
     "id": "f99b7f61-0da2-4306-b3ed-c5b545c15ea3"
    },
    "slideshow": {
     "slide_type": "subslide"
    }
   },
   "source": [
    "If you want to grab everything up to a certain position in the list, you can also leave the first index blank:"
   ]
  },
  {
   "cell_type": "code",
   "execution_count": 8,
   "metadata": {
    "nbpresent": {
     "id": "98e75f5a-e85a-45e3-a9dd-9ac2a871c963"
    },
    "slideshow": {
     "slide_type": "fragment"
    }
   },
   "outputs": [
    {
     "name": "stdout",
     "output_type": "stream",
     "text": [
      "Bernice\n",
      "Cody\n",
      "Aaron\n"
     ]
    }
   ],
   "source": [
    "usernames = ['bernice', 'cody', 'aaron', 'ever', 'dalia']\n",
    "\n",
    "# Grab the first three users in the list.\n",
    "first_batch = usernames[:3]\n",
    "\n",
    "for user in first_batch:\n",
    "    print(user.title())"
   ]
  },
  {
   "cell_type": "markdown",
   "metadata": {
    "nbpresent": {
     "id": "c6daafbb-d715-4f78-be65-bc90615c2e2e"
    },
    "slideshow": {
     "slide_type": "subslide"
    }
   },
   "source": [
    "When we grab a slice from a list, the original list is not affected:"
   ]
  },
  {
   "cell_type": "code",
   "execution_count": 6,
   "metadata": {
    "nbpresent": {
     "id": "3803f1e1-1225-4f60-aaa3-819ef238f1c1"
    },
    "slideshow": {
     "slide_type": "fragment"
    }
   },
   "outputs": [
    {
     "name": "stdout",
     "output_type": "stream",
     "text": [
      "Bernice\n",
      "Cody\n",
      "Aaron\n",
      "Ever\n",
      "Dalia\n"
     ]
    }
   ],
   "source": [
    "usernames = ['bernice', 'cody', 'aaron', 'ever', 'dalia']\n",
    "\n",
    "# Grab the first three users in the list.\n",
    "first_batch = usernames[0:3]\n",
    "\n",
    "# The original list is unaffected.\n",
    "for user in usernames:\n",
    "    print(user.title())"
   ]
  },
  {
   "cell_type": "markdown",
   "metadata": {
    "nbpresent": {
     "id": "7598ac47-5c0f-4949-9014-74b258e74b7e"
    },
    "slideshow": {
     "slide_type": "subslide"
    }
   },
   "source": [
    "We can get any segment of a list we want, using the slice method:"
   ]
  },
  {
   "cell_type": "code",
   "execution_count": 7,
   "metadata": {
    "nbpresent": {
     "id": "77491c26-ef8d-4661-8fe9-5a52e46df72d"
    },
    "slideshow": {
     "slide_type": "fragment"
    }
   },
   "outputs": [
    {
     "name": "stdout",
     "output_type": "stream",
     "text": [
      "Cody\n",
      "Aaron\n",
      "Ever\n"
     ]
    }
   ],
   "source": [
    "usernames = ['bernice', 'cody', 'aaron', 'ever', 'dalia']\n",
    "\n",
    "# Grab a batch from the middle of the list.\n",
    "middle_batch = usernames[1:4]\n",
    "\n",
    "for user in middle_batch:\n",
    "    print(user.title())"
   ]
  },
  {
   "cell_type": "markdown",
   "metadata": {
    "nbpresent": {
     "id": "75b6d5d8-b69f-4855-8002-bf6ba2e31ae0"
    },
    "slideshow": {
     "slide_type": "subslide"
    }
   },
   "source": [
    "To get all items from one position in the list to the end of the list, we can leave off the second index:"
   ]
  },
  {
   "cell_type": "code",
   "execution_count": 9,
   "metadata": {
    "nbpresent": {
     "id": "d81d4103-af11-47d7-a13f-36a183a6daf5"
    },
    "slideshow": {
     "slide_type": "fragment"
    }
   },
   "outputs": [
    {
     "name": "stdout",
     "output_type": "stream",
     "text": [
      "Aaron\n",
      "Ever\n",
      "Dalia\n"
     ]
    }
   ],
   "source": [
    "usernames = ['bernice', 'cody', 'aaron', 'ever', 'dalia']\n",
    "\n",
    "# Grab all users from the third to the end.\n",
    "end_batch = usernames[2:]\n",
    "\n",
    "for user in end_batch:\n",
    "    print(user.title())"
   ]
  },
  {
   "cell_type": "markdown",
   "metadata": {
    "nbpresent": {
     "id": "1c375750-465c-490e-a0fc-4070d3dbc9ee"
    },
    "slideshow": {
     "slide_type": "subslide"
    }
   },
   "source": [
    "### <a name='copying'></a>Copying a list\n",
    "You can use the slice notation to make a copy of a list, by leaving out both the starting and the ending index. This causes the slice to consist of everything from the first item to the last, which is the entire list."
   ]
  },
  {
   "cell_type": "code",
   "execution_count": 15,
   "metadata": {
    "nbpresent": {
     "id": "4983eb83-3ec7-4597-93d2-eb2308d09a18"
    },
    "slideshow": {
     "slide_type": "fragment"
    }
   },
   "outputs": [
    {
     "name": "stdout",
     "output_type": "stream",
     "text": [
      "The full copied list:\n",
      "\t ['bernice', 'cody', 'aaron', 'ever', 'dalia']\n",
      "\n",
      "Two users removed from copied list:\n",
      "\t ['aaron', 'ever', 'dalia']\n",
      "\n",
      "The original list:\n",
      "\t ['bernice', 'cody', 'aaron', 'ever', 'dalia']\n"
     ]
    }
   ],
   "source": [
    "usernames = ['bernice', 'cody', 'aaron', 'ever', 'dalia']\n",
    "\n",
    "# Make a copy of the list.\n",
    "copied_usernames = usernames[:]\n",
    "print(\"The full copied list:\\n\\t\", copied_usernames)\n",
    "\n",
    "# Remove the first two users from the copied list.\n",
    "del copied_usernames[0]\n",
    "del copied_usernames[0]\n",
    "print(\"\\nTwo users removed from copied list:\\n\\t\", copied_usernames)\n",
    "\n",
    "# The original list is unaffected.\n",
    "print(\"\\nThe original list:\\n\\t\", usernames)"
   ]
  },
  {
   "cell_type": "markdown",
   "metadata": {
    "nbpresent": {
     "id": "54e08070-5edc-457f-b9b0-90a89dea212e"
    },
    "slideshow": {
     "slide_type": "slide"
    }
   },
   "source": [
    "<a name='exercises_slicing'></a>Exercises\n",
    "---\n",
    "#### Alphabet Slices\n",
    "- Store the first ten letters of the alphabet in a list.\n",
    "- Use a slice to print out the first three letters of the alphabet.\n",
    "- Use a slice to print out any three letters from the middle of your list.\n",
    "- Use a slice to print out the letters from any point in the middle of your list, to the end.\n",
    "\n",
    "#### Protected List\n",
    "- Your goal in this exercise is to prove that copying a list protects the original list.\n",
    "- Make a list with three people's names in it.\n",
    "- Use a slice to make a copy of the entire list.\n",
    "- Add at least two new names to the new copy of the list.\n",
    "- Make a loop that prints out all of the names in the original list, along with a message that this is the original list.\n",
    "- Make a loop that prints out all of the names in the copied list, along with a message that this is the copied list."
   ]
  },
  {
   "cell_type": "code",
   "execution_count": 30,
   "metadata": {
    "nbpresent": {
     "id": "15a1c398-1938-4274-bead-e601597df175"
    }
   },
   "outputs": [
    {
     "name": "stdout",
     "output_type": "stream",
     "text": [
      "abcdefghijklmnopqrstuvwxyz\n",
      "abcdefghij\n"
     ]
    }
   ],
   "source": [
    "from string import ascii_lowercase\n",
    "print(ascii_lowercase)\n",
    "tenletters=ascii_lowercase[0:10]\n",
    "print(tenletters)"
   ]
  },
  {
   "cell_type": "code",
   "execution_count": 35,
   "metadata": {
    "nbpresent": {
     "id": "58280c82-56e5-4f85-bd63-339089f65517"
    },
    "slideshow": {
     "slide_type": "skip"
    }
   },
   "outputs": [
    {
     "name": "stdout",
     "output_type": "stream",
     "text": [
      "abc\n",
      "ghi\n",
      "ghij\n"
     ]
    }
   ],
   "source": [
    "# Ex 3.13 : Alphabet Slices\n",
    "#Store the first ten letters of the alphabet in a list.\n",
    "alphabet=tenletters[:]\n",
    "#Use a slice to print out the first three letters of the alphabet.\n",
    "print(alphabet[:3])\n",
    "#Use a slice to print out any three letters from the middle of your list.\n",
    "print(alphabet[6:9])\n",
    "#Use a slice to print out the letters from any point in the middle of your list, to the end.\n",
    "print(alphabet[6:])\n",
    "# put your code here"
   ]
  },
  {
   "cell_type": "code",
   "execution_count": 45,
   "metadata": {
    "nbpresent": {
     "id": "06bed82a-90d1-4056-a36d-ba52be5fa9f5"
    },
    "slideshow": {
     "slide_type": "skip"
    }
   },
   "outputs": [
    {
     "name": "stdout",
     "output_type": "stream",
     "text": [
      "This is the original list:\n",
      "Alice\n",
      "Anna\n",
      "Ada\n",
      "This is the copy: \n",
      "Alice\n",
      "Anna\n",
      "Ada\n",
      "Agata\n",
      "Aurora\n",
      "['alice', 'anna', 'ada', 'agata', 'aurora']\n",
      "['alice', 'anna', 'ada']\n",
      "['Alice', 'Anna', 'Ada', 'Agata', 'Aurora']\n"
     ]
    }
   ],
   "source": [
    "# Ex 3.14 : Protected List\n",
    "#Your goal in this exercise is to prove that copying a list protects the original list.\n",
    "#Make a list with three people's names in it.\n",
    "names=['alice','anna','ada']\n",
    "#Use a slice to make a copy of the entire list.\n",
    "copied_names=names[:]\n",
    "#Add at least two new names to the new copy of the list.\n",
    "copied_names.append('agata')\n",
    "copied_names.append('aurora')\n",
    "#Make a loop that prints out all of the names in the original list, along with a message that this is the original list.\n",
    "print('This is the original list:')\n",
    "for name in names:\n",
    "    print(name.title())\n",
    "#Make a loop that prints out all of the names in the copied list, along with a message that this is the copied list.\n",
    "print('This is the copy: ')\n",
    "for cname in copied_names:\n",
    "    print(cname.title())\n",
    "print(copied_names)\n",
    "\n",
    "#title the names in the original list\n",
    "print (names)\n",
    "copied_names = [i.title() for i in copied_names]\n",
    "print(copied_names)"
   ]
  },
  {
   "cell_type": "markdown",
   "metadata": {
    "nbpresent": {
     "id": "8801b6ac-6307-4e6b-a246-b303a76e7a3b"
    },
    "slideshow": {
     "slide_type": "skip"
    }
   },
   "source": [
    "[top](#top)"
   ]
  },
  {
   "cell_type": "markdown",
   "metadata": {
    "nbpresent": {
     "id": "9c441bf1-46e8-4f89-a3e7-1bf05f1c0fae"
    },
    "slideshow": {
     "slide_type": "subslide"
    }
   },
   "source": [
    "<a name='numerical_lists'></a>Numerical Lists\n",
    "===\n",
    "There is nothing special about lists of numbers, but there are some functions you can use to make working with numerical lists more efficient. Let's make a list of the first ten numbers, and start working with it to see how we can use numbers in a list."
   ]
  },
  {
   "cell_type": "code",
   "execution_count": 23,
   "metadata": {
    "nbpresent": {
     "id": "d7e18e60-c2fb-4cdd-b3d1-60905c47e1e9"
    },
    "slideshow": {
     "slide_type": "fragment"
    }
   },
   "outputs": [
    {
     "name": "stdout",
     "output_type": "stream",
     "text": [
      "1\n",
      "2\n",
      "3\n",
      "4\n",
      "5\n",
      "6\n",
      "7\n",
      "8\n",
      "9\n",
      "10\n"
     ]
    }
   ],
   "source": [
    "# Print out the first ten numbers.\n",
    "numbers = [1, 2, 3, 4, 5, 6, 7, 8, 9, 10]\n",
    "\n",
    "for number in numbers:\n",
    "    print(number)"
   ]
  },
  {
   "cell_type": "markdown",
   "metadata": {
    "nbpresent": {
     "id": "b6e31605-775b-4c31-87ac-942f90e91578"
    },
    "slideshow": {
     "slide_type": "subslide"
    }
   },
   "source": [
    "<a name='range_function'></a>The *range()* function\n",
    "---\n",
    "This works, but it is not very efficient if we want to work with a large set of numbers. The *range()* function helps us generate long lists of numbers. Here are two ways to do the same thing, using the *range* function."
   ]
  },
  {
   "cell_type": "code",
   "execution_count": 24,
   "metadata": {
    "nbpresent": {
     "id": "1b018447-cb28-4e45-a5f7-722a6752eaea"
    },
    "slideshow": {
     "slide_type": "fragment"
    }
   },
   "outputs": [
    {
     "name": "stdout",
     "output_type": "stream",
     "text": [
      "1\n",
      "2\n",
      "3\n",
      "4\n",
      "5\n",
      "6\n",
      "7\n",
      "8\n",
      "9\n",
      "10\n"
     ]
    }
   ],
   "source": [
    "# Print the first ten numbers.\n",
    "for number in range(1,11):\n",
    "    print(number)"
   ]
  },
  {
   "cell_type": "markdown",
   "metadata": {
    "nbpresent": {
     "id": "7b6d44ef-b8e7-4a27-aa5b-8ea660c89e23"
    },
    "slideshow": {
     "slide_type": "subslide"
    }
   },
   "source": [
    "The range function takes in a starting number, and an end number. You get all integers, up to but not including the end number. You can also add a *step* value, which tells the *range* function how big of a step to take between numbers:"
   ]
  },
  {
   "cell_type": "code",
   "execution_count": 25,
   "metadata": {
    "nbpresent": {
     "id": "4df6abe6-ca73-4218-bddb-79c0601acd3b"
    },
    "slideshow": {
     "slide_type": "fragment"
    }
   },
   "outputs": [
    {
     "name": "stdout",
     "output_type": "stream",
     "text": [
      "1\n",
      "3\n",
      "5\n",
      "7\n",
      "9\n",
      "11\n",
      "13\n",
      "15\n",
      "17\n",
      "19\n"
     ]
    }
   ],
   "source": [
    "# Print the first ten odd numbers.\n",
    "for number in range(1,21,2):\n",
    "    print(number)"
   ]
  },
  {
   "cell_type": "markdown",
   "metadata": {
    "nbpresent": {
     "id": "0b5a57e5-ff9c-439c-97f5-a99e6b2f97bf"
    },
    "slideshow": {
     "slide_type": "subslide"
    }
   },
   "source": [
    "If we want to store these numbers in a list, we can use the *list()* function. This function takes in a range, and turns it into a list:"
   ]
  },
  {
   "cell_type": "code",
   "execution_count": 26,
   "metadata": {
    "nbpresent": {
     "id": "892abd8d-47a1-473b-98a2-970b65aeb229"
    },
    "slideshow": {
     "slide_type": "fragment"
    }
   },
   "outputs": [
    {
     "name": "stdout",
     "output_type": "stream",
     "text": [
      "[1, 2, 3, 4, 5, 6, 7, 8, 9, 10]\n"
     ]
    }
   ],
   "source": [
    "# Create a list of the first ten numbers.\n",
    "numbers = list(range(1,11))\n",
    "print(numbers)"
   ]
  },
  {
   "cell_type": "markdown",
   "metadata": {
    "nbpresent": {
     "id": "bf50d62c-86bb-424e-bea6-aab5500eed1f"
    },
    "slideshow": {
     "slide_type": "subslide"
    }
   },
   "source": [
    "This is incredibly powerful; we can now create a list of the first million numbers, just as easily as we made a list of the first ten numbers. It doesn't really make sense to print the million numbers here, but we can show that the list really does have one million items in it, and we can print the last ten items to show that the list is correct."
   ]
  },
  {
   "cell_type": "code",
   "execution_count": 31,
   "metadata": {
    "nbpresent": {
     "id": "ac727591-12b0-4160-9d2d-fafb77b0b9d9"
    },
    "slideshow": {
     "slide_type": "fragment"
    }
   },
   "outputs": [
    {
     "name": "stdout",
     "output_type": "stream",
     "text": [
      "The list 'numbers' has 1000000 numbers in it.\n",
      "\n",
      "The last ten numbers in the list are:\n",
      "999991\n",
      "999992\n",
      "999993\n",
      "999994\n",
      "999995\n",
      "999996\n",
      "999997\n",
      "999998\n",
      "999999\n",
      "1000000\n"
     ]
    }
   ],
   "source": [
    "# Store the first million numbers in a list.\n",
    "numbers = list(range(1,1000001))\n",
    "\n",
    "# Show the length of the list:\n",
    "print(\"The list 'numbers' has \" + str(len(numbers)) + \" numbers in it.\")\n",
    "\n",
    "# Show the last ten numbers:\n",
    "print(\"\\nThe last ten numbers in the list are:\")\n",
    "for number in numbers[-10:]:\n",
    "    print(number)"
   ]
  },
  {
   "cell_type": "markdown",
   "metadata": {
    "nbpresent": {
     "id": "f04caf9f-402d-45a9-b2ce-ba8961bceaff"
    },
    "slideshow": {
     "slide_type": "subslide"
    }
   },
   "source": [
    "There are two things here that might be a little unclear. The expression\n",
    "\n",
    "    str(len(numbers))\n",
    "\n",
    "takes the length of the *numbers* list, and turns it into a string that can be printed.\n",
    "\n",
    "The expression \n",
    "\n",
    "    numbers[-10:]\n",
    "\n",
    "gives us a *slice* of the list. The index `-1` is the last item in the list, and the index `-10` is the item ten places from the end of the list. So the slice `numbers[-10:]` gives us everything from that item to the end of the list."
   ]
  },
  {
   "cell_type": "markdown",
   "metadata": {
    "nbpresent": {
     "id": "d1b567fc-3ef0-4bb5-8b10-ca4a04b48c3c"
    },
    "slideshow": {
     "slide_type": "subslide"
    }
   },
   "source": [
    "<a name='min_max_sum'></a>The *min()*, *max()*, and *sum()* functions\n",
    "---\n",
    "There are three functions you can easily use with numerical lists. As you might expect, the *min()* function returns the smallest number in the list, the *max()* function returns the largest number in the list, and the *sum()* function returns the total of all numbers in the list."
   ]
  },
  {
   "cell_type": "code",
   "execution_count": 39,
   "metadata": {
    "nbpresent": {
     "id": "f48b36ae-af5a-421c-ae1d-79e5899228d1"
    },
    "slideshow": {
     "slide_type": "fragment"
    }
   },
   "outputs": [
    {
     "name": "stdout",
     "output_type": "stream",
     "text": [
      "Our youngest reader is 11 years old.\n",
      "Our oldest reader is 38 years old.\n",
      "Together, we have 149 years worth of life experience.\n"
     ]
    }
   ],
   "source": [
    "ages = [23, 16, 14, 28, 19, 11, 38]\n",
    "\n",
    "youngest = min(ages)\n",
    "oldest = max(ages)\n",
    "total_years = sum(ages)\n",
    "\n",
    "print(\"Our youngest reader is \" + str(youngest) + \" years old.\")\n",
    "print(\"Our oldest reader is \" + str(oldest) + \" years old.\")\n",
    "print(\"Together, we have \" + str(total_years) + \n",
    "      \" years worth of life experience.\")"
   ]
  },
  {
   "cell_type": "markdown",
   "metadata": {
    "nbpresent": {
     "id": "6f8ab9f9-ec8a-435e-a78a-35647037fa39"
    },
    "slideshow": {
     "slide_type": "slide"
    }
   },
   "source": [
    "<a name='exercises_numerical'></a>Exercises\n",
    "---\n",
    "#### First Twenty\n",
    "- Use the *range()* function to store the first twenty numbers (1-20) in a list, and print them out.\n",
    "\n",
    "#### Larger Sets\n",
    "- Take the *first\\_twenty.py* program you just wrote. Change your end number to a much larger number. How long does it take your computer to print out the first million numbers? (Most people will never see a million numbers scroll before their eyes. You can now see this!)\n",
    "\n",
    "#### Five Wallets\n",
    "- Imagine five wallets with different amounts of cash in them. Store these five values in a list, and print out the following sentences:\n",
    "    - \"The fattest wallet has $ *value* in it.\"\n",
    "    - \"The skinniest wallet has $ *value* in it.\"\n",
    "    - \"All together, these wallets have $ *value* in them.\""
   ]
  },
  {
   "cell_type": "code",
   "execution_count": 47,
   "metadata": {
    "nbpresent": {
     "id": "0304e963-29c5-4316-bac3-f332749ed519"
    },
    "slideshow": {
     "slide_type": "skip"
    }
   },
   "outputs": [
    {
     "name": "stdout",
     "output_type": "stream",
     "text": [
      "1\n",
      "2\n",
      "3\n",
      "4\n",
      "5\n",
      "6\n",
      "7\n",
      "8\n",
      "9\n",
      "10\n",
      "11\n",
      "12\n",
      "13\n",
      "14\n",
      "15\n",
      "16\n",
      "17\n",
      "18\n",
      "19\n",
      "20\n"
     ]
    }
   ],
   "source": [
    "# Ex 3.15 : First Twenty\n",
    "twenties=list(range(1,21))\n",
    "for n in twenties:\n",
    "    print(n)\n",
    "# put your code here"
   ]
  },
  {
   "cell_type": "code",
   "execution_count": 51,
   "metadata": {
    "nbpresent": {
     "id": "8d5beeb1-effc-4da7-86ec-8fc59db7fb8c"
    },
    "slideshow": {
     "slide_type": "skip"
    }
   },
   "outputs": [
    {
     "data": {
      "text/plain": [
       "1000000"
      ]
     },
     "execution_count": 51,
     "metadata": {},
     "output_type": "execute_result"
    }
   ],
   "source": [
    "# Ex 3.16 : Larger Sets\n",
    "millions=list(range(0,int(1e6)))\n",
    "len(millions)\n",
    "\n",
    "# put your code here"
   ]
  },
  {
   "cell_type": "code",
   "execution_count": 71,
   "metadata": {
    "nbpresent": {
     "id": "5f746abc-a7ef-48c1-9cbe-d2023217d56d"
    },
    "slideshow": {
     "slide_type": "skip"
    }
   },
   "outputs": [
    {
     "name": "stdout",
     "output_type": "stream",
     "text": [
      "[[76, 62, 53], [53, 69, 30, 5, 65, 9, 39, 75], [7, 37, 60, 64, 36, 68, 71, 88, 40], [96, 6, 15, 74, 3, 79, 54, 8, 35, 99], [1, 67, 57, 71]]\n",
      "[191, 345, 471, 469, 196]\n",
      "The fattest wallet has 471 in it\n",
      "All together, these wallets have 1672 value in them\n",
      "The thinnest wallet has 191 in it\n"
     ]
    }
   ],
   "source": [
    "# Ex 3.17 : Five Wallets\n",
    "#Imagine five wallets with different amounts of cash in them. Store these five values in a list, \n",
    "#and print out the following sentences:\n",
    "#\"The fattest wallet has ∗value∗init.\"−\"Theskinniestwallethas value in it.\"\n",
    "#\"All together, these wallets have $ value in them.\"\n",
    "\n",
    "from random import randint\n",
    "\n",
    "wallets = [ [randint(1,100) for _ in range(randint(2,10))] for _ in range(5) ]\n",
    "print(wallets)\n",
    "amounts = [ sum(wallet) for wallet in wallets ]\n",
    "print(amounts)\n",
    "print('The fattest wallet has {} in it'.format(max(amounts)))\n",
    "print('All together, these wallets have {} value in them'.format(sum(amounts)))\n",
    "print('The thinnest wallet has {} in it'.format(min(amounts)))"
   ]
  },
  {
   "cell_type": "markdown",
   "metadata": {
    "nbpresent": {
     "id": "514ac570-eaab-49e0-82a5-1cb228e57bf0"
    },
    "slideshow": {
     "slide_type": "skip"
    }
   },
   "source": [
    "[top](#top)"
   ]
  },
  {
   "cell_type": "markdown",
   "metadata": {
    "nbpresent": {
     "id": "7a95b88a-3f24-42a4-8e12-35f63e4e83a8"
    },
    "slideshow": {
     "slide_type": "slide"
    }
   },
   "source": [
    "<a name='comprehensions'></a>List Comprehensions\n",
    "===\n",
    "I thought carefully before including this section. If you are brand new to programming, list comprehensions may look confusing at first. They are a shorthand way of creating and working with lists. It is good to be aware of list comprehensions, because you will see them in other people's code, and they are really useful when you understand how to use them. That said, if they don't make sense to you yet, don't worry about using them right away. When you have worked with enough lists, you will want to use comprehensions. For now, it is good enough to know they exist, and to recognize them when you see them. If you like them, go ahead and start trying to use them now."
   ]
  },
  {
   "cell_type": "markdown",
   "metadata": {
    "nbpresent": {
     "id": "9c209977-0f46-4277-ad11-2887d323682b"
    },
    "slideshow": {
     "slide_type": "subslide"
    }
   },
   "source": [
    "<a name='comprehensions_numerical'></a>Numerical Comprehensions\n",
    "---\n",
    "Let's consider how we might make a list of the first ten square numbers. We could do it like this:"
   ]
  },
  {
   "cell_type": "code",
   "execution_count": 42,
   "metadata": {
    "nbpresent": {
     "id": "40abe466-ad0a-4328-9a64-263619a12af5"
    },
    "slideshow": {
     "slide_type": "fragment"
    }
   },
   "outputs": [
    {
     "name": "stdout",
     "output_type": "stream",
     "text": [
      "1\n",
      "4\n",
      "9\n",
      "16\n",
      "25\n",
      "36\n",
      "49\n",
      "64\n",
      "81\n",
      "100\n"
     ]
    }
   ],
   "source": [
    "# Store the first ten square numbers in a list.\n",
    "# Make an empty list that will hold our square numbers.\n",
    "squares = []\n",
    "\n",
    "# Go through the first ten numbers, square them, and add them to our list.\n",
    "for number in range(1,11):\n",
    "    new_square = number**2\n",
    "    squares.append(new_square)\n",
    "    \n",
    "# Show that our list is correct.\n",
    "for square in squares:\n",
    "    print(square)"
   ]
  },
  {
   "cell_type": "markdown",
   "metadata": {
    "nbpresent": {
     "id": "a890467f-afec-43f8-a07c-fd886d795f79"
    },
    "slideshow": {
     "slide_type": "subslide"
    }
   },
   "source": [
    "This should make sense at this point. If it doesn't, go over the code with these thoughts in mind:\n",
    "- We make an empty list called *squares* that will hold the values we are interested in.\n",
    "- Using the *range()* function, we start a loop that will go through the numbers 1-10.\n",
    "- Each time we pass through the loop, we find the square of the current number by raising it to the second power.\n",
    "- We add this new value to our list *squares*.\n",
    "- We go through our newly-defined list and print out each square.\n",
    "\n",
    "Now let's make this code more efficient. We don't really need to store the new square in its own variable *new_square*; we can just add it directly to the list of squares. The line\n",
    "\n",
    "    new_square = number**2\n",
    "\n",
    "is taken out, and the next line takes care of the squaring:"
   ]
  },
  {
   "cell_type": "code",
   "execution_count": 43,
   "metadata": {
    "nbpresent": {
     "id": "79d044c2-db10-49ff-bc51-02d1180f0003"
    },
    "slideshow": {
     "slide_type": "subslide"
    }
   },
   "outputs": [
    {
     "name": "stdout",
     "output_type": "stream",
     "text": [
      "1\n",
      "4\n",
      "9\n",
      "16\n",
      "25\n",
      "36\n",
      "49\n",
      "64\n",
      "81\n",
      "100\n"
     ]
    }
   ],
   "source": [
    "# Store the first ten square numbers in a list.\n",
    "# Make an empty list that will hold our square numbers.\n",
    "squares = []\n",
    "\n",
    "# Go through the first ten numbers, square them, and add them to our list.\n",
    "for number in range(1,11):\n",
    "    squares.append(number**2)\n",
    "    \n",
    "# Show that our list is correct.\n",
    "for square in squares:\n",
    "    print(square)"
   ]
  },
  {
   "cell_type": "markdown",
   "metadata": {
    "nbpresent": {
     "id": "30456d43-0d16-4b73-a7e8-4ebe35141314"
    },
    "slideshow": {
     "slide_type": "subslide"
    }
   },
   "source": [
    "List comprehensions allow us to collapse the first three lines of code into one line. Here's what it looks like:"
   ]
  },
  {
   "cell_type": "code",
   "execution_count": 44,
   "metadata": {
    "nbpresent": {
     "id": "3a7cc6f0-9776-435d-88a6-f4e7f3801bfc"
    },
    "slideshow": {
     "slide_type": "fragment"
    }
   },
   "outputs": [
    {
     "name": "stdout",
     "output_type": "stream",
     "text": [
      "1\n",
      "4\n",
      "9\n",
      "16\n",
      "25\n",
      "36\n",
      "49\n",
      "64\n",
      "81\n",
      "100\n"
     ]
    }
   ],
   "source": [
    "# Store the first ten square numbers in a list.\n",
    "squares = [number**2 for number in range(1,11)]\n",
    "\n",
    "# Show that our list is correct.\n",
    "for square in squares:\n",
    "    print(square)"
   ]
  },
  {
   "cell_type": "markdown",
   "metadata": {
    "nbpresent": {
     "id": "ec91b364-f0ff-4519-80ab-eefd4396dee8"
    },
    "slideshow": {
     "slide_type": "subslide"
    }
   },
   "source": [
    "It should be pretty clear that this code is more efficient than our previous approach, but it may not be clear what is happening. Let's take a look at everything that is happening in that first line:\n",
    "\n",
    "We define a list called *squares*.\n",
    "\n",
    "Look at the second part of what's in square brackets:\n",
    "\n",
    "    for number in range(1,11)\n",
    "\n",
    "This sets up a loop that goes through the numbers 1-10, storing each value in the variable *number*. Now we can see what happens to each *number* in the loop:\n",
    "\n",
    "    number**2\n",
    "\n",
    "Each number is raised to the second power, and this is the value that is stored in the list we defined. We might read this line in the following way:\n",
    "\n",
    "squares = [raise *number* to the second power, for each *number* in the range 1-10]"
   ]
  },
  {
   "cell_type": "markdown",
   "metadata": {
    "nbpresent": {
     "id": "c0026c4b-bc39-4af9-bcb8-2f882620acc0"
    },
    "slideshow": {
     "slide_type": "subslide"
    }
   },
   "source": [
    "### Another example\n",
    "It is probably helpful to see a few more examples of how comprehensions can be used. Let's try to make the first ten even numbers, the longer way:"
   ]
  },
  {
   "cell_type": "code",
   "execution_count": 45,
   "metadata": {
    "nbpresent": {
     "id": "06456b8b-b85f-4c2d-bc42-23e2d95ab46d"
    },
    "slideshow": {
     "slide_type": "fragment"
    }
   },
   "outputs": [
    {
     "name": "stdout",
     "output_type": "stream",
     "text": [
      "2\n",
      "4\n",
      "6\n",
      "8\n",
      "10\n",
      "12\n",
      "14\n",
      "16\n",
      "18\n",
      "20\n"
     ]
    }
   ],
   "source": [
    "# Make an empty list that will hold the even numbers.\n",
    "evens = []\n",
    "\n",
    "# Loop through the numbers 1-10, double each one, and add it to our list.\n",
    "for number in range(1,11):\n",
    "    evens.append(number*2)\n",
    "    \n",
    "# Show that our list is correct:\n",
    "for even in evens:\n",
    "    print(even)"
   ]
  },
  {
   "cell_type": "markdown",
   "metadata": {
    "nbpresent": {
     "id": "1f755f31-2b73-45b6-8765-705c9b88e5b2"
    },
    "slideshow": {
     "slide_type": "subslide"
    }
   },
   "source": [
    "Here's how we might think of doing the same thing, using a list comprehension:\n",
    "\n",
    "evens = [multiply each *number* by 2, for each *number* in the range 1-10]\n",
    "\n",
    "Here is the same line in code:"
   ]
  },
  {
   "cell_type": "code",
   "execution_count": 46,
   "metadata": {
    "nbpresent": {
     "id": "58dc393c-01c5-40f9-81a7-b8b3b661fc15"
    },
    "slideshow": {
     "slide_type": "fragment"
    }
   },
   "outputs": [
    {
     "name": "stdout",
     "output_type": "stream",
     "text": [
      "2\n",
      "4\n",
      "6\n",
      "8\n",
      "10\n",
      "12\n",
      "14\n",
      "16\n",
      "18\n",
      "20\n"
     ]
    }
   ],
   "source": [
    "# Make a list of the first ten even numbers.\n",
    "evens = [number*2 for number in range(1,11)]\n",
    "\n",
    "for even in evens:\n",
    "    print(even)"
   ]
  },
  {
   "cell_type": "markdown",
   "metadata": {
    "nbpresent": {
     "id": "6b1f01f4-fcbd-4fc3-989b-c7660f62323b"
    },
    "slideshow": {
     "slide_type": "subslide"
    }
   },
   "source": [
    "<a name='comprehensions_non_numerical'></a>Non-numerical comprehensions\n",
    "---\n",
    "We can use comprehensions with non-numerical lists as well. In this case, we will create an initial list, and then use a comprehension to make a second list from the first one. Here is a simple example, without using comprehensions:"
   ]
  },
  {
   "cell_type": "code",
   "execution_count": 47,
   "metadata": {
    "nbpresent": {
     "id": "865399b9-876f-4b76-b74f-92c1e9fd1fb3"
    },
    "slideshow": {
     "slide_type": "fragment"
    }
   },
   "outputs": [
    {
     "name": "stdout",
     "output_type": "stream",
     "text": [
      "Hello, Bernice the great!\n",
      "Hello, Aaron the great!\n",
      "Hello, Cody the great!\n"
     ]
    }
   ],
   "source": [
    "# Consider some students.\n",
    "students = ['bernice', 'aaron', 'cody']\n",
    "\n",
    "# Let's turn them into great students.\n",
    "great_students = []\n",
    "for student in students:\n",
    "    great_students.append(student.title() + \" the great!\")\n",
    "\n",
    "# Let's greet each great student.\n",
    "for great_student in great_students:\n",
    "    print(\"Hello, \" + great_student)"
   ]
  },
  {
   "cell_type": "markdown",
   "metadata": {
    "nbpresent": {
     "id": "df7794c9-331c-4c91-acf2-a1ec287081ce"
    },
    "slideshow": {
     "slide_type": "subslide"
    }
   },
   "source": [
    "To use a comprehension in this code, we want to write something like this:\n",
    "\n",
    "great_students = [add 'the great' to each *student*, for each *student* in the list of *students*]\n",
    "\n",
    "Here's what it looks like:"
   ]
  },
  {
   "cell_type": "code",
   "execution_count": 48,
   "metadata": {
    "nbpresent": {
     "id": "de96df86-1117-4875-bc9c-173d55d945b9"
    },
    "slideshow": {
     "slide_type": "fragment"
    }
   },
   "outputs": [
    {
     "name": "stdout",
     "output_type": "stream",
     "text": [
      "Hello, Bernice the great!\n",
      "Hello, Aaron the great!\n",
      "Hello, Cody the great!\n"
     ]
    }
   ],
   "source": [
    "# Consider some students.\n",
    "students = ['bernice', 'aaron', 'cody']\n",
    "\n",
    "# Let's turn them into great students.\n",
    "great_students = [student.title() + \" the great!\" for student in students]\n",
    "\n",
    "# Let's greet each great student.\n",
    "for great_student in great_students:\n",
    "    print(\"Hello, \" + great_student)"
   ]
  },
  {
   "cell_type": "markdown",
   "metadata": {
    "nbpresent": {
     "id": "48f90dfd-748c-42b1-b1c0-5bed45a61d22"
    },
    "slideshow": {
     "slide_type": "slide"
    }
   },
   "source": [
    "<a name='exercises_comprehensions'></a>Exercises\n",
    "---\n",
    "If these examples are making sense, go ahead and try to do the following exercises using comprehensions. If not, try the exercises without comprehensions. You may figure out how to use comprehensions after you have solved each exercise the longer way.\n",
    "\n",
    "#### Multiples of Ten\n",
    "- Make a list of the first ten multiples of ten (10, 20, 30... 90, 100). There are a number of ways to do this, but try to do it using a list comprehension. Print out your list.\n",
    "\n",
    "#### Cubes\n",
    "- We saw how to make a list of the first ten squares. Make a list of the first ten cubes (1, 8, 27... 1000) using a list comprehension, and print them out.\n",
    "\n",
    "#### Awesomeness\n",
    "- Store five names in a list. Make a second list that adds the phrase \"is awesome!\" to each name, using a list comprehension. Print out the awesome version of the names.\n",
    "\n",
    "#### Working Backwards\n",
    "- Write out the following code without using a list comprehension:\n",
    "\n",
    "    plus_thirteen = [number + 13 for number in range(1,11)]"
   ]
  },
  {
   "cell_type": "code",
   "execution_count": null,
   "metadata": {
    "nbpresent": {
     "id": "f5632636-e1f3-4ca6-833e-8bc7e6c04bf1"
    },
    "slideshow": {
     "slide_type": "skip"
    }
   },
   "outputs": [],
   "source": [
    "# Ex 3.18 : Multiples of Ten\n",
    "\n",
    "# put your code here"
   ]
  },
  {
   "cell_type": "code",
   "execution_count": null,
   "metadata": {
    "nbpresent": {
     "id": "6160d73d-e80c-43b0-a1a5-cc2aade7a5d0"
    },
    "slideshow": {
     "slide_type": "skip"
    }
   },
   "outputs": [],
   "source": [
    "# Ex 3.19 : Cubes\n",
    "\n",
    "# put your code here"
   ]
  },
  {
   "cell_type": "code",
   "execution_count": null,
   "metadata": {
    "nbpresent": {
     "id": "8798f157-9ed1-421b-9754-9fb9fcef7dda"
    },
    "slideshow": {
     "slide_type": "skip"
    }
   },
   "outputs": [],
   "source": [
    "# Ex 3.20 : Awesomeness\n",
    "\n",
    "# put your code here"
   ]
  },
  {
   "cell_type": "code",
   "execution_count": null,
   "metadata": {
    "nbpresent": {
     "id": "8d66cfad-c589-4088-88e6-a555a2ca7d2c"
    },
    "slideshow": {
     "slide_type": "skip"
    }
   },
   "outputs": [],
   "source": [
    "# Ex 3.21 : Working Backwards\n",
    "\n",
    "# put your code here"
   ]
  },
  {
   "cell_type": "markdown",
   "metadata": {
    "nbpresent": {
     "id": "79f9531a-b785-40df-907d-7666b4e03966"
    },
    "slideshow": {
     "slide_type": "skip"
    }
   },
   "source": [
    "[top](#top)"
   ]
  },
  {
   "cell_type": "markdown",
   "metadata": {
    "nbpresent": {
     "id": "422e9831-1c5d-4daa-bb23-0718bee28b46"
    },
    "slideshow": {
     "slide_type": "slide"
    }
   },
   "source": [
    "<a name='strings_as_lists'></a>Strings as Lists\n",
    "===\n",
    "Now that you have some familiarity with lists, we can take a second look at strings. A string is really a list of characters, so many of the concepts from working with lists behave the same with strings."
   ]
  },
  {
   "cell_type": "markdown",
   "metadata": {
    "nbpresent": {
     "id": "9b053c03-43ed-48f5-a691-bb009e1ec2f1"
    },
    "slideshow": {
     "slide_type": "subslide"
    }
   },
   "source": [
    "<a name='list_of_characters'></a>Strings as a list of characters\n",
    "---\n",
    "We can loop through a string using a *for* loop, just like we loop through a list:"
   ]
  },
  {
   "cell_type": "code",
   "execution_count": 1,
   "metadata": {
    "nbpresent": {
     "id": "b177cc04-9373-4c45-b006-992ce4ea2986"
    },
    "slideshow": {
     "slide_type": "fragment"
    }
   },
   "outputs": [
    {
     "name": "stdout",
     "output_type": "stream",
     "text": [
      "H\n",
      "e\n",
      "l\n",
      "l\n",
      "o\n",
      "!\n"
     ]
    }
   ],
   "source": [
    "message = \"Hello!\"\n",
    "\n",
    "for letter in message:\n",
    "    print(letter)"
   ]
  },
  {
   "cell_type": "markdown",
   "metadata": {
    "nbpresent": {
     "id": "c8e8e067-9b6d-40a0-953d-c165aecbbbbf"
    },
    "slideshow": {
     "slide_type": "subslide"
    }
   },
   "source": [
    "We can create a list from a string. The list will have one element for each character in the string:"
   ]
  },
  {
   "cell_type": "code",
   "execution_count": 3,
   "metadata": {
    "nbpresent": {
     "id": "8e2e63dd-2dad-46ec-88bb-0b89b877725d"
    },
    "slideshow": {
     "slide_type": "fragment"
    }
   },
   "outputs": [
    {
     "name": "stdout",
     "output_type": "stream",
     "text": [
      "['H', 'e', 'l', 'l', 'o', ' ', 'w', 'o', 'r', 'l', 'd', '!']\n"
     ]
    }
   ],
   "source": [
    "message = \"Hello world!\"\n",
    "\n",
    "message_list = list(message)\n",
    "print(message_list)"
   ]
  },
  {
   "cell_type": "markdown",
   "metadata": {
    "nbpresent": {
     "id": "f2b6c4e2-f63e-4a68-84e3-50c3bd374a02"
    },
    "slideshow": {
     "slide_type": "subslide"
    }
   },
   "source": [
    "<a name='slicing_strings'></a>Slicing strings\n",
    "---\n",
    "We can access any character in a string by its position, just as we access individual items in a list:"
   ]
  },
  {
   "cell_type": "code",
   "execution_count": 5,
   "metadata": {
    "nbpresent": {
     "id": "335f36fd-d3e6-4fdd-8e6f-68f2a834d77d"
    },
    "slideshow": {
     "slide_type": "fragment"
    }
   },
   "outputs": [
    {
     "name": "stdout",
     "output_type": "stream",
     "text": [
      "('H', '!')\n"
     ]
    }
   ],
   "source": [
    "message = \"Hello World!\"\n",
    "first_char = message[0]\n",
    "last_char = message[-1]\n",
    "\n",
    "print(first_char, last_char)"
   ]
  },
  {
   "cell_type": "markdown",
   "metadata": {
    "nbpresent": {
     "id": "205dfd4e-87f2-4ef6-b138-faf98f44e5df"
    },
    "slideshow": {
     "slide_type": "subslide"
    }
   },
   "source": [
    "We can extend this to take slices of a string:"
   ]
  },
  {
   "cell_type": "code",
   "execution_count": 7,
   "metadata": {
    "nbpresent": {
     "id": "7f1726cc-22c2-4ae2-98a5-dfa5bca61a1c"
    },
    "slideshow": {
     "slide_type": "fragment"
    }
   },
   "outputs": [
    {
     "name": "stdout",
     "output_type": "stream",
     "text": [
      "('Hel', 'ld!')\n"
     ]
    }
   ],
   "source": [
    "message = \"Hello World!\"\n",
    "first_three = message[:3]\n",
    "last_three = message[-3:]\n",
    "\n",
    "print(first_three, last_three)"
   ]
  },
  {
   "cell_type": "markdown",
   "metadata": {
    "nbpresent": {
     "id": "b60eba57-eab4-4d04-b9da-cb93efe14de5"
    },
    "slideshow": {
     "slide_type": "subslide"
    }
   },
   "source": [
    "<a name='finding_substrings'></a>Finding substrings\n",
    "---\n",
    "Now that you have seen what indexes mean for strings, we can search for *substrings*. A substring is a series of characters that appears in a string.\n",
    "\n",
    "You can use the *in* keyword to find out whether a particular substring appears in a string:"
   ]
  },
  {
   "cell_type": "code",
   "execution_count": 12,
   "metadata": {
    "nbpresent": {
     "id": "9902722a-b9ee-4aff-a24d-67e94178641d"
    },
    "slideshow": {
     "slide_type": "fragment"
    }
   },
   "outputs": [
    {
     "name": "stdout",
     "output_type": "stream",
     "text": [
      "True\n"
     ]
    }
   ],
   "source": [
    "message = \"I like cats and dogs.\"\n",
    "dog_present = 'dog' in message\n",
    "print(dog_present)"
   ]
  },
  {
   "cell_type": "markdown",
   "metadata": {
    "nbpresent": {
     "id": "076b6dee-d49e-4423-8105-ff3514049050"
    },
    "slideshow": {
     "slide_type": "subslide"
    }
   },
   "source": [
    "If you want to know where a substring appears in a string, you can use the *find()* method. The *find()* method tells you the index at which the substring begins."
   ]
  },
  {
   "cell_type": "code",
   "execution_count": 13,
   "metadata": {
    "nbpresent": {
     "id": "ad9b6e17-7176-40e6-ab20-501f46d506b5"
    },
    "slideshow": {
     "slide_type": "fragment"
    }
   },
   "outputs": [
    {
     "name": "stdout",
     "output_type": "stream",
     "text": [
      "16\n"
     ]
    }
   ],
   "source": [
    "message = \"I like cats and dogs.\"\n",
    "dog_index = message.find('dog')\n",
    "print(dog_index)"
   ]
  },
  {
   "cell_type": "markdown",
   "metadata": {
    "nbpresent": {
     "id": "da091b53-4458-4035-a97a-e6b6d035407d"
    },
    "slideshow": {
     "slide_type": "subslide"
    }
   },
   "source": [
    "Note, however, that this function only returns the index of the first appearance of the substring you are looking for. If the substring appears more than once, you will miss the other substrings."
   ]
  },
  {
   "cell_type": "code",
   "execution_count": 19,
   "metadata": {
    "nbpresent": {
     "id": "b6cb02c6-4af1-431c-876d-406390fcc72c"
    },
    "slideshow": {
     "slide_type": "fragment"
    }
   },
   "outputs": [
    {
     "name": "stdout",
     "output_type": "stream",
     "text": [
      "16\n"
     ]
    }
   ],
   "source": [
    "message = \"I like cats and dogs, but I'd much rather own a dog.\"\n",
    "dog_index = message.find('dog')\n",
    "print(dog_index)"
   ]
  },
  {
   "cell_type": "markdown",
   "metadata": {
    "nbpresent": {
     "id": "760ffa28-d5b2-41b5-83fb-907fbd736f0d"
    },
    "slideshow": {
     "slide_type": "subslide"
    }
   },
   "source": [
    "If you want to find the last appearance of a substring, you can use the *rfind()* function:"
   ]
  },
  {
   "cell_type": "code",
   "execution_count": 22,
   "metadata": {
    "nbpresent": {
     "id": "b382e3df-1e4b-4ea9-91b8-184fad777e26"
    },
    "slideshow": {
     "slide_type": "fragment"
    }
   },
   "outputs": [
    {
     "name": "stdout",
     "output_type": "stream",
     "text": [
      "48\n"
     ]
    }
   ],
   "source": [
    "message = \"I like cats and dogs, but I'd much rather own a dog.\"\n",
    "last_dog_index = message.rfind('dog')\n",
    "print(last_dog_index)"
   ]
  },
  {
   "cell_type": "markdown",
   "metadata": {
    "nbpresent": {
     "id": "c7cd4a68-ed32-4df8-93f3-97f965e7203e"
    },
    "slideshow": {
     "slide_type": "subslide"
    }
   },
   "source": [
    "<a name='replacing_substrings'></a>Replacing substrings\n",
    "---\n",
    "You can use the *replace()* function to replace any substring with another substring. To use the *replace()* function, give the substring you want to replace, and then the substring you want to replace it with. You also need to store the new string, either in the same string variable or in a new variable."
   ]
  },
  {
   "cell_type": "code",
   "execution_count": 24,
   "metadata": {
    "nbpresent": {
     "id": "c46b912e-7881-4049-af73-56f7872956d8"
    },
    "slideshow": {
     "slide_type": "fragment"
    }
   },
   "outputs": [
    {
     "name": "stdout",
     "output_type": "stream",
     "text": [
      "I like cats and snakes, but I'd much rather own a snake.\n"
     ]
    }
   ],
   "source": [
    "message = \"I like cats and dogs, but I'd much rather own a dog.\"\n",
    "message = message.replace('dog', 'snake')\n",
    "print(message)"
   ]
  },
  {
   "cell_type": "markdown",
   "metadata": {
    "nbpresent": {
     "id": "5132b072-6041-4c43-85c8-64ff0644ba1b"
    },
    "slideshow": {
     "slide_type": "subslide"
    }
   },
   "source": [
    "<a name='counting_substrings'></a>Counting substrings\n",
    "---\n",
    "If you want to know how many times a substring appears within a string, you can use the *count()* method."
   ]
  },
  {
   "cell_type": "code",
   "execution_count": 25,
   "metadata": {
    "nbpresent": {
     "id": "a83b638e-afd6-4a82-b190-95cad572f97b"
    },
    "slideshow": {
     "slide_type": "fragment"
    }
   },
   "outputs": [
    {
     "name": "stdout",
     "output_type": "stream",
     "text": [
      "2\n"
     ]
    }
   ],
   "source": [
    "message = \"I like cats and dogs, but I'd much rather own a dog.\"\n",
    "number_dogs = message.count('dog')\n",
    "print(number_dogs)"
   ]
  },
  {
   "cell_type": "markdown",
   "metadata": {
    "nbpresent": {
     "id": "7086cbe1-aaf4-4f9a-8a6d-a9bb37d19cde"
    },
    "slideshow": {
     "slide_type": "subslide"
    }
   },
   "source": [
    "<a name='splitting_strings'></a>Splitting strings\n",
    "---\n",
    "Strings can be split into a set of substrings when they are separated by a repeated character. If a string consists of a simple sentence, the string can be split based on spaces. The *split()* function returns a list of substrings. The *split()* function takes one argument, the character that separates the parts of the string."
   ]
  },
  {
   "cell_type": "code",
   "execution_count": 26,
   "metadata": {
    "nbpresent": {
     "id": "45871347-c029-439a-baa2-2c7e34835f90"
    },
    "slideshow": {
     "slide_type": "fragment"
    }
   },
   "outputs": [
    {
     "name": "stdout",
     "output_type": "stream",
     "text": [
      "['I', 'like', 'cats', 'and', 'dogs,', 'but', \"I'd\", 'much', 'rather', 'own', 'a', 'dog.']\n"
     ]
    }
   ],
   "source": [
    "message = \"I like cats and dogs, but I'd much rather own a dog.\"\n",
    "words = message.split(' ')\n",
    "print(words)"
   ]
  },
  {
   "cell_type": "markdown",
   "metadata": {
    "nbpresent": {
     "id": "87b6afc9-2f61-42ac-a692-0b0919895cb4"
    },
    "slideshow": {
     "slide_type": "subslide"
    }
   },
   "source": [
    "Notice that the punctuation is left in the substrings.\n",
    "\n",
    "It is more common to split strings that are really lists, separated by something like a comma. The *split()* function gives you an easy way to turn comma-separated strings, which you can't do much with in Python, into lists. Once you have your data in a list, you can work with it in much more powerful ways."
   ]
  },
  {
   "cell_type": "code",
   "execution_count": 27,
   "metadata": {
    "nbpresent": {
     "id": "b7fa8610-0e5a-4cb1-8884-c0293b1db351"
    },
    "slideshow": {
     "slide_type": "subslide"
    }
   },
   "outputs": [
    {
     "name": "stdout",
     "output_type": "stream",
     "text": [
      "['dog', ' cat', ' tiger', ' mouse', ' liger', ' bear']\n"
     ]
    }
   ],
   "source": [
    "animals = \"dog, cat, tiger, mouse, liger, bear\"\n",
    "\n",
    "# Rewrite the string as a list, and store it in the same variable\n",
    "animals = animals.split(',')\n",
    "print(animals)"
   ]
  },
  {
   "cell_type": "markdown",
   "metadata": {
    "nbpresent": {
     "id": "a8719eb8-6153-4844-b05a-a24f05e626af"
    },
    "slideshow": {
     "slide_type": "subslide"
    }
   },
   "source": [
    "Notice that in this case, the spaces are also ignored. It is a good idea to test the output of the *split()* function and make sure it is doing what you want with the data you are interested in.\n",
    "\n",
    "One use of this is to work with spreadsheet data in your Python programs. Most spreadsheet applications allow you to dump your data into a comma-separated text file. You can read this file into your Python program, or even copy and paste from the text file into your program file, and then turn the data into a list. You can then process your spreadsheet data using a *for* loop."
   ]
  },
  {
   "cell_type": "markdown",
   "metadata": {
    "nbpresent": {
     "id": "0698ee37-2d5a-4ea8-bab1-59c07b37bd70"
    },
    "slideshow": {
     "slide_type": "subslide"
    }
   },
   "source": [
    "<a name='other_string_methods'></a>Other string methods\n",
    "---\n",
    "There are a number of [other string methods](http://docs.python.org/3.3/library/stdtypes.html#string-methods) that we won't go into right here, but you might want to take a look at them. Most of these methods should make sense to you at this point. You might not have use for any of them right now, but it is good to know what you can do with strings. This way you will have a sense of how to solve certain problems, even if it means referring back to the list of methods to remind yourself how to write the correct syntax when you need it."
   ]
  },
  {
   "cell_type": "markdown",
   "metadata": {
    "nbpresent": {
     "id": "263753ee-2cb7-42af-a162-a75d6a2f4444"
    },
    "slideshow": {
     "slide_type": "slide"
    }
   },
   "source": [
    "<a name='exercises_strings_as_lists'></a>Exercises\n",
    "---\n",
    "#### Listing a Sentence\n",
    "- Store a single sentence in a variable. Use a for loop to print each character from your sentence on a separate line.\n",
    "\n",
    "#### Sentence List\n",
    "- Store a single sentence in a variable. Create a list from your sentence. Print your raw list (don't use a loop, just print the list).\n",
    "\n",
    "#### Sentence Slices\n",
    "- Store a sentence in a variable. Using slices, print out the first five characters, any five consecutive characters from the middle of the sentence, and the last five characters of the sentence.\n",
    "\n",
    "#### Finding Python\n",
    "- Store a sentence in a variable, making sure you use the word *Python* at least twice in the sentence.\n",
    "- Use the *in* keyword to prove that the word *Python* is actually in the sentence.\n",
    "- Use the *find()* function to show where the word *Python* first appears in the sentence.\n",
    "- Use the *rfind()* function to show the last place *Python* appears in the sentence.\n",
    "- Use the *count()* function to show how many times the word *Python* appears in your sentence.\n",
    "- Use the *split()* function to break your sentence into a list of words. Print the raw list, and use a loop to print each word on its own line.\n",
    "- Use the *replace()* function to change *Python* to *Ruby* in your sentence."
   ]
  },
  {
   "cell_type": "code",
   "execution_count": null,
   "metadata": {
    "nbpresent": {
     "id": "d31b32a3-4eab-431a-bd45-cd0967c056e0"
    },
    "slideshow": {
     "slide_type": "skip"
    }
   },
   "outputs": [],
   "source": [
    "# Ex 3.22 : Listing a Sentence\n",
    "\n",
    "# put your code here"
   ]
  },
  {
   "cell_type": "code",
   "execution_count": null,
   "metadata": {
    "nbpresent": {
     "id": "099aa0e3-dcda-48c6-9d3a-b498dee6791b"
    },
    "slideshow": {
     "slide_type": "skip"
    }
   },
   "outputs": [],
   "source": [
    "# Ex 3.23 : Sentence List\n",
    "\n",
    "# put your code here"
   ]
  },
  {
   "cell_type": "code",
   "execution_count": null,
   "metadata": {
    "nbpresent": {
     "id": "f30953be-f622-484d-bf18-ed3a583360a0"
    },
    "slideshow": {
     "slide_type": "skip"
    }
   },
   "outputs": [],
   "source": [
    "# Ex 3.24 : Sentence Slices\n",
    "\n",
    "# put your code here"
   ]
  },
  {
   "cell_type": "code",
   "execution_count": null,
   "metadata": {
    "nbpresent": {
     "id": "19126491-a65c-4082-92a5-d96a32032c6d"
    },
    "slideshow": {
     "slide_type": "skip"
    }
   },
   "outputs": [],
   "source": [
    "# Ex 3.25 : Finding Python\n",
    "\n",
    "# put your code here"
   ]
  },
  {
   "cell_type": "markdown",
   "metadata": {
    "nbpresent": {
     "id": "5ffb8bac-de51-4c38-9522-2c0df165ae30"
    },
    "slideshow": {
     "slide_type": "slide"
    }
   },
   "source": [
    "<a name='challenges_strings_as_lists'></a>Challenges\n",
    "---\n",
    "#### Counting DNA Nucleotides\n",
    "- [Project Rosalind](http://rosalind.info/problems/locations/) is a [problem set](http://rosalind.info/problems/list-view/) based on biotechnology concepts. It is meant to show how programming skills can help solve problems in genetics and biology.\n",
    "- If you have understood this section on strings, you have enough information to solve the first problem in Project Rosalind, [Counting DNA Nucleotides](http://rosalind.info/problems/dna/). Give the sample problem a try.\n",
    "- If you get the sample problem correct, log in and try the full version of the problem!\n",
    "\n",
    "#### Transcribing DNA into RNA\n",
    "- You also have enough information to try the second problem, [Transcribing DNA into RNA](http://rosalind.info/problems/rna/). Solve the sample problem.\n",
    "- If you solved the sample problem, log in and try the full version!\n",
    "\n",
    "#### Complementing a Strand of DNA\n",
    "- You guessed it, you can now try the third problem as well: [Complementing a Strand of DNA](http://rosalind.info/problems/revc/). Try the sample problem, and then try the full version if you are successful."
   ]
  },
  {
   "cell_type": "code",
   "execution_count": null,
   "metadata": {
    "nbpresent": {
     "id": "f9cad7e4-f2d1-4e14-8526-31bb5289d543"
    },
    "slideshow": {
     "slide_type": "skip"
    }
   },
   "outputs": [],
   "source": [
    "# Challenge: Counting DNA Nucleotides\n",
    "\n",
    "# Put your code here"
   ]
  },
  {
   "cell_type": "code",
   "execution_count": null,
   "metadata": {
    "nbpresent": {
     "id": "2a348056-0db0-4eea-bd0b-b3201845264d"
    },
    "slideshow": {
     "slide_type": "skip"
    }
   },
   "outputs": [],
   "source": [
    "# Challenge: Transcribing DNA into RNA\n",
    "\n",
    "# Put your code here"
   ]
  },
  {
   "cell_type": "code",
   "execution_count": null,
   "metadata": {
    "nbpresent": {
     "id": "909ca75e-a5d6-42f6-8a52-630307020fab"
    },
    "slideshow": {
     "slide_type": "skip"
    }
   },
   "outputs": [],
   "source": [
    "# Challenge: Complementing a Strand of DNA\n",
    "\n",
    "# Put your code here"
   ]
  },
  {
   "cell_type": "markdown",
   "metadata": {
    "nbpresent": {
     "id": "6791584a-eddb-4ed7-bd05-3755830d40e1"
    },
    "slideshow": {
     "slide_type": "skip"
    }
   },
   "source": [
    "[top](#top)"
   ]
  },
  {
   "cell_type": "markdown",
   "metadata": {
    "nbpresent": {
     "id": "fb966cf1-0746-4616-ad4c-46a64d80fc4f"
    },
    "slideshow": {
     "slide_type": "slide"
    }
   },
   "source": [
    "<a name='tuples'></a>Tuples\n",
    "===\n",
    "Tuples are basically lists that can never be changed. Lists are quite dynamic; they can grow as you append and insert items, and they can shrink as you remove items. You can modify any element you want to in a list. Sometimes we like this behavior, but other times we may want to ensure that no user or no part of a program can change a list. That's what tuples are for.\n",
    "\n",
    "Technically, lists are *mutable* objects and tuples are *immutable* objects. Mutable objects can change (think of *mutations*), and immutable objects can not change."
   ]
  },
  {
   "cell_type": "markdown",
   "metadata": {
    "nbpresent": {
     "id": "f72c8688-14ca-4440-883b-58070248de1c"
    },
    "slideshow": {
     "slide_type": "subslide"
    }
   },
   "source": [
    "<a name='defining_tuples'></a>Defining tuples, and accessing elements\n",
    "---\n",
    "\n",
    "You define a tuple just like you define a list, except you use parentheses instead of square brackets. Once you have a tuple, you can access individual elements just like you can with a list, and you can loop through the tuple with a *for* loop:"
   ]
  },
  {
   "cell_type": "code",
   "execution_count": 36,
   "metadata": {
    "nbpresent": {
     "id": "276da118-4af2-46b3-9f3c-2b9a0795761a"
    },
    "slideshow": {
     "slide_type": "fragment"
    }
   },
   "outputs": [
    {
     "name": "stdout",
     "output_type": "stream",
     "text": [
      "The first color is: red\n",
      "\n",
      "The available colors are:\n",
      "- red\n",
      "- green\n",
      "- blue\n"
     ]
    }
   ],
   "source": [
    "colors = ('red', 'green', 'blue')\n",
    "print(\"The first color is: \" + colors[0])\n",
    "\n",
    "print(\"\\nThe available colors are:\")\n",
    "for color in colors:\n",
    "    print(\"- \" + color)"
   ]
  },
  {
   "cell_type": "markdown",
   "metadata": {
    "nbpresent": {
     "id": "4b22b2f8-09a6-4af5-90e2-155a6ec43111"
    },
    "slideshow": {
     "slide_type": "subslide"
    }
   },
   "source": [
    "If you try to add something to a tuple, you will get an error:"
   ]
  },
  {
   "cell_type": "code",
   "execution_count": 37,
   "metadata": {
    "nbpresent": {
     "id": "a9ff528f-1f7d-4e8a-8f82-ce11d78cfb52"
    },
    "slideshow": {
     "slide_type": "fragment"
    }
   },
   "outputs": [
    {
     "ename": "AttributeError",
     "evalue": "'tuple' object has no attribute 'append'",
     "output_type": "error",
     "traceback": [
      "\u001b[0;31m---------------------------------------------------------------------------\u001b[0m\n\u001b[0;31mAttributeError\u001b[0m                            Traceback (most recent call last)",
      "\u001b[0;32m<ipython-input-37-ed1dbff53ab2>\u001b[0m in \u001b[0;36m<module>\u001b[0;34m()\u001b[0m\n\u001b[1;32m      1\u001b[0m \u001b[0mcolors\u001b[0m \u001b[0;34m=\u001b[0m \u001b[0;34m(\u001b[0m\u001b[0;34m'red'\u001b[0m\u001b[0;34m,\u001b[0m \u001b[0;34m'green'\u001b[0m\u001b[0;34m,\u001b[0m \u001b[0;34m'blue'\u001b[0m\u001b[0;34m)\u001b[0m\u001b[0;34m\u001b[0m\u001b[0m\n\u001b[0;32m----> 2\u001b[0;31m \u001b[0mcolors\u001b[0m\u001b[0;34m.\u001b[0m\u001b[0mappend\u001b[0m\u001b[0;34m(\u001b[0m\u001b[0;34m'purple'\u001b[0m\u001b[0;34m)\u001b[0m\u001b[0;34m\u001b[0m\u001b[0m\n\u001b[0m",
      "\u001b[0;31mAttributeError\u001b[0m: 'tuple' object has no attribute 'append'"
     ]
    }
   ],
   "source": [
    "colors = ('red', 'green', 'blue')\n",
    "colors.append('purple')"
   ]
  },
  {
   "cell_type": "markdown",
   "metadata": {
    "nbpresent": {
     "id": "41ba01f4-8237-461e-b57e-50e79c07cf9c"
    },
    "slideshow": {
     "slide_type": "fragment"
    }
   },
   "source": [
    "The same kind of thing happens when you try to remove something from a tuple, or modify one of its elements. Once you define a tuple, you can be confident that its values will not change."
   ]
  },
  {
   "cell_type": "markdown",
   "metadata": {
    "nbpresent": {
     "id": "2be522c8-13f7-4717-95e8-5d4eaec0c83e"
    },
    "slideshow": {
     "slide_type": "subslide"
    }
   },
   "source": [
    "<a name='tuples_strings'></a>Using tuples to make strings\n",
    "---\n",
    "We have seen that it is pretty useful to be able to mix raw English strings with values that are stored in variables, as in the following:"
   ]
  },
  {
   "cell_type": "code",
   "execution_count": 41,
   "metadata": {
    "nbpresent": {
     "id": "25fa0ef8-82a0-44b4-b342-3e2b3180fc8a"
    },
    "slideshow": {
     "slide_type": "fragment"
    }
   },
   "outputs": [
    {
     "name": "stdout",
     "output_type": "stream",
     "text": [
      "I have a dog.\n"
     ]
    }
   ],
   "source": [
    "animal = 'dog'\n",
    "print(\"I have a \" + animal + \".\")"
   ]
  },
  {
   "cell_type": "markdown",
   "metadata": {
    "nbpresent": {
     "id": "94481114-a07a-4fef-aa5d-1a22eae9f74b"
    },
    "slideshow": {
     "slide_type": "subslide"
    }
   },
   "source": [
    "This was especially useful when we had a series of similar statements to make:"
   ]
  },
  {
   "cell_type": "code",
   "execution_count": 42,
   "metadata": {
    "nbpresent": {
     "id": "6ce9341b-bbdb-475e-a46d-d5eb893a6116"
    },
    "slideshow": {
     "slide_type": "fragment"
    }
   },
   "outputs": [
    {
     "name": "stdout",
     "output_type": "stream",
     "text": [
      "I have a dog.\n",
      "I have a cat.\n",
      "I have a bear.\n"
     ]
    }
   ],
   "source": [
    "animals = ['dog', 'cat', 'bear']\n",
    "for animal in animals:\n",
    "    print(\"I have a \" + animal + \".\")"
   ]
  },
  {
   "cell_type": "markdown",
   "metadata": {
    "nbpresent": {
     "id": "47eccfb0-9be5-43ce-93e3-be6f4cb416e4"
    },
    "slideshow": {
     "slide_type": "subslide"
    }
   },
   "source": [
    "I like this approach of using the plus sign to build strings because it is fairly intuitive. We can see that we are adding several smaller strings together to make one longer string. This is intuitive, but it is a lot of typing. There is a shorter way to do this, using *placeholders*.\n",
    "\n",
    "Python ignores most of the characters we put inside of strings. There are a few characters that Python pays attention to, as we saw with strings such as \"\\t\" and \"\\n\". Python also pays attention to \"%s\" and \"%d\". These are placeholders. When Python sees the \"%s\" placeholder, it looks ahead and pulls in the first argument after the % sign:"
   ]
  },
  {
   "cell_type": "code",
   "execution_count": 43,
   "metadata": {
    "nbpresent": {
     "id": "4d656215-9543-49eb-b4b0-c4186dede21e"
    },
    "slideshow": {
     "slide_type": "fragment"
    }
   },
   "outputs": [
    {
     "name": "stdout",
     "output_type": "stream",
     "text": [
      "I have a dog.\n"
     ]
    }
   ],
   "source": [
    "animal = 'dog'\n",
    "print(\"I have a %s.\" % animal)"
   ]
  },
  {
   "cell_type": "markdown",
   "metadata": {
    "nbpresent": {
     "id": "478bbf1f-445f-40f5-a2e0-3902e500fc7d"
    },
    "slideshow": {
     "slide_type": "fragment"
    }
   },
   "source": [
    "This is a much cleaner way of generating strings that include values. We compose our sentence all in one string, and then tell Python what values to pull into the string, in the appropriate places.\n",
    "\n",
    "This is called *string formatting*, and it looks the same when you use a list:"
   ]
  },
  {
   "cell_type": "code",
   "execution_count": 44,
   "metadata": {
    "nbpresent": {
     "id": "b17279ee-e70e-4969-9d13-8c4b13f637d1"
    },
    "slideshow": {
     "slide_type": "fragment"
    }
   },
   "outputs": [
    {
     "name": "stdout",
     "output_type": "stream",
     "text": [
      "I have a dog.\n",
      "I have a cat.\n",
      "I have a bear.\n"
     ]
    }
   ],
   "source": [
    "animals = ['dog', 'cat', 'bear']\n",
    "for animal in animals:\n",
    "    print(\"I have a %s.\" % animal)"
   ]
  },
  {
   "cell_type": "markdown",
   "metadata": {
    "nbpresent": {
     "id": "a8be13ed-6762-4b4b-9a4d-0d5f6ab31179"
    },
    "slideshow": {
     "slide_type": "subslide"
    }
   },
   "source": [
    "If you have more than one value to put into the string you are composing, you have to pack the values into a tuple:"
   ]
  },
  {
   "cell_type": "code",
   "execution_count": 46,
   "metadata": {
    "nbpresent": {
     "id": "1d6a4bbe-f68e-4c42-ad89-4cf859b1e2bf"
    },
    "slideshow": {
     "slide_type": "fragment"
    }
   },
   "outputs": [
    {
     "name": "stdout",
     "output_type": "stream",
     "text": [
      "I have a dog, a cat, and a bear.\n"
     ]
    }
   ],
   "source": [
    "animals = ['dog', 'cat', 'bear']\n",
    "print(\"I have a %s, a %s, and a %s.\" % (animals[0], animals[1], animals[2]))"
   ]
  },
  {
   "cell_type": "markdown",
   "metadata": {
    "nbpresent": {
     "id": "06d7919c-8575-4211-b59d-291949cff1fa"
    },
    "slideshow": {
     "slide_type": "subslide"
    }
   },
   "source": [
    "### String formatting with numbers\n",
    "\n",
    "If you recall, printing a number with a string can cause an error:"
   ]
  },
  {
   "cell_type": "code",
   "execution_count": 47,
   "metadata": {
    "nbpresent": {
     "id": "c3d44925-6068-4531-aeef-e19317e8a2e3"
    },
    "slideshow": {
     "slide_type": "fragment"
    }
   },
   "outputs": [
    {
     "ename": "TypeError",
     "evalue": "cannot concatenate 'str' and 'int' objects",
     "output_type": "error",
     "traceback": [
      "\u001b[0;31m---------------------------------------------------------------------------\u001b[0m\n\u001b[0;31mTypeError\u001b[0m                                 Traceback (most recent call last)",
      "\u001b[0;32m<ipython-input-47-1ed2c5bb2bba>\u001b[0m in \u001b[0;36m<module>\u001b[0;34m()\u001b[0m\n\u001b[1;32m      1\u001b[0m \u001b[0mnumber\u001b[0m \u001b[0;34m=\u001b[0m \u001b[0;36m23\u001b[0m\u001b[0;34m\u001b[0m\u001b[0m\n\u001b[0;32m----> 2\u001b[0;31m \u001b[0;32mprint\u001b[0m\u001b[0;34m(\u001b[0m\u001b[0;34m\"My favorite number is \"\u001b[0m \u001b[0;34m+\u001b[0m \u001b[0mnumber\u001b[0m \u001b[0;34m+\u001b[0m \u001b[0;34m\".\"\u001b[0m\u001b[0;34m)\u001b[0m\u001b[0;34m\u001b[0m\u001b[0m\n\u001b[0m",
      "\u001b[0;31mTypeError\u001b[0m: cannot concatenate 'str' and 'int' objects"
     ]
    }
   ],
   "source": [
    "number = 23\n",
    "print(\"My favorite number is \" + number + \".\")"
   ]
  },
  {
   "cell_type": "markdown",
   "metadata": {
    "nbpresent": {
     "id": "801a1268-d72e-4235-81fa-260f43e05084"
    },
    "slideshow": {
     "slide_type": "subslide"
    }
   },
   "source": [
    "Python knows that you could be talking about the value 23, or the characters '23'. So it throws an error, forcing us to clarify that we want Python to treat the number as a string. We do this by *casting* the number into a string using the *str()* function:"
   ]
  },
  {
   "cell_type": "code",
   "execution_count": 48,
   "metadata": {
    "nbpresent": {
     "id": "c8973b7d-e05e-4367-a87b-2d25fd6f0d69"
    },
    "slideshow": {
     "slide_type": "fragment"
    }
   },
   "outputs": [
    {
     "name": "stdout",
     "output_type": "stream",
     "text": [
      "My favorite number is 23.\n"
     ]
    }
   ],
   "source": [
    "number = 23\n",
    "print(\"My favorite number is \" + str(number) + \".\")"
   ]
  },
  {
   "cell_type": "markdown",
   "metadata": {
    "nbpresent": {
     "id": "a4f1182e-8bf6-4518-afb7-956797fd0795"
    },
    "slideshow": {
     "slide_type": "subslide"
    }
   },
   "source": [
    "The format string \"%d\" takes care of this for us. Watch how clean this code is:"
   ]
  },
  {
   "cell_type": "code",
   "execution_count": 49,
   "metadata": {
    "nbpresent": {
     "id": "c410a789-b7bb-400f-80c7-451b0c4a3f3f"
    },
    "slideshow": {
     "slide_type": "fragment"
    }
   },
   "outputs": [
    {
     "name": "stdout",
     "output_type": "stream",
     "text": [
      "My favorite number is 23.\n"
     ]
    }
   ],
   "source": [
    "number = 23\n",
    "print(\"My favorite number is %d.\" % number)"
   ]
  },
  {
   "cell_type": "markdown",
   "metadata": {
    "nbpresent": {
     "id": "9891c2f7-d1c7-486d-a8ba-9ce35aa25d0f"
    },
    "slideshow": {
     "slide_type": "subslide"
    }
   },
   "source": [
    "If you want to use a series of numbers, you pack them into a tuple just like we saw with strings:"
   ]
  },
  {
   "cell_type": "code",
   "execution_count": 50,
   "metadata": {
    "nbpresent": {
     "id": "d2b516d6-1f53-4d9a-82b4-4cac39cf2fb3"
    },
    "slideshow": {
     "slide_type": "fragment"
    }
   },
   "outputs": [
    {
     "name": "stdout",
     "output_type": "stream",
     "text": [
      "My favorite numbers are 7, 23, and 42.\n"
     ]
    }
   ],
   "source": [
    "numbers = [7, 23, 42]\n",
    "print(\"My favorite numbers are %d, %d, and %d.\" % (numbers[0], numbers[1], numbers[2]))"
   ]
  },
  {
   "cell_type": "markdown",
   "metadata": {
    "nbpresent": {
     "id": "5bf2d714-0a2c-4ee1-84e3-72c9be1119d8"
    },
    "slideshow": {
     "slide_type": "subslide"
    }
   },
   "source": [
    "Just for clarification, look at how much longer the code is if you use concatenation instead of string formatting:"
   ]
  },
  {
   "cell_type": "code",
   "execution_count": 51,
   "metadata": {
    "nbpresent": {
     "id": "83561989-7f8b-456d-955a-093492ed79d1"
    },
    "slideshow": {
     "slide_type": "fragment"
    }
   },
   "outputs": [
    {
     "name": "stdout",
     "output_type": "stream",
     "text": [
      "My favorite numbers are 7, 23, and 42.\n"
     ]
    }
   ],
   "source": [
    "numbers = [7, 23, 42]\n",
    "print(\"My favorite numbers are \" + str(numbers[0]) + \", \" + str(numbers[1]) + \", and \" + str(numbers[2]) + \".\")"
   ]
  },
  {
   "cell_type": "markdown",
   "metadata": {
    "nbpresent": {
     "id": "5621534c-4a9e-43e1-96a8-a1d6157d4e15"
    },
    "slideshow": {
     "slide_type": "subslide"
    }
   },
   "source": [
    "You can mix string and numerical placeholders in any order you want."
   ]
  },
  {
   "cell_type": "code",
   "execution_count": 53,
   "metadata": {
    "nbpresent": {
     "id": "3462dfad-e448-4e2e-8131-d01f3d2a4f25"
    },
    "slideshow": {
     "slide_type": "fragment"
    }
   },
   "outputs": [
    {
     "name": "stdout",
     "output_type": "stream",
     "text": [
      "Eric's favorite number is 23, and Ever's favorite number is 2.\n"
     ]
    }
   ],
   "source": [
    "names = ['eric', 'ever']\n",
    "numbers = [23, 2]\n",
    "print(\"%s's favorite number is %d, and %s's favorite number is %d.\" % (names[0].title(), numbers[0], names[1].title(), numbers[1]))"
   ]
  },
  {
   "cell_type": "markdown",
   "metadata": {
    "nbpresent": {
     "id": "a164d1b6-912c-498b-8994-14708c6408ec"
    },
    "slideshow": {
     "slide_type": "fragment"
    }
   },
   "source": [
    "There are more sophisticated ways to do string formatting in Python 3, but we will save that for later because it's a bit less intuitive than this approach. For now, you can use whichever approach consistently gets you the output that you want to see."
   ]
  },
  {
   "cell_type": "markdown",
   "metadata": {
    "nbpresent": {
     "id": "99c97535-f032-4b12-84b7-ff9d98827f93"
    },
    "slideshow": {
     "slide_type": "slide"
    }
   },
   "source": [
    "<a name='tuples_exercises'></a>Exercises\n",
    "---\n",
    "\n",
    "#### Gymnast Scores\n",
    "- A gymnast can earn a score between 1 and 10 from each judge; nothing lower, nothing higher. All scores are integer values; there are no decimal scores from a single judge.\n",
    "- Store the possible scores a gymnast can earn from one judge in a tuple.\n",
    "- Print out the sentence, \"The lowest possible score is \\_\\_\\_, and the highest possible score is \\_\\_\\_.\" Use the values from your tuple.\n",
    "- Print out a series of sentences, \"A judge can give a gymnast ___ points.\"\n",
    "    - Don't worry if your first sentence reads \"A judge can give a gymnast 1 points.\"\n",
    "    - However, you get 1000 bonus internet points if you can use a for loop, and have correct grammar. [hint](#hints_gymnast_scores)\n",
    "\n",
    "#### Revision with Tuples\n",
    "- Choose a program you have already written that uses string concatenation.\n",
    "- Save the program with the same filename, but add *\\_tuple.py* to the end. For example, *gymnast\\_scores.py* becomes *gymnast\\_scores_tuple.py*.\n",
    "- Rewrite your string sections using *%s* and *%d* instead of concatenation.\n",
    "- Repeat this with two other programs you have already written."
   ]
  },
  {
   "cell_type": "code",
   "execution_count": 1,
   "metadata": {
    "nbpresent": {
     "id": "e278b37a-c649-466b-843b-b2c5d964ec38"
    },
    "slideshow": {
     "slide_type": "skip"
    }
   },
   "outputs": [],
   "source": [
    "# Ex 3.26 : Gymnast Scores\n",
    "\n",
    "# put your code here"
   ]
  },
  {
   "cell_type": "code",
   "execution_count": null,
   "metadata": {
    "nbpresent": {
     "id": "7bb839e6-6540-4ab0-a275-012470bce056"
    },
    "slideshow": {
     "slide_type": "skip"
    }
   },
   "outputs": [],
   "source": [
    "# Ex 3.27 : Revision with Tuples\n",
    "\n",
    "# put your code here"
   ]
  },
  {
   "cell_type": "markdown",
   "metadata": {
    "nbpresent": {
     "id": "e1103eb6-f578-438a-a40b-f2a6e4508080"
    },
    "slideshow": {
     "slide_type": "skip"
    }
   },
   "source": [
    "[top](#top)"
   ]
  },
  {
   "cell_type": "markdown",
   "metadata": {
    "nbpresent": {
     "id": "47488c96-9ea5-4886-b8b4-c239c374a25a"
    }
   },
   "source": [
    "<a name='sets'></a>Sets\n",
    "===\n",
    "\n",
    "A set object is an unordered collection of distinct hashable objects. Common uses include membership testing, removing duplicates from a sequence, and computing mathematical operations such as intersection, union, difference, and symmetric difference."
   ]
  },
  {
   "cell_type": "code",
   "execution_count": 1,
   "metadata": {
    "nbpresent": {
     "id": "23656051-edf3-42b7-84de-61f0a8f2bc60"
    }
   },
   "outputs": [
    {
     "data": {
      "text/plain": [
       "{'circle', 'square', 'triangle'}"
      ]
     },
     "execution_count": 1,
     "metadata": {},
     "output_type": "execute_result"
    }
   ],
   "source": [
    "shapes = ['circle','square','triangle','circle']\n",
    "set_of_shapes = set(shapes)\n",
    "set_of_shapes"
   ]
  },
  {
   "cell_type": "code",
   "execution_count": 7,
   "metadata": {
    "nbpresent": {
     "id": "fc60f749-4995-4fa8-b547-f625412ea886"
    }
   },
   "outputs": [
    {
     "name": "stdout",
     "output_type": "stream",
     "text": [
      "circle\n",
      "square\n",
      "polygon\n",
      "triangle\n"
     ]
    }
   ],
   "source": [
    "shapes = {'circle','square','triangle','circle'}\n",
    "for shape in set_of_shapes:\n",
    "    print(shape)"
   ]
  },
  {
   "cell_type": "code",
   "execution_count": 6,
   "metadata": {
    "nbpresent": {
     "id": "e0e53657-b022-4bfd-9ad9-f49174d24bce"
    }
   },
   "outputs": [
    {
     "name": "stdout",
     "output_type": "stream",
     "text": [
      "{'circle', 'square', 'polygon', 'triangle'}\n"
     ]
    }
   ],
   "source": [
    "set_of_shapes.add('polygon') \n",
    "print(set_of_shapes)"
   ]
  },
  {
   "cell_type": "markdown",
   "metadata": {
    "nbpresent": {
     "id": "9241973a-1d27-485c-ae77-6dd1b01ba4d0"
    }
   },
   "source": [
    "## Exists (Check)"
   ]
  },
  {
   "cell_type": "code",
   "execution_count": 2,
   "metadata": {
    "nbpresent": {
     "id": "1964b9c6-8f13-4054-af3b-e7ef0c6357b1"
    }
   },
   "outputs": [
    {
     "name": "stdout",
     "output_type": "stream",
     "text": [
      "Circle is in the set:  True\n",
      "Rhombus is in the set: False\n"
     ]
    }
   ],
   "source": [
    "# Test if circle is IN the set (i.e. exist)\n",
    "print('Circle is in the set: ', ('circle' in set_of_shapes))\n",
    "print('Rhombus is in the set:', ('rhombus' in set_of_shapes))"
   ]
  },
  {
   "cell_type": "markdown",
   "metadata": {
    "nbpresent": {
     "id": "9cf46280-f7bd-41c2-8d66-a4223e0a8c19"
    }
   },
   "source": [
    "## Operations"
   ]
  },
  {
   "cell_type": "code",
   "execution_count": 3,
   "metadata": {
    "nbpresent": {
     "id": "679581fc-6d39-46e5-a888-90c13eed3163"
    }
   },
   "outputs": [
    {
     "data": {
      "text/plain": [
       "{'circle', 'triangle'}"
      ]
     },
     "execution_count": 3,
     "metadata": {},
     "output_type": "execute_result"
    }
   ],
   "source": [
    "favourites_shapes = set(['circle','triangle','hexagon'])\n",
    "\n",
    "# Intersection\n",
    "set_of_shapes.intersection(favourites_shapes)"
   ]
  },
  {
   "cell_type": "code",
   "execution_count": 4,
   "metadata": {
    "nbpresent": {
     "id": "259b36e9-0431-4282-8607-3ea457a5db6d"
    }
   },
   "outputs": [
    {
     "data": {
      "text/plain": [
       "{'circle', 'hexagon', 'square', 'triangle'}"
      ]
     },
     "execution_count": 4,
     "metadata": {},
     "output_type": "execute_result"
    }
   ],
   "source": [
    "# Union\n",
    "set_of_shapes.union(favourites_shapes)"
   ]
  },
  {
   "cell_type": "code",
   "execution_count": 5,
   "metadata": {
    "nbpresent": {
     "id": "ff5162e1-60f4-47ce-9d02-025f32b63cd6"
    }
   },
   "outputs": [
    {
     "data": {
      "text/plain": [
       "{'square'}"
      ]
     },
     "execution_count": 5,
     "metadata": {},
     "output_type": "execute_result"
    }
   ],
   "source": [
    "# Difference\n",
    "set_of_shapes.difference(favourites_shapes)"
   ]
  },
  {
   "cell_type": "markdown",
   "metadata": {
    "nbpresent": {
     "id": "73b132da-a299-4537-87a4-e1d3a41f73e3"
    },
    "slideshow": {
     "slide_type": "slide"
    }
   },
   "source": [
    "<a name='challenges_overall'></a>Overall Challenges\n",
    "===\n",
    "#### Programming Words\n",
    "- Make a list of the most important words you have learned in programming so far. You should have terms such as list,\n",
    "- Make a corresponding list of definitions. Fill your list with 'definition'.\n",
    "- Use a for loop to print out each word and its corresponding definition.\n",
    "- Maintain this program until you get to the section on Python's Dictionaries."
   ]
  },
  {
   "cell_type": "code",
   "execution_count": null,
   "metadata": {
    "nbpresent": {
     "id": "f2a3d2f9-3193-49ca-8162-208c9ce354e8"
    },
    "slideshow": {
     "slide_type": "skip"
    }
   },
   "outputs": [],
   "source": [
    "# Overall Challenges: Programming Words\n",
    "\n",
    "# Put your code here"
   ]
  },
  {
   "cell_type": "markdown",
   "metadata": {
    "nbpresent": {
     "id": "2fc96532-fa92-4836-92be-bebf2ed3c6fe"
    },
    "slideshow": {
     "slide_type": "skip"
    }
   },
   "source": [
    "[top](#top)"
   ]
  },
  {
   "cell_type": "markdown",
   "metadata": {
    "nbpresent": {
     "id": "8b4983cf-862c-45e8-8da7-0900a6bdceb0"
    },
    "slideshow": {
     "slide_type": "skip"
    }
   },
   "source": [
    "Hints\n",
    "===\n",
    "These are placed at the bottom, so you can have a chance to solve exercises without seeing any hints.\n",
    "\n",
    "<a name='hints_gymnast_scores'></a>\n",
    "\n",
    "#### Gymnast Scores\n",
    "- Hint: Use a slice."
   ]
  }
 ],
 "metadata": {
  "anaconda-cloud": {},
  "kernelspec": {
   "display_name": "Python [default]",
   "language": "python",
   "name": "python3"
  },
  "language_info": {
   "codemirror_mode": {
    "name": "ipython",
    "version": 3
   },
   "file_extension": ".py",
   "mimetype": "text/x-python",
   "name": "python",
   "nbconvert_exporter": "python",
   "pygments_lexer": "ipython3",
   "version": "3.5.3"
  },
  "nbpresent": {
   "slides": {
    "05b7bb90-1735-4fd4-9fc0-e9f9a088d413": {
     "id": "05b7bb90-1735-4fd4-9fc0-e9f9a088d413",
     "prev": "bcb7ad60-5a99-4187-8f11-57475cd05a3d",
     "regions": {
      "251dba12-9e28-4082-826d-e9e172f9ca9d": {
       "attrs": {
        "height": 0.4,
        "width": 0.8,
        "x": 0.1,
        "y": 0.5
       },
       "content": {
        "cell": "58dc393c-01c5-40f9-81a7-b8b3b661fc15",
        "part": "whole"
       },
       "id": "251dba12-9e28-4082-826d-e9e172f9ca9d"
      },
      "92bb66a0-2b93-4b19-b9ba-97a49f582243": {
       "attrs": {
        "height": 0.8,
        "width": 0.8,
        "x": 0.1,
        "y": 0.1
       },
       "content": {
        "cell": "1f755f31-2b73-45b6-8765-705c9b88e5b2",
        "part": "whole"
       },
       "id": "92bb66a0-2b93-4b19-b9ba-97a49f582243"
      }
     }
    },
    "08a667b2-9e94-4973-b391-415c617289a4": {
     "id": "08a667b2-9e94-4973-b391-415c617289a4",
     "prev": "96898e00-b348-453c-8cbd-42e3efd2ce10",
     "regions": {
      "fdc7dc3e-cc1c-4f7a-996f-496b679ecb6c": {
       "attrs": {
        "height": 0.8,
        "width": 0.8,
        "x": 0.1,
        "y": 0.1
       },
       "content": {
        "cell": "295e68ef-8c01-4f56-b4be-cb07b4d1a23c",
        "part": "whole"
       },
       "id": "fdc7dc3e-cc1c-4f7a-996f-496b679ecb6c"
      }
     }
    },
    "08a6ad9c-7e69-4ebc-bd41-456ab123e616": {
     "id": "08a6ad9c-7e69-4ebc-bd41-456ab123e616",
     "prev": "ba6320a9-16be-4a9d-bfdb-946e3065a0c0",
     "regions": {
      "2f5d02b3-13cc-46ea-a1b4-4c3bedd01ecd": {
       "attrs": {
        "height": 0.4,
        "width": 0.8,
        "x": 0.1,
        "y": 0.5
       },
       "content": {
        "cell": "98e75f5a-e85a-45e3-a9dd-9ac2a871c963",
        "part": "whole"
       },
       "id": "2f5d02b3-13cc-46ea-a1b4-4c3bedd01ecd"
      },
      "6a2c91a2-3612-42ea-81b9-b16e5f3da919": {
       "attrs": {
        "height": 0.8,
        "width": 0.8,
        "x": 0.1,
        "y": 0.1
       },
       "content": {
        "cell": "f99b7f61-0da2-4306-b3ed-c5b545c15ea3",
        "part": "whole"
       },
       "id": "6a2c91a2-3612-42ea-81b9-b16e5f3da919"
      }
     }
    },
    "08fe3abd-3937-4a09-86c4-4f7435776715": {
     "id": "08fe3abd-3937-4a09-86c4-4f7435776715",
     "prev": "2363cfd6-8796-42e4-83d5-0a796770278c",
     "regions": {
      "207a9dfd-c279-4bb9-b14b-c65478bcfd3c": {
       "attrs": {
        "height": 0.8,
        "width": 0.8,
        "x": 0.1,
        "y": 0.1
       },
       "content": {
        "cell": "b7fa8610-0e5a-4cb1-8884-c0293b1db351",
        "part": "whole"
       },
       "id": "207a9dfd-c279-4bb9-b14b-c65478bcfd3c"
      }
     }
    },
    "0d96d00e-87ef-4eb6-a3cf-1a0619bd6f79": {
     "id": "0d96d00e-87ef-4eb6-a3cf-1a0619bd6f79",
     "prev": "d1cab3ae-0f0c-473a-94b9-d10988aec1dc",
     "regions": {
      "183b6956-1975-48ac-838e-81b4f0b0b2bb": {
       "attrs": {
        "height": 0.4,
        "width": 0.8,
        "x": 0.1,
        "y": 0.5
       },
       "content": {
        "cell": "ad1e2589-8e8e-4541-b68b-b31f3440ebab",
        "part": "whole"
       },
       "id": "183b6956-1975-48ac-838e-81b4f0b0b2bb"
      },
      "19e3107c-121d-4db4-be55-c8e8482fd30c": {
       "attrs": {
        "height": 0.8,
        "width": 0.8,
        "x": 0.1,
        "y": 0.1
       },
       "content": {
        "cell": "c7b02ad1-6750-42bc-b96f-4d34515ebf2c",
        "part": "whole"
       },
       "id": "19e3107c-121d-4db4-be55-c8e8482fd30c"
      },
      "3f1b821b-35ea-4980-b7d3-5bbf73106768": {
       "attrs": {
        "height": 0.4,
        "width": 0.8,
        "x": 0.1,
        "y": 0.5
       },
       "content": {
        "cell": "340779e1-5d2a-49d0-8fd7-403f523c975b",
        "part": "whole"
       },
       "id": "3f1b821b-35ea-4980-b7d3-5bbf73106768"
      }
     }
    },
    "0e755e7f-e692-439a-bffc-945f74827e08": {
     "id": "0e755e7f-e692-439a-bffc-945f74827e08",
     "prev": "a633119a-3329-4927-96e1-e086458e25e9",
     "regions": {
      "460b6025-0bbf-495b-8638-f513cb7bc281": {
       "attrs": {
        "height": 0.8,
        "width": 0.8,
        "x": 0.1,
        "y": 0.1
       },
       "content": {
        "cell": "7247f634-9435-4224-b4c6-367ea0cf9431",
        "part": "whole"
       },
       "id": "460b6025-0bbf-495b-8638-f513cb7bc281"
      },
      "4e75988d-d950-4394-9ecf-793fcd388ef4": {
       "attrs": {
        "height": 0.4,
        "width": 0.8,
        "x": 0.1,
        "y": 0.5
       },
       "content": {
        "cell": "7418b6aa-be87-4a26-a12d-7af0bc68bb9c",
        "part": "whole"
       },
       "id": "4e75988d-d950-4394-9ecf-793fcd388ef4"
      },
      "afe2dd92-cedb-4794-b636-1905ebca01bd": {
       "attrs": {
        "height": 0.4,
        "width": 0.8,
        "x": 0.1,
        "y": 0.5
       },
       "content": {
        "cell": "5ae7ac09-fefc-4f3c-97a2-776f8d597d66",
        "part": "whole"
       },
       "id": "afe2dd92-cedb-4794-b636-1905ebca01bd"
      },
      "f674a99f-ce5d-40eb-afce-789f635f29d3": {
       "attrs": {
        "height": 0.4,
        "width": 0.8,
        "x": 0.1,
        "y": 0.5
       },
       "content": {
        "cell": "89c5b344-2b06-4677-8e25-cff539a32d50",
        "part": "whole"
       },
       "id": "f674a99f-ce5d-40eb-afce-789f635f29d3"
      }
     }
    },
    "150c7ff8-091f-4d92-b65f-c14fb85ccbaa": {
     "id": "150c7ff8-091f-4d92-b65f-c14fb85ccbaa",
     "prev": "ca968d2d-d0e1-4807-9451-8c0116dcd68a",
     "regions": {
      "270f7b08-0960-4775-8e3f-1f8d189b5b42": {
       "attrs": {
        "height": 0.8,
        "width": 0.8,
        "x": 0.1,
        "y": 0.1
       },
       "content": {
        "cell": "422e9831-1c5d-4daa-bb23-0718bee28b46",
        "part": "whole"
       },
       "id": "270f7b08-0960-4775-8e3f-1f8d189b5b42"
      }
     }
    },
    "16ec3aac-85b7-4ca1-8691-7add3525a1e7": {
     "id": "16ec3aac-85b7-4ca1-8691-7add3525a1e7",
     "prev": "a2007984-dd2a-44a7-a132-3af4e88e429a",
     "regions": {
      "6a0096d2-c3a6-4897-8c88-6335af0b596f": {
       "attrs": {
        "height": 0.8,
        "width": 0.8,
        "x": 0.1,
        "y": 0.1
       },
       "content": {
        "cell": "076b6dee-d49e-4423-8105-ff3514049050",
        "part": "whole"
       },
       "id": "6a0096d2-c3a6-4897-8c88-6335af0b596f"
      },
      "e47e759d-7f94-49ba-896d-09ef9cc829e7": {
       "attrs": {
        "height": 0.4,
        "width": 0.8,
        "x": 0.1,
        "y": 0.5
       },
       "content": {
        "cell": "ad9b6e17-7176-40e6-ab20-501f46d506b5",
        "part": "whole"
       },
       "id": "e47e759d-7f94-49ba-896d-09ef9cc829e7"
      }
     }
    },
    "171686f2-4068-4bca-9ab4-6c06d8f37cf8": {
     "id": "171686f2-4068-4bca-9ab4-6c06d8f37cf8",
     "prev": "5f121281-527b-400c-96e7-2264a3a68e1a",
     "regions": {
      "186239e2-940d-4432-be33-c83b80c7b60d": {
       "attrs": {
        "height": 0.4,
        "width": 0.8,
        "x": 0.1,
        "y": 0.5
       },
       "content": {
        "cell": "619d67bd-d949-45de-aec8-5bdc5b1634cb",
        "part": "whole"
       },
       "id": "186239e2-940d-4432-be33-c83b80c7b60d"
      },
      "f0be45b4-152e-41fd-b3bb-2911d7d8f6c9": {
       "attrs": {
        "height": 0.8,
        "width": 0.8,
        "x": 0.1,
        "y": 0.1
       },
       "content": {
        "cell": "d87c1b55-dfe3-4572-a96e-c1fde6271872",
        "part": "whole"
       },
       "id": "f0be45b4-152e-41fd-b3bb-2911d7d8f6c9"
      }
     }
    },
    "1930830a-9383-45aa-b12f-0bfbba15a17b": {
     "id": "1930830a-9383-45aa-b12f-0bfbba15a17b",
     "prev": "f46b6b6d-86b5-464e-8254-af7f606435af",
     "regions": {
      "df69b41a-412c-4b34-9a66-0fe232a7fe6a": {
       "attrs": {
        "height": 0.8,
        "width": 0.8,
        "x": 0.1,
        "y": 0.1
       },
       "content": {
        "cell": "fb966cf1-0746-4616-ad4c-46a64d80fc4f",
        "part": "whole"
       },
       "id": "df69b41a-412c-4b34-9a66-0fe232a7fe6a"
      }
     }
    },
    "2167bfdc-ce1c-4a56-adb8-d61720026b0f": {
     "id": "2167bfdc-ce1c-4a56-adb8-d61720026b0f",
     "prev": "74ae3b2a-e2d0-4bc8-9318-953cc9843103",
     "regions": {
      "1c4bf55b-472b-4fd0-94ac-237f0ffaf24c": {
       "attrs": {
        "height": 0.8,
        "width": 0.8,
        "x": 0.1,
        "y": 0.1
       },
       "content": {
        "cell": "9c441bf1-46e8-4f89-a3e7-1bf05f1c0fae",
        "part": "whole"
       },
       "id": "1c4bf55b-472b-4fd0-94ac-237f0ffaf24c"
      },
      "889a2939-44fa-44b3-bf14-710218179212": {
       "attrs": {
        "height": 0.4,
        "width": 0.8,
        "x": 0.1,
        "y": 0.5
       },
       "content": {
        "cell": "d7e18e60-c2fb-4cdd-b3d1-60905c47e1e9",
        "part": "whole"
       },
       "id": "889a2939-44fa-44b3-bf14-710218179212"
      }
     }
    },
    "22a44220-8c15-4c61-87f1-cee6ee828304": {
     "id": "22a44220-8c15-4c61-87f1-cee6ee828304",
     "prev": "7acf818f-8141-4b08-ae34-cd29b73fdad2",
     "regions": {
      "2b1d7da4-3161-44cb-a00b-51098962a8d9": {
       "attrs": {
        "height": 0.4,
        "width": 0.8,
        "x": 0.1,
        "y": 0.5
       },
       "content": {
        "cell": "d84092f7-9f63-4179-aecc-1c944ba7d11f",
        "part": "whole"
       },
       "id": "2b1d7da4-3161-44cb-a00b-51098962a8d9"
      },
      "4c002f8b-d38d-4325-846d-5ca350d31507": {
       "attrs": {
        "height": 0.8,
        "width": 0.8,
        "x": 0.1,
        "y": 0.1
       },
       "content": {
        "cell": "786ab7fd-5001-4c90-8b48-4d1536ba16d8",
        "part": "whole"
       },
       "id": "4c002f8b-d38d-4325-846d-5ca350d31507"
      }
     }
    },
    "23013b52-3058-497f-a97d-bd13a58abc0b": {
     "id": "23013b52-3058-497f-a97d-bd13a58abc0b",
     "prev": "d223e845-0d5a-4bd7-a2f8-70c7c075406e",
     "regions": {
      "24205ded-39b3-4722-b1c7-0a606724caee": {
       "attrs": {
        "height": 0.8,
        "width": 0.8,
        "x": 0.1,
        "y": 0.1
       },
       "content": {
        "cell": "e57bc61d-9b31-40f5-9d53-c4f6f54e5045",
        "part": "whole"
       },
       "id": "24205ded-39b3-4722-b1c7-0a606724caee"
      },
      "9c9457cc-7e6c-4295-81c7-8f267cb6de54": {
       "attrs": {
        "height": 0.4,
        "width": 0.8,
        "x": 0.1,
        "y": 0.5
       },
       "content": {
        "cell": "06eda551-10b2-403a-9cc2-8c0b13f4c14f",
        "part": "whole"
       },
       "id": "9c9457cc-7e6c-4295-81c7-8f267cb6de54"
      }
     }
    },
    "2363cfd6-8796-42e4-83d5-0a796770278c": {
     "id": "2363cfd6-8796-42e4-83d5-0a796770278c",
     "prev": "697a333f-9b4c-4788-b3a7-76e0b3d86def",
     "regions": {
      "62879629-a16f-49cf-b3d6-da4d1931142e": {
       "attrs": {
        "height": 0.8,
        "width": 0.8,
        "x": 0.1,
        "y": 0.1
       },
       "content": {
        "cell": "87b6afc9-2f61-42ac-a692-0b0919895cb4",
        "part": "whole"
       },
       "id": "62879629-a16f-49cf-b3d6-da4d1931142e"
      }
     }
    },
    "243dbc31-9d5c-4ca8-b07e-d4f2cdc49151": {
     "id": "243dbc31-9d5c-4ca8-b07e-d4f2cdc49151",
     "prev": "a660b06b-1c81-4b40-80ab-2502b612ffd2",
     "regions": {
      "14bccda4-9423-4fef-85e7-551e29ba8994": {
       "attrs": {
        "height": 0.4,
        "width": 0.8,
        "x": 0.1,
        "y": 0.5
       },
       "content": {
        "cell": "7c8ddf68-41c2-43bc-a5ae-4980649c676d",
        "part": "whole"
       },
       "id": "14bccda4-9423-4fef-85e7-551e29ba8994"
      },
      "c07fb9d2-11fa-42ae-9121-18d6850a81d3": {
       "attrs": {
        "height": 0.8,
        "width": 0.8,
        "x": 0.1,
        "y": 0.1
       },
       "content": {
        "cell": "eb8b9395-a45d-425c-b3dc-aa03521fd521",
        "part": "whole"
       },
       "id": "c07fb9d2-11fa-42ae-9121-18d6850a81d3"
      }
     }
    },
    "254066b7-2b3a-44c7-9f88-5cb6e6a8464b": {
     "id": "254066b7-2b3a-44c7-9f88-5cb6e6a8464b",
     "prev": "f11e3828-b71e-4a64-ad52-059d1c9ed433",
     "regions": {
      "1b4c2bba-f776-4ca9-a455-40aeebd68f5e": {
       "attrs": {
        "height": 0.8,
        "width": 0.8,
        "x": 0.1,
        "y": 0.1
       },
       "content": {
        "cell": "4b22b2f8-09a6-4af5-90e2-155a6ec43111",
        "part": "whole"
       },
       "id": "1b4c2bba-f776-4ca9-a455-40aeebd68f5e"
      },
      "456ae462-2a88-4243-b842-6b130c8196d7": {
       "attrs": {
        "height": 0.4,
        "width": 0.8,
        "x": 0.1,
        "y": 0.5
       },
       "content": {
        "cell": "a9ff528f-1f7d-4e8a-8f82-ce11d78cfb52",
        "part": "whole"
       },
       "id": "456ae462-2a88-4243-b842-6b130c8196d7"
      },
      "d98a610a-a532-4152-8bd1-3865e0c0e183": {
       "attrs": {
        "height": 0.4,
        "width": 0.8,
        "x": 0.1,
        "y": 0.5
       },
       "content": {
        "cell": "41ba01f4-8237-461e-b57e-50e79c07cf9c",
        "part": "whole"
       },
       "id": "d98a610a-a532-4152-8bd1-3865e0c0e183"
      }
     }
    },
    "26666dad-b857-4a4f-9d7d-f972e87bb83a": {
     "id": "26666dad-b857-4a4f-9d7d-f972e87bb83a",
     "prev": "4b2070f6-81bb-4250-b4fd-ed992a5ea509",
     "regions": {
      "1973749f-333a-4ccf-b1a7-cb6c48ca2f79": {
       "attrs": {
        "height": 0.4,
        "width": 0.8,
        "x": 0.1,
        "y": 0.5
       },
       "content": {
        "cell": "f48b36ae-af5a-421c-ae1d-79e5899228d1",
        "part": "whole"
       },
       "id": "1973749f-333a-4ccf-b1a7-cb6c48ca2f79"
      },
      "c14e742e-c376-4c48-9214-eff0ec46a4b4": {
       "attrs": {
        "height": 0.8,
        "width": 0.8,
        "x": 0.1,
        "y": 0.1
       },
       "content": {
        "cell": "d1b567fc-3ef0-4bb5-8b10-ca4a04b48c3c",
        "part": "whole"
       },
       "id": "c14e742e-c376-4c48-9214-eff0ec46a4b4"
      }
     }
    },
    "29298f2c-df8b-4ea6-a66c-6050140ee706": {
     "id": "29298f2c-df8b-4ea6-a66c-6050140ee706",
     "prev": "bffe198c-6001-4ce9-b1d0-50cb887616fd",
     "regions": {
      "46bb2aa5-82b2-44b3-a112-34a3296ff85b": {
       "attrs": {
        "height": 0.4,
        "width": 0.8,
        "x": 0.1,
        "y": 0.5
       },
       "content": {
        "cell": "8e2e63dd-2dad-46ec-88bb-0b89b877725d",
        "part": "whole"
       },
       "id": "46bb2aa5-82b2-44b3-a112-34a3296ff85b"
      },
      "d2c68065-7819-478f-89c4-adcb85054578": {
       "attrs": {
        "height": 0.8,
        "width": 0.8,
        "x": 0.1,
        "y": 0.1
       },
       "content": {
        "cell": "c8e8e067-9b6d-40a0-953d-c165aecbbbbf",
        "part": "whole"
       },
       "id": "d2c68065-7819-478f-89c4-adcb85054578"
      }
     }
    },
    "321c02dc-db1d-4643-a777-80fca0b78757": {
     "id": "321c02dc-db1d-4643-a777-80fca0b78757",
     "prev": "b52fd574-39ac-4e4a-a488-59bd30a61aba",
     "regions": {
      "c17822d4-a07b-42d2-ac3c-a631ac406524": {
       "attrs": {
        "height": 0.8,
        "width": 0.8,
        "x": 0.1,
        "y": 0.1
       },
       "content": {
        "cell": "79d044c2-db10-49ff-bc51-02d1180f0003",
        "part": "whole"
       },
       "id": "c17822d4-a07b-42d2-ac3c-a631ac406524"
      }
     }
    },
    "341c51eb-47a3-4499-bc43-ebdb928f6994": {
     "id": "341c51eb-47a3-4499-bc43-ebdb928f6994",
     "prev": "254066b7-2b3a-44c7-9f88-5cb6e6a8464b",
     "regions": {
      "7c25f42e-7359-48cc-9156-54bf330f5c98": {
       "attrs": {
        "height": 0.8,
        "width": 0.8,
        "x": 0.1,
        "y": 0.1
       },
       "content": {
        "cell": "2be522c8-13f7-4717-95e8-5d4eaec0c83e",
        "part": "whole"
       },
       "id": "7c25f42e-7359-48cc-9156-54bf330f5c98"
      },
      "868607d5-be1d-4a97-814a-a529c38de954": {
       "attrs": {
        "height": 0.4,
        "width": 0.8,
        "x": 0.1,
        "y": 0.5
       },
       "content": {
        "cell": "25fa0ef8-82a0-44b4-b342-3e2b3180fc8a",
        "part": "whole"
       },
       "id": "868607d5-be1d-4a97-814a-a529c38de954"
      }
     }
    },
    "3c5e3f2d-22bd-47d7-978c-2cf32550bf55": {
     "id": "3c5e3f2d-22bd-47d7-978c-2cf32550bf55",
     "prev": "0e755e7f-e692-439a-bffc-945f74827e08",
     "regions": {
      "51c7c54a-e0a7-49b7-929f-231f3579bfe1": {
       "attrs": {
        "height": 0.4,
        "width": 0.8,
        "x": 0.1,
        "y": 0.5
       },
       "content": {
        "cell": "8328734e-8cbe-4b98-b43a-b8835f489769",
        "part": "whole"
       },
       "id": "51c7c54a-e0a7-49b7-929f-231f3579bfe1"
      },
      "d0c1f9ee-bfbe-4f27-80e1-b0f952fbacbe": {
       "attrs": {
        "height": 0.8,
        "width": 0.8,
        "x": 0.1,
        "y": 0.1
       },
       "content": {
        "cell": "7a6dc2d2-4e71-45b9-9ccb-c1b22be637d3",
        "part": "whole"
       },
       "id": "d0c1f9ee-bfbe-4f27-80e1-b0f952fbacbe"
      }
     }
    },
    "4057ea57-4632-4ed7-90bb-b9f0a5a86cc8": {
     "id": "4057ea57-4632-4ed7-90bb-b9f0a5a86cc8",
     "prev": "2167bfdc-ce1c-4a56-adb8-d61720026b0f",
     "regions": {
      "2821d469-032f-4c72-a100-3b4132227e53": {
       "attrs": {
        "height": 0.4,
        "width": 0.8,
        "x": 0.1,
        "y": 0.5
       },
       "content": {
        "cell": "1b018447-cb28-4e45-a5f7-722a6752eaea",
        "part": "whole"
       },
       "id": "2821d469-032f-4c72-a100-3b4132227e53"
      },
      "81b61f4d-4bc0-43eb-9c63-eaa26f570dc4": {
       "attrs": {
        "height": 0.8,
        "width": 0.8,
        "x": 0.1,
        "y": 0.1
       },
       "content": {
        "cell": "b6e31605-775b-4c31-87ac-942f90e91578",
        "part": "whole"
       },
       "id": "81b61f4d-4bc0-43eb-9c63-eaa26f570dc4"
      }
     }
    },
    "41373829-327c-4bb4-8bea-65910373c150": {
     "id": "41373829-327c-4bb4-8bea-65910373c150",
     "prev": "9bc813a0-c3cf-47ee-ac01-912b89b95013",
     "regions": {
      "bfaece8d-a0bc-4ef5-bda1-df7628e81b02": {
       "attrs": {
        "height": 0.8,
        "width": 0.8,
        "x": 0.1,
        "y": 0.1
       },
       "content": {
        "cell": "7598ac47-5c0f-4949-9014-74b258e74b7e",
        "part": "whole"
       },
       "id": "bfaece8d-a0bc-4ef5-bda1-df7628e81b02"
      },
      "cd5f7d84-e883-4abf-86d9-4e1fd3cfb11c": {
       "attrs": {
        "height": 0.4,
        "width": 0.8,
        "x": 0.1,
        "y": 0.5
       },
       "content": {
        "cell": "77491c26-ef8d-4661-8fe9-5a52e46df72d",
        "part": "whole"
       },
       "id": "cd5f7d84-e883-4abf-86d9-4e1fd3cfb11c"
      }
     }
    },
    "430178fe-53af-4fae-82e5-c41ca8622303": {
     "id": "430178fe-53af-4fae-82e5-c41ca8622303",
     "prev": "d3c20db8-e92f-4974-98ab-03597dc9a8b3",
     "regions": {
      "1df34326-9cc6-4929-bb06-6065a4941faa": {
       "attrs": {
        "height": 0.8,
        "width": 0.8,
        "x": 0.1,
        "y": 0.1
       },
       "content": {
        "cell": "cc2576c2-1e28-485d-9afd-cccd782c7b10",
        "part": "whole"
       },
       "id": "1df34326-9cc6-4929-bb06-6065a4941faa"
      },
      "f93fab76-edd3-4447-afe3-0471ad0f8310": {
       "attrs": {
        "height": 0.4,
        "width": 0.8,
        "x": 0.1,
        "y": 0.5
       },
       "content": {
        "cell": "cb15698f-e08d-43c6-a723-919daa6fc147",
        "part": "whole"
       },
       "id": "f93fab76-edd3-4447-afe3-0471ad0f8310"
      }
     }
    },
    "4b2070f6-81bb-4250-b4fd-ed992a5ea509": {
     "id": "4b2070f6-81bb-4250-b4fd-ed992a5ea509",
     "prev": "6dc0ccfb-ee26-48b8-8093-bf961d99f892",
     "regions": {
      "f6d7e988-c4a2-4c90-b2ff-a3107a9b9971": {
       "attrs": {
        "height": 0.8,
        "width": 0.8,
        "x": 0.1,
        "y": 0.1
       },
       "content": {
        "cell": "f04caf9f-402d-45a9-b2ce-ba8961bceaff",
        "part": "whole"
       },
       "id": "f6d7e988-c4a2-4c90-b2ff-a3107a9b9971"
      }
     }
    },
    "4c46d9b0-cedf-4299-ad97-1ce380b45733": {
     "id": "4c46d9b0-cedf-4299-ad97-1ce380b45733",
     "prev": "b3e125a3-31f1-4bc4-b9c5-287cb7eae9de",
     "regions": {
      "1815d0e9-acf8-4a63-930b-15ebb83a6a27": {
       "attrs": {
        "height": 0.8,
        "width": 0.8,
        "x": 0.1,
        "y": 0.1
       },
       "content": {
        "cell": "b0ccad3d-5460-4ee7-8b23-976b48b1f524",
        "part": "whole"
       },
       "id": "1815d0e9-acf8-4a63-930b-15ebb83a6a27"
      },
      "7cff814e-9af3-4ac7-871d-c825acc8b754": {
       "attrs": {
        "height": 0.4,
        "width": 0.8,
        "x": 0.1,
        "y": 0.5
       },
       "content": {
        "cell": "bf3498a4-7027-4a24-a6fd-d820ea16090d",
        "part": "whole"
       },
       "id": "7cff814e-9af3-4ac7-871d-c825acc8b754"
      }
     }
    },
    "4f0990d0-fb2c-40dc-8a46-d6d7a975ebd0": {
     "id": "4f0990d0-fb2c-40dc-8a46-d6d7a975ebd0",
     "prev": "66c4d984-5f9c-4870-b86d-3533b7e20b54",
     "regions": {
      "0ea38413-cc21-46ae-80a7-fbde7db5270e": {
       "attrs": {
        "height": 0.4,
        "width": 0.8,
        "x": 0.1,
        "y": 0.5
       },
       "content": {
        "cell": "b382e3df-1e4b-4ea9-91b8-184fad777e26",
        "part": "whole"
       },
       "id": "0ea38413-cc21-46ae-80a7-fbde7db5270e"
      },
      "16fd1abe-4a3a-4a0e-bb0e-b74f2d3820ab": {
       "attrs": {
        "height": 0.8,
        "width": 0.8,
        "x": 0.1,
        "y": 0.1
       },
       "content": {
        "cell": "760ffa28-d5b2-41b5-83fb-907fbd736f0d",
        "part": "whole"
       },
       "id": "16fd1abe-4a3a-4a0e-bb0e-b74f2d3820ab"
      }
     }
    },
    "4f640e92-ac8a-48b4-b548-2d279c3c69f8": {
     "id": "4f640e92-ac8a-48b4-b548-2d279c3c69f8",
     "prev": "65a2119c-ddf6-42d5-861a-ce7a0ee6fd3c",
     "regions": {
      "bf4e43b9-0f71-4813-8a37-14029c59f298": {
       "attrs": {
        "height": 0.4,
        "width": 0.8,
        "x": 0.1,
        "y": 0.5
       },
       "content": {
        "cell": "892abd8d-47a1-473b-98a2-970b65aeb229",
        "part": "whole"
       },
       "id": "bf4e43b9-0f71-4813-8a37-14029c59f298"
      },
      "e66cffae-dc77-4ddf-81e7-65e4ed30b556": {
       "attrs": {
        "height": 0.8,
        "width": 0.8,
        "x": 0.1,
        "y": 0.1
       },
       "content": {
        "cell": "0b5a57e5-ff9c-439c-97f5-a99e6b2f97bf",
        "part": "whole"
       },
       "id": "e66cffae-dc77-4ddf-81e7-65e4ed30b556"
      }
     }
    },
    "533d546d-d6f6-479c-a6f2-d1a4cbd83040": {
     "id": "533d546d-d6f6-479c-a6f2-d1a4cbd83040",
     "prev": "be669f41-3213-4f3f-a9fc-08abfb6fa663",
     "regions": {
      "57b72156-fcd9-4da9-b835-1dadf1e1e614": {
       "attrs": {
        "height": 0.8,
        "width": 0.8,
        "x": 0.1,
        "y": 0.1
       },
       "content": {
        "cell": "e735a834-287f-4e81-9d1a-b64e7ee0e8ac",
        "part": "whole"
       },
       "id": "57b72156-fcd9-4da9-b835-1dadf1e1e614"
      }
     }
    },
    "5d6afa15-fc87-484f-a3fb-9cb869128df5": {
     "id": "5d6afa15-fc87-484f-a3fb-9cb869128df5",
     "prev": "7b4806f6-bc50-4829-abb6-0e0e787c436c",
     "regions": {
      "044ca4a1-5f60-4293-98d4-a47aee0d647a": {
       "attrs": {
        "height": 0.8,
        "width": 0.8,
        "x": 0.1,
        "y": 0.1
       },
       "content": {
        "cell": "ee929cda-2c50-430a-9d94-642c77e9cd98",
        "part": "whole"
       },
       "id": "044ca4a1-5f60-4293-98d4-a47aee0d647a"
      },
      "9c270621-d1f0-4bc6-bb86-0834bc93181b": {
       "attrs": {
        "height": 0.4,
        "width": 0.8,
        "x": 0.1,
        "y": 0.5
       },
       "content": {
        "cell": "a193e959-6f96-4dd5-86a4-ad6c17b8c24f",
        "part": "whole"
       },
       "id": "9c270621-d1f0-4bc6-bb86-0834bc93181b"
      }
     }
    },
    "5d978711-06de-4b1f-a740-fefc0e4f4649": {
     "id": "5d978711-06de-4b1f-a740-fefc0e4f4649",
     "prev": "7af25cad-3fc9-4d8a-bdd8-500d34d6a5dc",
     "regions": {
      "1be8ee08-a80e-41c3-a97b-83b2241b61f3": {
       "attrs": {
        "height": 0.8,
        "width": 0.8,
        "x": 0.1,
        "y": 0.1
       },
       "content": {
        "cell": "a8be13ed-6762-4b4b-9a4d-0d5f6ab31179",
        "part": "whole"
       },
       "id": "1be8ee08-a80e-41c3-a97b-83b2241b61f3"
      },
      "381a35f7-4b1f-4fde-b92e-86fe387dad71": {
       "attrs": {
        "height": 0.4,
        "width": 0.8,
        "x": 0.1,
        "y": 0.5
       },
       "content": {
        "cell": "1d6a4bbe-f68e-4c42-ad89-4cf859b1e2bf",
        "part": "whole"
       },
       "id": "381a35f7-4b1f-4fde-b92e-86fe387dad71"
      }
     }
    },
    "5f121281-527b-400c-96e7-2264a3a68e1a": {
     "id": "5f121281-527b-400c-96e7-2264a3a68e1a",
     "prev": "4c46d9b0-cedf-4299-ad97-1ce380b45733",
     "regions": {
      "c1f2d413-e9ae-4d08-9427-2703d3e10892": {
       "attrs": {
        "height": 0.4,
        "width": 0.8,
        "x": 0.1,
        "y": 0.5
       },
       "content": {
        "cell": "37be52e3-4145-4d71-b6e0-fbc28489f90a",
        "part": "whole"
       },
       "id": "c1f2d413-e9ae-4d08-9427-2703d3e10892"
      },
      "c3ff82f9-fa93-4c38-b821-4cbe53e2dfde": {
       "attrs": {
        "height": 0.8,
        "width": 0.8,
        "x": 0.1,
        "y": 0.1
       },
       "content": {
        "cell": "a2d103c4-f235-4d52-8c66-0275d799c76d",
        "part": "whole"
       },
       "id": "c3ff82f9-fa93-4c38-b821-4cbe53e2dfde"
      }
     }
    },
    "65a2119c-ddf6-42d5-861a-ce7a0ee6fd3c": {
     "id": "65a2119c-ddf6-42d5-861a-ce7a0ee6fd3c",
     "prev": "4057ea57-4632-4ed7-90bb-b9f0a5a86cc8",
     "regions": {
      "4c087efd-d445-487f-a59c-310dbb3d5f17": {
       "attrs": {
        "height": 0.4,
        "width": 0.8,
        "x": 0.1,
        "y": 0.5
       },
       "content": {
        "cell": "4df6abe6-ca73-4218-bddb-79c0601acd3b",
        "part": "whole"
       },
       "id": "4c087efd-d445-487f-a59c-310dbb3d5f17"
      },
      "6d63b5a4-2d3d-485a-ace4-85c4685dedd9": {
       "attrs": {
        "height": 0.8,
        "width": 0.8,
        "x": 0.1,
        "y": 0.1
       },
       "content": {
        "cell": "7b6d44ef-b8e7-4a27-aa5b-8ea660c89e23",
        "part": "whole"
       },
       "id": "6d63b5a4-2d3d-485a-ace4-85c4685dedd9"
      }
     }
    },
    "66c4d984-5f9c-4870-b86d-3533b7e20b54": {
     "id": "66c4d984-5f9c-4870-b86d-3533b7e20b54",
     "prev": "16ec3aac-85b7-4ca1-8691-7add3525a1e7",
     "regions": {
      "924ac538-72e6-446c-8592-49bf0a256e5c": {
       "attrs": {
        "height": 0.4,
        "width": 0.8,
        "x": 0.1,
        "y": 0.5
       },
       "content": {
        "cell": "b6cb02c6-4af1-431c-876d-406390fcc72c",
        "part": "whole"
       },
       "id": "924ac538-72e6-446c-8592-49bf0a256e5c"
      },
      "cf313e24-529b-44c3-b2f1-af4007299060": {
       "attrs": {
        "height": 0.8,
        "width": 0.8,
        "x": 0.1,
        "y": 0.1
       },
       "content": {
        "cell": "da091b53-4458-4035-a97a-e6b6d035407d",
        "part": "whole"
       },
       "id": "cf313e24-529b-44c3-b2f1-af4007299060"
      }
     }
    },
    "67719cf4-0984-4588-80c0-723b575b373f": {
     "id": "67719cf4-0984-4588-80c0-723b575b373f",
     "prev": "08fe3abd-3937-4a09-86c4-4f7435776715",
     "regions": {
      "ab6643f3-02e8-4d05-8b22-b4b49fab1fde": {
       "attrs": {
        "height": 0.8,
        "width": 0.8,
        "x": 0.1,
        "y": 0.1
       },
       "content": {
        "cell": "a8719eb8-6153-4844-b05a-a24f05e626af",
        "part": "whole"
       },
       "id": "ab6643f3-02e8-4d05-8b22-b4b49fab1fde"
      }
     }
    },
    "68eb5c91-3ba9-45f5-b616-2a5bb2fe04e6": {
     "id": "68eb5c91-3ba9-45f5-b616-2a5bb2fe04e6",
     "prev": "fe922701-b655-4964-8ab3-6755b83cda84",
     "regions": {
      "14663928-20c0-434a-bd22-9e0fa40a3357": {
       "attrs": {
        "height": 0.8,
        "width": 0.8,
        "x": 0.1,
        "y": 0.1
       },
       "content": {
        "cell": "7a6a457b-7b30-4a3f-8db3-201f890fb5ba",
        "part": "whole"
       },
       "id": "14663928-20c0-434a-bd22-9e0fa40a3357"
      }
     }
    },
    "697a333f-9b4c-4788-b3a7-76e0b3d86def": {
     "id": "697a333f-9b4c-4788-b3a7-76e0b3d86def",
     "prev": "986222f9-7331-4919-a469-2d3b922ed1b5",
     "regions": {
      "8151cf89-fcc2-423c-b6b8-d035cfeae1e6": {
       "attrs": {
        "height": 0.4,
        "width": 0.8,
        "x": 0.1,
        "y": 0.5
       },
       "content": {
        "cell": "45871347-c029-439a-baa2-2c7e34835f90",
        "part": "whole"
       },
       "id": "8151cf89-fcc2-423c-b6b8-d035cfeae1e6"
      },
      "852c6507-1768-48b4-be42-90bccc3393c2": {
       "attrs": {
        "height": 0.8,
        "width": 0.8,
        "x": 0.1,
        "y": 0.1
       },
       "content": {
        "cell": "7086cbe1-aaf4-4f9a-8a6d-a9bb37d19cde",
        "part": "whole"
       },
       "id": "852c6507-1768-48b4-be42-90bccc3393c2"
      }
     }
    },
    "6dc0ccfb-ee26-48b8-8093-bf961d99f892": {
     "id": "6dc0ccfb-ee26-48b8-8093-bf961d99f892",
     "prev": "4f640e92-ac8a-48b4-b548-2d279c3c69f8",
     "regions": {
      "09a465c9-25a8-42e1-9544-f3f28a7eb51e": {
       "attrs": {
        "height": 0.8,
        "width": 0.8,
        "x": 0.1,
        "y": 0.1
       },
       "content": {
        "cell": "bf50d62c-86bb-424e-bea6-aab5500eed1f",
        "part": "whole"
       },
       "id": "09a465c9-25a8-42e1-9544-f3f28a7eb51e"
      },
      "cf492e10-4f1c-471c-b6e1-ceb60add2478": {
       "attrs": {
        "height": 0.4,
        "width": 0.8,
        "x": 0.1,
        "y": 0.5
       },
       "content": {
        "cell": "ac727591-12b0-4160-9d2d-fafb77b0b9d9",
        "part": "whole"
       },
       "id": "cf492e10-4f1c-471c-b6e1-ceb60add2478"
      }
     }
    },
    "6e5de23d-d13c-47bc-a13b-cd5c2884ad4c": {
     "id": "6e5de23d-d13c-47bc-a13b-cd5c2884ad4c",
     "prev": "0d96d00e-87ef-4eb6-a3cf-1a0619bd6f79",
     "regions": {
      "81775989-ca07-4e9e-a19c-98a65342d3a5": {
       "attrs": {
        "height": 0.4,
        "width": 0.8,
        "x": 0.1,
        "y": 0.5
       },
       "content": {
        "cell": "efd5211c-4981-4f3c-80ab-1365a18a4d44",
        "part": "whole"
       },
       "id": "81775989-ca07-4e9e-a19c-98a65342d3a5"
      },
      "fd83671d-4f6b-401c-a77f-d15c806aa353": {
       "attrs": {
        "height": 0.8,
        "width": 0.8,
        "x": 0.1,
        "y": 0.1
       },
       "content": {
        "cell": "2353e1fd-4d2a-4d5d-8381-52060a1fa377",
        "part": "whole"
       },
       "id": "fd83671d-4f6b-401c-a77f-d15c806aa353"
      }
     }
    },
    "74ae3b2a-e2d0-4bc8-9318-953cc9843103": {
     "id": "74ae3b2a-e2d0-4bc8-9318-953cc9843103",
     "prev": "b4393db7-bb37-483f-8829-3e3b84e6ee86",
     "regions": {
      "70da2b89-9c19-43a9-8df3-ec985c93d35b": {
       "attrs": {
        "height": 0.4,
        "width": 0.8,
        "x": 0.1,
        "y": 0.5
       },
       "content": {
        "cell": "15a1c398-1938-4274-bead-e601597df175",
        "part": "whole"
       },
       "id": "70da2b89-9c19-43a9-8df3-ec985c93d35b"
      },
      "a207d407-e324-47bd-9d93-f68675e63b3b": {
       "attrs": {
        "height": 0.8,
        "width": 0.8,
        "x": 0.1,
        "y": 0.1
       },
       "content": {
        "cell": "54e08070-5edc-457f-b9b0-90a89dea212e",
        "part": "whole"
       },
       "id": "a207d407-e324-47bd-9d93-f68675e63b3b"
      }
     }
    },
    "770cd54d-677e-4319-a343-287a7a585ecc": {
     "id": "770cd54d-677e-4319-a343-287a7a585ecc",
     "prev": "321c02dc-db1d-4643-a777-80fca0b78757",
     "regions": {
      "361e794b-a2b1-4b94-8a3c-9980bc32651a": {
       "attrs": {
        "height": 0.4,
        "width": 0.8,
        "x": 0.1,
        "y": 0.5
       },
       "content": {
        "cell": "3a7cc6f0-9776-435d-88a6-f4e7f3801bfc",
        "part": "whole"
       },
       "id": "361e794b-a2b1-4b94-8a3c-9980bc32651a"
      },
      "92cf978b-0773-448b-8b81-7e7bdf6e2225": {
       "attrs": {
        "height": 0.8,
        "width": 0.8,
        "x": 0.1,
        "y": 0.1
       },
       "content": {
        "cell": "30456d43-0d16-4b73-a7e8-4ebe35141314",
        "part": "whole"
       },
       "id": "92cf978b-0773-448b-8b81-7e7bdf6e2225"
      }
     }
    },
    "79dec1d8-683e-45ae-bfb6-16dc42304112": {
     "id": "79dec1d8-683e-45ae-bfb6-16dc42304112",
     "prev": "41373829-327c-4bb4-8bea-65910373c150",
     "regions": {
      "1ae2fdd7-f047-4366-9c14-0e942ef0e257": {
       "attrs": {
        "height": 0.4,
        "width": 0.8,
        "x": 0.1,
        "y": 0.5
       },
       "content": {
        "cell": "d81d4103-af11-47d7-a13f-36a183a6daf5",
        "part": "whole"
       },
       "id": "1ae2fdd7-f047-4366-9c14-0e942ef0e257"
      },
      "583481a9-461b-48a2-a714-5d3551fae5e9": {
       "attrs": {
        "height": 0.8,
        "width": 0.8,
        "x": 0.1,
        "y": 0.1
       },
       "content": {
        "cell": "75b6d5d8-b69f-4855-8002-bf6ba2e31ae0",
        "part": "whole"
       },
       "id": "583481a9-461b-48a2-a714-5d3551fae5e9"
      }
     }
    },
    "7acf818f-8141-4b08-ae34-cd29b73fdad2": {
     "id": "7acf818f-8141-4b08-ae34-cd29b73fdad2",
     "prev": "feaa832c-9426-49eb-b407-c5d4c497ae23",
     "regions": {
      "5def56b8-98f6-4e4d-b4c5-2d3a9912b12e": {
       "attrs": {
        "height": 0.4,
        "width": 0.8,
        "x": 0.1,
        "y": 0.5
       },
       "content": {
        "cell": "d072c717-b416-4d8f-9509-5f2ea134c172",
        "part": "whole"
       },
       "id": "5def56b8-98f6-4e4d-b4c5-2d3a9912b12e"
      },
      "7172107c-a926-441d-b9ab-d3a9a38a9d6c": {
       "attrs": {
        "height": 0.8,
        "width": 0.8,
        "x": 0.1,
        "y": 0.1
       },
       "content": {
        "cell": "78571a49-ab4b-41ae-beee-845440733d30",
        "part": "whole"
       },
       "id": "7172107c-a926-441d-b9ab-d3a9a38a9d6c"
      }
     }
    },
    "7af25cad-3fc9-4d8a-bdd8-500d34d6a5dc": {
     "id": "7af25cad-3fc9-4d8a-bdd8-500d34d6a5dc",
     "prev": "b7ee0244-8cf6-427d-8fb6-31cd5d456178",
     "regions": {
      "29d78221-c4c5-4ed6-acfa-51e21a1c2505": {
       "attrs": {
        "height": 0.4,
        "width": 0.8,
        "x": 0.1,
        "y": 0.5
       },
       "content": {
        "cell": "4d656215-9543-49eb-b4b0-c4186dede21e",
        "part": "whole"
       },
       "id": "29d78221-c4c5-4ed6-acfa-51e21a1c2505"
      },
      "6ac8c9f4-db2d-4639-8bde-35087c24b9f7": {
       "attrs": {
        "height": 0.8,
        "width": 0.8,
        "x": 0.1,
        "y": 0.1
       },
       "content": {
        "cell": "47eccfb0-9be5-43ce-93e3-be6f4cb416e4",
        "part": "whole"
       },
       "id": "6ac8c9f4-db2d-4639-8bde-35087c24b9f7"
      },
      "6e64afa5-4409-4530-a2c5-ff34ac96e0fc": {
       "attrs": {
        "height": 0.4,
        "width": 0.8,
        "x": 0.1,
        "y": 0.5
       },
       "content": {
        "cell": "478bbf1f-445f-40f5-a2e0-3902e500fc7d",
        "part": "whole"
       },
       "id": "6e64afa5-4409-4530-a2c5-ff34ac96e0fc"
      },
      "c036f53d-de5c-4dc9-9814-9e1e8af165bf": {
       "attrs": {
        "height": 0.4,
        "width": 0.8,
        "x": 0.1,
        "y": 0.5
       },
       "content": {
        "cell": "b17279ee-e70e-4969-9d13-8c4b13f637d1",
        "part": "whole"
       },
       "id": "c036f53d-de5c-4dc9-9814-9e1e8af165bf"
      }
     }
    },
    "7b4806f6-bc50-4829-abb6-0e0e787c436c": {
     "id": "7b4806f6-bc50-4829-abb6-0e0e787c436c",
     "prev": "87800ada-8d33-41e4-9d1e-478299fe5793",
     "regions": {
      "089b4f07-ce26-4959-94ca-514473206e24": {
       "attrs": {
        "height": 0.8,
        "width": 0.8,
        "x": 0.1,
        "y": 0.1
       },
       "content": {
        "cell": "524f98fa-2c2f-4d14-96ce-ee8742199809",
        "part": "whole"
       },
       "id": "089b4f07-ce26-4959-94ca-514473206e24"
      },
      "2cc5c6b5-d20f-422a-8b0b-418a64aadc73": {
       "attrs": {
        "height": 0.4,
        "width": 0.8,
        "x": 0.1,
        "y": 0.5
       },
       "content": {
        "cell": "95eb1de3-9ef9-4168-abea-7bd45f07db24",
        "part": "whole"
       },
       "id": "2cc5c6b5-d20f-422a-8b0b-418a64aadc73"
      },
      "7f11a1c7-6fb7-4f07-8d21-4e1589d25234": {
       "attrs": {
        "height": 0.4,
        "width": 0.8,
        "x": 0.1,
        "y": 0.5
       },
       "content": {
        "cell": "80d75a09-a08a-4710-ba09-08dc2f2b4f55",
        "part": "whole"
       },
       "id": "7f11a1c7-6fb7-4f07-8d21-4e1589d25234"
      }
     }
    },
    "7d0f53f3-3b3b-4e82-86fe-c4aee665ab37": {
     "id": "7d0f53f3-3b3b-4e82-86fe-c4aee665ab37",
     "prev": "533d546d-d6f6-479c-a6f2-d1a4cbd83040",
     "regions": {
      "09fc4315-6358-4299-a90f-0ebbf31fa353": {
       "attrs": {
        "height": 0.8,
        "width": 0.8,
        "x": 0.1,
        "y": 0.1
       },
       "content": {
        "cell": "9d5c5584-a349-429b-a372-c32c027e8f95",
        "part": "whole"
       },
       "id": "09fc4315-6358-4299-a90f-0ebbf31fa353"
      }
     }
    },
    "7f0deecd-75c6-460b-97b9-c2c97ba32edf": {
     "id": "7f0deecd-75c6-460b-97b9-c2c97ba32edf",
     "prev": "dda4fc9b-4bb3-45d6-9135-b287621a8f7b",
     "regions": {
      "0ccfa518-e614-4af4-9045-4f4fa71d600d": {
       "attrs": {
        "height": 0.4,
        "width": 0.8,
        "x": 0.1,
        "y": 0.5
       },
       "content": {
        "cell": "9241973a-1d27-485c-ae77-6dd1b01ba4d0",
        "part": "whole"
       },
       "id": "0ccfa518-e614-4af4-9045-4f4fa71d600d"
      },
      "104f0947-b01d-424d-b545-4d75a02a1cf9": {
       "attrs": {
        "height": 0.4,
        "width": 0.8,
        "x": 0.1,
        "y": 0.5
       },
       "content": {
        "cell": "23656051-edf3-42b7-84de-61f0a8f2bc60",
        "part": "whole"
       },
       "id": "104f0947-b01d-424d-b545-4d75a02a1cf9"
      },
      "1506a7db-518c-48d2-a276-42d837bb1208": {
       "attrs": {
        "height": 0.4,
        "width": 0.8,
        "x": 0.1,
        "y": 0.5
       },
       "content": {
        "cell": "fc60f749-4995-4fa8-b547-f625412ea886",
        "part": "whole"
       },
       "id": "1506a7db-518c-48d2-a276-42d837bb1208"
      },
      "271fe33c-ce9c-4ab4-bb24-e40b6f67a01b": {
       "attrs": {
        "height": 0.4,
        "width": 0.8,
        "x": 0.1,
        "y": 0.5
       },
       "content": {
        "cell": "679581fc-6d39-46e5-a888-90c13eed3163",
        "part": "whole"
       },
       "id": "271fe33c-ce9c-4ab4-bb24-e40b6f67a01b"
      },
      "436f84ad-0265-4df1-87e5-3bea6fa8177b": {
       "attrs": {
        "height": 0.4,
        "width": 0.8,
        "x": 0.1,
        "y": 0.5
       },
       "content": {
        "cell": "9cf46280-f7bd-41c2-8d66-a4223e0a8c19",
        "part": "whole"
       },
       "id": "436f84ad-0265-4df1-87e5-3bea6fa8177b"
      },
      "58dc198b-3e39-467f-b9ca-e1de79a38d00": {
       "attrs": {
        "height": 0.4,
        "width": 0.8,
        "x": 0.1,
        "y": 0.5
       },
       "content": {
        "cell": "259b36e9-0431-4282-8607-3ea457a5db6d",
        "part": "whole"
       },
       "id": "58dc198b-3e39-467f-b9ca-e1de79a38d00"
      },
      "7ce1d0ba-bca5-499b-8d7e-dc31fb7ac81c": {
       "attrs": {
        "height": 0.4,
        "width": 0.8,
        "x": 0.1,
        "y": 0.5
       },
       "content": {
        "cell": "47488c96-9ea5-4886-b8b4-c239c374a25a",
        "part": "whole"
       },
       "id": "7ce1d0ba-bca5-499b-8d7e-dc31fb7ac81c"
      },
      "8f7d987b-db76-48b8-a616-9454791a23d6": {
       "attrs": {
        "height": 0.4,
        "width": 0.8,
        "x": 0.1,
        "y": 0.5
       },
       "content": {
        "cell": "e0e53657-b022-4bfd-9ad9-f49174d24bce",
        "part": "whole"
       },
       "id": "8f7d987b-db76-48b8-a616-9454791a23d6"
      },
      "cd606ed4-c12b-4960-aed7-6fe01943fe08": {
       "attrs": {
        "height": 0.4,
        "width": 0.8,
        "x": 0.1,
        "y": 0.5
       },
       "content": {
        "cell": "ff5162e1-60f4-47ce-9d02-025f32b63cd6",
        "part": "whole"
       },
       "id": "cd606ed4-c12b-4960-aed7-6fe01943fe08"
      },
      "e9b1199c-a06a-49e3-8ec5-22ebdcd5c3f0": {
       "attrs": {
        "height": 0.4,
        "width": 0.8,
        "x": 0.1,
        "y": 0.5
       },
       "content": {
        "cell": "1964b9c6-8f13-4054-af3b-e7ef0c6357b1",
        "part": "whole"
       },
       "id": "e9b1199c-a06a-49e3-8ec5-22ebdcd5c3f0"
      },
      "f88ec707-c925-455c-a7a2-75683a1f845a": {
       "attrs": {
        "height": 0.8,
        "width": 0.8,
        "x": 0.1,
        "y": 0.1
       },
       "content": {
        "cell": "99c97535-f032-4b12-84b7-ff9d98827f93",
        "part": "whole"
       },
       "id": "f88ec707-c925-455c-a7a2-75683a1f845a"
      }
     }
    },
    "81196006-39bc-479a-b6fd-4f903601a2f9": {
     "id": "81196006-39bc-479a-b6fd-4f903601a2f9",
     "prev": "c3ebe8e0-16a8-4ecd-84f9-337c1dfbc4d0",
     "regions": {
      "468be409-56ee-4d55-84a6-4e409c3d260b": {
       "attrs": {
        "height": 0.4,
        "width": 0.8,
        "x": 0.1,
        "y": 0.5
       },
       "content": {
        "cell": "8448e163-d211-46f3-b45d-13a1f4df9466",
        "part": "whole"
       },
       "id": "468be409-56ee-4d55-84a6-4e409c3d260b"
      },
      "46e79df7-1ed8-4deb-bde4-6f0be3d15b20": {
       "attrs": {
        "height": 0.8,
        "width": 0.8,
        "x": 0.1,
        "y": 0.1
       },
       "content": {
        "cell": "79d6a3be-2b6a-4a32-9112-b53fee3059f0",
        "part": "whole"
       },
       "id": "46e79df7-1ed8-4deb-bde4-6f0be3d15b20"
      }
     }
    },
    "87800ada-8d33-41e4-9d1e-478299fe5793": {
     "id": "87800ada-8d33-41e4-9d1e-478299fe5793",
     "prev": "e70a7b3f-a850-4245-bd0e-ce695a6db771",
     "regions": {
      "f2ab075d-3d67-46c2-b2c8-e2dd8d1618d9": {
       "attrs": {
        "height": 0.8,
        "width": 0.8,
        "x": 0.1,
        "y": 0.1
       },
       "content": {
        "cell": "c8008947-3abe-4664-a3fa-ba58c0d8d38f",
        "part": "whole"
       },
       "id": "f2ab075d-3d67-46c2-b2c8-e2dd8d1618d9"
      }
     }
    },
    "8fa28a75-9bf0-4eb6-9f73-760ac5647295": {
     "id": "8fa28a75-9bf0-4eb6-9f73-760ac5647295",
     "prev": "171686f2-4068-4bca-9ab4-6c06d8f37cf8",
     "regions": {
      "a6fb75ab-858a-4ab8-a57b-49e4b2d21d86": {
       "attrs": {
        "height": 0.8,
        "width": 0.8,
        "x": 0.1,
        "y": 0.1
       },
       "content": {
        "cell": "ecdb5d6d-23d6-47bb-9575-740163ff99cf",
        "part": "whole"
       },
       "id": "a6fb75ab-858a-4ab8-a57b-49e4b2d21d86"
      },
      "e840a9e7-5426-4e64-8d1e-443dae6865f5": {
       "attrs": {
        "height": 0.4,
        "width": 0.8,
        "x": 0.1,
        "y": 0.5
       },
       "content": {
        "cell": "e487343a-6486-4b6f-b416-ad7a02f840f5",
        "part": "whole"
       },
       "id": "e840a9e7-5426-4e64-8d1e-443dae6865f5"
      }
     }
    },
    "90a93547-4fcf-46f8-8421-346bcee67bb2": {
     "id": "90a93547-4fcf-46f8-8421-346bcee67bb2",
     "prev": "a356b0d7-7a36-40b2-b16f-7b71ad731034",
     "regions": {
      "24683916-c479-442b-803c-85c5933fcda6": {
       "attrs": {
        "height": 0.8,
        "width": 0.8,
        "x": 0.1,
        "y": 0.1
       },
       "content": {
        "cell": "81f3f47a-26fb-4c3e-bdcb-b0e7c2c47d2a",
        "part": "whole"
       },
       "id": "24683916-c479-442b-803c-85c5933fcda6"
      }
     }
    },
    "919f9e01-7f12-4259-8136-4a43b4079e13": {
     "id": "919f9e01-7f12-4259-8136-4a43b4079e13",
     "prev": "67719cf4-0984-4588-80c0-723b575b373f",
     "regions": {
      "c9418338-f927-4137-b7e7-f7debb2d2afd": {
       "attrs": {
        "height": 0.8,
        "width": 0.8,
        "x": 0.1,
        "y": 0.1
       },
       "content": {
        "cell": "0698ee37-2d5a-4ea8-bab1-59c07b37bd70",
        "part": "whole"
       },
       "id": "c9418338-f927-4137-b7e7-f7debb2d2afd"
      }
     }
    },
    "96898e00-b348-453c-8cbd-42e3efd2ce10": {
     "id": "96898e00-b348-453c-8cbd-42e3efd2ce10",
     "prev": "d40a0bdc-d952-4a2b-a856-25cf9df1ede3",
     "regions": {
      "c434edd0-8b97-48b9-ad6d-049312aebbc2": {
       "attrs": {
        "height": 0.4,
        "width": 0.8,
        "x": 0.1,
        "y": 0.5
       },
       "content": {
        "cell": "3d207559-1bc4-46f7-9c93-3878aa0bba7c",
        "part": "whole"
       },
       "id": "c434edd0-8b97-48b9-ad6d-049312aebbc2"
      },
      "f2ce8c19-9a20-44fd-bdc5-2cda412c413e": {
       "attrs": {
        "height": 0.8,
        "width": 0.8,
        "x": 0.1,
        "y": 0.1
       },
       "content": {
        "cell": "8d2cb714-7a79-457f-aae3-33d5fdf11dbb",
        "part": "whole"
       },
       "id": "f2ce8c19-9a20-44fd-bdc5-2cda412c413e"
      }
     }
    },
    "986222f9-7331-4919-a469-2d3b922ed1b5": {
     "id": "986222f9-7331-4919-a469-2d3b922ed1b5",
     "prev": "a5d54640-0fb5-4871-a6d1-ef8ca1a88d34",
     "regions": {
      "02e68f80-5c25-4da8-8fe8-e7f77587a448": {
       "attrs": {
        "height": 0.4,
        "width": 0.8,
        "x": 0.1,
        "y": 0.5
       },
       "content": {
        "cell": "a83b638e-afd6-4a82-b190-95cad572f97b",
        "part": "whole"
       },
       "id": "02e68f80-5c25-4da8-8fe8-e7f77587a448"
      },
      "304638bf-1f38-4d1d-ad4f-7415bbbb4c84": {
       "attrs": {
        "height": 0.8,
        "width": 0.8,
        "x": 0.1,
        "y": 0.1
       },
       "content": {
        "cell": "5132b072-6041-4c43-85c8-64ff0644ba1b",
        "part": "whole"
       },
       "id": "304638bf-1f38-4d1d-ad4f-7415bbbb4c84"
      }
     }
    },
    "99f1e723-70a0-45c7-9bc4-0723001a6598": {
     "id": "99f1e723-70a0-45c7-9bc4-0723001a6598",
     "prev": "7f0deecd-75c6-460b-97b9-c2c97ba32edf",
     "regions": {
      "b1e2bde6-4253-4376-88b9-c795eece64fe": {
       "attrs": {
        "height": 0.8,
        "width": 0.8,
        "x": 0.1,
        "y": 0.1
       },
       "content": {
        "cell": "73b132da-a299-4537-87a4-e1d3a41f73e3",
        "part": "whole"
       },
       "id": "b1e2bde6-4253-4376-88b9-c795eece64fe"
      }
     }
    },
    "9b4dd583-2c0c-4501-b78f-4250b9658560": {
     "id": "9b4dd583-2c0c-4501-b78f-4250b9658560",
     "prev": "5d978711-06de-4b1f-a740-fefc0e4f4649",
     "regions": {
      "1007fce3-e7a8-4fd8-9d1d-4537127b63a0": {
       "attrs": {
        "height": 0.8,
        "width": 0.8,
        "x": 0.1,
        "y": 0.1
       },
       "content": {
        "cell": "06d7919c-8575-4211-b59d-291949cff1fa",
        "part": "whole"
       },
       "id": "1007fce3-e7a8-4fd8-9d1d-4537127b63a0"
      },
      "14979453-1c3c-4bf3-bb9f-0a930c24b3d5": {
       "attrs": {
        "height": 0.4,
        "width": 0.8,
        "x": 0.1,
        "y": 0.5
       },
       "content": {
        "cell": "c3d44925-6068-4531-aeef-e19317e8a2e3",
        "part": "whole"
       },
       "id": "14979453-1c3c-4bf3-bb9f-0a930c24b3d5"
      }
     }
    },
    "9b541612-7617-4684-b3f7-223d12fc43af": {
     "id": "9b541612-7617-4684-b3f7-223d12fc43af",
     "prev": "e85f4e76-0b98-4ad0-814c-0bf77489d464",
     "regions": {
      "3f472249-3e8a-4d38-8f7b-8bb0cdeeba6e": {
       "attrs": {
        "height": 0.8,
        "width": 0.8,
        "x": 0.1,
        "y": 0.1
       },
       "content": {
        "cell": "c69a0b3a-36a6-4a40-b88c-5be882ed0ab9",
        "part": "whole"
       },
       "id": "3f472249-3e8a-4d38-8f7b-8bb0cdeeba6e"
      },
      "5fbb46f9-6d5c-4169-beff-f54d235e2cc0": {
       "attrs": {
        "height": 0.4,
        "width": 0.8,
        "x": 0.1,
        "y": 0.5
       },
       "content": {
        "cell": "11b54b47-6622-400f-8e68-5017d3c24f35",
        "part": "whole"
       },
       "id": "5fbb46f9-6d5c-4169-beff-f54d235e2cc0"
      },
      "6768f97d-ca1e-4fa9-a732-ca2d7e7a4d6f": {
       "attrs": {
        "height": 0.4,
        "width": 0.8,
        "x": 0.1,
        "y": 0.5
       },
       "content": {
        "cell": "8f8ceed2-0be7-48a4-ba04-3b897e62d161",
        "part": "whole"
       },
       "id": "6768f97d-ca1e-4fa9-a732-ca2d7e7a4d6f"
      }
     }
    },
    "9b88eb95-6f04-46e7-9597-9f3339fc1a4a": {
     "id": "9b88eb95-6f04-46e7-9597-9f3339fc1a4a",
     "prev": "9b541612-7617-4684-b3f7-223d12fc43af",
     "regions": {
      "3d060c40-ce3f-4bf7-bcf4-a1d0e9f9eb7a": {
       "attrs": {
        "height": 0.8,
        "width": 0.8,
        "x": 0.1,
        "y": 0.1
       },
       "content": {
        "cell": "fe5214ab-0f23-488c-a85e-9b5ec1e185b0",
        "part": "whole"
       },
       "id": "3d060c40-ce3f-4bf7-bcf4-a1d0e9f9eb7a"
      },
      "54599818-0e28-4f61-9fd7-c18fafd4fbea": {
       "attrs": {
        "height": 0.4,
        "width": 0.8,
        "x": 0.1,
        "y": 0.5
       },
       "content": {
        "cell": "10591f83-b4ec-4f35-97d3-7ad4120b2a7d",
        "part": "whole"
       },
       "id": "54599818-0e28-4f61-9fd7-c18fafd4fbea"
      }
     }
    },
    "9b8cb498-e3c2-4f51-b0db-d264cc87729b": {
     "id": "9b8cb498-e3c2-4f51-b0db-d264cc87729b",
     "prev": "5d6afa15-fc87-484f-a3fb-9cb869128df5",
     "regions": {
      "1ff69dbc-9ce6-4d81-82f6-6e1aa9b1b835": {
       "attrs": {
        "height": 0.8,
        "width": 0.8,
        "x": 0.1,
        "y": 0.1
       },
       "content": {
        "cell": "ffcb8abb-c1c5-45b9-8676-217663570d22",
        "part": "whole"
       },
       "id": "1ff69dbc-9ce6-4d81-82f6-6e1aa9b1b835"
      },
      "87b5ce20-1619-47a5-a09a-276f16627bd5": {
       "attrs": {
        "height": 0.4,
        "width": 0.8,
        "x": 0.1,
        "y": 0.5
       },
       "content": {
        "cell": "df3f77a6-a817-4757-825c-6d15fa210571",
        "part": "whole"
       },
       "id": "87b5ce20-1619-47a5-a09a-276f16627bd5"
      }
     }
    },
    "9bc813a0-c3cf-47ee-ac01-912b89b95013": {
     "id": "9bc813a0-c3cf-47ee-ac01-912b89b95013",
     "prev": "08a6ad9c-7e69-4ebc-bd41-456ab123e616",
     "regions": {
      "75773bfc-ba6a-4c2b-9e34-27042ad97e3c": {
       "attrs": {
        "height": 0.4,
        "width": 0.8,
        "x": 0.1,
        "y": 0.5
       },
       "content": {
        "cell": "3803f1e1-1225-4f60-aaa3-819ef238f1c1",
        "part": "whole"
       },
       "id": "75773bfc-ba6a-4c2b-9e34-27042ad97e3c"
      },
      "bbf368e2-19f3-411e-9de2-8e1339118552": {
       "attrs": {
        "height": 0.8,
        "width": 0.8,
        "x": 0.1,
        "y": 0.1
       },
       "content": {
        "cell": "c6daafbb-d715-4f78-be65-bc90615c2e2e",
        "part": "whole"
       },
       "id": "bbf368e2-19f3-411e-9de2-8e1339118552"
      }
     }
    },
    "a2007984-dd2a-44a7-a132-3af4e88e429a": {
     "id": "a2007984-dd2a-44a7-a132-3af4e88e429a",
     "prev": "cbfd7b77-067e-46b1-89cf-03ffd094e365",
     "regions": {
      "a12d7e4e-bf91-473c-9490-3532720edcf9": {
       "attrs": {
        "height": 0.4,
        "width": 0.8,
        "x": 0.1,
        "y": 0.5
       },
       "content": {
        "cell": "9902722a-b9ee-4aff-a24d-67e94178641d",
        "part": "whole"
       },
       "id": "a12d7e4e-bf91-473c-9490-3532720edcf9"
      },
      "b6bc329d-8545-4c90-b52e-6222fc723810": {
       "attrs": {
        "height": 0.8,
        "width": 0.8,
        "x": 0.1,
        "y": 0.1
       },
       "content": {
        "cell": "b60eba57-eab4-4d04-b9da-cb93efe14de5",
        "part": "whole"
       },
       "id": "b6bc329d-8545-4c90-b52e-6222fc723810"
      }
     }
    },
    "a2b5dcd7-e1df-4e48-8e3f-b8f7678d02ef": {
     "id": "a2b5dcd7-e1df-4e48-8e3f-b8f7678d02ef",
     "prev": "26666dad-b857-4a4f-9d7d-f972e87bb83a",
     "regions": {
      "11b17907-5947-4ace-9afc-2e6a601b06fd": {
       "attrs": {
        "height": 0.8,
        "width": 0.8,
        "x": 0.1,
        "y": 0.1
       },
       "content": {
        "cell": "6f8ab9f9-ec8a-435e-a78a-35647037fa39",
        "part": "whole"
       },
       "id": "11b17907-5947-4ace-9afc-2e6a601b06fd"
      }
     }
    },
    "a356b0d7-7a36-40b2-b16f-7b71ad731034": {
     "id": "a356b0d7-7a36-40b2-b16f-7b71ad731034",
     "prev": "6e5de23d-d13c-47bc-a13b-cd5c2884ad4c",
     "regions": {
      "9107fb7e-603a-48f2-9d5c-6328b8707123": {
       "attrs": {
        "height": 0.8,
        "width": 0.8,
        "x": 0.1,
        "y": 0.1
       },
       "content": {
        "cell": "5b128f17-f3e5-4f70-b4a1-b1962272ffac",
        "part": "whole"
       },
       "id": "9107fb7e-603a-48f2-9d5c-6328b8707123"
      }
     }
    },
    "a5d54640-0fb5-4871-a6d1-ef8ca1a88d34": {
     "id": "a5d54640-0fb5-4871-a6d1-ef8ca1a88d34",
     "prev": "4f0990d0-fb2c-40dc-8a46-d6d7a975ebd0",
     "regions": {
      "5d1d3a89-566a-4379-a9ae-5b33c4944b38": {
       "attrs": {
        "height": 0.8,
        "width": 0.8,
        "x": 0.1,
        "y": 0.1
       },
       "content": {
        "cell": "c7cd4a68-ed32-4df8-93f3-97f965e7203e",
        "part": "whole"
       },
       "id": "5d1d3a89-566a-4379-a9ae-5b33c4944b38"
      },
      "c0d1e600-eb21-41a1-8ca4-2f72c587b6b6": {
       "attrs": {
        "height": 0.4,
        "width": 0.8,
        "x": 0.1,
        "y": 0.5
       },
       "content": {
        "cell": "c46b912e-7881-4049-af73-56f7872956d8",
        "part": "whole"
       },
       "id": "c0d1e600-eb21-41a1-8ca4-2f72c587b6b6"
      }
     }
    },
    "a633119a-3329-4927-96e1-e086458e25e9": {
     "id": "a633119a-3329-4927-96e1-e086458e25e9",
     "prev": "e578cc9f-bfe3-4245-bd5e-513be397cb44",
     "regions": {
      "4ce88063-a70c-4519-ae12-5335d424ee6e": {
       "attrs": {
        "height": 0.4,
        "width": 0.8,
        "x": 0.1,
        "y": 0.5
       },
       "content": {
        "cell": "f4fd41a4-dc05-4bcc-b278-37d97180d78a",
        "part": "whole"
       },
       "id": "4ce88063-a70c-4519-ae12-5335d424ee6e"
      },
      "729253ea-ccf6-45cf-992b-09f4da80c71b": {
       "attrs": {
        "height": 0.4,
        "width": 0.8,
        "x": 0.1,
        "y": 0.5
       },
       "content": {
        "cell": "c0c5198e-5c2c-41a5-8aeb-9cce6d2bf22a",
        "part": "whole"
       },
       "id": "729253ea-ccf6-45cf-992b-09f4da80c71b"
      },
      "a7f6b2dc-6f7d-4512-8522-118997d6e194": {
       "attrs": {
        "height": 0.8,
        "width": 0.8,
        "x": 0.1,
        "y": 0.1
       },
       "content": {
        "cell": "5d1bbb86-4596-44a3-b500-c70e1bd88fc6",
        "part": "whole"
       },
       "id": "a7f6b2dc-6f7d-4512-8522-118997d6e194"
      }
     }
    },
    "a660b06b-1c81-4b40-80ab-2502b612ffd2": {
     "id": "a660b06b-1c81-4b40-80ab-2502b612ffd2",
     "prev": "68eb5c91-3ba9-45f5-b616-2a5bb2fe04e6",
     "regions": {
      "b5a26bc7-11cc-4bd3-a6dc-30eecc878d8e": {
       "attrs": {
        "height": 0.8,
        "width": 0.8,
        "x": 0.1,
        "y": 0.1
       },
       "content": {
        "cell": "87e920d6-46ba-46e3-8fed-60c96cc34eca",
        "part": "whole"
       },
       "id": "b5a26bc7-11cc-4bd3-a6dc-30eecc878d8e"
      }
     }
    },
    "a9c65e87-79f4-4f3a-8fc2-fc2b6ce06736": {
     "id": "a9c65e87-79f4-4f3a-8fc2-fc2b6ce06736",
     "prev": "f9cc77e3-651f-42a6-a193-25736de41da1",
     "regions": {
      "5ee886cb-2ffc-4b3a-b29f-de8ed4f45f08": {
       "attrs": {
        "height": 0.8,
        "width": 0.8,
        "x": 0.1,
        "y": 0.1
       },
       "content": {
        "cell": "9c209977-0f46-4277-ad11-2887d323682b",
        "part": "whole"
       },
       "id": "5ee886cb-2ffc-4b3a-b29f-de8ed4f45f08"
      },
      "ff55df8d-c079-40b6-8994-c0f215ecff09": {
       "attrs": {
        "height": 0.4,
        "width": 0.8,
        "x": 0.1,
        "y": 0.5
       },
       "content": {
        "cell": "40abe466-ad0a-4328-9a64-263619a12af5",
        "part": "whole"
       },
       "id": "ff55df8d-c079-40b6-8994-c0f215ecff09"
      }
     }
    },
    "aba45d66-8be8-4576-9f1e-29b3bb8495e1": {
     "id": "aba45d66-8be8-4576-9f1e-29b3bb8495e1",
     "prev": "acb12fa1-8823-4969-9f10-6684840a6952",
     "regions": {
      "1b042438-5227-4e61-8fce-4095568ba116": {
       "attrs": {
        "height": 0.8,
        "width": 0.8,
        "x": 0.1,
        "y": 0.1
       },
       "content": {
        "cell": "33db553d-9e78-418c-b0b9-e449579b3596",
        "part": "whole"
       },
       "id": "1b042438-5227-4e61-8fce-4095568ba116"
      }
     }
    },
    "abf7afd4-16ed-4f7a-ac6f-cbafd1f86fb9": {
     "id": "abf7afd4-16ed-4f7a-ac6f-cbafd1f86fb9",
     "prev": "e4d645d0-73ab-478d-bfb7-6e5533c1ee38",
     "regions": {
      "5e6ca1f3-c0df-4e22-806c-f47c480c0b76": {
       "attrs": {
        "height": 0.8,
        "width": 0.8,
        "x": 0.1,
        "y": 0.1
       },
       "content": {
        "cell": "fc3c0dd6-e7f1-48ff-9efd-be4a5a5e4e87",
        "part": "whole"
       },
       "id": "5e6ca1f3-c0df-4e22-806c-f47c480c0b76"
      }
     }
    },
    "acb12fa1-8823-4969-9f10-6684840a6952": {
     "id": "acb12fa1-8823-4969-9f10-6684840a6952",
     "prev": "bc6e2e83-18fa-42a5-b6b7-e75bf14eb71f",
     "regions": {
      "a5ff2cfa-24f7-474c-bbbc-02e18dcc669a": {
       "attrs": {
        "height": 0.8,
        "width": 0.8,
        "x": 0.1,
        "y": 0.1
       },
       "content": {
        "cell": "8c4faeff-edc0-4ac7-99e0-a220e02de7c5",
        "part": "whole"
       },
       "id": "a5ff2cfa-24f7-474c-bbbc-02e18dcc669a"
      }
     }
    },
    "afc53aee-94c2-43d6-b5c2-60b06de4fcc1": {
     "id": "afc53aee-94c2-43d6-b5c2-60b06de4fcc1",
     "prev": "b2ddb905-71ce-4266-86f2-43ed0497df68",
     "regions": {
      "a074c448-778c-4c14-a8bc-4807d4fabcc2": {
       "attrs": {
        "height": 0.4,
        "width": 0.8,
        "x": 0.1,
        "y": 0.5
       },
       "content": {
        "cell": "83561989-7f8b-456d-955a-093492ed79d1",
        "part": "whole"
       },
       "id": "a074c448-778c-4c14-a8bc-4807d4fabcc2"
      },
      "b7027131-6885-4094-b71e-df9b38c2fb7c": {
       "attrs": {
        "height": 0.8,
        "width": 0.8,
        "x": 0.1,
        "y": 0.1
       },
       "content": {
        "cell": "5bf2d714-0a2c-4ee1-84e3-72c9be1119d8",
        "part": "whole"
       },
       "id": "b7027131-6885-4094-b71e-df9b38c2fb7c"
      }
     }
    },
    "b21e8b7a-7aad-40f1-86f8-5b48150cffda": {
     "id": "b21e8b7a-7aad-40f1-86f8-5b48150cffda",
     "prev": "243dbc31-9d5c-4ca8-b07e-d4f2cdc49151",
     "regions": {
      "9a6999be-c782-463c-916d-1dc1eebd0521": {
       "attrs": {
        "height": 0.8,
        "width": 0.8,
        "x": 0.1,
        "y": 0.1
       },
       "content": {
        "cell": "5e81b1ff-bb38-4c13-b3b5-126e83203c77",
        "part": "whole"
       },
       "id": "9a6999be-c782-463c-916d-1dc1eebd0521"
      },
      "b93c5bfc-59a3-4a93-bf52-18618ca15f12": {
       "attrs": {
        "height": 0.4,
        "width": 0.8,
        "x": 0.1,
        "y": 0.5
       },
       "content": {
        "cell": "d388a8ea-f6a7-49ab-b7f9-007ecbfe23ff",
        "part": "whole"
       },
       "id": "b93c5bfc-59a3-4a93-bf52-18618ca15f12"
      }
     }
    },
    "b2ddb905-71ce-4266-86f2-43ed0497df68": {
     "id": "b2ddb905-71ce-4266-86f2-43ed0497df68",
     "prev": "cefb6235-a09e-494f-86c2-955375cd2f14",
     "regions": {
      "1cec3f3f-f511-4ea8-aab8-88cc0ae41d1c": {
       "attrs": {
        "height": 0.4,
        "width": 0.8,
        "x": 0.1,
        "y": 0.5
       },
       "content": {
        "cell": "d2b516d6-1f53-4d9a-82b4-4cac39cf2fb3",
        "part": "whole"
       },
       "id": "1cec3f3f-f511-4ea8-aab8-88cc0ae41d1c"
      },
      "453dc428-af20-4d2d-86c6-4ea8c27b468d": {
       "attrs": {
        "height": 0.8,
        "width": 0.8,
        "x": 0.1,
        "y": 0.1
       },
       "content": {
        "cell": "9891c2f7-d1c7-486d-a8ba-9ce35aa25d0f",
        "part": "whole"
       },
       "id": "453dc428-af20-4d2d-86c6-4ea8c27b468d"
      }
     }
    },
    "b3e125a3-31f1-4bc4-b9c5-287cb7eae9de": {
     "id": "b3e125a3-31f1-4bc4-b9c5-287cb7eae9de",
     "prev": "90a93547-4fcf-46f8-8421-346bcee67bb2",
     "regions": {
      "a2a8c33d-d8f6-464a-95c5-0a662cab299a": {
       "attrs": {
        "height": 0.8,
        "width": 0.8,
        "x": 0.1,
        "y": 0.1
       },
       "content": {
        "cell": "40fd09ae-4219-424c-9931-acd5f9b4146f",
        "part": "whole"
       },
       "id": "a2a8c33d-d8f6-464a-95c5-0a662cab299a"
      },
      "df313db7-d712-4be9-8b3f-3c8690473bae": {
       "attrs": {
        "height": 0.4,
        "width": 0.8,
        "x": 0.1,
        "y": 0.5
       },
       "content": {
        "cell": "d46969c7-dac3-4550-afa5-c163c887db96",
        "part": "whole"
       },
       "id": "df313db7-d712-4be9-8b3f-3c8690473bae"
      }
     }
    },
    "b4393db7-bb37-483f-8829-3e3b84e6ee86": {
     "id": "b4393db7-bb37-483f-8829-3e3b84e6ee86",
     "prev": "79dec1d8-683e-45ae-bfb6-16dc42304112",
     "regions": {
      "42c9ecd9-8da3-4e37-a85f-8a720c81c08b": {
       "attrs": {
        "height": 0.8,
        "width": 0.8,
        "x": 0.1,
        "y": 0.1
       },
       "content": {
        "cell": "1c375750-465c-490e-a0fc-4070d3dbc9ee",
        "part": "whole"
       },
       "id": "42c9ecd9-8da3-4e37-a85f-8a720c81c08b"
      },
      "aa729b3e-ff74-4bf8-9a35-c0e4c32c4120": {
       "attrs": {
        "height": 0.4,
        "width": 0.8,
        "x": 0.1,
        "y": 0.5
       },
       "content": {
        "cell": "4983eb83-3ec7-4597-93d2-eb2308d09a18",
        "part": "whole"
       },
       "id": "aa729b3e-ff74-4bf8-9a35-c0e4c32c4120"
      }
     }
    },
    "b52fd574-39ac-4e4a-a488-59bd30a61aba": {
     "id": "b52fd574-39ac-4e4a-a488-59bd30a61aba",
     "prev": "a9c65e87-79f4-4f3a-8fc2-fc2b6ce06736",
     "regions": {
      "30ebc371-1d6b-4536-b8be-690da5eaa614": {
       "attrs": {
        "height": 0.8,
        "width": 0.8,
        "x": 0.1,
        "y": 0.1
       },
       "content": {
        "cell": "a890467f-afec-43f8-a07c-fd886d795f79",
        "part": "whole"
       },
       "id": "30ebc371-1d6b-4536-b8be-690da5eaa614"
      }
     }
    },
    "b7ee0244-8cf6-427d-8fb6-31cd5d456178": {
     "id": "b7ee0244-8cf6-427d-8fb6-31cd5d456178",
     "prev": "341c51eb-47a3-4499-bc43-ebdb928f6994",
     "regions": {
      "29f808fc-408b-481c-b7f3-ab2f54c7d0ec": {
       "attrs": {
        "height": 0.8,
        "width": 0.8,
        "x": 0.1,
        "y": 0.1
       },
       "content": {
        "cell": "94481114-a07a-4fef-aa5d-1a22eae9f74b",
        "part": "whole"
       },
       "id": "29f808fc-408b-481c-b7f3-ab2f54c7d0ec"
      },
      "dc2a20fa-f26f-4fb9-85be-3aa625dda611": {
       "attrs": {
        "height": 0.4,
        "width": 0.8,
        "x": 0.1,
        "y": 0.5
       },
       "content": {
        "cell": "6ce9341b-bbdb-475e-a46d-d5eb893a6116",
        "part": "whole"
       },
       "id": "dc2a20fa-f26f-4fb9-85be-3aa625dda611"
      }
     }
    },
    "b80cc9fe-6580-45eb-ac55-32fd209c5cdf": {
     "id": "b80cc9fe-6580-45eb-ac55-32fd209c5cdf",
     "prev": "9b4dd583-2c0c-4501-b78f-4250b9658560",
     "regions": {
      "17299c1d-28f2-4b33-a775-68a153e090e0": {
       "attrs": {
        "height": 0.8,
        "width": 0.8,
        "x": 0.1,
        "y": 0.1
       },
       "content": {
        "cell": "801a1268-d72e-4235-81fa-260f43e05084",
        "part": "whole"
       },
       "id": "17299c1d-28f2-4b33-a775-68a153e090e0"
      },
      "f452a1db-1c7b-487b-8835-14ce5a281a5a": {
       "attrs": {
        "height": 0.4,
        "width": 0.8,
        "x": 0.1,
        "y": 0.5
       },
       "content": {
        "cell": "c8973b7d-e05e-4367-a87b-2d25fd6f0d69",
        "part": "whole"
       },
       "id": "f452a1db-1c7b-487b-8835-14ce5a281a5a"
      }
     }
    },
    "b91e74da-c404-4d0f-ab13-13615be65e43": {
     "id": "b91e74da-c404-4d0f-ab13-13615be65e43",
     "prev": "05b7bb90-1735-4fd4-9fc0-e9f9a088d413",
     "regions": {
      "305f0900-42c6-4922-aab8-6fbbbad8244c": {
       "attrs": {
        "height": 0.4,
        "width": 0.8,
        "x": 0.1,
        "y": 0.5
       },
       "content": {
        "cell": "865399b9-876f-4b76-b74f-92c1e9fd1fb3",
        "part": "whole"
       },
       "id": "305f0900-42c6-4922-aab8-6fbbbad8244c"
      },
      "76fbabb1-cedd-4e76-9e27-4a3690b92b9e": {
       "attrs": {
        "height": 0.8,
        "width": 0.8,
        "x": 0.1,
        "y": 0.1
       },
       "content": {
        "cell": "6b1f01f4-fcbd-4fc3-989b-c7660f62323b",
        "part": "whole"
       },
       "id": "76fbabb1-cedd-4e76-9e27-4a3690b92b9e"
      }
     }
    },
    "ba6320a9-16be-4a9d-bfdb-946e3065a0c0": {
     "id": "ba6320a9-16be-4a9d-bfdb-946e3065a0c0",
     "prev": "81196006-39bc-479a-b6fd-4f903601a2f9",
     "regions": {
      "95b2d54f-4ac8-409f-befc-c119699cb068": {
       "attrs": {
        "height": 0.4,
        "width": 0.8,
        "x": 0.1,
        "y": 0.5
       },
       "content": {
        "cell": "6f31011b-cfb8-432f-a9ea-eb18a49e7196",
        "part": "whole"
       },
       "id": "95b2d54f-4ac8-409f-befc-c119699cb068"
      },
      "ad7cd040-0388-432f-8ab9-aa72b0d7e445": {
       "attrs": {
        "height": 0.8,
        "width": 0.8,
        "x": 0.1,
        "y": 0.1
       },
       "content": {
        "cell": "f88f7ec0-dded-45a8-8198-3b7ad0b9879c",
        "part": "whole"
       },
       "id": "ad7cd040-0388-432f-8ab9-aa72b0d7e445"
      }
     }
    },
    "bc6e2e83-18fa-42a5-b6b7-e75bf14eb71f": {
     "id": "bc6e2e83-18fa-42a5-b6b7-e75bf14eb71f",
     "prev": "7d0f53f3-3b3b-4e82-86fe-c4aee665ab37",
     "regions": {
      "42f8b714-1f11-47c8-beae-835864b1ea29": {
       "attrs": {
        "height": 0.4,
        "width": 0.8,
        "x": 0.1,
        "y": 0.5
       },
       "content": {
        "cell": "7641d574-8767-41e0-a3fe-fe59d4561e48",
        "part": "whole"
       },
       "id": "42f8b714-1f11-47c8-beae-835864b1ea29"
      },
      "f02e0e6a-2bb6-4e90-8341-04ca2989a2ec": {
       "attrs": {
        "height": 0.8,
        "width": 0.8,
        "x": 0.1,
        "y": 0.1
       },
       "content": {
        "cell": "dc6b380f-7c15-46ee-9c52-9f4416e7cb30",
        "part": "whole"
       },
       "id": "f02e0e6a-2bb6-4e90-8341-04ca2989a2ec"
      }
     }
    },
    "bcb7ad60-5a99-4187-8f11-57475cd05a3d": {
     "id": "bcb7ad60-5a99-4187-8f11-57475cd05a3d",
     "prev": "caa74b00-7530-42ec-8691-2dcc9b183314",
     "regions": {
      "45712549-440b-45e8-841a-c806c734cdbf": {
       "attrs": {
        "height": 0.8,
        "width": 0.8,
        "x": 0.1,
        "y": 0.1
       },
       "content": {
        "cell": "c0026c4b-bc39-4af9-bcb8-2f882620acc0",
        "part": "whole"
       },
       "id": "45712549-440b-45e8-841a-c806c734cdbf"
      },
      "b0fb6b1a-0f8d-4b84-9585-39ee1c6ebcf4": {
       "attrs": {
        "height": 0.4,
        "width": 0.8,
        "x": 0.1,
        "y": 0.5
       },
       "content": {
        "cell": "06456b8b-b85f-4c2d-bc42-23e2d95ab46d",
        "part": "whole"
       },
       "id": "b0fb6b1a-0f8d-4b84-9585-39ee1c6ebcf4"
      }
     }
    },
    "be669f41-3213-4f3f-a9fc-08abfb6fa663": {
     "id": "be669f41-3213-4f3f-a9fc-08abfb6fa663",
     "prev": "f4dc9a6a-df7d-49d3-9c2d-68acc9da8e86",
     "regions": {
      "73ec091d-c656-4c19-a87c-56ca928c2734": {
       "attrs": {
        "height": 0.8,
        "width": 0.8,
        "x": 0.1,
        "y": 0.1
       },
       "content": {
        "cell": "18b2d476-8a02-4857-8c24-2dcc3ab00524",
        "part": "whole"
       },
       "id": "73ec091d-c656-4c19-a87c-56ca928c2734"
      }
     }
    },
    "bffe198c-6001-4ce9-b1d0-50cb887616fd": {
     "id": "bffe198c-6001-4ce9-b1d0-50cb887616fd",
     "prev": "150c7ff8-091f-4d92-b65f-c14fb85ccbaa",
     "regions": {
      "dbbea5aa-22b8-425c-bafa-f54bd8de0481": {
       "attrs": {
        "height": 0.4,
        "width": 0.8,
        "x": 0.1,
        "y": 0.5
       },
       "content": {
        "cell": "b177cc04-9373-4c45-b006-992ce4ea2986",
        "part": "whole"
       },
       "id": "dbbea5aa-22b8-425c-bafa-f54bd8de0481"
      },
      "e5a3258e-0363-4628-987f-dec5f4137ef0": {
       "attrs": {
        "height": 0.8,
        "width": 0.8,
        "x": 0.1,
        "y": 0.1
       },
       "content": {
        "cell": "9b053c03-43ed-48f5-a691-bb009e1ec2f1",
        "part": "whole"
       },
       "id": "e5a3258e-0363-4628-987f-dec5f4137ef0"
      }
     }
    },
    "c0304919-3162-4bf7-ae99-990079ff98ff": {
     "id": "c0304919-3162-4bf7-ae99-990079ff98ff",
     "prev": "8fa28a75-9bf0-4eb6-9f73-760ac5647295",
     "regions": {
      "34a7925d-4a34-402d-a50a-d6c3e1e27fee": {
       "attrs": {
        "height": 0.8,
        "width": 0.8,
        "x": 0.1,
        "y": 0.1
       },
       "content": {
        "cell": "815c6a52-16db-4aef-b964-078314766938",
        "part": "whole"
       },
       "id": "34a7925d-4a34-402d-a50a-d6c3e1e27fee"
      },
      "36414f73-f1d4-411a-8f56-a0b93fcf8197": {
       "attrs": {
        "height": 0.4,
        "width": 0.8,
        "x": 0.1,
        "y": 0.5
       },
       "content": {
        "cell": "a55b8b4d-d98b-4f5c-b649-18e660817d03",
        "part": "whole"
       },
       "id": "36414f73-f1d4-411a-8f56-a0b93fcf8197"
      },
      "ec711a4c-bd17-4bf0-96b8-0f1cc079f76a": {
       "attrs": {
        "height": 0.4,
        "width": 0.8,
        "x": 0.1,
        "y": 0.5
       },
       "content": {
        "cell": "abf052fc-df76-4466-aa0b-1551722a7527",
        "part": "whole"
       },
       "id": "ec711a4c-bd17-4bf0-96b8-0f1cc079f76a"
      }
     }
    },
    "c3ebe8e0-16a8-4ecd-84f9-337c1dfbc4d0": {
     "id": "c3ebe8e0-16a8-4ecd-84f9-337c1dfbc4d0",
     "prev": "dc88ebc3-0edc-483c-9ecf-d5cb9e85d435",
     "regions": {
      "1c0373fa-717f-4ef2-8211-3dcce0dc2f81": {
       "attrs": {
        "height": 0.4,
        "width": 0.8,
        "x": 0.1,
        "y": 0.5
       },
       "content": {
        "cell": "9490a82a-01bd-4daf-b59e-e88dfaa25c64",
        "part": "whole"
       },
       "id": "1c0373fa-717f-4ef2-8211-3dcce0dc2f81"
      },
      "b1cc001c-c939-48df-be06-15d448b2ddcb": {
       "attrs": {
        "height": 0.8,
        "width": 0.8,
        "x": 0.1,
        "y": 0.1
       },
       "content": {
        "cell": "a1f3a2fd-4b2c-442f-82fe-6fa682807ead",
        "part": "whole"
       },
       "id": "b1cc001c-c939-48df-be06-15d448b2ddcb"
      }
     }
    },
    "c48bd456-974b-4348-a607-dca89a54b156": {
     "id": "c48bd456-974b-4348-a607-dca89a54b156",
     "prev": "9b88eb95-6f04-46e7-9597-9f3339fc1a4a",
     "regions": {
      "f845d610-e9f1-4c9f-80f6-8f32d2e431e8": {
       "attrs": {
        "height": 0.8,
        "width": 0.8,
        "x": 0.1,
        "y": 0.1
       },
       "content": {
        "cell": "e3ae7ca7-f364-4f14-980f-2c193171353c",
        "part": "whole"
       },
       "id": "f845d610-e9f1-4c9f-80f6-8f32d2e431e8"
      }
     }
    },
    "ca968d2d-d0e1-4807-9451-8c0116dcd68a": {
     "id": "ca968d2d-d0e1-4807-9451-8c0116dcd68a",
     "prev": "e0855293-5562-45a7-8b1f-84f6971be070",
     "regions": {
      "ba1a139e-1c0f-4efc-be8f-684aa5feee4f": {
       "attrs": {
        "height": 0.8,
        "width": 0.8,
        "x": 0.1,
        "y": 0.1
       },
       "content": {
        "cell": "48f90dfd-748c-42b1-b1c0-5bed45a61d22",
        "part": "whole"
       },
       "id": "ba1a139e-1c0f-4efc-be8f-684aa5feee4f"
      }
     }
    },
    "caa74b00-7530-42ec-8691-2dcc9b183314": {
     "id": "caa74b00-7530-42ec-8691-2dcc9b183314",
     "prev": "770cd54d-677e-4319-a343-287a7a585ecc",
     "regions": {
      "fcfc5b8e-8ca2-4ca8-a754-d89c9331fb58": {
       "attrs": {
        "height": 0.8,
        "width": 0.8,
        "x": 0.1,
        "y": 0.1
       },
       "content": {
        "cell": "ec91b364-f0ff-4519-80ab-eefd4396dee8",
        "part": "whole"
       },
       "id": "fcfc5b8e-8ca2-4ca8-a754-d89c9331fb58"
      }
     }
    },
    "cbfd7b77-067e-46b1-89cf-03ffd094e365": {
     "id": "cbfd7b77-067e-46b1-89cf-03ffd094e365",
     "prev": "fba87de9-a8e6-46d6-b912-f6561e1bca8d",
     "regions": {
      "116cdb73-a168-4148-ba5b-ed7aae3b20d8": {
       "attrs": {
        "height": 0.4,
        "width": 0.8,
        "x": 0.1,
        "y": 0.5
       },
       "content": {
        "cell": "7f1726cc-22c2-4ae2-98a5-dfa5bca61a1c",
        "part": "whole"
       },
       "id": "116cdb73-a168-4148-ba5b-ed7aae3b20d8"
      },
      "e0bcbbad-4057-4bec-ae7d-b281ced7b5eb": {
       "attrs": {
        "height": 0.8,
        "width": 0.8,
        "x": 0.1,
        "y": 0.1
       },
       "content": {
        "cell": "205dfd4e-87f2-4ef6-b138-faf98f44e5df",
        "part": "whole"
       },
       "id": "e0bcbbad-4057-4bec-ae7d-b281ced7b5eb"
      }
     }
    },
    "cefb6235-a09e-494f-86c2-955375cd2f14": {
     "id": "cefb6235-a09e-494f-86c2-955375cd2f14",
     "prev": "b80cc9fe-6580-45eb-ac55-32fd209c5cdf",
     "regions": {
      "72958a87-9015-429e-9c14-283a93cc545b": {
       "attrs": {
        "height": 0.4,
        "width": 0.8,
        "x": 0.1,
        "y": 0.5
       },
       "content": {
        "cell": "c410a789-b7bb-400f-80c7-451b0c4a3f3f",
        "part": "whole"
       },
       "id": "72958a87-9015-429e-9c14-283a93cc545b"
      },
      "a8638b9c-1360-4ca0-9cad-77fd3629ee11": {
       "attrs": {
        "height": 0.8,
        "width": 0.8,
        "x": 0.1,
        "y": 0.1
       },
       "content": {
        "cell": "a4f1182e-8bf6-4518-afb7-956797fd0795",
        "part": "whole"
       },
       "id": "a8638b9c-1360-4ca0-9cad-77fd3629ee11"
      }
     }
    },
    "d1cab3ae-0f0c-473a-94b9-d10988aec1dc": {
     "id": "d1cab3ae-0f0c-473a-94b9-d10988aec1dc",
     "prev": "dcf11523-64c2-4b9a-b698-8428c74b5e2d",
     "regions": {
      "3e0f58e7-27a6-416f-b55f-25be12848b07": {
       "attrs": {
        "height": 0.8,
        "width": 0.8,
        "x": 0.1,
        "y": 0.1
       },
       "content": {
        "cell": "e8f9d0b7-a05d-419f-a7d8-ed3ebd758d89",
        "part": "whole"
       },
       "id": "3e0f58e7-27a6-416f-b55f-25be12848b07"
      }
     }
    },
    "d223e845-0d5a-4bd7-a2f8-70c7c075406e": {
     "id": "d223e845-0d5a-4bd7-a2f8-70c7c075406e",
     "prev": "22a44220-8c15-4c61-87f1-cee6ee828304",
     "regions": {
      "7d353c52-3455-4f27-aa47-e171ab3703a2": {
       "attrs": {
        "height": 0.8,
        "width": 0.8,
        "x": 0.1,
        "y": 0.1
       },
       "content": {
        "cell": "c10d79b9-ca69-4c31-b3fc-fa9b7daa8993",
        "part": "whole"
       },
       "id": "7d353c52-3455-4f27-aa47-e171ab3703a2"
      },
      "c8438018-b7c8-4229-9b0a-c032b47da57f": {
       "attrs": {
        "height": 0.4,
        "width": 0.8,
        "x": 0.1,
        "y": 0.5
       },
       "content": {
        "cell": "6165616d-b235-4513-bc8d-369fc7d531ac",
        "part": "whole"
       },
       "id": "c8438018-b7c8-4229-9b0a-c032b47da57f"
      }
     }
    },
    "d3c20db8-e92f-4974-98ab-03597dc9a8b3": {
     "id": "d3c20db8-e92f-4974-98ab-03597dc9a8b3",
     "prev": "3c5e3f2d-22bd-47d7-978c-2cf32550bf55",
     "regions": {
      "36438c47-eb15-48cf-8c9e-52f4b9486900": {
       "attrs": {
        "height": 0.8,
        "width": 0.8,
        "x": 0.1,
        "y": 0.1
       },
       "content": {
        "cell": "8453208d-a137-4a9e-ae08-59ec4cc95a76",
        "part": "whole"
       },
       "id": "36438c47-eb15-48cf-8c9e-52f4b9486900"
      },
      "6e354601-9e0c-4f3f-b0fb-9d50e63d9d82": {
       "attrs": {
        "height": 0.4,
        "width": 0.8,
        "x": 0.1,
        "y": 0.5
       },
       "content": {
        "cell": "1f25140d-7480-4998-a0eb-55a9a872b923",
        "part": "whole"
       },
       "id": "6e354601-9e0c-4f3f-b0fb-9d50e63d9d82"
      }
     }
    },
    "d40a0bdc-d952-4a2b-a856-25cf9df1ede3": {
     "id": "d40a0bdc-d952-4a2b-a856-25cf9df1ede3",
     "prev": "b21e8b7a-7aad-40f1-86f8-5b48150cffda",
     "regions": {
      "860183cb-79c7-4651-b23b-20ef66f43fdb": {
       "attrs": {
        "height": 0.4,
        "width": 0.8,
        "x": 0.1,
        "y": 0.5
       },
       "content": {
        "cell": "4c51dbcf-34ed-44db-889d-822c7fc7134a",
        "part": "whole"
       },
       "id": "860183cb-79c7-4651-b23b-20ef66f43fdb"
      },
      "f08d7bca-942e-4196-a695-c57ce5354b6f": {
       "attrs": {
        "height": 0.8,
        "width": 0.8,
        "x": 0.1,
        "y": 0.1
       },
       "content": {
        "cell": "765e1143-1e24-4056-819b-3e05b8385a9e",
        "part": "whole"
       },
       "id": "f08d7bca-942e-4196-a695-c57ce5354b6f"
      }
     }
    },
    "d7e9cc6e-07b3-4c04-bd4f-4e202b207e2b": {
     "id": "d7e9cc6e-07b3-4c04-bd4f-4e202b207e2b",
     "prev": "919f9e01-7f12-4259-8136-4a43b4079e13",
     "regions": {
      "e6a1072e-2620-4b35-a4da-fded5a864c8c": {
       "attrs": {
        "height": 0.8,
        "width": 0.8,
        "x": 0.1,
        "y": 0.1
       },
       "content": {
        "cell": "263753ee-2cb7-42af-a162-a75d6a2f4444",
        "part": "whole"
       },
       "id": "e6a1072e-2620-4b35-a4da-fded5a864c8c"
      }
     }
    },
    "d965d4db-685f-4716-8f76-c691cd3a00d1": {
     "id": "d965d4db-685f-4716-8f76-c691cd3a00d1",
     "prev": "ffcb6272-266a-42c3-a537-cff73bd08a4c",
     "regions": {
      "3975bcb4-fae5-4aa6-82b4-020f9088776e": {
       "attrs": {
        "height": 0.8,
        "width": 0.8,
        "x": 0.1,
        "y": 0.1
       },
       "content": {
        "cell": "a101a84d-5214-479e-81f0-6e236760c2e7",
        "part": "whole"
       },
       "id": "3975bcb4-fae5-4aa6-82b4-020f9088776e"
      },
      "3f657498-5c0d-4f7a-be3e-906ed16611f0": {
       "attrs": {
        "height": 0.4,
        "width": 0.8,
        "x": 0.1,
        "y": 0.5
       },
       "content": {
        "cell": "dd336a7a-f364-4a08-aa9b-854f4bf334fe",
        "part": "whole"
       },
       "id": "3f657498-5c0d-4f7a-be3e-906ed16611f0"
      }
     }
    },
    "dc88ebc3-0edc-483c-9ecf-d5cb9e85d435": {
     "id": "dc88ebc3-0edc-483c-9ecf-d5cb9e85d435",
     "prev": "08a667b2-9e94-4973-b391-415c617289a4",
     "regions": {
      "417fb66c-b3dd-4860-beed-0930f2929290": {
       "attrs": {
        "height": 0.8,
        "width": 0.8,
        "x": 0.1,
        "y": 0.1
       },
       "content": {
        "cell": "4cdaebcd-d41c-44a3-b64c-8d98eb7878c0",
        "part": "whole"
       },
       "id": "417fb66c-b3dd-4860-beed-0930f2929290"
      },
      "654c1b5f-5c08-4785-8376-5b4d54212435": {
       "attrs": {
        "height": 0.4,
        "width": 0.8,
        "x": 0.1,
        "y": 0.5
       },
       "content": {
        "cell": "86fb331f-c978-448c-a9cf-ab032186f3da",
        "part": "whole"
       },
       "id": "654c1b5f-5c08-4785-8376-5b4d54212435"
      }
     }
    },
    "dcf11523-64c2-4b9a-b698-8428c74b5e2d": {
     "id": "dcf11523-64c2-4b9a-b698-8428c74b5e2d",
     "prev": "d965d4db-685f-4716-8f76-c691cd3a00d1",
     "regions": {
      "0e2e93fc-3a16-4b1a-82de-1cd43d9487e9": {
       "attrs": {
        "height": 0.4,
        "width": 0.8,
        "x": 0.1,
        "y": 0.5
       },
       "content": {
        "cell": "3e4080f9-5bfb-4943-ac5f-76ee688337fc",
        "part": "whole"
       },
       "id": "0e2e93fc-3a16-4b1a-82de-1cd43d9487e9"
      },
      "64a37342-1cb0-43b4-be87-96ba6f8ad527": {
       "attrs": {
        "height": 0.8,
        "width": 0.8,
        "x": 0.1,
        "y": 0.1
       },
       "content": {
        "cell": "f97854c5-20d2-4b2e-82f5-0be52881f052",
        "part": "whole"
       },
       "id": "64a37342-1cb0-43b4-be87-96ba6f8ad527"
      }
     }
    },
    "dda4fc9b-4bb3-45d6-9135-b287621a8f7b": {
     "id": "dda4fc9b-4bb3-45d6-9135-b287621a8f7b",
     "prev": "afc53aee-94c2-43d6-b5c2-60b06de4fcc1",
     "regions": {
      "3761f54c-62b0-4b92-8fcf-a2247d7ae78d": {
       "attrs": {
        "height": 0.4,
        "width": 0.8,
        "x": 0.1,
        "y": 0.5
       },
       "content": {
        "cell": "a164d1b6-912c-498b-8994-14708c6408ec",
        "part": "whole"
       },
       "id": "3761f54c-62b0-4b92-8fcf-a2247d7ae78d"
      },
      "41164ae3-eeb6-48b6-8f49-a8aaa20aab32": {
       "attrs": {
        "height": 0.8,
        "width": 0.8,
        "x": 0.1,
        "y": 0.1
       },
       "content": {
        "cell": "5621534c-4a9e-43e1-96a8-a1d6157d4e15",
        "part": "whole"
       },
       "id": "41164ae3-eeb6-48b6-8f49-a8aaa20aab32"
      },
      "b1d88f6f-a461-4461-a8d7-e7e924ef70ea": {
       "attrs": {
        "height": 0.4,
        "width": 0.8,
        "x": 0.1,
        "y": 0.5
       },
       "content": {
        "cell": "3462dfad-e448-4e2e-8131-d01f3d2a4f25",
        "part": "whole"
       },
       "id": "b1d88f6f-a461-4461-a8d7-e7e924ef70ea"
      }
     }
    },
    "e0855293-5562-45a7-8b1f-84f6971be070": {
     "id": "e0855293-5562-45a7-8b1f-84f6971be070",
     "prev": "b91e74da-c404-4d0f-ab13-13615be65e43",
     "regions": {
      "60e3d1d8-8425-4b9e-b9d3-382edd2d9627": {
       "attrs": {
        "height": 0.4,
        "width": 0.8,
        "x": 0.1,
        "y": 0.5
       },
       "content": {
        "cell": "de96df86-1117-4875-bc9c-173d55d945b9",
        "part": "whole"
       },
       "id": "60e3d1d8-8425-4b9e-b9d3-382edd2d9627"
      },
      "a0bd1c7f-ea37-4862-addd-db86825b1a26": {
       "attrs": {
        "height": 0.8,
        "width": 0.8,
        "x": 0.1,
        "y": 0.1
       },
       "content": {
        "cell": "df7794c9-331c-4c91-acf2-a1ec287081ce",
        "part": "whole"
       },
       "id": "a0bd1c7f-ea37-4862-addd-db86825b1a26"
      }
     }
    },
    "e4d645d0-73ab-478d-bfb7-6e5533c1ee38": {
     "id": "e4d645d0-73ab-478d-bfb7-6e5533c1ee38",
     "prev": "fec91edd-ecb8-4dac-bf53-619d6db0fb19",
     "regions": {
      "b00437fa-8f38-4bff-be0e-8fcb5378a71b": {
       "attrs": {
        "height": 0.8,
        "width": 0.8,
        "x": 0.1,
        "y": 0.1
       },
       "content": {
        "cell": "320d120a-3d7d-4e54-97f3-50b52a993f98",
        "part": "whole"
       },
       "id": "b00437fa-8f38-4bff-be0e-8fcb5378a71b"
      }
     }
    },
    "e578cc9f-bfe3-4245-bd5e-513be397cb44": {
     "id": "e578cc9f-bfe3-4245-bd5e-513be397cb44",
     "prev": "abf7afd4-16ed-4f7a-ac6f-cbafd1f86fb9",
     "regions": {
      "589be09f-1796-4010-9924-c15b340a2b6b": {
       "attrs": {
        "height": 0.8,
        "width": 0.8,
        "x": 0.1,
        "y": 0.1
       },
       "content": {
        "cell": "23543300-83df-43e2-bcd9-24b181ed37ea",
        "part": "whole"
       },
       "id": "589be09f-1796-4010-9924-c15b340a2b6b"
      },
      "8e52c11d-4f46-4b1f-8008-59b66a6813d6": {
       "attrs": {
        "height": 0.4,
        "width": 0.8,
        "x": 0.1,
        "y": 0.5
       },
       "content": {
        "cell": "d11be398-57d2-46cd-b6d6-6b4d7577fffe",
        "part": "whole"
       },
       "id": "8e52c11d-4f46-4b1f-8008-59b66a6813d6"
      }
     }
    },
    "e70a7b3f-a850-4245-bd0e-ce695a6db771": {
     "id": "e70a7b3f-a850-4245-bd0e-ce695a6db771",
     "prev": "c0304919-3162-4bf7-ae99-990079ff98ff",
     "regions": {
      "984441d8-da70-4d3d-aebb-67b096d15179": {
       "attrs": {
        "height": 0.8,
        "width": 0.8,
        "x": 0.1,
        "y": 0.1
       },
       "content": {
        "cell": "7c2522b0-fd0d-4700-9954-d9e02f7dc000",
        "part": "whole"
       },
       "id": "984441d8-da70-4d3d-aebb-67b096d15179"
      }
     }
    },
    "e85f4e76-0b98-4ad0-814c-0bf77489d464": {
     "id": "e85f4e76-0b98-4ad0-814c-0bf77489d464",
     "prev": "aba45d66-8be8-4576-9f1e-29b3bb8495e1",
     "regions": {
      "3df9d9e9-282e-46e7-ae42-b0ea8de4b20d": {
       "attrs": {
        "height": 0.8,
        "width": 0.8,
        "x": 0.1,
        "y": 0.1
       },
       "content": {
        "cell": "c1b2b0e6-f8ef-49c4-9415-90172cfb9654",
        "part": "whole"
       },
       "id": "3df9d9e9-282e-46e7-ae42-b0ea8de4b20d"
      },
      "72fdf039-7f10-4482-9de5-c0e39e9bafce": {
       "attrs": {
        "height": 0.4,
        "width": 0.8,
        "x": 0.1,
        "y": 0.5
       },
       "content": {
        "cell": "83e00813-dc2f-4270-a615-79b0a0d9bc47",
        "part": "whole"
       },
       "id": "72fdf039-7f10-4482-9de5-c0e39e9bafce"
      }
     }
    },
    "f11e3828-b71e-4a64-ad52-059d1c9ed433": {
     "id": "f11e3828-b71e-4a64-ad52-059d1c9ed433",
     "prev": "1930830a-9383-45aa-b12f-0bfbba15a17b",
     "regions": {
      "3ea3d31d-19f1-40a9-b7e9-836804fa8776": {
       "attrs": {
        "height": 0.4,
        "width": 0.8,
        "x": 0.1,
        "y": 0.5
       },
       "content": {
        "cell": "276da118-4af2-46b3-9f3c-2b9a0795761a",
        "part": "whole"
       },
       "id": "3ea3d31d-19f1-40a9-b7e9-836804fa8776"
      },
      "c6e8755e-bf5e-4ec1-81da-15df96fb2420": {
       "attrs": {
        "height": 0.8,
        "width": 0.8,
        "x": 0.1,
        "y": 0.1
       },
       "content": {
        "cell": "f72c8688-14ca-4440-883b-58070248de1c",
        "part": "whole"
       },
       "id": "c6e8755e-bf5e-4ec1-81da-15df96fb2420"
      }
     }
    },
    "f46b6b6d-86b5-464e-8254-af7f606435af": {
     "id": "f46b6b6d-86b5-464e-8254-af7f606435af",
     "prev": "d7e9cc6e-07b3-4c04-bd4f-4e202b207e2b",
     "regions": {
      "fdfcb40a-8981-41a0-a494-ca302da20bfa": {
       "attrs": {
        "height": 0.8,
        "width": 0.8,
        "x": 0.1,
        "y": 0.1
       },
       "content": {
        "cell": "5ffb8bac-de51-4c38-9522-2c0df165ae30",
        "part": "whole"
       },
       "id": "fdfcb40a-8981-41a0-a494-ca302da20bfa"
      }
     }
    },
    "f4dc9a6a-df7d-49d3-9c2d-68acc9da8e86": {
     "id": "f4dc9a6a-df7d-49d3-9c2d-68acc9da8e86",
     "prev": "430178fe-53af-4fae-82e5-c41ca8622303",
     "regions": {
      "9ff52a47-cc5d-4d64-8ac2-383c443ff73a": {
       "attrs": {
        "height": 0.4,
        "width": 0.8,
        "x": 0.1,
        "y": 0.5
       },
       "content": {
        "cell": "21d1157b-8e69-43e8-bf0c-a478543f83b4",
        "part": "whole"
       },
       "id": "9ff52a47-cc5d-4d64-8ac2-383c443ff73a"
      },
      "e88134c4-59f9-4266-8d6f-6b8cbdf917eb": {
       "attrs": {
        "height": 0.8,
        "width": 0.8,
        "x": 0.1,
        "y": 0.1
       },
       "content": {
        "cell": "c01d2ea4-7240-4fd6-9064-49b9fd394461",
        "part": "whole"
       },
       "id": "e88134c4-59f9-4266-8d6f-6b8cbdf917eb"
      }
     }
    },
    "f9cc77e3-651f-42a6-a193-25736de41da1": {
     "id": "f9cc77e3-651f-42a6-a193-25736de41da1",
     "prev": "a2b5dcd7-e1df-4e48-8e3f-b8f7678d02ef",
     "regions": {
      "ac1b5eff-92c6-4ce3-b452-dfdbf8242eba": {
       "attrs": {
        "height": 0.8,
        "width": 0.8,
        "x": 0.1,
        "y": 0.1
       },
       "content": {
        "cell": "7a95b88a-3f24-42a4-8e12-35f63e4e83a8",
        "part": "whole"
       },
       "id": "ac1b5eff-92c6-4ce3-b452-dfdbf8242eba"
      }
     }
    },
    "fba87de9-a8e6-46d6-b912-f6561e1bca8d": {
     "id": "fba87de9-a8e6-46d6-b912-f6561e1bca8d",
     "prev": "29298f2c-df8b-4ea6-a66c-6050140ee706",
     "regions": {
      "2e2ead15-f926-405f-9fec-a66b121db582": {
       "attrs": {
        "height": 0.8,
        "width": 0.8,
        "x": 0.1,
        "y": 0.1
       },
       "content": {
        "cell": "f2b6c4e2-f63e-4a68-84e3-50c3bd374a02",
        "part": "whole"
       },
       "id": "2e2ead15-f926-405f-9fec-a66b121db582"
      },
      "7cc4c844-b48b-40df-82dc-eb1e1ab6d798": {
       "attrs": {
        "height": 0.4,
        "width": 0.8,
        "x": 0.1,
        "y": 0.5
       },
       "content": {
        "cell": "335f36fd-d3e6-4fdd-8e6f-68f2a834d77d",
        "part": "whole"
       },
       "id": "7cc4c844-b48b-40df-82dc-eb1e1ab6d798"
      }
     }
    },
    "fe922701-b655-4964-8ab3-6755b83cda84": {
     "id": "fe922701-b655-4964-8ab3-6755b83cda84",
     "prev": "23013b52-3058-497f-a97d-bd13a58abc0b",
     "regions": {
      "0d8ccaa8-04ca-4ebb-8b36-3d5ce34425a8": {
       "attrs": {
        "height": 0.4,
        "width": 0.8,
        "x": 0.1,
        "y": 0.5
       },
       "content": {
        "cell": "d79082a2-8f0f-40af-80de-7f67eb6420fd",
        "part": "whole"
       },
       "id": "0d8ccaa8-04ca-4ebb-8b36-3d5ce34425a8"
      },
      "858ddaf7-909a-4944-9ceb-523ed5161c98": {
       "attrs": {
        "height": 0.8,
        "width": 0.8,
        "x": 0.1,
        "y": 0.1
       },
       "content": {
        "cell": "33cdbc18-03b8-4a4b-a8a4-02596147c4c4",
        "part": "whole"
       },
       "id": "858ddaf7-909a-4944-9ceb-523ed5161c98"
      },
      "dc08849c-ec52-4087-bfe2-39a5094444d6": {
       "attrs": {
        "height": 0.4,
        "width": 0.8,
        "x": 0.1,
        "y": 0.5
       },
       "content": {
        "cell": "93476bfa-4d0e-40d4-af7f-26208e3b3754",
        "part": "whole"
       },
       "id": "dc08849c-ec52-4087-bfe2-39a5094444d6"
      }
     }
    },
    "feaa832c-9426-49eb-b407-c5d4c497ae23": {
     "id": "feaa832c-9426-49eb-b407-c5d4c497ae23",
     "prev": "9b8cb498-e3c2-4f51-b0db-d264cc87729b",
     "regions": {
      "316d8434-46e5-4a82-a176-8cf208be8e77": {
       "attrs": {
        "height": 0.4,
        "width": 0.8,
        "x": 0.1,
        "y": 0.5
       },
       "content": {
        "cell": "8afbd72a-4c5e-4cda-bb68-171f5863ef46",
        "part": "whole"
       },
       "id": "316d8434-46e5-4a82-a176-8cf208be8e77"
      },
      "6b8b7d29-3303-4dd9-b207-fd5ebed25a00": {
       "attrs": {
        "height": 0.4,
        "width": 0.8,
        "x": 0.1,
        "y": 0.5
       },
       "content": {
        "cell": "54fc0ceb-a1fe-42c1-8bb5-150decc54a0c",
        "part": "whole"
       },
       "id": "6b8b7d29-3303-4dd9-b207-fd5ebed25a00"
      },
      "fe628742-e631-43ed-87fe-e3da09156804": {
       "attrs": {
        "height": 0.8,
        "width": 0.8,
        "x": 0.1,
        "y": 0.1
       },
       "content": {
        "cell": "dc0197d6-47d0-465f-b513-d12cc04cf99b",
        "part": "whole"
       },
       "id": "fe628742-e631-43ed-87fe-e3da09156804"
      }
     }
    },
    "fec91edd-ecb8-4dac-bf53-619d6db0fb19": {
     "id": "fec91edd-ecb8-4dac-bf53-619d6db0fb19",
     "prev": null,
     "regions": {
      "d737a67f-189b-41d2-9773-2531d7a17e8d": {
       "attrs": {
        "height": 0.8,
        "width": 0.8,
        "x": 0.1,
        "y": 0.1
       },
       "content": {
        "cell": "e0306176-3c68-4074-9465-3130807937de",
        "part": "whole"
       },
       "id": "d737a67f-189b-41d2-9773-2531d7a17e8d"
      }
     }
    },
    "ffcb6272-266a-42c3-a537-cff73bd08a4c": {
     "id": "ffcb6272-266a-42c3-a537-cff73bd08a4c",
     "prev": "c48bd456-974b-4348-a607-dca89a54b156",
     "regions": {
      "3b8aac75-5658-485e-8e3d-b10375d75909": {
       "attrs": {
        "height": 0.4,
        "width": 0.8,
        "x": 0.1,
        "y": 0.5
       },
       "content": {
        "cell": "771f45c4-90e7-4c83-88d9-2af24bd52632",
        "part": "whole"
       },
       "id": "3b8aac75-5658-485e-8e3d-b10375d75909"
      },
      "a8066ace-3a03-4b72-a1e6-4c932489890e": {
       "attrs": {
        "height": 0.8,
        "width": 0.8,
        "x": 0.1,
        "y": 0.1
       },
       "content": {
        "cell": "a80a6630-7368-4daf-b424-d9627c8fe6f9",
        "part": "whole"
       },
       "id": "a8066ace-3a03-4b72-a1e6-4c932489890e"
      }
     }
    }
   },
   "themes": {}
  }
 },
 "nbformat": 4,
 "nbformat_minor": 1
}
